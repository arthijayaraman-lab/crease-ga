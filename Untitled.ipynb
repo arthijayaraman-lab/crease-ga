{
 "cells": [
  {
   "cell_type": "code",
   "execution_count": 8,
   "metadata": {},
   "outputs": [
    {
     "name": "stdout",
     "output_type": "stream",
     "text": [
      "[1, 2, 3]\n",
      "crease-ga\r\n"
     ]
    }
   ],
   "source": [
    "from warnings import warn\n",
    "a = [1,2,3]\n",
    "print('{}'.format(a))\n",
    "!echo $CONDA_DEFAULT_ENV"
   ]
  },
  {
   "cell_type": "code",
   "execution_count": 4,
   "metadata": {},
   "outputs": [
    {
     "name": "stdout",
     "output_type": "stream",
     "text": [
      "# packages in environment at /home/zijiewu/anaconda3/envs/crease-ga:\r\n",
      "#\r\n",
      "# Name                    Version                   Build  Channel\r\n",
      "_libgcc_mutex             0.1                        main  \r\n",
      "_openmp_mutex             4.5                       1_gnu  \r\n",
      "appdirs                   1.4.4                    pypi_0    pypi\r\n",
      "async-generator           1.10                     pypi_0    pypi\r\n",
      "attrs                     21.2.0                   pypi_0    pypi\r\n",
      "bleach                    4.0.0                    pypi_0    pypi\r\n",
      "brotli                    1.0.9                he6710b0_2  \r\n",
      "ca-certificates           2021.7.5             h06a4308_1  \r\n",
      "certifi                   2021.5.30        py39h06a4308_0  \r\n",
      "crease-ga                 0.0.1                     dev_0    <develop>\r\n",
      "cycler                    0.10.0           py39h06a4308_0  \r\n",
      "dbus                      1.13.18              hb2f20db_0  \r\n",
      "defusedxml                0.7.1                    pypi_0    pypi\r\n",
      "entrypoints               0.3                      pypi_0    pypi\r\n",
      "expat                     2.4.1                h2531618_2  \r\n",
      "fontconfig                2.13.1               h6c09931_0  \r\n",
      "fonttools                 4.25.0             pyhd3eb1b0_0  \r\n",
      "freetype                  2.10.4               h5ab3b9f_0  \r\n",
      "glib                      2.69.0               h5202010_0  \r\n",
      "gst-plugins-base          1.14.0               h8213a91_2  \r\n",
      "gstreamer                 1.14.0               h28cd5cc_2  \r\n",
      "icu                       58.2                 he6710b0_3  \r\n",
      "ipython-genutils          0.2.0                    pypi_0    pypi\r\n",
      "jinja2                    3.0.1                    pypi_0    pypi\r\n",
      "jpeg                      9b                   h024ee3a_2  \r\n",
      "jsonschema                3.2.0                    pypi_0    pypi\r\n",
      "jupyter-client            6.1.12                   pypi_0    pypi\r\n",
      "jupyter-core              4.7.1                    pypi_0    pypi\r\n",
      "jupyterlab-pygments       0.1.2                    pypi_0    pypi\r\n",
      "kiwisolver                1.3.1            py39h2531618_0  \r\n",
      "lcms2                     2.12                 h3be6417_0  \r\n",
      "ld_impl_linux-64          2.35.1               h7274673_9  \r\n",
      "libblas                   3.9.0                9_openblas    conda-forge\r\n",
      "libcblas                  3.9.0                9_openblas    conda-forge\r\n",
      "libffi                    3.3                  he6710b0_2  \r\n",
      "libgcc-ng                 9.3.0               h5101ec6_17  \r\n",
      "libgfortran-ng            9.3.0               ha5ec8a7_17  \r\n",
      "libgfortran5              9.3.0               ha5ec8a7_17  \r\n",
      "libgomp                   9.3.0               h5101ec6_17  \r\n",
      "liblapack                 3.9.0                9_openblas    conda-forge\r\n",
      "libopenblas               0.3.15          pthreads_h8fe5266_1    conda-forge\r\n",
      "libpng                    1.6.37               hbc83047_0  \r\n",
      "libstdcxx-ng              9.3.0               hd4cf53a_17  \r\n",
      "libtiff                   4.2.0                h85742a9_0  \r\n",
      "libuuid                   1.0.3                h1bed415_2  \r\n",
      "libwebp-base              1.2.0                h27cfd23_0  \r\n",
      "libxcb                    1.14                 h7b6447c_0  \r\n",
      "libxml2                   2.9.12               h03d6c58_0  \r\n",
      "lz4-c                     1.9.3                h295c915_1  \r\n",
      "markupsafe                2.0.1                    pypi_0    pypi\r\n",
      "matplotlib                3.4.2            py39hf3d152e_0    conda-forge\r\n",
      "matplotlib-base           3.4.2            py39hab158f2_0  \r\n",
      "mistune                   0.8.4                    pypi_0    pypi\r\n",
      "munkres                   1.1.4                      py_0  \r\n",
      "nbclient                  0.5.3                    pypi_0    pypi\r\n",
      "nbconvert                 6.1.0                    pypi_0    pypi\r\n",
      "nbformat                  5.1.3                    pypi_0    pypi\r\n",
      "ncurses                   6.2                  he6710b0_1  \r\n",
      "nest-asyncio              1.5.1                    pypi_0    pypi\r\n",
      "numexpr                   2.7.3            py39hde0f152_0    conda-forge\r\n",
      "numpy                     1.21.1           py39hdbf815f_0    conda-forge\r\n",
      "olefile                   0.46                       py_0  \r\n",
      "openjpeg                  2.3.0                h05c96fa_1  \r\n",
      "openssl                   1.1.1k               h27cfd23_0  \r\n",
      "packaging                 21.0                     pypi_0    pypi\r\n",
      "pandocfilters             1.4.3                    pypi_0    pypi\r\n",
      "pcre                      8.45                 h295c915_0  \r\n",
      "pillow                    8.3.1            py39h2c7a002_0  \r\n",
      "pip                       21.2.2           py39h06a4308_0  \r\n",
      "pyee                      7.0.4                    pypi_0    pypi\r\n",
      "pygments                  2.9.0                    pypi_0    pypi\r\n",
      "pyparsing                 2.4.7              pyhd3eb1b0_0  \r\n",
      "pyppeteer                 0.2.2                    pypi_0    pypi\r\n",
      "pyqt                      5.9.2            py39h2531618_6  \r\n",
      "pyrsistent                0.18.0                   pypi_0    pypi\r\n",
      "python                    3.9.6                h12debd9_0  \r\n",
      "python-dateutil           2.8.2              pyhd3eb1b0_0  \r\n",
      "python_abi                3.9                      2_cp39    conda-forge\r\n",
      "pyzmq                     22.2.1                   pypi_0    pypi\r\n",
      "qt                        5.9.7                h5867ecd_1  \r\n",
      "readline                  8.1                  h27cfd23_0  \r\n",
      "setuptools                52.0.0           py39h06a4308_0  \r\n",
      "sip                       4.19.13          py39h2531618_0  \r\n",
      "six                       1.16.0             pyhd3eb1b0_0  \r\n",
      "sqlite                    3.36.0               hc218d9a_0  \r\n",
      "testpath                  0.5.0                    pypi_0    pypi\r\n",
      "tk                        8.6.10               hbc83047_0  \r\n",
      "tornado                   6.1              py39h27cfd23_0  \r\n",
      "tqdm                      4.62.0                   pypi_0    pypi\r\n",
      "traitlets                 5.0.5                    pypi_0    pypi\r\n",
      "tzdata                    2021a                h52ac0ba_0  \r\n",
      "urllib3                   1.26.6                   pypi_0    pypi\r\n",
      "webencodings              0.5.1                    pypi_0    pypi\r\n",
      "websockets                8.1                      pypi_0    pypi\r\n",
      "wheel                     0.36.2             pyhd3eb1b0_0  \r\n",
      "xz                        5.2.5                h7b6447c_0  \r\n",
      "zlib                      1.2.11               h7b6447c_3  \r\n",
      "zstd                      1.4.9                haebb681_0  \r\n"
     ]
    }
   ],
   "source": [
    "!conda list"
   ]
  },
  {
   "cell_type": "code",
   "execution_count": 9,
   "metadata": {},
   "outputs": [
    {
     "name": "stdout",
     "output_type": "stream",
     "text": [
      "fatal: not a git repository (or any of the parent directories): .git\r\n"
     ]
    }
   ],
   "source": [
    "!git status"
   ]
  }
 ],
 "metadata": {
  "kernelspec": {
   "display_name": "Python 3",
   "language": "python",
   "name": "python3"
  },
  "language_info": {
   "codemirror_mode": {
    "name": "ipython",
    "version": 3
   },
   "file_extension": ".py",
   "mimetype": "text/x-python",
   "name": "python",
   "nbconvert_exporter": "python",
   "pygments_lexer": "ipython3",
   "version": "3.8.5"
  }
 },
 "nbformat": 4,
 "nbformat_minor": 5
}

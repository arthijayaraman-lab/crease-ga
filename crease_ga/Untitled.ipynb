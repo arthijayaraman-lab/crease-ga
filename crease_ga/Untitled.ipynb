{
 "cells": [
  {
   "cell_type": "code",
   "execution_count": null,
   "metadata": {},
   "outputs": [
    {
     "name": "stdout",
     "output_type": "stream",
     "text": [
      "\r",
      "Gen 1/10, individual 1/5\n"
     ]
    }
   ],
   "source": [
    "import model as m\n",
    "model = m.Model()\n",
    "\n",
    "model.load_iq('Itot_disper_10_Ain12_B6_Aout12_nLP7_dR0.2.txt')\n",
    "model.load_chemistry(chemistry='vesicle')\n",
    "model.scatterer_generator.N\n",
    "model.solve()"
   ]
  },
  {
   "cell_type": "code",
   "execution_count": null,
   "metadata": {},
   "outputs": [],
   "source": []
  }
 ],
 "metadata": {
  "kernelspec": {
   "display_name": "Python 3",
   "language": "python",
   "name": "python3"
  },
  "language_info": {
   "codemirror_mode": {
    "name": "ipython",
    "version": 3
   },
   "file_extension": ".py",
   "mimetype": "text/x-python",
   "name": "python",
   "nbconvert_exporter": "python",
   "pygments_lexer": "ipython3",
   "version": "3.8.5"
  }
 },
 "nbformat": 4,
 "nbformat_minor": 4
}

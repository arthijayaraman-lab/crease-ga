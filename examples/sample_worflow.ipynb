{
 "cells": [
  {
   "cell_type": "markdown",
   "id": "b3b4c230",
   "metadata": {},
   "source": [
    "Sample workflow of traditional crease_ga on semiflexible fibrils, using Debye equation to evaluate $I_{comp}$(q):\n",
    "\n",
    "(To perform a complete traditional GA run with relevant results, we would need to build a GA with much more generations and larger populations, and supercomputing resources will likely be needed to complete such run within realistic amount of time)"
   ]
  },
  {
   "cell_type": "code",
   "execution_count": null,
   "id": "96c07cef",
   "metadata": {},
   "outputs": [],
   "source": [
    "import numpy as np\n",
    "import crease_ga as cga\n",
    "import math\n",
    "m = cga.Model(pop_number = 5,\n",
    "              generations = 5,\n",
    "              nloci = 7)\n",
    "\n",
    "m.load_shape(shape='sffibril')\n",
    "\n",
    "m.load_iq('crease_ga/IEXP_DATA/sffibril_example_data.txt')\n",
    "m.solve(output_dir='./',name='test_non_ml_sffibril',needs_postprocess=False)"
   ]
  },
  {
   "cell_type": "markdown",
   "id": "371556a4",
   "metadata": {},
   "source": [
    "Sample workflow of ML-enhanced crease_ga on semiflexible fibrils, using trained neural network to evaluate $I_{comp}$(q):\n",
    "    \n",
    "(ML-enhanced crease-ga run can be finished within realistic amount of time even on a common lap-top)"
   ]
  },
  {
   "cell_type": "code",
   "execution_count": null,
   "id": "f664e2cb",
   "metadata": {},
   "outputs": [],
   "source": [
    "import numpy as np\n",
    "import crease_ga as cga\n",
    "import math\n",
    "m = cga.Model(pop_number = 100,\n",
    "              generations = 40,\n",
    "              nloci = 7)\n",
    "#detailed explanations are needed to describe what each value in shape params means\n",
    "m.load_shape(shape='ml_sffibril')\n",
    "\n",
    "m.load_iq('../IEXP_DATA/sffibril_example_data.txt')\n",
    "m.solve(output_dir='./',name='test_ml_sffibril',needs_postprocess=False)"
   ]
  }
 ],
 "metadata": {
  "kernelspec": {
   "display_name": "Python 3 (ipykernel)",
   "language": "python",
   "name": "python3"
  },
  "language_info": {
   "codemirror_mode": {
    "name": "ipython",
    "version": 3
   },
   "file_extension": ".py",
   "mimetype": "text/x-python",
   "name": "python",
   "nbconvert_exporter": "python",
   "pygments_lexer": "ipython3",
   "version": "3.9.15"
  }
 },
 "nbformat": 4,
 "nbformat_minor": 5
}

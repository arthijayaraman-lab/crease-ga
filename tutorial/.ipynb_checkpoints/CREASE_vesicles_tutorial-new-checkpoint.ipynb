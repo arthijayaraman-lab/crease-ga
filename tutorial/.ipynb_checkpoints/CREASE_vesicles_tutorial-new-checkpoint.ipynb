{
 "cells": [
  {
   "cell_type": "markdown",
   "metadata": {},
   "source": [
    "# CREASE for Vesicle Analysis"
   ]
  },
  {
   "cell_type": "markdown",
   "metadata": {},
   "source": [
    "## Introduction\n",
    "\n",
    "**This tutorial has been created by Ziyu Ye, Zijie Wu, and Arthi Jayaraman to accompany their publication: Ye, Z.; Wu, Z; Jayaraman, A. Computational Reverse-Engineering Analysis for Scattering Experiments (CREASE) on Vesicles Assembled from Amphiphilic Macromolecular Solutions (*JACS Au, Accepted*)**\n",
    "\n",
    "In general, Computational Reverse Engineering Analysis for Scattering Experiments (CREASE) is a two-step approach that combines a genetic algorithm (GA) as the first step with molecular simulations based reconstruction as the second step to determine for a given input scattering profile the structural features of assembled structures in macromolecular solutions. Structural features range from aggregate dimensions to the chain- and monomer- level packing within the aggregate. This tutorial presents CREASE for vesicles. If you use CREASE in your work, we ask that you please cite one of the relevant papers below. If you use this vesicle code, please cite Reference 5. \n",
    "\n",
    "\n",
    "[1] Beltran-Villegas, D. J.; Wessels, M. G.; Lee, J. Y.; Song, Y.; Wooley, K. L.; Pochan, D. J.; Jayaraman, A. Computational Reverse-Engineering Analysis for Scattering Experiments on Amphiphilic Block Polymer Solutions. *J. Am. Chem. Soc.* **2019**, 141, 14916−14930.\n",
    "\n",
    "[2] Wessels, M. G.; Jayaraman, A. Computational Reverse-Engineering Analysis of Scattering Experiments (CREASE) on Amphiphilic Block Polymer Solutions: Cylindrical and Fibrillar Assembly. *Macromolecules* **2021**, 54, 783-796.\n",
    "\n",
    "[3] Wessels, M. G.; Jayaraman, A. Machine Learning Enhanced Computational Reverse Engineering Analysis for Scattering Experiments (CREASE) to Determine Structures in Amphiphilic Polymer Solutions. *ACS Polymers Au* **2021**, https://doi.org/10.1021/acspolymersau.1c00015.\n",
    "\n",
    "[4] Heil, C.; Jayaraman, A. Computational reverse-engineering analysis for scattering experiments of assembled binary mixture of nanoparticles. *ACS Materials Au* **2021**, https://doi.org/10.1021/acsmaterialsau.1c00015\n",
    "\n",
    "[5] Ye, Z.; Wu, Z; Jayaraman, A. Computational Reverse-Engineering Analysis for Scattering Experiments (CREASE) on Vesicles Assembled from Amphiphilic Macromolecular Solutions. *JACS Au (accepted)*\n",
    "\n",
    "This notebook presents a tutorial on how the first step of CREASE, the GA step, works to determine the structural features of the assembled structure (vesicle in this tutorial) found in macromolecular solutions from small angle scattering intensity profiles, I(q)s. The GA code takes as input an I(q) and finds the structural dimensions of the vesicle whose computed scattering profile, $I_{comp}(q)$, best matches the input I(q). The GA code presented here is applicable to a vesicle structure with an empty (solvent filled) core and three layers (two solvophilic layers and one solvophobic layer). But it can be adapted to other shapes and geometries by slight modifications of the code that will be highlighted as such.\n",
    "\n",
    "The GA code for vesicles is able to determine:\n",
    "1. Vesicle dimensions: the core radius ($R_{core}$), the inner solvophilic A layer thickness ($t_{Ain}$), the middle solvophobic B layer thickness ($t_{B}$), and the outer solvophilic A layer thickness ($t_{Aout}$) \n",
    "2. How the solvophilic scatterers are split between inner ($s_{Ain}$) and outer ($1-s_{Ain}$) layers.\n",
    "3. Dispersity (or polydispersity) in vesicle size (here implemented in the core radius dimension ($\\sigma_{R}$) during I(q) calculation).\n",
    "\n",
    "<img src=\"CREASE_vesicles_code_structure_dimensions.png\" width=300 height=300 />"
   ]
  },
  {
   "cell_type": "markdown",
   "metadata": {},
   "source": [
    "A basic understanding of how a GA works and the associated technical terms (e.g. gene, generation, selection, fitness, crossover, mutation) would be helpful for following along with this tutorial. The user can find a brief introduction to GA from any of the five references listed above, especially in the original reference [1]. The [wikipedia page of genetic algorithm](https://en.wikipedia.org/wiki/Genetic_algorithm) also offers an overview of the GA method.\n",
    "\n",
    "Below is the general structure showing the flow of the GA code presented in this package:\n",
    "\n",
    "<img src=\"tutorial_images/Slide2.PNG\" width=600 height=600 />"
   ]
  },
  {
   "cell_type": "markdown",
   "metadata": {},
   "source": [
    "## Setup python libraries"
   ]
  },
  {
   "cell_type": "code",
   "execution_count": 1,
   "metadata": {},
   "outputs": [],
   "source": [
    "import crease_ga as cga\n",
    "from inspect import getsource"
   ]
  },
  {
   "cell_type": "markdown",
   "metadata": {},
   "source": [
    "### Model\n",
    "\n",
    "Current \"location\" in the code flow diagram marked in red:\n",
    "\n",
    "<img src=\"tutorial_images/Slide3.PNG\" width=600 height=600 />\n",
    "\n",
    "Let's start with the initial arguments that the user needs to choose and input for their system. \n",
    "\n",
    "In the cell block below, the user needs to specify the arguments that define the basic architecture of the genetic algorithm:\n",
    "* number of individuals in a population (`pop_number`)\n",
    "* number of generations that GA runs for (`generations`)\n",
    "* number of binary digits used to represent each individual (`nloci`)\n",
    "\n",
    "The user chooses the above three arguments to run the GA. The choice of these three arguments will significantly affect the performance of the GA. We recommend that the user test out different combinations of these three parameters to ensure convergence to the right output. For the vesicle example, after multiple tests during our previous work, we recommend the following values for these arguments for reliable performance of GA on vesicle:\n",
    "* `pop_number = 80`\n",
    "* `generations = 100`\n",
    "* `nloci = 7`\n",
    "\n",
    "Because the computational time needed to complete the GA run increases with increasing number of individuals and generations, for the purpose of completing this tutorial within reasonable time within a jupyter notebook, we use the following values:\n",
    "* `pop_number = 10`\n",
    "* `generations = 2`\n",
    "* `nloci = 7`\n",
    "\n",
    "You should not expect to see the 'best' $I_{comp}$(q) matching the input or target $I$(q) with these settings. With a larger number of individuals and generations, you can see how the GA predictions evolve over the generations to higher \"fitness\" structures [i.e. closer match to the input $I$(q)].\n",
    "\n",
    "For each individual in the GA, we store information about structural features as genes in its genome. For each of the individual's genes, the information is encoded as a seven-bit (chosen by the user as $n_{loci}$, set in this tutorial as 7) binary sequence that corresponds to the value of structural dimensions evenly distributed between the minimum and maximum bounds set by the user (minimum bound will be 0000000, and maximum 1111111). The choice of the number of binary bits will determine the precision of the final optimized structural dimensions.\n",
    "\n",
    "*You may ask at this point - why are we encoding the parameters in a binary fashion?*\n",
    "That is a great question! Actually, whether to use binary or decimal encoding has always been a topic of debate in the field of genetic algorithm. Traditional GAs tend to use binary coding (referred to as 'binary-coded GA'), but there also have been numerous applications of GA to engineering problems using \"decimal coding\" (often referred to as 'real-coded GA'). We developed the algorithm following the binary coding route, but there is technically no reason why one cannot use real-coded GA for this problem. One can always rewrite our genetic operator algorithms if one wishes to use real-coded GA (more on this later)"
   ]
  },
  {
   "cell_type": "code",
   "execution_count": 2,
   "metadata": {},
   "outputs": [],
   "source": [
    "m = cga.Model(pop_number = 10,\n",
    "              generations = 2,\n",
    "              nloci = 7)"
   ]
  },
  {
   "cell_type": "markdown",
   "metadata": {},
   "source": [
    "## load_shape\n",
    "\n",
    "<img src=\"tutorial_images/Slide4.PNG\" width=600 height=600 />\n",
    "\n",
    "The second set of arguments passed to the GA is done through `load_shape`, and here, the user chooses the assembled morphology they are attempting to match. For this tutorial the shape is 'vesicle'.\n",
    "\n",
    "**shape_params**\n",
    "\n",
    "Regardless of the type of assembled shape (vesicles, micelles, etc.), each shape requires the user to choose a set of shape descriptors that defines the basic morphology of the structure. In this example, we use the `vesicle` shape, which requires the following 7 shape descriptors (specified as a list given *exactly* in the following order with the `shape_params` argument):\n",
    "* Number of scatterers used to represent a chain (${num}_{scatterers}$)\n",
    "* Number of monomers in a chain ($N$)\n",
    "* Packing fraction of scatterers in B layer ($\\eta_B$)\n",
    "* Diameter of a monomer of chemistry B ($l_{mono,b}$） [Angstrom]\n",
    "* Diameter of a monomer of chemistry A ($l_{mono,a}$）[Angstrom]\n",
    "* Fraction of monomers in chain that are of B type ($f_B$)\n",
    "* Number of replicates ($n_{LP}$)\n",
    "\n",
    "For vesicles assembled from amphiphilic macromolecules with solvophilic A and solvophobic B blocks, two types of scatterers (A and B, respectively) are randomly placed within the designated vesicle layer boundaries (more details to be given later). The ratio of A and B scatterers matches the composition of the amphiphilic macromolecule (1−$f_B$:$f_B$).  We note that the scatterers could be point scatterers or scatterers with a specified diameter, the latter being the case in this example (for reasons described in the reference [5]). Regardless of the choice, the total number of A and B scatterers is another choice that the user has to make to balance the accuracy of the output vesicle dimensions from GA and the computational time for the $I_{comp}$(q) calculation (more details to be given later).\n",
    "\n",
    "NOTE: The determination of $I_{comp}$(q) in the GA only uses the scatterer placements and these placements do NOT include any connectivity to resemble macromolecules [i.e. no polymer chains are placed].\n",
    "\n",
    "In this vesicle example, the user can enter the macromolecular information about the solution that was used to obtain the scattering profile to guide the choice of number of scatterers placed in the individual candidate structure. Here for this tutorial example, we use the molecular information for a diblock copolymer with the solvophilic block A and solvophobic block B forming the vesicle bilayer. The diblock chain has total number of  𝑁 monomer beads with $f_B$ fraction of the beads in the chain being solvophobic. The packing fraction of the solvophobic monomor beads in the middle layer, defined as total occupied volume by scatterers of chemistry B divided by total volume of B layer, is given by $\\eta_B$ and the diameters of the A and B beads (or \"monomer contour length\") are given by $l_{mono,a}$ and $l_{mono,b}$, respectively. The specific values used in this example are given in the code block below.\n",
    "\n",
    "For this vesicle system example, we calculate each individual's $I_{comp}$(q) using $n_{LP}$ different replicates/configurations of random scatterer placements to generate the averaged $I_{comp}$(q) for that individual. Having multiple configurations of scatterer placements mitigates the risk that one configuration of scatterer placements biases the computed scattering intensity. One could also choose to replace the use of multiple ($n_{LP}$=7 in this case) placements of fewer scatterers with just one placement using a significantly higher total number of scatterers per unit volume (i.e., scatterer density, can be changed by varying ${num}_{scatterers}$) to reduce bias compared to using fewer scatterers (or smaller scatterer density). We choose to use multiple different configurations of random scatterer placements in this case to incorporate the ability to capture dispersity in dimensions (more details will be found later). We also note that the computational cost of $I_{comp}$(q) scales quadratically with the number of scatterers used, providing another reason for multiple replicates.\n",
    "\n",
    "For a more detailed discussion on the `shape_params` arguments and scatterer density in the specific case of CREASE for vesicles, please see reference [5]. We note that a future update to this code will replace ${num}_{scatterers}$, $N$, $\\eta_B$, $l_{mono,a}$, and $l_{mono,b}$ with a single parameter that directly sets the number density of scatterers (relevant for structure resolution) allowing for a more intuitive user experience.\n",
    "\n",
    "**Setting bounds for GA parameters**\n",
    "\n",
    "The user also sets the maximum (`maxvalu`) and minimum (`minvalu`) bounds for each parameter (or gene) of the individual candidate structure. For the vesicle system example, the GA determines the following parameters:\n",
    "* Core radius ($R_{core}$) \n",
    "* Three individual layer thicknesses in the bilayer consisting of the inner solvophilic A layer ($t_{Ain}$), middle solvophobic B layer ($t_{B}$), and the outer solvophilic A layer ($t_{Aout}$) \n",
    "* Split of the solvophilic scatterers between inner and outer layers ($s_{Ain}$)\n",
    "* Dispersity in the core radius dimension ($\\sigma_{R}$)\n",
    "* Negative $log_{10}$ of background intensity ($-log_{10}(bg)$)\n",
    "\n",
    "The structural parameters (core radius and the three layer thicknesses) in the vesicle shape are coded in Angstroms ($A$), and `q` is given in inverse Angstroms ($A^{-1}$).\n",
    "\n",
    "Just to reiterate, different shapes will have different sets of shape descriptors and parameters, so the aforementioned lists of shape descriptors, parameters and their definitions only apply to the vesicle shape. It is important for the user to make sure that the shape descriptors and minimum/maximum bounds of the parameters correspond to the expectation of the chosen shape.\n"
   ]
  },
  {
   "cell_type": "markdown",
   "metadata": {},
   "source": [
    "To properly use a shape, a user will need to understand what each value in `shape_params` (the shape descriptors) corresponds to and what each value specified in `minvalu` and `maxvalu` refer to (the dimension parameters GA is going to predict based on the input I(q) profile). These pieces of information, as explained in the previous cell, can also be retrieved by calling the docstring of the `scatterer_generator` class of each shape, or checking the API of the relevant shape. For example, for shape _vesicle_,"
   ]
  },
  {
   "cell_type": "code",
   "execution_count": 3,
   "metadata": {},
   "outputs": [
    {
     "name": "stdout",
     "output_type": "stream",
     "text": [
      "\n",
      "    The wrapper class for vesicle shape. Default length unit: Angstrom.\n",
      "    \n",
      "\n",
      "    Notes\n",
      "    -----\n",
      "    **The following 7 shape-specific descriptors are to be specified by user (see\n",
      "    *Attributes*) as \n",
      "    a list, in the precise order as listed, while calling `Model.load_shape`\n",
      "    to load this shape:**\n",
      "\n",
      "\n",
      "    num_scatterers: \n",
      "        Number of scatterers per chain (num_scatterers). Default: 24\n",
      "    N: \n",
      "        Number of beads on chain. Default: 54\n",
      "    rho_B:\n",
      "        Density or volume fraction of beads in B layer. Default: 0.5\n",
      "    lmono_b:\n",
      "        Monomer contour length (diameter) of chemistry B. Default: 50.4 A\n",
      "    lmono_a:\n",
      "        Monomer contour length (diameter) of chemistry A. Default: 50.4 A\n",
      "    fb: \n",
      "        Fraction of monomers of chemistry B. fa = 1-fb. Default: 0.55\n",
      "    nLP:\n",
      "        Number of replicates for each individual. Default: 7\n",
      "\n",
      "\n",
      "\n",
      "    **The following 7 input parameters are to be predicted, in the precise order\n",
      "    as listed, by GA:**\n",
      "    \n",
      "    R_core:\n",
      "        Core radius. Default [min,max]: [50 A, 400 A]\n",
      "    t_Ain:\n",
      "        Thickness of inner A layer. Default [min,max]: [30 A, 200 A]\n",
      "    t_B:\n",
      "        Thickness of B layer. Default [min,max]: [30 A, 200 A]\n",
      "    t_Aout:\n",
      "        Thickness of outer A layer. Default [min,max]: [30 A, 200 A]\n",
      "    sigma_Ain:\n",
      "        Split of solvophilic scatterers between inner and outer layers. \n",
      "        Default [min,max]: [0.1, 0.45]\n",
      "    sigma_R:\n",
      "        Dispersity in vesicle size as implemented in the core radius.\n",
      "        Default [min,max]: [0.0, 0.45]\n",
      "    log10(bg):\n",
      "        Negative log10 of Background intensity. \n",
      "        E.g. an background intensity of 0.001 leads to this value being 3.\n",
      "        Default [min,max]:  [0.1,4]\n",
      "    \n",
      "    See also\n",
      "    --------\n",
      "    crease_ga.Model.load_shape\n",
      "    \n"
     ]
    }
   ],
   "source": [
    "# optional to run\n",
    "import crease_ga.shapes.vesicle.scatterer_generator as sg\n",
    "print(sg.scatterer_generator.__doc__)"
   ]
  },
  {
   "cell_type": "markdown",
   "metadata": {},
   "source": [
    "Now let's run the code below to load the shape `vesicle` with the proper `shape_params` and minimum/maximum bounds of the parameters set."
   ]
  },
  {
   "cell_type": "code",
   "execution_count": 4,
   "metadata": {},
   "outputs": [
    {
     "name": "stdout",
     "output_type": "stream",
     "text": [
      "imported builtin shape vesicle\n",
      "\n"
     ]
    }
   ],
   "source": [
    "m.load_shape(shape='vesicle', \n",
    "                 shape_params=[24,54,0.5,50.4,50.4,0.55,7], #num_scatterers,N,rho_B,lmono_b,lmono_a,f_B,nLP \n",
    "                 minvalu = (50, 30, 30, 30, 0.1, 0.0, 0.1), #lower bounds: R_core,t_Ain,t_B,t_Aout,s_Ain,sigma_R,-log10(bg) \n",
    "                 maxvalu = (400, 200, 200, 200, 0.45, 0.45, 4)) # upper bounds: R_core,t_Ain,t_B,t_Aout,s_Ain,sigma_R,-log10(bg)"
   ]
  },
  {
   "cell_type": "markdown",
   "metadata": {},
   "source": [
    "The final preparation step we need to do before the model is prepared for the GA iteration/optimization is to specify the \\\"input\\\" $I_{exp}(q)$, i.e. the input I(q) profile we want to analyze to obtain relevant structural dimensions."
   ]
  },
  {
   "cell_type": "markdown",
   "metadata": {},
   "source": [
    "### load_iq\n",
    "\n",
    "<img src=\"tutorial_images/Slide5.PNG\" width=600 height=600 />\n",
    "After setting the shape we will be using, we read in the input \"experimental\" scattering intensity profile $I_{exp}(q)$, which in this example is stored in a text file that has the $q$ and $I(q)$ information each as a column. \n",
    "\n",
    "For the example here, our $I_{exp}(q)$ is an *in silico* $I(q)$ created from a target vesicle structure where all dimensions and dispersity in size are known. Thus, the GA can be tested and validated to see how well it performs in determining each parameter.\n",
    "\n",
    "After loading in the target $I_{exp}(q)$, the user can set the upper and lower bounds on the $q$-range over which the GA will determine the best candidate vesicle structure. \n",
    "\n",
    "The optional cell block below provides detailed information on the code implementation to load the input $I_{exp}(q)$."
   ]
  },
  {
   "cell_type": "code",
   "execution_count": null,
   "metadata": {},
   "outputs": [],
   "source": [
    "# optional to run\n",
    "print(getsource(cga.Model.load_iq))"
   ]
  },
  {
   "cell_type": "markdown",
   "metadata": {},
   "source": [
    "And now let's load the target $I_{exp}(q)$ for this tutorial and have a look at what we just loaded, the q (`qrange`) and the I(q) (`IQin`):"
   ]
  },
  {
   "cell_type": "code",
   "execution_count": 5,
   "metadata": {},
   "outputs": [
    {
     "data": {
      "image/png": "[encoded data removed]",
      "text/plain": [
       "<Figure size 432x288 with 1 Axes>"
      ]
     },
     "metadata": {
      "needs_background": "light"
     },
     "output_type": "display_data"
    }
   ],
   "source": [
    "m.load_iq('../IEXP_DATA/Itot_disper_10_Ain12_B6_Aout12_nLP7_dR0.2.txt')\n",
    "import matplotlib.pyplot as plt\n",
    "plt.loglog(m.qrange,m.IQin,marker='v')\n",
    "plt.xlabel('q ($A^{-1}$)')\n",
    "plt.ylabel('I(q)')\n",
    "oldq = m.qrange\n",
    "oldIQ = m.IQin"
   ]
  },
  {
   "cell_type": "markdown",
   "metadata": {},
   "source": [
    "Sometimes, a user might only be interested in fitting to a portion of the q range. This can be done by setting the `q_bounds` argument of `load_iq` to `[lower_bound,higher_bound]`. For example:"
   ]
  },
  {
   "cell_type": "code",
   "execution_count": 6,
   "metadata": {},
   "outputs": [
    {
     "data": {
      "text/plain": [
       "Text(0, 0.5, 'I(q)')"
      ]
     },
     "execution_count": 6,
     "metadata": {},
     "output_type": "execute_result"
    },
    {
     "data": {
      "image/png": "[encoded data removed]",
      "text/plain": [
       "<Figure size 432x288 with 1 Axes>"
      ]
     },
     "metadata": {
      "needs_background": "light"
     },
     "output_type": "display_data"
    }
   ],
   "source": [
    "m.load_iq('../IEXP_DATA/Itot_disper_10_Ain12_B6_Aout12_nLP7_dR0.2.txt',\n",
    "          q_bounds=[0.005,0.1])\n",
    "import matplotlib.pyplot as plt\n",
    "norm = oldIQ[-2]/m.IQin[-1]\n",
    "plt.loglog(oldq,oldIQ/norm,marker='v')\n",
    "plt.loglog(m.qrange,m.IQin,marker='o')\n",
    "plt.xlabel('q ($A^{-1}$)')\n",
    "plt.ylabel('I(q)')"
   ]
  },
  {
   "cell_type": "markdown",
   "metadata": {},
   "source": [
    "You can see that the first two and last one pairs of q and I(q) values have been excluded because they are out of the bounds that we have set."
   ]
  },
  {
   "cell_type": "markdown",
   "metadata": {},
   "source": [
    "## Solve\n",
    "\n",
    "<img src=\"tutorial_images/Slide6.PNG\" width=600 height=600 />\n",
    "\n",
    "After defining the parameters and choosing the shape for the structure, we can start running the GA. This is done by calling the `solve` instance method of the `Model` class. If you are interested, run the block below to see the source code."
   ]
  },
  {
   "cell_type": "code",
   "execution_count": null,
   "metadata": {},
   "outputs": [],
   "source": [
    "# optional to run\n",
    "print(getsource(cga.Model.solve))"
   ]
  },
  {
   "cell_type": "markdown",
   "metadata": {},
   "source": [
    "### Initial_pop\n",
    "\n",
    "<img src=\"tutorial_images/Slide7.PNG\" width=600 height=600 />\n",
    "\n",
    "The first thing `solve` does is to call the utility method `initial_pop` to create the first generation of individuals for the GA iteration. `Initial_pop` takes in the number of individuals in a population and generates individual candidate structures based on the bounds set for each of the GA parameters. It then outputs the population information (`pop`) back to the GA code.\n",
    "\n",
    "To see the source code of this function, run following block:"
   ]
  },
  {
   "cell_type": "code",
   "execution_count": null,
   "metadata": {},
   "outputs": [],
   "source": [
    "# optional to run\n",
    "print(getsource(cga.utils.initial_pop))"
   ]
  },
  {
   "cell_type": "markdown",
   "metadata": {},
   "source": [
    "To read the docstring of this function, run following block:"
   ]
  },
  {
   "cell_type": "code",
   "execution_count": null,
   "metadata": {},
   "outputs": [],
   "source": [
    "# optional to run\n",
    "print(cga.utils.initial_pop.__doc__)"
   ]
  },
  {
   "cell_type": "markdown",
   "metadata": {},
   "source": [
    "Run the block below to see what a binary representation for an example of 10 individuals in the population looks like:"
   ]
  },
  {
   "cell_type": "code",
   "execution_count": 7,
   "metadata": {},
   "outputs": [
    {
     "name": "stdout",
     "output_type": "stream",
     "text": [
      "[[0. 0. 0. 0. 0. 0. 1. 0. 1. 0. 0. 1. 1. 0. 0. 1. 1. 1. 0. 0. 0. 0. 0. 1.\n",
      "  1. 0. 1. 1. 1. 0. 1. 0. 0. 1. 0. 1. 1. 1. 1. 0. 0. 0. 1. 0. 0. 1. 0. 1.\n",
      "  1.]\n",
      " [0. 1. 0. 0. 0. 0. 1. 0. 1. 1. 1. 0. 1. 0. 0. 1. 1. 1. 1. 0. 0. 1. 0. 0.\n",
      "  1. 0. 1. 0. 1. 0. 0. 1. 0. 1. 0. 1. 1. 1. 0. 0. 1. 0. 1. 0. 1. 1. 0. 0.\n",
      "  0.]\n",
      " [0. 0. 1. 1. 0. 1. 0. 0. 1. 1. 1. 1. 1. 0. 1. 0. 1. 1. 1. 0. 0. 1. 1. 0.\n",
      "  1. 0. 0. 0. 0. 0. 1. 1. 0. 0. 1. 0. 0. 0. 1. 0. 1. 1. 1. 1. 0. 0. 0. 0.\n",
      "  0.]\n",
      " [0. 1. 1. 1. 1. 1. 1. 1. 0. 1. 1. 0. 1. 1. 1. 1. 0. 1. 1. 0. 1. 1. 1. 1.\n",
      "  0. 1. 1. 0. 0. 1. 0. 1. 1. 0. 1. 0. 0. 0. 0. 1. 1. 1. 0. 1. 0. 0. 1. 1.\n",
      "  0.]\n",
      " [0. 0. 1. 1. 0. 1. 0. 0. 1. 0. 0. 1. 1. 0. 1. 0. 0. 0. 0. 0. 0. 0. 0. 1.\n",
      "  0. 1. 0. 0. 0. 1. 1. 1. 1. 1. 1. 1. 1. 1. 1. 0. 1. 0. 0. 0. 1. 1. 0. 0.\n",
      "  0.]\n",
      " [1. 0. 1. 0. 1. 0. 0. 1. 1. 1. 0. 0. 1. 0. 1. 0. 1. 0. 0. 1. 0. 1. 0. 1.\n",
      "  1. 1. 1. 1. 0. 1. 1. 1. 1. 1. 1. 1. 0. 0. 0. 0. 0. 0. 1. 0. 0. 1. 1. 0.\n",
      "  1.]\n",
      " [0. 1. 0. 0. 1. 1. 0. 1. 1. 0. 0. 1. 0. 0. 1. 1. 1. 1. 1. 0. 0. 0. 1. 0.\n",
      "  0. 0. 0. 0. 0. 1. 0. 0. 1. 1. 1. 1. 1. 0. 1. 1. 1. 1. 0. 1. 1. 0. 0. 1.\n",
      "  1.]\n",
      " [1. 1. 0. 0. 0. 0. 0. 0. 1. 0. 0. 1. 0. 0. 0. 0. 1. 1. 1. 0. 1. 0. 0. 1.\n",
      "  1. 0. 0. 0. 1. 1. 1. 1. 1. 1. 0. 0. 0. 0. 0. 0. 1. 1. 1. 1. 1. 0. 1. 0.\n",
      "  0.]\n",
      " [1. 1. 0. 1. 1. 0. 1. 0. 0. 1. 0. 0. 0. 1. 1. 0. 1. 1. 0. 1. 0. 1. 0. 0.\n",
      "  0. 1. 1. 1. 1. 1. 1. 0. 1. 1. 1. 0. 1. 1. 1. 0. 0. 1. 0. 1. 0. 1. 0. 0.\n",
      "  1.]\n",
      " [1. 1. 1. 0. 0. 1. 0. 0. 1. 1. 0. 1. 1. 0. 1. 0. 0. 0. 1. 1. 0. 1. 0. 1.\n",
      "  0. 0. 1. 1. 1. 0. 1. 1. 0. 0. 1. 0. 0. 1. 0. 1. 0. 1. 1. 1. 1. 1. 0. 0.\n",
      "  0.]]\n"
     ]
    }
   ],
   "source": [
    "# optional to run\n",
    "pop = cga.utils.initial_pop(popnumber = 10, nloci = 7, numvars = 7)\n",
    "print(pop)"
   ]
  },
  {
   "cell_type": "markdown",
   "metadata": {},
   "source": [
    "We can use the `decode` method provided in `crease_ga.utils` to convert these binary bits to their corresponding decimal parameter values. Let's try that on `pop[0]`, the first individual of the population we generated above."
   ]
  },
  {
   "cell_type": "code",
   "execution_count": null,
   "metadata": {},
   "outputs": [],
   "source": [
    "# optional to run\n",
    "print(getsource(cga.utils.decode))"
   ]
  },
  {
   "cell_type": "code",
   "execution_count": 8,
   "metadata": {},
   "outputs": [
    {
     "name": "stdout",
     "output_type": "stream",
     "text": [
      "binary [0. 0. 0. 0. 0. 0. 1. 0. 1. 0. 0. 1. 1. 0. 0. 1. 1. 1. 0. 0. 0. 0. 0. 1.\n",
      " 1. 0. 1. 1. 1. 0. 1. 0. 0. 1. 0. 1. 1. 1. 1. 0. 0. 0. 1. 0. 0. 1. 0. 1.\n",
      " 1.]\n",
      "decimal [ 52.734375    80.46875    104.375       65.859375     0.32421875\n",
      "   0.421875     2.38515625]\n"
     ]
    }
   ],
   "source": [
    "# optional to run\n",
    "print('binary',pop[0])\n",
    "print('decimal',cga.utils.decode(pop,0,\n",
    "                                 nloci=7,\n",
    "                                 minvalu=[50, 30, 30, 30, 0.1, 0.0, 0.1], #lower bounds: R_core,t_Ain,t_B,t_Aout,s_Ain,sigma_R,-log10(bg)\n",
    "                                 maxvalu=[400, 200, 200, 200, 0.45, 0.45, 4])) #Upper bounds: R_core,t_Ain,t_B,t_Aout,s_Ain,sigma_R,-log10(bg)"
   ]
  },
  {
   "cell_type": "markdown",
   "metadata": {},
   "source": [
    "Now that the first generation has been generated, GA is ready to enter the iterative process of \n",
    "* calculating $I_{comp}$(q) for each individual within a generation (see section *converttoIQ*);\n",
    "* calculating fitness for each individual, based on how well its $I_{comp}$(q) matches $I_{exp}$(q) (see section *fitness calculation*);\n",
    "* performing genetic operations to produce a new generation (see section *genetic_operations*)\n",
    "\n",
    "until the specified number of generations has been exhausted. The first two steps are accomplished in the `fitness` instance method of `model` class, while the last is accomplished in the `genetic_operations` method of `model` class.\n",
    "\n",
    "Next, we provide a more detailed explanation for each of these three steps.\n",
    "\n",
    "<img src=\"tutorial_images/Slide8.PNG\" width=600 height=600 />"
   ]
  },
  {
   "cell_type": "markdown",
   "metadata": {},
   "source": [
    "## converttoIQ\n",
    "\n",
    "<img src=\"tutorial_images/Slide9.PNG\" width=600 height=600 />\n",
    "\n",
    "In order to determine fitness for each individual within a generation, the key piece of information needed is the computed scattering intensity, $I_{comp}$(q), which the `fitness` function gets from the `converttoIQ` function. The `converttoIQ` function is what ties the different shapes to the GA code during implementation. Each shape will have its own `converttoIQ` that takes as input a list of q values (`qrange`) and a list of parameters (the \"gene\"), and outputs a list of $I_{comp}$(q) values corresponding to the input `qrange`. If the user would like to use crease_ga for his/her own morphology (other than vesicle) and/or analytical model (instead of using Debye scattering equation), the `converttoIQ` method will be the only part of the code that will need to be modified. Let's now take a look at how `converttoIQ` of the vesicle shape is implemented."
   ]
  },
  {
   "cell_type": "markdown",
   "metadata": {},
   "source": [
    "### converttoIQ for vesicle\n",
    "\n",
    "`converttoIQ` as implemented for the vesicle shape takes two steps to obtain the $I_{comp}$(q) for an individual:\n",
    "* Generate scatterer positions based on the parameters of the individual and the shape-specific descriptors (`shape_params`) of the vesicle shape;\n",
    "* Compute $I_{comp}$(q), using Debye scattering equation, from the coordinates of the scatterers.\n",
    "\n",
    "**Scatterer placements**\n",
    "\n",
    "As mentioned in an above section, the essential information for the calculation of $I_{comp}$(q) is the scatterer placements. We calculate the total number of scatterers ($n_{tot}$) to be placed in the vesicle from the shape descriptors, but one could modify the code to instead directly choose $n_{tot}$ to control the scatterer density. For an assembled structure formed from molecules with two (or more) chemistries, the user also inputs the relative compositions for the chemical groups as $f_{A}$ and $f_{B}$ ($f_{C}$, etc. if there are other different species). The choice of the scatterer density appropriate to the assembled structure studied is chosen by the user. One way to obtain an estimate of $n_{tot}$, as shown in this tutorial example for vesicles, is through the molecular information (as defined in `shape_params` during `load_shape`) of the molecules that make up the assembled structure.\n",
    "\n",
    "As a reminder, in the vesicle shape, we specify the following shape descriptors (among others):\n",
    "* Number of scatterers used to represent a chain ($num_{scatterers}$)\n",
    "* Number of monomers in a chain ($N$)\n",
    "* Packing fraction of scatterers in B layer ($\\eta_B$)\n",
    "* Diameter of a monomer of chemistry B ($l_{mono,b}$） [Angstrom]\n",
    "* Fraction of monomers in chain that are of B type ($f_{B}$)\n",
    "* Number of replicates ($n_{LP}$)\n",
    "\n",
    "and the following parameters (among others):\n",
    "* Core radius ($R_{core}$) \n",
    "* Three individual layer thicknesses in the bilayer consisting of the inner solvophilic A layer ($t_{Ain}$), middle solvophobic B layer ($t_{B}$), and the outer solvophilic A layer ($t_{Aout}$) \n",
    "* Split of the solvophilic scatterers between inner and outer layers ($s_{Ain}$)\n",
    "* Dispersity in the core radius dimension ($\\sigma_{R}$)\n",
    "\n",
    "\n",
    "Using these shape descriptors and parameters, let us now determine the number of scatterers to place within each layer ($n_{Ain}$, $n_{B}$ and $n_{Aout}$) in the vesicle wall:\n",
    "\n",
    "1. Get the core radius of a specific replicate ($R_{core,i}$) as the averaged core radius ($R_{core}$) plus/minus the variation in core radius for each replicate ($\\Delta_{R}$). $\\Delta_{R}$ is determined based on the dispersity in $R_{core}$ ($\\sigma_R$). For more detail on the calculation of $\\Delta_{R}$ see reference [5].\n",
    "$$ R_{core,i} = R_{core} + \\Delta_{R} $$\n",
    "\n",
    "1. Get the volume of a monomer bead of chemistry B:\n",
    "$$ V_{M,B} = \\frac{4}{3}\\pi (\\frac{l_{mono,b}}{2})^3 $$\n",
    "\n",
    "1. Calculate the volume of the solvophobic B layer for this replicate:\n",
    "$$ V_{B} = \\frac{4}{3}\\pi \\left[ (R_{core}+t_{Ain}+t_{B})^3 - (R_{core}+t_{Ain})^3 \\right] $$\n",
    "\n",
    "1. Assuming all monomers of chemistry B reside in the middle B layer, get the number of chains/molecules in the structure from the total volume occupied by monomers of chemistry B and volume of each monomer of chemistry B ($V_{M,B}$):\n",
    "$$ N_{chain} = \\frac{\\eta_{B}V_{B}}{Nf_{B}V_{M,B}} $$\n",
    "\n",
    "1. The numbers of A ($n_{A}$) and B ($n_{B}$) scatterers are determined using the composition ($f_{A}$, $f_{B}$) of the respective block in the chain/molecule given by\n",
    "$$ n_{A} = N_{chain} num_{scatterers} f_{A} = N_{chain} num_{scatterers} (1-f_{B}) $$\n",
    "$$ n_{B} = N_{chain} num_{scatterers} f_{B} $$\n",
    "\n",
    "1. The numbers of A scatterers in the inner ($n_{Ain}$) and outer ($n_{Aout}$) solvophilic layers are given by\n",
    "$$ n_{Ain} = n_{A}s_{Ain} $$\n",
    "$$ n_{Aout} = n_{A}(1-s_{Ain}) $$\n",
    "\n",
    "**$s_{Ain}$, the split of the solvophilic scatterers between inner and outer layers, is a parameter that will be determined by the GA, and it is a feature of the vesicle assembly that cannot be readily determined through traditional fittings of scattering profiles with a core-multi-shell model, which can be found in the [SASVIEW package]( https://www.sasview.org/docs/user/models/core_multi_shell.html). The addition and determination of $s_{Ain}$ in CREASE for vesicles offers molecular insight into the distribution of solvophilic monomers between the inner and outer layers in the vesicle wall**. For more details on the `vesicle` shape scatterer generation and parameter determination, please read reference [5].\n",
    "\n",
    "Now using the set of information for the vesicle dimensions and the number of scatterers that go into each layer in the vesicle wall, we can generate the scatterer positions for the vesicle shape by calling the `genLP` and `gen_layer` functions."
   ]
  },
  {
   "cell_type": "markdown",
   "metadata": {},
   "source": [
    "### genLP and gen_layer\n",
    "\n",
    "<img src=\"tutorial_images/code_diagram_sub2_gen.png\" width=600 height=600 />\n",
    "\n",
    "In this example, we get the coordinates for all scatterers in the vesicle with three layers in the wall. \n",
    "\n",
    "For the vesicle system example presented here, the `gen_layer` method places $n_{size}$ number of scatterers randomly within a spherical shell defined by the inner ($r_{in}$) and outer ($r_{out}$) radii, where $n_{size}$ is the corresponding number of A or B type scatterers determined in `converttoIQ` for the given shell or layer.\n",
    "\n",
    "`gen_LP` then calls the `gen_layer` function for each individual layers in the vesicle (in this example, the two solvophilic A and one solvophobic B layers that make up the vesicle membrane) and gathers the scatterer coordinates for the complete vesicle to be passed back to `converttoIQ` for use in calculating the intra-vesicle structure factor $\\omega(q)$."
   ]
  },
  {
   "cell_type": "code",
   "execution_count": null,
   "metadata": {},
   "outputs": [],
   "source": [
    "# optional to run\n",
    "import crease_ga.shapes.vesicle.scatterer_generator as sg\n",
    "print(getsource(sg.gen_layer))\n",
    "print(getsource(sg.genLP))"
   ]
  },
  {
   "cell_type": "markdown",
   "metadata": {},
   "source": [
    "We have a visualization method written up for the vesicle shape to help us see how `genLP` works. Let's generate a scatterer configuration based on a random set of dimensions, and see how the scatterers are arranged in 3D. The visualization is interactive, so the users can zoom in and out as well as rotate the vesicle by dragging with their computer mouse."
   ]
  },
  {
   "cell_type": "code",
   "execution_count": 9,
   "metadata": {},
   "outputs": [
    {
     "data": {
      "application/3dmoljs_load.v0": "<div id=\"3dmolviewer_1631253866935622\"  style=\"position: relative; width: 640px; height: 480px\">\n        <p id=\"3dmolwarning_1631253866935622\" style=\"background-color:#ffcccc;color:black\">You appear to be running in JupyterLab (or JavaScript failed to load for some other reason).  You need to install the 3dmol extension: <br>\n        <tt>jupyter labextension install jupyterlab_3dmol</tt></p>\n        </div>\n<script>\n\nvar loadScriptAsync = function(uri){\n  return new Promise((resolve, reject) => {\n    var tag = document.createElement('script');\n    tag.src = uri;\n    tag.async = true;\n    tag.onload = () => {\n      resolve();\n    };\n  var firstScriptTag = document.getElementsByTagName('script')[0];\n  firstScriptTag.parentNode.insertBefore(tag, firstScriptTag);\n});\n};\n\nif(typeof $3Dmolpromise === 'undefined') {\n$3Dmolpromise = null;\n  $3Dmolpromise = loadScriptAsync('https://3dmol.org/build/3Dmol.js');\n}\n\nvar viewer_1631253866935622 = null;\nvar warn = document.getElementById(\"3dmolwarning_1631253866935622\");\nif(warn) {\n    warn.parentNode.removeChild(warn);\n}\n$3Dmolpromise.then(function() {\nviewer_1631253866935622 = $3Dmol.createViewer($(\"#3dmolviewer_1631253866935622\"),{backgroundColor:\"white\"});\nviewer_1631253866935622.zoomTo();\n\tviewer_1631253866935622.addSphere({\"center\": {\"x\": -8.921298057532189, \"y\": 9.001437431358035, \"z\": -18.617175511238102}, \"radius\": 1.0, \"color\": \"blue\", \"alpha\": 0.9});\n\tviewer_1631253866935622.addSphere({\"center\": {\"x\": -9.904919661006153, \"y\": 20.127790450659717, \"z\": -3.4318384824158095}, \"radius\": 1.0, \"color\": \"blue\", \"alpha\": 0.9});\n\tviewer_1631253866935622.addSphere({\"center\": {\"x\": 21.061409077062766, \"y\": -2.6005361114153143, \"z\": -3.585086355463275}, \"radius\": 1.0, \"color\": \"blue\", \"alpha\": 0.9});\n\tviewer_1631253866935622.addSphere({\"center\": {\"x\": -0.2720582642764508, \"y\": 20.825770367004782, \"z\": -0.5067726980716378}, \"radius\": 1.0, \"color\": \"blue\", \"alpha\": 0.9});\n\tviewer_1631253866935622.addSphere({\"center\": {\"x\": -9.626724462161684, \"y\": 6.1595993811465135, \"z\": 14.74138285249943}, \"radius\": 1.0, \"color\": \"blue\", \"alpha\": 0.9});\n\tviewer_1631253866935622.addSphere({\"center\": {\"x\": 4.568302902255904, \"y\": 14.40865462215227, \"z\": -4.839404014794325}, \"radius\": 1.0, \"color\": \"blue\", \"alpha\": 0.9});\n\tviewer_1631253866935622.addSphere({\"center\": {\"x\": -1.561153817723106, \"y\": -15.217260375082574, \"z\": 3.139389248389126}, \"radius\": 1.0, \"color\": \"blue\", \"alpha\": 0.9});\n\tviewer_1631253866935622.addSphere({\"center\": {\"x\": -10.098486612126415, \"y\": 5.371966867590948, \"z\": -21.195079988859916}, \"radius\": 1.0, \"color\": \"blue\", \"alpha\": 0.9});\n\tviewer_1631253866935622.addSphere({\"center\": {\"x\": -0.36136840521564983, \"y\": -8.18562268629679, \"z\": -24.05316342516803}, \"radius\": 1.0, \"color\": \"blue\", \"alpha\": 0.9});\n\tviewer_1631253866935622.addSphere({\"center\": {\"x\": -16.50870073928852, \"y\": 4.17213496444697, \"z\": 20.57159599597258}, \"radius\": 1.0, \"color\": \"blue\", \"alpha\": 0.9});\n\tviewer_1631253866935622.addSphere({\"center\": {\"x\": -17.597104940092795, \"y\": 10.540928769309364, \"z\": 14.396945123891433}, \"radius\": 1.0, \"color\": \"blue\", \"alpha\": 0.9});\n\tviewer_1631253866935622.addSphere({\"center\": {\"x\": 21.250399280431164, \"y\": -2.8934957100491396, \"z\": -0.9397630519893133}, \"radius\": 1.0, \"color\": \"blue\", \"alpha\": 0.9});\n\tviewer_1631253866935622.addSphere({\"center\": {\"x\": -9.179895170914497, \"y\": 13.110949097396812, \"z\": -9.896175139799475}, \"radius\": 1.0, \"color\": \"blue\", \"alpha\": 0.9});\n\tviewer_1631253866935622.addSphere({\"center\": {\"x\": -5.282304844042428, \"y\": -16.804533887653037, \"z\": -6.842299441167884}, \"radius\": 1.0, \"color\": \"blue\", \"alpha\": 0.9});\n\tviewer_1631253866935622.addSphere({\"center\": {\"x\": -5.9521923715971985, \"y\": -2.4822982640658053, \"z\": -19.1277100583997}, \"radius\": 1.0, \"color\": \"blue\", \"alpha\": 0.9});\n\tviewer_1631253866935622.addSphere({\"center\": {\"x\": -16.4125411936067, \"y\": -18.369510038935417, \"z\": -0.569220720516572}, \"radius\": 1.0, \"color\": \"blue\", \"alpha\": 0.9});\n\tviewer_1631253866935622.addSphere({\"center\": {\"x\": -8.155891808678499, \"y\": 3.8556569377854535, \"z\": 20.90903178697005}, \"radius\": 1.0, \"color\": \"blue\", \"alpha\": 0.9});\n\tviewer_1631253866935622.addSphere({\"center\": {\"x\": 8.699435517530619, \"y\": 12.10045767926503, \"z\": -22.4827849407037}, \"radius\": 1.0, \"color\": \"blue\", \"alpha\": 0.9});\n\tviewer_1631253866935622.addSphere({\"center\": {\"x\": -8.75362950798585, \"y\": -10.325557835594358, \"z\": -21.782184658048628}, \"radius\": 1.0, \"color\": \"blue\", \"alpha\": 0.9});\n\tviewer_1631253866935622.addSphere({\"center\": {\"x\": 5.202953502987199, \"y\": -20.530388385553557, \"z\": 9.13603196877797}, \"radius\": 1.0, \"color\": \"blue\", \"alpha\": 0.9});\n\tviewer_1631253866935622.addSphere({\"center\": {\"x\": 23.7313311852427, \"y\": 8.663130611470029, \"z\": 6.25515851767184}, \"radius\": 1.0, \"color\": \"blue\", \"alpha\": 0.9});\n\tviewer_1631253866935622.addSphere({\"center\": {\"x\": 3.302655632936082, \"y\": -4.858191456816325, \"z\": -15.535746068704933}, \"radius\": 1.0, \"color\": \"blue\", \"alpha\": 0.9});\n\tviewer_1631253866935622.addSphere({\"center\": {\"x\": -6.135774417808953, \"y\": -17.99663936936512, \"z\": 16.259211027206696}, \"radius\": 1.0, \"color\": \"blue\", \"alpha\": 0.9});\n\tviewer_1631253866935622.addSphere({\"center\": {\"x\": -5.128422496857778, \"y\": -3.6723034744377676, \"z\": -17.542429191913126}, \"radius\": 1.0, \"color\": \"blue\", \"alpha\": 0.9});\n\tviewer_1631253866935622.addSphere({\"center\": {\"x\": -3.341877066489126, \"y\": -2.4993957685092822, \"z\": -25.949279736866877}, \"radius\": 1.0, \"color\": \"blue\", \"alpha\": 0.9});\n\tviewer_1631253866935622.addSphere({\"center\": {\"x\": 9.539642478934098, \"y\": 12.181551740345174, \"z\": 11.582109708854649}, \"radius\": 1.0, \"color\": \"blue\", \"alpha\": 0.9});\n\tviewer_1631253866935622.addSphere({\"center\": {\"x\": 7.434794395995464, \"y\": 15.749688589072191, \"z\": 12.466793089174377}, \"radius\": 1.0, \"color\": \"blue\", \"alpha\": 0.9});\n\tviewer_1631253866935622.addSphere({\"center\": {\"x\": 12.214368616843714, \"y\": 7.837701812300481, \"z\": -10.076943904113405}, \"radius\": 1.0, \"color\": \"blue\", \"alpha\": 0.9});\n\tviewer_1631253866935622.addSphere({\"center\": {\"x\": -16.559587535238993, \"y\": -0.9826150807632541, \"z\": -3.3585067132821496}, \"radius\": 1.0, \"color\": \"blue\", \"alpha\": 0.9});\n\tviewer_1631253866935622.addSphere({\"center\": {\"x\": -3.46646332965255, \"y\": 18.155684782183027, \"z\": 7.5432400920010565}, \"radius\": 1.0, \"color\": \"blue\", \"alpha\": 0.9});\n\tviewer_1631253866935622.addSphere({\"center\": {\"x\": -23.19304558181175, \"y\": 4.195013074856572, \"z\": 6.327473770395879}, \"radius\": 1.0, \"color\": \"blue\", \"alpha\": 0.9});\n\tviewer_1631253866935622.addSphere({\"center\": {\"x\": -7.563611514139838, \"y\": 21.46333737996563, \"z\": -5.273999484665497}, \"radius\": 1.0, \"color\": \"blue\", \"alpha\": 0.9});\n\tviewer_1631253866935622.addSphere({\"center\": {\"x\": 11.254576983362375, \"y\": 15.197942511461264, \"z\": -11.590036234782934}, \"radius\": 1.0, \"color\": \"blue\", \"alpha\": 0.9});\n\tviewer_1631253866935622.addSphere({\"center\": {\"x\": 16.006241640370277, \"y\": 1.302978837501997, \"z\": -1.077673742850901}, \"radius\": 1.0, \"color\": \"blue\", \"alpha\": 0.9});\n\tviewer_1631253866935622.addSphere({\"center\": {\"x\": -7.014774880476222, \"y\": -16.590520340111553, \"z\": -18.602835823916614}, \"radius\": 1.0, \"color\": \"blue\", \"alpha\": 0.9});\n\tviewer_1631253866935622.addSphere({\"center\": {\"x\": 25.574160955937497, \"y\": -7.150767641988127, \"z\": -3.6171540388962105}, \"radius\": 1.0, \"color\": \"blue\", \"alpha\": 0.9});\n\tviewer_1631253866935622.addSphere({\"center\": {\"x\": -16.901163995323714, \"y\": -5.417380571943426, \"z\": 14.352105100414603}, \"radius\": 1.0, \"color\": \"blue\", \"alpha\": 0.9});\n\tviewer_1631253866935622.addSphere({\"center\": {\"x\": -6.315651912036961, \"y\": 0.6702255755704613, \"z\": 23.24303825611341}, \"radius\": 1.0, \"color\": \"blue\", \"alpha\": 0.9});\n\tviewer_1631253866935622.addSphere({\"center\": {\"x\": 5.156366878594647, \"y\": -17.886279172317536, \"z\": -5.057159222227643}, \"radius\": 1.0, \"color\": \"blue\", \"alpha\": 0.9});\n\tviewer_1631253866935622.addSphere({\"center\": {\"x\": 3.102030244937931, \"y\": 22.30555625742844, \"z\": -5.355009728411997}, \"radius\": 1.0, \"color\": \"blue\", \"alpha\": 0.9});\n\tviewer_1631253866935622.addSphere({\"center\": {\"x\": -18.79038311306323, \"y\": 12.770256047884482, \"z\": 3.151342645081369}, \"radius\": 1.0, \"color\": \"blue\", \"alpha\": 0.9});\n\tviewer_1631253866935622.addSphere({\"center\": {\"x\": -3.7636071337952774, \"y\": -14.48512968988638, \"z\": 19.314266594276535}, \"radius\": 1.0, \"color\": \"blue\", \"alpha\": 0.9});\n\tviewer_1631253866935622.addSphere({\"center\": {\"x\": 10.628046086327863, \"y\": 10.742520222281309, \"z\": -10.742614790544241}, \"radius\": 1.0, \"color\": \"blue\", \"alpha\": 0.9});\n\tviewer_1631253866935622.addSphere({\"center\": {\"x\": 0.10053895843454906, \"y\": 26.796397575460784, \"z\": 1.3796057301327056}, \"radius\": 1.0, \"color\": \"blue\", \"alpha\": 0.9});\n\tviewer_1631253866935622.addSphere({\"center\": {\"x\": -9.68159872122865, \"y\": 8.507633584858088, \"z\": 13.190113283101407}, \"radius\": 1.0, \"color\": \"blue\", \"alpha\": 0.9});\n\tviewer_1631253866935622.addSphere({\"center\": {\"x\": 10.658433673402344, \"y\": 5.811008010380489, \"z\": 20.643084549475365}, \"radius\": 1.0, \"color\": \"blue\", \"alpha\": 0.9});\n\tviewer_1631253866935622.addSphere({\"center\": {\"x\": 18.238458735052948, \"y\": 14.925381402674935, \"z\": 4.727920015613468}, \"radius\": 1.0, \"color\": \"blue\", \"alpha\": 0.9});\n\tviewer_1631253866935622.addSphere({\"center\": {\"x\": 0.24013671327600355, \"y\": 22.676151393854646, \"z\": 3.2311068757567876}, \"radius\": 1.0, \"color\": \"blue\", \"alpha\": 0.9});\n\tviewer_1631253866935622.addSphere({\"center\": {\"x\": 20.76943033130545, \"y\": -1.354183272343655, \"z\": 12.9108895970126}, \"radius\": 1.0, \"color\": \"blue\", \"alpha\": 0.9});\n\tviewer_1631253866935622.addSphere({\"center\": {\"x\": -15.70809833050384, \"y\": 13.040897059105568, \"z\": 17.513217260936596}, \"radius\": 1.0, \"color\": \"blue\", \"alpha\": 0.9});\n\tviewer_1631253866935622.addSphere({\"center\": {\"x\": 18.981612768226736, \"y\": -13.062336313690311, \"z\": 12.305770717671036}, \"radius\": 1.0, \"color\": \"blue\", \"alpha\": 0.9});\n\tviewer_1631253866935622.addSphere({\"center\": {\"x\": 20.646068347271335, \"y\": -13.925292102309275, \"z\": 3.850503902816274}, \"radius\": 1.0, \"color\": \"blue\", \"alpha\": 0.9});\n\tviewer_1631253866935622.addSphere({\"center\": {\"x\": 8.020070632747828, \"y\": 18.909871677445278, \"z\": 14.046163729901517}, \"radius\": 1.0, \"color\": \"blue\", \"alpha\": 0.9});\n\tviewer_1631253866935622.addSphere({\"center\": {\"x\": 20.170384742593377, \"y\": -3.2259287857461714, \"z\": 10.150541289150496}, \"radius\": 1.0, \"color\": \"blue\", \"alpha\": 0.9});\n\tviewer_1631253866935622.addSphere({\"center\": {\"x\": 17.504520038964582, \"y\": 6.017021157208769, \"z\": 13.359365202492919}, \"radius\": 1.0, \"color\": \"blue\", \"alpha\": 0.9});\n\tviewer_1631253866935622.addSphere({\"center\": {\"x\": -8.493026111937162, \"y\": 6.511718876339479, \"z\": -18.648203728776988}, \"radius\": 1.0, \"color\": \"blue\", \"alpha\": 0.9});\n\tviewer_1631253866935622.addSphere({\"center\": {\"x\": 24.013323232405, \"y\": 7.995038491899399, \"z\": -3.883491298861938}, \"radius\": 1.0, \"color\": \"blue\", \"alpha\": 0.9});\n\tviewer_1631253866935622.addSphere({\"center\": {\"x\": -1.0146009618488008, \"y\": 19.99536478860547, \"z\": -1.6525084172683835}, \"radius\": 1.0, \"color\": \"blue\", \"alpha\": 0.9});\n\tviewer_1631253866935622.addSphere({\"center\": {\"x\": -13.133220953980139, \"y\": 2.4579077239739187, \"z\": -16.70325325180601}, \"radius\": 1.0, \"color\": \"blue\", \"alpha\": 0.9});\n\tviewer_1631253866935622.addSphere({\"center\": {\"x\": -10.803272622609672, \"y\": 8.44130077806463, \"z\": 23.09681128214472}, \"radius\": 1.0, \"color\": \"blue\", \"alpha\": 0.9});\n\tviewer_1631253866935622.addSphere({\"center\": {\"x\": 10.809669673397675, \"y\": 6.6889970159047465, \"z\": -12.789011807014807}, \"radius\": 1.0, \"color\": \"blue\", \"alpha\": 0.9});\n\tviewer_1631253866935622.addSphere({\"center\": {\"x\": 9.033753506133527, \"y\": -17.459605627711912, \"z\": -11.242521122334916}, \"radius\": 1.0, \"color\": \"blue\", \"alpha\": 0.9});\n\tviewer_1631253866935622.addSphere({\"center\": {\"x\": 3.5296432894335688, \"y\": 6.166963106230479, \"z\": -16.217051238379355}, \"radius\": 1.0, \"color\": \"blue\", \"alpha\": 0.9});\n\tviewer_1631253866935622.addSphere({\"center\": {\"x\": -17.020407915146627, \"y\": 2.7821123047050222, \"z\": 17.265541077428317}, \"radius\": 1.0, \"color\": \"blue\", \"alpha\": 0.9});\n\tviewer_1631253866935622.addSphere({\"center\": {\"x\": 12.68496828879669, \"y\": 13.79130395089184, \"z\": 17.58785512091327}, \"radius\": 1.0, \"color\": \"blue\", \"alpha\": 0.9});\n\tviewer_1631253866935622.addSphere({\"center\": {\"x\": 4.397947871430217, \"y\": 3.35598387757849, \"z\": -17.974875567235344}, \"radius\": 1.0, \"color\": \"blue\", \"alpha\": 0.9});\n\tviewer_1631253866935622.addSphere({\"center\": {\"x\": -22.038815315822866, \"y\": -7.963241862905751, \"z\": -7.397941043391576}, \"radius\": 1.0, \"color\": \"blue\", \"alpha\": 0.9});\n\tviewer_1631253866935622.addSphere({\"center\": {\"x\": -7.089485252843811, \"y\": 10.76063895809427, \"z\": 23.242187856702937}, \"radius\": 1.0, \"color\": \"blue\", \"alpha\": 0.9});\n\tviewer_1631253866935622.addSphere({\"center\": {\"x\": 2.516435178172582, \"y\": -25.407068551442276, \"z\": 5.469090423611727}, \"radius\": 1.0, \"color\": \"blue\", \"alpha\": 0.9});\n\tviewer_1631253866935622.addSphere({\"center\": {\"x\": 13.289314681950819, \"y\": 2.164253748999126, \"z\": 22.246179552271716}, \"radius\": 1.0, \"color\": \"blue\", \"alpha\": 0.9});\n\tviewer_1631253866935622.addSphere({\"center\": {\"x\": -13.642359733902344, \"y\": 10.203222195177164, \"z\": -4.992189310180289}, \"radius\": 1.0, \"color\": \"blue\", \"alpha\": 0.9});\n\tviewer_1631253866935622.addSphere({\"center\": {\"x\": 18.144039510755306, \"y\": -0.08769087680922703, \"z\": -0.7380961679986419}, \"radius\": 1.0, \"color\": \"blue\", \"alpha\": 0.9});\n\tviewer_1631253866935622.addSphere({\"center\": {\"x\": -7.873434406972633, \"y\": 10.193214223990946, \"z\": 11.802434271206039}, \"radius\": 1.0, \"color\": \"blue\", \"alpha\": 0.9});\n\tviewer_1631253866935622.addSphere({\"center\": {\"x\": -8.52961797231958, \"y\": 9.718301845823909, \"z\": -18.788051560191136}, \"radius\": 1.0, \"color\": \"blue\", \"alpha\": 0.9});\n\tviewer_1631253866935622.addSphere({\"center\": {\"x\": 8.918911698615045, \"y\": -6.505225590062785, \"z\": -18.27217752998512}, \"radius\": 1.0, \"color\": \"blue\", \"alpha\": 0.9});\n\tviewer_1631253866935622.addSphere({\"center\": {\"x\": 12.881544639337775, \"y\": -21.827793625260696, \"z\": 7.632952276508627}, \"radius\": 1.0, \"color\": \"blue\", \"alpha\": 0.9});\n\tviewer_1631253866935622.addSphere({\"center\": {\"x\": -19.595891917730732, \"y\": 9.49073182692349, \"z\": 12.273266128138632}, \"radius\": 1.0, \"color\": \"blue\", \"alpha\": 0.9});\n\tviewer_1631253866935622.addSphere({\"center\": {\"x\": 15.681621248573789, \"y\": 3.071157259302162, \"z\": 20.059172207378527}, \"radius\": 1.0, \"color\": \"blue\", \"alpha\": 0.9});\n\tviewer_1631253866935622.addSphere({\"center\": {\"x\": 22.67517601061029, \"y\": -13.669503982805079, \"z\": 4.033641291224398}, \"radius\": 1.0, \"color\": \"blue\", \"alpha\": 0.9});\n\tviewer_1631253866935622.addSphere({\"center\": {\"x\": 7.229497206520368, \"y\": -4.515870365450516, \"z\": -24.456694494888602}, \"radius\": 1.0, \"color\": \"blue\", \"alpha\": 0.9});\n\tviewer_1631253866935622.addSphere({\"center\": {\"x\": 11.576114308682524, \"y\": 18.872751543488004, \"z\": -6.533524341560613}, \"radius\": 1.0, \"color\": \"blue\", \"alpha\": 0.9});\n\tviewer_1631253866935622.addSphere({\"center\": {\"x\": -17.65204968099756, \"y\": 10.973266400011616, \"z\": -11.640956917935844}, \"radius\": 1.0, \"color\": \"blue\", \"alpha\": 0.9});\n\tviewer_1631253866935622.addSphere({\"center\": {\"x\": 0.28711481784592796, \"y\": -6.373800360168833, \"z\": 13.64590699754508}, \"radius\": 1.0, \"color\": \"blue\", \"alpha\": 0.9});\n\tviewer_1631253866935622.addSphere({\"center\": {\"x\": -0.6584375435724745, \"y\": 19.007947345127683, \"z\": 15.847513521853642}, \"radius\": 1.0, \"color\": \"blue\", \"alpha\": 0.9});\n\tviewer_1631253866935622.addSphere({\"center\": {\"x\": -20.88341374344619, \"y\": 3.7111902298397994, \"z\": -11.804660187010374}, \"radius\": 1.0, \"color\": \"blue\", \"alpha\": 0.9});\n\tviewer_1631253866935622.addSphere({\"center\": {\"x\": 12.42804827853995, \"y\": -11.757255221868038, \"z\": 11.016989079771546}, \"radius\": 1.0, \"color\": \"blue\", \"alpha\": 0.9});\n\tviewer_1631253866935622.addSphere({\"center\": {\"x\": -13.339451441759502, \"y\": -10.949600525408798, \"z\": -3.029524330169426}, \"radius\": 1.0, \"color\": \"blue\", \"alpha\": 0.9});\n\tviewer_1631253866935622.addSphere({\"center\": {\"x\": 0.9388669224438618, \"y\": -12.195413245760545, \"z\": -21.020624082709045}, \"radius\": 1.0, \"color\": \"blue\", \"alpha\": 0.9});\n\tviewer_1631253866935622.addSphere({\"center\": {\"x\": -1.9534743677181583, \"y\": 7.0939967889887505, \"z\": -23.39804966235953}, \"radius\": 1.0, \"color\": \"blue\", \"alpha\": 0.9});\n\tviewer_1631253866935622.addSphere({\"center\": {\"x\": -3.7931153166963196, \"y\": 22.46055120879993, \"z\": -8.988623743704448}, \"radius\": 1.0, \"color\": \"blue\", \"alpha\": 0.9});\n\tviewer_1631253866935622.addSphere({\"center\": {\"x\": 6.20654251567518, \"y\": -11.429296244047185, \"z\": 16.20979009953343}, \"radius\": 1.0, \"color\": \"blue\", \"alpha\": 0.9});\n\tviewer_1631253866935622.addSphere({\"center\": {\"x\": 4.503481106987668, \"y\": -5.363343063269732, \"z\": -20.096253357562368}, \"radius\": 1.0, \"color\": \"blue\", \"alpha\": 0.9});\n\tviewer_1631253866935622.addSphere({\"center\": {\"x\": 5.225294249058014, \"y\": 15.302591287976075, \"z\": 7.812095669655552}, \"radius\": 1.0, \"color\": \"blue\", \"alpha\": 0.9});\n\tviewer_1631253866935622.addSphere({\"center\": {\"x\": 16.993102031696427, \"y\": 9.044415194658727, \"z\": -9.451364303217385}, \"radius\": 1.0, \"color\": \"blue\", \"alpha\": 0.9});\n\tviewer_1631253866935622.addSphere({\"center\": {\"x\": 7.494414319565503, \"y\": -7.074134178806761, \"z\": -21.91149552909617}, \"radius\": 1.0, \"color\": \"blue\", \"alpha\": 0.9});\n\tviewer_1631253866935622.addSphere({\"center\": {\"x\": -3.214483811065151, \"y\": 2.7391573731591676, \"z\": -18.36957210912573}, \"radius\": 1.0, \"color\": \"blue\", \"alpha\": 0.9});\n\tviewer_1631253866935622.addSphere({\"center\": {\"x\": 13.354211790613546, \"y\": -5.5890038378518545, \"z\": 16.793903848371656}, \"radius\": 1.0, \"color\": \"blue\", \"alpha\": 0.9});\n\tviewer_1631253866935622.addSphere({\"center\": {\"x\": 16.566618309554446, \"y\": -11.365040633272175, \"z\": 16.918658285721772}, \"radius\": 1.0, \"color\": \"blue\", \"alpha\": 0.9});\n\tviewer_1631253866935622.addSphere({\"center\": {\"x\": 5.546796588085035, \"y\": -3.301199105174876, \"z\": -18.26214527484113}, \"radius\": 1.0, \"color\": \"blue\", \"alpha\": 0.9});\n\tviewer_1631253866935622.addSphere({\"center\": {\"x\": -15.370530925999688, \"y\": -5.005404456943341, \"z\": -11.102568375147712}, \"radius\": 1.0, \"color\": \"blue\", \"alpha\": 0.9});\n\tviewer_1631253866935622.addSphere({\"center\": {\"x\": 20.11176747968505, \"y\": 8.600843006668745, \"z\": -6.8408202962976405}, \"radius\": 1.0, \"color\": \"blue\", \"alpha\": 0.9});\n\tviewer_1631253866935622.addSphere({\"center\": {\"x\": -12.658262699744723, \"y\": 10.814991320010787, \"z\": 17.346516174964126}, \"radius\": 1.0, \"color\": \"blue\", \"alpha\": 0.9});\n\tviewer_1631253866935622.addSphere({\"center\": {\"x\": 14.618524766387532, \"y\": 17.05102867127868, \"z\": 4.992052988530131}, \"radius\": 1.0, \"color\": \"blue\", \"alpha\": 0.9});\n\tviewer_1631253866935622.addSphere({\"center\": {\"x\": 16.764524255663716, \"y\": 1.9982412980458781, \"z\": -9.264700761535623}, \"radius\": 1.0, \"color\": \"blue\", \"alpha\": 0.9});\n\tviewer_1631253866935622.addSphere({\"center\": {\"x\": 15.98508147828083, \"y\": 11.72906429227554, \"z\": -6.2944413042846525}, \"radius\": 1.0, \"color\": \"blue\", \"alpha\": 0.9});\n\tviewer_1631253866935622.addSphere({\"center\": {\"x\": -16.71607338643185, \"y\": -7.678900748012878, \"z\": -1.7284871671166318}, \"radius\": 1.0, \"color\": \"blue\", \"alpha\": 0.9});\n\tviewer_1631253866935622.addSphere({\"center\": {\"x\": -8.864257643074204, \"y\": 9.704371307294975, \"z\": -7.860171640438176}, \"radius\": 1.0, \"color\": \"blue\", \"alpha\": 0.9});\n\tviewer_1631253866935622.addSphere({\"center\": {\"x\": -0.9816185243008594, \"y\": -17.570662160182522, \"z\": 8.330340568671485}, \"radius\": 1.0, \"color\": \"blue\", \"alpha\": 0.9});\n\tviewer_1631253866935622.addSphere({\"center\": {\"x\": 10.929027817884677, \"y\": -1.4964028584771882, \"z\": -15.225823774371355}, \"radius\": 1.0, \"color\": \"blue\", \"alpha\": 0.9});\n\tviewer_1631253866935622.addSphere({\"center\": {\"x\": -10.638874562346544, \"y\": 15.537515823375214, \"z\": -4.352053326955473}, \"radius\": 1.0, \"color\": \"blue\", \"alpha\": 0.9});\n\tviewer_1631253866935622.addSphere({\"center\": {\"x\": 6.325178446267715, \"y\": 16.698356832831966, \"z\": 10.430131591438403}, \"radius\": 1.0, \"color\": \"blue\", \"alpha\": 0.9});\n\tviewer_1631253866935622.addSphere({\"center\": {\"x\": 10.632623941157577, \"y\": -6.667321845266092, \"z\": 23.50660154667025}, \"radius\": 1.0, \"color\": \"blue\", \"alpha\": 0.9});\n\tviewer_1631253866935622.addSphere({\"center\": {\"x\": 3.651164099348351, \"y\": -4.409595405742825, \"z\": 19.49809119977319}, \"radius\": 1.0, \"color\": \"blue\", \"alpha\": 0.9});\n\tviewer_1631253866935622.addSphere({\"center\": {\"x\": -8.179222133884434, \"y\": -1.6364442725308674, \"z\": -13.80762296071518}, \"radius\": 1.0, \"color\": \"blue\", \"alpha\": 0.9});\n\tviewer_1631253866935622.addSphere({\"center\": {\"x\": -14.083242938971818, \"y\": 12.27456030827922, \"z\": -11.080854736605266}, \"radius\": 1.0, \"color\": \"blue\", \"alpha\": 0.9});\n\tviewer_1631253866935622.addSphere({\"center\": {\"x\": -0.8760840756766382, \"y\": -17.458142551173193, \"z\": -7.591256522352473}, \"radius\": 1.0, \"color\": \"blue\", \"alpha\": 0.9});\n\tviewer_1631253866935622.addSphere({\"center\": {\"x\": 19.596430688126237, \"y\": -4.5400388495098944, \"z\": -2.529405716872207}, \"radius\": 1.0, \"color\": \"blue\", \"alpha\": 0.9});\n\tviewer_1631253866935622.addSphere({\"center\": {\"x\": -10.276327220572815, \"y\": 7.687286736834459, \"z\": -19.337246029430347}, \"radius\": 1.0, \"color\": \"blue\", \"alpha\": 0.9});\n\tviewer_1631253866935622.addSphere({\"center\": {\"x\": -12.70499581980032, \"y\": 18.51362981548525, \"z\": 0.003126839523067121}, \"radius\": 1.0, \"color\": \"blue\", \"alpha\": 0.9});\n\tviewer_1631253866935622.addSphere({\"center\": {\"x\": -5.734009309138546, \"y\": -16.446342994350875, \"z\": 18.150680252269986}, \"radius\": 1.0, \"color\": \"blue\", \"alpha\": 0.9});\n\tviewer_1631253866935622.addSphere({\"center\": {\"x\": -7.833731026811471, \"y\": -8.741936613045018, \"z\": 13.048341669570794}, \"radius\": 1.0, \"color\": \"blue\", \"alpha\": 0.9});\n\tviewer_1631253866935622.addSphere({\"center\": {\"x\": 8.615000564562687, \"y\": 18.423779351288747, \"z\": 0.3133929818977771}, \"radius\": 1.0, \"color\": \"blue\", \"alpha\": 0.9});\n\tviewer_1631253866935622.addSphere({\"center\": {\"x\": 3.979383394461123, \"y\": 22.626750197960625, \"z\": -1.5718841615559995}, \"radius\": 1.0, \"color\": \"blue\", \"alpha\": 0.9});\n\tviewer_1631253866935622.addSphere({\"center\": {\"x\": 11.94153320467697, \"y\": 7.507933890245884, \"z\": 8.865386033900235}, \"radius\": 1.0, \"color\": \"blue\", \"alpha\": 0.9});\n\tviewer_1631253866935622.addSphere({\"center\": {\"x\": 9.93298622145668, \"y\": -8.327277096905705, \"z\": -23.448735481135582}, \"radius\": 1.0, \"color\": \"blue\", \"alpha\": 0.9});\n\tviewer_1631253866935622.addSphere({\"center\": {\"x\": 16.10675839208193, \"y\": 19.6041371179481, \"z\": -8.937473166932586}, \"radius\": 1.0, \"color\": \"blue\", \"alpha\": 0.9});\n\tviewer_1631253866935622.addSphere({\"center\": {\"x\": -19.89789329075953, \"y\": -1.5785495795172082, \"z\": -0.7068879083597923}, \"radius\": 1.0, \"color\": \"blue\", \"alpha\": 0.9});\n\tviewer_1631253866935622.addSphere({\"center\": {\"x\": 1.5665514016335322, \"y\": -8.695468381446886, \"z\": -12.29550416440676}, \"radius\": 1.0, \"color\": \"blue\", \"alpha\": 0.9});\n\tviewer_1631253866935622.addSphere({\"center\": {\"x\": 11.16612837547442, \"y\": -7.99488459677767, \"z\": 18.702384822099965}, \"radius\": 1.0, \"color\": \"blue\", \"alpha\": 0.9});\n\tviewer_1631253866935622.addSphere({\"center\": {\"x\": -6.953458378113244, \"y\": 20.86548878637204, \"z\": -5.682156557418868}, \"radius\": 1.0, \"color\": \"blue\", \"alpha\": 0.9});\n\tviewer_1631253866935622.addSphere({\"center\": {\"x\": -25.60298794783152, \"y\": 2.2689449701614466, \"z\": -0.2450880470607606}, \"radius\": 1.0, \"color\": \"blue\", \"alpha\": 0.9});\n\tviewer_1631253866935622.addSphere({\"center\": {\"x\": 10.39090091086644, \"y\": 20.280650989300273, \"z\": -0.7955461019989956}, \"radius\": 1.0, \"color\": \"blue\", \"alpha\": 0.9});\n\tviewer_1631253866935622.addSphere({\"center\": {\"x\": 15.39879504670202, \"y\": -6.467852401954496, \"z\": -19.131612949205206}, \"radius\": 1.0, \"color\": \"blue\", \"alpha\": 0.9});\n\tviewer_1631253866935622.addSphere({\"center\": {\"x\": -17.104699742008457, \"y\": 14.590649037353083, \"z\": 3.6056941143022674}, \"radius\": 1.0, \"color\": \"blue\", \"alpha\": 0.9});\n\tviewer_1631253866935622.addSphere({\"center\": {\"x\": 2.176351425185268, \"y\": 24.029326011547795, \"z\": -8.577091873179551}, \"radius\": 1.0, \"color\": \"blue\", \"alpha\": 0.9});\n\tviewer_1631253866935622.addSphere({\"center\": {\"x\": -16.269348322689485, \"y\": -16.10819462416352, \"z\": -11.773725695457253}, \"radius\": 1.0, \"color\": \"blue\", \"alpha\": 0.9});\n\tviewer_1631253866935622.addSphere({\"center\": {\"x\": 5.0653315552093, \"y\": -5.554627854126261, \"z\": 17.85069540292888}, \"radius\": 1.0, \"color\": \"blue\", \"alpha\": 0.9});\n\tviewer_1631253866935622.addSphere({\"center\": {\"x\": 5.864808992285488, \"y\": -9.337998579754201, \"z\": -18.779968623167058}, \"radius\": 1.0, \"color\": \"blue\", \"alpha\": 0.9});\n\tviewer_1631253866935622.addSphere({\"center\": {\"x\": 12.768379708305643, \"y\": -18.622298468945683, \"z\": -2.9591448487774885}, \"radius\": 1.0, \"color\": \"blue\", \"alpha\": 0.9});\n\tviewer_1631253866935622.addSphere({\"center\": {\"x\": -21.180981437434948, \"y\": 2.5492004621346624, \"z\": 3.6346356838096017}, \"radius\": 1.0, \"color\": \"blue\", \"alpha\": 0.9});\n\tviewer_1631253866935622.addSphere({\"center\": {\"x\": 2.3805564002753594, \"y\": 12.03247519550447, \"z\": 16.736767458785568}, \"radius\": 1.0, \"color\": \"blue\", \"alpha\": 0.9});\n\tviewer_1631253866935622.addSphere({\"center\": {\"x\": 19.895201481366357, \"y\": -2.1437044911150176, \"z\": -5.3354680748973875}, \"radius\": 1.0, \"color\": \"blue\", \"alpha\": 0.9});\n\tviewer_1631253866935622.addSphere({\"center\": {\"x\": 11.600836538404485, \"y\": -11.271964708027157, \"z\": -16.98150120378385}, \"radius\": 1.0, \"color\": \"blue\", \"alpha\": 0.9});\n\tviewer_1631253866935622.addSphere({\"center\": {\"x\": 10.907321451101888, \"y\": 23.002941076705284, \"z\": 1.0422681966497784}, \"radius\": 1.0, \"color\": \"blue\", \"alpha\": 0.9});\n\tviewer_1631253866935622.addSphere({\"center\": {\"x\": -0.26008082157235846, \"y\": -15.47683229488225, \"z\": -9.346199910413784}, \"radius\": 1.0, \"color\": \"blue\", \"alpha\": 0.9});\n\tviewer_1631253866935622.addSphere({\"center\": {\"x\": -18.35951736309081, \"y\": -6.447241124392873, \"z\": -17.103053903836656}, \"radius\": 1.0, \"color\": \"blue\", \"alpha\": 0.9});\n\tviewer_1631253866935622.addSphere({\"center\": {\"x\": 3.168210655448373, \"y\": 19.702056430692757, \"z\": -7.763715825377365}, \"radius\": 1.0, \"color\": \"blue\", \"alpha\": 0.9});\n\tviewer_1631253866935622.addSphere({\"center\": {\"x\": 21.682308490756167, \"y\": -12.341216370838675, \"z\": 10.254331642770934}, \"radius\": 1.0, \"color\": \"blue\", \"alpha\": 0.9});\n\tviewer_1631253866935622.addSphere({\"center\": {\"x\": -9.636855726942292, \"y\": 7.4569580843277175, \"z\": 9.75807925352728}, \"radius\": 1.0, \"color\": \"blue\", \"alpha\": 0.9});\n\tviewer_1631253866935622.addSphere({\"center\": {\"x\": -11.698215496186663, \"y\": 8.449585188362494, \"z\": 17.13129179076117}, \"radius\": 1.0, \"color\": \"blue\", \"alpha\": 0.9});\n\tviewer_1631253866935622.addSphere({\"center\": {\"x\": -7.7249079924716515, \"y\": 16.20949818077247, \"z\": -4.342827003766591}, \"radius\": 1.0, \"color\": \"blue\", \"alpha\": 0.9});\n\tviewer_1631253866935622.addSphere({\"center\": {\"x\": 3.916077167956673, \"y\": -14.68586768877703, \"z\": 8.242360439161825}, \"radius\": 1.0, \"color\": \"blue\", \"alpha\": 0.9});\n\tviewer_1631253866935622.addSphere({\"center\": {\"x\": 12.019317980011841, \"y\": -10.86874996964273, \"z\": -10.453835025928004}, \"radius\": 1.0, \"color\": \"blue\", \"alpha\": 0.9});\n\tviewer_1631253866935622.addSphere({\"center\": {\"x\": -22.305394380160145, \"y\": -9.673578518418886, \"z\": 7.798724498277024}, \"radius\": 1.0, \"color\": \"blue\", \"alpha\": 0.9});\n\tviewer_1631253866935622.addSphere({\"center\": {\"x\": -17.958766245096943, \"y\": -10.496459959355255, \"z\": -2.4002544155901457}, \"radius\": 1.0, \"color\": \"blue\", \"alpha\": 0.9});\n\tviewer_1631253866935622.addSphere({\"center\": {\"x\": 3.8817896677201653, \"y\": -19.344212855205914, \"z\": 7.012124162947911}, \"radius\": 1.0, \"color\": \"blue\", \"alpha\": 0.9});\n\tviewer_1631253866935622.addSphere({\"center\": {\"x\": 2.084797746528607, \"y\": -14.931160894692056, \"z\": -3.8285222979232065}, \"radius\": 1.0, \"color\": \"blue\", \"alpha\": 0.9});\n\tviewer_1631253866935622.addSphere({\"center\": {\"x\": 1.4030377853888585, \"y\": 9.610870889506428, \"z\": -15.934745582846222}, \"radius\": 1.0, \"color\": \"blue\", \"alpha\": 0.9});\n\tviewer_1631253866935622.addSphere({\"center\": {\"x\": 5.992544973855502, \"y\": -8.814948833439983, \"z\": 23.91259803091203}, \"radius\": 1.0, \"color\": \"blue\", \"alpha\": 0.9});\n\tviewer_1631253866935622.addSphere({\"center\": {\"x\": -14.22590421798192, \"y\": 4.2876703848029525, \"z\": 2.89373596973572}, \"radius\": 1.0, \"color\": \"blue\", \"alpha\": 0.9});\n\tviewer_1631253866935622.addSphere({\"center\": {\"x\": -13.004481463884257, \"y\": -15.213481320366933, \"z\": 12.373137158240507}, \"radius\": 1.0, \"color\": \"blue\", \"alpha\": 0.9});\n\tviewer_1631253866935622.addSphere({\"center\": {\"x\": 25.180420895860937, \"y\": 2.332230525341104, \"z\": -4.63194118089805}, \"radius\": 1.0, \"color\": \"blue\", \"alpha\": 0.9});\n\tviewer_1631253866935622.addSphere({\"center\": {\"x\": -5.947068939349555, \"y\": 19.53424428001586, \"z\": -10.423971057756345}, \"radius\": 1.0, \"color\": \"blue\", \"alpha\": 0.9});\n\tviewer_1631253866935622.addSphere({\"center\": {\"x\": -20.44523629098999, \"y\": -7.602127572678811, \"z\": 7.413663946878926}, \"radius\": 1.0, \"color\": \"blue\", \"alpha\": 0.9});\n\tviewer_1631253866935622.addSphere({\"center\": {\"x\": -2.168257637657087, \"y\": 12.377127309023674, \"z\": 21.477751868294774}, \"radius\": 1.0, \"color\": \"blue\", \"alpha\": 0.9});\n\tviewer_1631253866935622.addSphere({\"center\": {\"x\": -5.304984144404589, \"y\": -18.031465407816825, \"z\": -2.47516542498456}, \"radius\": 1.0, \"color\": \"blue\", \"alpha\": 0.9});\n\tviewer_1631253866935622.addSphere({\"center\": {\"x\": 0.07073985796401835, \"y\": 0.874584259601967, \"z\": 15.113181454088002}, \"radius\": 1.0, \"color\": \"blue\", \"alpha\": 0.9});\n\tviewer_1631253866935622.addSphere({\"center\": {\"x\": 19.299239691159716, \"y\": 10.363254108738376, \"z\": 5.1871606436728515}, \"radius\": 1.0, \"color\": \"blue\", \"alpha\": 0.9});\n\tviewer_1631253866935622.addSphere({\"center\": {\"x\": -2.5745134800493576, \"y\": 16.07299205026399, \"z\": -11.767107655074108}, \"radius\": 1.0, \"color\": \"blue\", \"alpha\": 0.9});\n\tviewer_1631253866935622.addSphere({\"center\": {\"x\": -13.12786962444973, \"y\": 7.49058434530224, \"z\": 10.821460705657756}, \"radius\": 1.0, \"color\": \"blue\", \"alpha\": 0.9});\n\tviewer_1631253866935622.addSphere({\"center\": {\"x\": 3.0772280818314375, \"y\": 22.56619999647288, \"z\": 7.976907677337234}, \"radius\": 1.0, \"color\": \"blue\", \"alpha\": 0.9});\n\tviewer_1631253866935622.addSphere({\"center\": {\"x\": -6.1880013005482475, \"y\": -8.640003102638795, \"z\": 15.477142698158367}, \"radius\": 1.0, \"color\": \"blue\", \"alpha\": 0.9});\n\tviewer_1631253866935622.addSphere({\"center\": {\"x\": -2.0496932409393964, \"y\": 10.644240817502823, \"z\": -19.094290566923704}, \"radius\": 1.0, \"color\": \"blue\", \"alpha\": 0.9});\n\tviewer_1631253866935622.addSphere({\"center\": {\"x\": 11.181330320104856, \"y\": 15.845633646858571, \"z\": -1.6469640681345419}, \"radius\": 1.0, \"color\": \"blue\", \"alpha\": 0.9});\n\tviewer_1631253866935622.addSphere({\"center\": {\"x\": -7.567020243251397, \"y\": -15.227016730447959, \"z\": -16.744151025701292}, \"radius\": 1.0, \"color\": \"blue\", \"alpha\": 0.9});\n\tviewer_1631253866935622.addSphere({\"center\": {\"x\": 13.453388697873867, \"y\": -8.9606997048395, \"z\": -3.6725705150804644}, \"radius\": 1.0, \"color\": \"blue\", \"alpha\": 0.9});\n\tviewer_1631253866935622.addSphere({\"center\": {\"x\": -2.330385282023502, \"y\": -1.5500564794697838, \"z\": -26.78848365662198}, \"radius\": 1.0, \"color\": \"blue\", \"alpha\": 0.9});\n\tviewer_1631253866935622.addSphere({\"center\": {\"x\": -2.404176882359864, \"y\": 18.352002882142564, \"z\": -10.924764863825676}, \"radius\": 1.0, \"color\": \"blue\", \"alpha\": 0.9});\n\tviewer_1631253866935622.addSphere({\"center\": {\"x\": 6.340601554165551, \"y\": -13.254084677448013, \"z\": -3.6073096558166773}, \"radius\": 1.0, \"color\": \"blue\", \"alpha\": 0.9});\n\tviewer_1631253866935622.addSphere({\"center\": {\"x\": 15.99249828702138, \"y\": -17.087700638325874, \"z\": 8.650017149416819}, \"radius\": 1.0, \"color\": \"blue\", \"alpha\": 0.9});\n\tviewer_1631253866935622.addSphere({\"center\": {\"x\": -22.21325109708542, \"y\": -3.055868818742475, \"z\": 2.380461010691521}, \"radius\": 1.0, \"color\": \"blue\", \"alpha\": 0.9});\n\tviewer_1631253866935622.addSphere({\"center\": {\"x\": -3.236371966496799, \"y\": -16.214775109849214, \"z\": -0.962090573805857}, \"radius\": 1.0, \"color\": \"blue\", \"alpha\": 0.9});\n\tviewer_1631253866935622.addSphere({\"center\": {\"x\": 0.4766591481364932, \"y\": -4.139030086086518, \"z\": 21.56086101154469}, \"radius\": 1.0, \"color\": \"blue\", \"alpha\": 0.9});\n\tviewer_1631253866935622.addSphere({\"center\": {\"x\": -9.247521224067853, \"y\": 6.574609750153085, \"z\": -19.955613380225913}, \"radius\": 1.0, \"color\": \"blue\", \"alpha\": 0.9});\n\tviewer_1631253866935622.addSphere({\"center\": {\"x\": -24.76100893884084, \"y\": 2.8435811702909812, \"z\": -9.949205963108746}, \"radius\": 1.0, \"color\": \"blue\", \"alpha\": 0.9});\n\tviewer_1631253866935622.addSphere({\"center\": {\"x\": -13.78633437388835, \"y\": 1.6137647525327117, \"z\": -14.560623403820463}, \"radius\": 1.0, \"color\": \"blue\", \"alpha\": 0.9});\n\tviewer_1631253866935622.addSphere({\"center\": {\"x\": 0.673282427499324, \"y\": -17.864384935148312, \"z\": -15.606203066816837}, \"radius\": 1.0, \"color\": \"blue\", \"alpha\": 0.9});\n\tviewer_1631253866935622.addSphere({\"center\": {\"x\": -19.77125678759615, \"y\": 7.178101190841889, \"z\": 0.4131790771201899}, \"radius\": 1.0, \"color\": \"blue\", \"alpha\": 0.9});\n\tviewer_1631253866935622.addSphere({\"center\": {\"x\": -17.221999354321394, \"y\": -10.647884915709055, \"z\": 17.377117021486175}, \"radius\": 1.0, \"color\": \"blue\", \"alpha\": 0.9});\n\tviewer_1631253866935622.addSphere({\"center\": {\"x\": 12.653495201491177, \"y\": 13.157834204471252, \"z\": 0.35918465118769194}, \"radius\": 1.0, \"color\": \"blue\", \"alpha\": 0.9});\n\tviewer_1631253866935622.addSphere({\"center\": {\"x\": -1.6275059018526286, \"y\": -15.830501401345563, \"z\": 2.855500663088815}, \"radius\": 1.0, \"color\": \"blue\", \"alpha\": 0.9});\n\tviewer_1631253866935622.addSphere({\"center\": {\"x\": -22.886571124849567, \"y\": 7.081237836550878, \"z\": -8.795562820990718}, \"radius\": 1.0, \"color\": \"blue\", \"alpha\": 0.9});\n\tviewer_1631253866935622.addSphere({\"center\": {\"x\": -12.404412386151334, \"y\": -3.64261088913143, \"z\": -17.432381123606397}, \"radius\": 1.0, \"color\": \"blue\", \"alpha\": 0.9});\n\tviewer_1631253866935622.addSphere({\"center\": {\"x\": -4.250134363082427, \"y\": 16.504692468831106, \"z\": 9.479229950052977}, \"radius\": 1.0, \"color\": \"blue\", \"alpha\": 0.9});\n\tviewer_1631253866935622.addSphere({\"center\": {\"x\": -2.054522451971916, \"y\": 8.047784845323312, \"z\": 25.38004437696829}, \"radius\": 1.0, \"color\": \"blue\", \"alpha\": 0.9});\n\tviewer_1631253866935622.addSphere({\"center\": {\"x\": 23.870129831147004, \"y\": -7.994964744652768, \"z\": 8.651270668743676}, \"radius\": 1.0, \"color\": \"blue\", \"alpha\": 0.9});\n\tviewer_1631253866935622.addSphere({\"center\": {\"x\": 24.480759798458422, \"y\": 3.108183663245615, \"z\": 8.38431211258112}, \"radius\": 1.0, \"color\": \"blue\", \"alpha\": 0.9});\n\tviewer_1631253866935622.addSphere({\"center\": {\"x\": 7.439496146872462, \"y\": -3.192591277285674, \"z\": -13.513873837256144}, \"radius\": 1.0, \"color\": \"blue\", \"alpha\": 0.9});\n\tviewer_1631253866935622.addSphere({\"center\": {\"x\": -2.984026209172393, \"y\": 19.486398445592965, \"z\": 15.93580008055372}, \"radius\": 1.0, \"color\": \"blue\", \"alpha\": 0.9});\n\tviewer_1631253866935622.addSphere({\"center\": {\"x\": -4.894584587925534, \"y\": 2.353580796967044, \"z\": 17.29476660860072}, \"radius\": 1.0, \"color\": \"blue\", \"alpha\": 0.9});\n\tviewer_1631253866935622.addSphere({\"center\": {\"x\": -24.883054782992374, \"y\": -3.861044403933149, \"z\": 9.811796514052194}, \"radius\": 1.0, \"color\": \"red\", \"alpha\": 0.9});\n\tviewer_1631253866935622.addSphere({\"center\": {\"x\": 18.424381792719455, \"y\": 17.87742367100562, \"z\": 22.82643303861045}, \"radius\": 1.0, \"color\": \"red\", \"alpha\": 0.9});\n\tviewer_1631253866935622.addSphere({\"center\": {\"x\": 27.063119537529076, \"y\": 2.7087211743147646, \"z\": -21.274802937795325}, \"radius\": 1.0, \"color\": \"red\", \"alpha\": 0.9});\n\tviewer_1631253866935622.addSphere({\"center\": {\"x\": -10.69079560224582, \"y\": 25.370835022602854, \"z\": -9.471920381031191}, \"radius\": 1.0, \"color\": \"red\", \"alpha\": 0.9});\n\tviewer_1631253866935622.addSphere({\"center\": {\"x\": 26.038842760573264, \"y\": 3.5960669750546277, \"z\": 7.325961447326178}, \"radius\": 1.0, \"color\": \"red\", \"alpha\": 0.9});\n\tviewer_1631253866935622.addSphere({\"center\": {\"x\": -17.60312921702813, \"y\": 7.157275498359935, \"z\": 24.041341442573678}, \"radius\": 1.0, \"color\": \"red\", \"alpha\": 0.9});\n\tviewer_1631253866935622.addSphere({\"center\": {\"x\": 7.557987093846624, \"y\": 31.704936974784, \"z\": -0.898400337478945}, \"radius\": 1.0, \"color\": \"red\", \"alpha\": 0.9});\n\tviewer_1631253866935622.addSphere({\"center\": {\"x\": 30.425912947876952, \"y\": -3.838608313868481, \"z\": 16.149294489589327}, \"radius\": 1.0, \"color\": \"red\", \"alpha\": 0.9});\n\tviewer_1631253866935622.addSphere({\"center\": {\"x\": 9.843620752957047, \"y\": 30.38263368953002, \"z\": -8.697833157857234}, \"radius\": 1.0, \"color\": \"red\", \"alpha\": 0.9});\n\tviewer_1631253866935622.addSphere({\"center\": {\"x\": -13.094540958840708, \"y\": 23.111269344256776, \"z\": 8.2392751421437}, \"radius\": 1.0, \"color\": \"red\", \"alpha\": 0.9});\n\tviewer_1631253866935622.addSphere({\"center\": {\"x\": 12.305638283154567, \"y\": -18.457046747623167, \"z\": 26.487877333722075}, \"radius\": 1.0, \"color\": \"red\", \"alpha\": 0.9});\n\tviewer_1631253866935622.addSphere({\"center\": {\"x\": 6.676797436400506, \"y\": -28.4436255849168, \"z\": 1.5295263671670507}, \"radius\": 1.0, \"color\": \"red\", \"alpha\": 0.9});\n\tviewer_1631253866935622.addSphere({\"center\": {\"x\": 3.476217213672863, \"y\": 3.0995057984703216, \"z\": -32.085885404744644}, \"radius\": 1.0, \"color\": \"red\", \"alpha\": 0.9});\n\tviewer_1631253866935622.addSphere({\"center\": {\"x\": 26.686972915039497, \"y\": 14.223806266168651, \"z\": 16.465096475116823}, \"radius\": 1.0, \"color\": \"red\", \"alpha\": 0.9});\n\tviewer_1631253866935622.addSphere({\"center\": {\"x\": -9.903143890293912, \"y\": 30.613004728403794, \"z\": 4.445897200441658}, \"radius\": 1.0, \"color\": \"red\", \"alpha\": 0.9});\n\tviewer_1631253866935622.addSphere({\"center\": {\"x\": 30.978691262458167, \"y\": 0.445932391170918, \"z\": -14.126346544589083}, \"radius\": 1.0, \"color\": \"red\", \"alpha\": 0.9});\n\tviewer_1631253866935622.addSphere({\"center\": {\"x\": -23.1831429652997, \"y\": -16.425373728003844, \"z\": -12.570095965863356}, \"radius\": 1.0, \"color\": \"red\", \"alpha\": 0.9});\n\tviewer_1631253866935622.addSphere({\"center\": {\"x\": 28.25685297590977, \"y\": 6.55984440492055, \"z\": 3.2297491385454373}, \"radius\": 1.0, \"color\": \"red\", \"alpha\": 0.9});\n\tviewer_1631253866935622.addSphere({\"center\": {\"x\": 1.6903841064238805, \"y\": -34.363230645007, \"z\": 1.3224611069290249}, \"radius\": 1.0, \"color\": \"red\", \"alpha\": 0.9});\n\tviewer_1631253866935622.addSphere({\"center\": {\"x\": -10.419746105175005, \"y\": -4.970324678464328, \"z\": -28.64429522576382}, \"radius\": 1.0, \"color\": \"red\", \"alpha\": 0.9});\n\tviewer_1631253866935622.addSphere({\"center\": {\"x\": -6.025038940262315, \"y\": -24.846044908648157, \"z\": 13.988949969158156}, \"radius\": 1.0, \"color\": \"red\", \"alpha\": 0.9});\n\tviewer_1631253866935622.addSphere({\"center\": {\"x\": -0.9174009238541875, \"y\": -28.63712183260262, \"z\": -19.63240177784532}, \"radius\": 1.0, \"color\": \"red\", \"alpha\": 0.9});\n\tviewer_1631253866935622.addSphere({\"center\": {\"x\": -11.115671971015182, \"y\": -23.877938446428104, \"z\": 6.982425516207338}, \"radius\": 1.0, \"color\": \"red\", \"alpha\": 0.9});\n\tviewer_1631253866935622.addSphere({\"center\": {\"x\": -31.346032302361817, \"y\": 8.060136935637038, \"z\": 12.967600484368031}, \"radius\": 1.0, \"color\": \"red\", \"alpha\": 0.9});\n\tviewer_1631253866935622.addSphere({\"center\": {\"x\": 7.305211673597462, \"y\": 33.802172458569096, \"z\": -4.672441088047393}, \"radius\": 1.0, \"color\": \"red\", \"alpha\": 0.9});\n\tviewer_1631253866935622.addSphere({\"center\": {\"x\": 23.706255267462712, \"y\": 0.6888870938144673, \"z\": -15.276876286804326}, \"radius\": 1.0, \"color\": \"red\", \"alpha\": 0.9});\n\tviewer_1631253866935622.addSphere({\"center\": {\"x\": 4.931730223622201, \"y\": 29.378081590745076, \"z\": 3.6893390468116483}, \"radius\": 1.0, \"color\": \"red\", \"alpha\": 0.9});\n\tviewer_1631253866935622.addSphere({\"center\": {\"x\": -29.492984896843335, \"y\": -10.156351495379988, \"z\": 5.092419467163555}, \"radius\": 1.0, \"color\": \"red\", \"alpha\": 0.9});\n\tviewer_1631253866935622.addSphere({\"center\": {\"x\": -7.194581976335708, \"y\": -32.156565306844755, \"z\": -3.5053990372984716}, \"radius\": 1.0, \"color\": \"red\", \"alpha\": 0.9});\n\tviewer_1631253866935622.addSphere({\"center\": {\"x\": 12.192473543957856, \"y\": -16.946640365777366, \"z\": 19.917720847299016}, \"radius\": 1.0, \"color\": \"red\", \"alpha\": 0.9});\n\tviewer_1631253866935622.addSphere({\"center\": {\"x\": 23.746367866396973, \"y\": -8.422673396815913, \"z\": 13.90073058980049}, \"radius\": 1.0, \"color\": \"red\", \"alpha\": 0.9});\n\tviewer_1631253866935622.addSphere({\"center\": {\"x\": -14.680148211478395, \"y\": 16.382669353888478, \"z\": -23.53252459810819}, \"radius\": 1.0, \"color\": \"red\", \"alpha\": 0.9});\n\tviewer_1631253866935622.addSphere({\"center\": {\"x\": 22.953361825322233, \"y\": -22.935446959526082, \"z\": 5.4266480296233315}, \"radius\": 1.0, \"color\": \"red\", \"alpha\": 0.9});\n\tviewer_1631253866935622.addSphere({\"center\": {\"x\": -9.291386687787972, \"y\": 25.663357877420243, \"z\": 17.818866784131764}, \"radius\": 1.0, \"color\": \"red\", \"alpha\": 0.9});\n\tviewer_1631253866935622.addSphere({\"center\": {\"x\": -22.155932647948006, \"y\": -16.283107068283876, \"z\": 16.043719631410504}, \"radius\": 1.0, \"color\": \"red\", \"alpha\": 0.9});\n\tviewer_1631253866935622.addSphere({\"center\": {\"x\": 23.004972980405263, \"y\": -8.12704912472531, \"z\": 17.77851318206761}, \"radius\": 1.0, \"color\": \"red\", \"alpha\": 0.9});\n\tviewer_1631253866935622.addSphere({\"center\": {\"x\": 6.47128262340181, \"y\": 22.18444941430208, \"z\": 14.836871116641888}, \"radius\": 1.0, \"color\": \"red\", \"alpha\": 0.9});\n\tviewer_1631253866935622.addSphere({\"center\": {\"x\": 27.65335986788692, \"y\": 1.5067985814476732, \"z\": -4.5917043899500065}, \"radius\": 1.0, \"color\": \"red\", \"alpha\": 0.9});\n\tviewer_1631253866935622.addSphere({\"center\": {\"x\": 21.05479228098116, \"y\": 7.089188528916229, \"z\": -16.960039715432767}, \"radius\": 1.0, \"color\": \"red\", \"alpha\": 0.9});\n\tviewer_1631253866935622.addSphere({\"center\": {\"x\": -17.46154357102586, \"y\": -14.93850824261162, \"z\": -18.59883070389264}, \"radius\": 1.0, \"color\": \"red\", \"alpha\": 0.9});\n\tviewer_1631253866935622.addSphere({\"center\": {\"x\": -4.375011138206304, \"y\": 7.651069497824542, \"z\": -30.164145464423786}, \"radius\": 1.0, \"color\": \"red\", \"alpha\": 0.9});\n\tviewer_1631253866935622.addSphere({\"center\": {\"x\": -17.05329285437975, \"y\": 28.017696790770067, \"z\": 4.182310398308583}, \"radius\": 1.0, \"color\": \"red\", \"alpha\": 0.9});\n\tviewer_1631253866935622.addSphere({\"center\": {\"x\": 21.691915231018562, \"y\": -22.854237150074844, \"z\": 8.16159736277142}, \"radius\": 1.0, \"color\": \"red\", \"alpha\": 0.9});\n\tviewer_1631253866935622.addSphere({\"center\": {\"x\": 24.297293572304735, \"y\": -12.060039536566856, \"z\": -12.719627872497558}, \"radius\": 1.0, \"color\": \"red\", \"alpha\": 0.9});\n\tviewer_1631253866935622.addSphere({\"center\": {\"x\": -1.5303204051199506, \"y\": 14.46585065708269, \"z\": 26.700504786890367}, \"radius\": 1.0, \"color\": \"red\", \"alpha\": 0.9});\n\tviewer_1631253866935622.addSphere({\"center\": {\"x\": -19.25580826393476, \"y\": -16.93239617439573, \"z\": -23.50287445402456}, \"radius\": 1.0, \"color\": \"red\", \"alpha\": 0.9});\n\tviewer_1631253866935622.addSphere({\"center\": {\"x\": 18.543076193763625, \"y\": -8.67951253055311, \"z\": -22.127943646013364}, \"radius\": 1.0, \"color\": \"red\", \"alpha\": 0.9});\n\tviewer_1631253866935622.addSphere({\"center\": {\"x\": 29.370350892269403, \"y\": -0.32190633867247403, \"z\": -8.6123553451039}, \"radius\": 1.0, \"color\": \"red\", \"alpha\": 0.9});\n\tviewer_1631253866935622.addSphere({\"center\": {\"x\": -19.134925901235977, \"y\": 2.8501653020699744, \"z\": 26.136559023403464}, \"radius\": 1.0, \"color\": \"red\", \"alpha\": 0.9});\n\tviewer_1631253866935622.addSphere({\"center\": {\"x\": 25.887434716405757, \"y\": 13.783831015518299, \"z\": 0.2970089737723462}, \"radius\": 1.0, \"color\": \"red\", \"alpha\": 0.9});\n\tviewer_1631253866935622.addSphere({\"center\": {\"x\": -6.888288147009367, \"y\": -10.987008883255001, \"z\": -26.331801143238664}, \"radius\": 1.0, \"color\": \"red\", \"alpha\": 0.9});\n\tviewer_1631253866935622.addSphere({\"center\": {\"x\": 26.79928910712415, \"y\": -15.483884848750645, \"z\": 9.138031244986855}, \"radius\": 1.0, \"color\": \"red\", \"alpha\": 0.9});\n\tviewer_1631253866935622.addSphere({\"center\": {\"x\": 30.060538274571453, \"y\": -14.728741025875921, \"z\": -5.741459401583378}, \"radius\": 1.0, \"color\": \"red\", \"alpha\": 0.9});\n\tviewer_1631253866935622.addSphere({\"center\": {\"x\": -25.69660053964331, \"y\": -11.858862884302331, \"z\": -13.887837838085222}, \"radius\": 1.0, \"color\": \"red\", \"alpha\": 0.9});\n\tviewer_1631253866935622.addSphere({\"center\": {\"x\": 32.25965265406849, \"y\": 1.6455439200932565, \"z\": -8.373365167309409}, \"radius\": 1.0, \"color\": \"red\", \"alpha\": 0.9});\n\tviewer_1631253866935622.addSphere({\"center\": {\"x\": 19.42410315682396, \"y\": -6.362230743974672, \"z\": -17.898816161723968}, \"radius\": 1.0, \"color\": \"red\", \"alpha\": 0.9});\n\tviewer_1631253866935622.addSphere({\"center\": {\"x\": -17.600481647234147, \"y\": 0.23488342364358253, \"z\": 23.51959974700263}, \"radius\": 1.0, \"color\": \"red\", \"alpha\": 0.9});\n\tviewer_1631253866935622.addSphere({\"center\": {\"x\": -13.458200655497365, \"y\": -26.728803148201784, \"z\": -13.773692131278839}, \"radius\": 1.0, \"color\": \"red\", \"alpha\": 0.9});\n\tviewer_1631253866935622.addSphere({\"center\": {\"x\": 16.964508657851226, \"y\": 6.1494870199297695, \"z\": 23.2223628287056}, \"radius\": 1.0, \"color\": \"red\", \"alpha\": 0.9});\n\tviewer_1631253866935622.addSphere({\"center\": {\"x\": -4.6838924975709455, \"y\": -18.39335599609803, \"z\": -24.61681588405548}, \"radius\": 1.0, \"color\": \"red\", \"alpha\": 0.9});\n\tviewer_1631253866935622.addSphere({\"center\": {\"x\": 12.611028300826819, \"y\": 31.243959334383703, \"z\": 5.601730310732267}, \"radius\": 1.0, \"color\": \"red\", \"alpha\": 0.9});\n\tviewer_1631253866935622.addSphere({\"center\": {\"x\": -1.1791960823756076, \"y\": 23.497175500396224, \"z\": 21.660938453806356}, \"radius\": 1.0, \"color\": \"red\", \"alpha\": 0.9});\n\tviewer_1631253866935622.addSphere({\"center\": {\"x\": 5.880978844874115, \"y\": 21.464952184563124, \"z\": -16.33855400311758}, \"radius\": 1.0, \"color\": \"red\", \"alpha\": 0.9});\n\tviewer_1631253866935622.addSphere({\"center\": {\"x\": 12.573589431342988, \"y\": -24.035967965705233, \"z\": 13.87670102935412}, \"radius\": 1.0, \"color\": \"red\", \"alpha\": 0.9});\n\tviewer_1631253866935622.addSphere({\"center\": {\"x\": -3.253832746180839, \"y\": 6.1195297043158625, \"z\": -28.942763815551846}, \"radius\": 1.0, \"color\": \"red\", \"alpha\": 0.9});\n\tviewer_1631253866935622.addSphere({\"center\": {\"x\": -21.551378585375893, \"y\": -12.4976368332491, \"z\": -12.334563076323692}, \"radius\": 1.0, \"color\": \"red\", \"alpha\": 0.9});\n\tviewer_1631253866935622.addSphere({\"center\": {\"x\": 10.828894302108116, \"y\": -30.84450860258471, \"z\": -1.7311583075912034}, \"radius\": 1.0, \"color\": \"red\", \"alpha\": 0.9});\n\tviewer_1631253866935622.addSphere({\"center\": {\"x\": -20.190022542590697, \"y\": -27.38071747534859, \"z\": -3.0814921757752995}, \"radius\": 1.0, \"color\": \"red\", \"alpha\": 0.9});\n\tviewer_1631253866935622.addSphere({\"center\": {\"x\": 26.0062752973852, \"y\": -8.56848687793154, \"z\": -16.554352163628415}, \"radius\": 1.0, \"color\": \"red\", \"alpha\": 0.9});\n\tviewer_1631253866935622.addSphere({\"center\": {\"x\": -26.581542661616332, \"y\": -16.64122592038062, \"z\": -7.065287387603883}, \"radius\": 1.0, \"color\": \"red\", \"alpha\": 0.9});\n\tviewer_1631253866935622.addSphere({\"center\": {\"x\": -25.921889840358535, \"y\": 9.816563957927396, \"z\": -17.384641294611022}, \"radius\": 1.0, \"color\": \"red\", \"alpha\": 0.9});\n\tviewer_1631253866935622.addSphere({\"center\": {\"x\": -1.8925775983922883, \"y\": -23.785142813066003, \"z\": -16.0406334901849}, \"radius\": 1.0, \"color\": \"red\", \"alpha\": 0.9});\n\tviewer_1631253866935622.addSphere({\"center\": {\"x\": 18.032218241500896, \"y\": 15.046328162619114, \"z\": 23.510530972835095}, \"radius\": 1.0, \"color\": \"red\", \"alpha\": 0.9});\n\tviewer_1631253866935622.addSphere({\"center\": {\"x\": -15.628723346684097, \"y\": 13.001715457315655, \"z\": -28.18168179826487}, \"radius\": 1.0, \"color\": \"red\", \"alpha\": 0.9});\n\tviewer_1631253866935622.addSphere({\"center\": {\"x\": 12.476727903782333, \"y\": 27.868305869258762, \"z\": -4.585222371418427}, \"radius\": 1.0, \"color\": \"red\", \"alpha\": 0.9});\n\tviewer_1631253866935622.addSphere({\"center\": {\"x\": -2.745898781376368, \"y\": 30.04700134149483, \"z\": 4.620802650051427}, \"radius\": 1.0, \"color\": \"red\", \"alpha\": 0.9});\n\tviewer_1631253866935622.addSphere({\"center\": {\"x\": 2.4768177742325923, \"y\": -31.641208933750075, \"z\": -6.587787500369744}, \"radius\": 1.0, \"color\": \"red\", \"alpha\": 0.9});\n\tviewer_1631253866935622.addSphere({\"center\": {\"x\": 32.121307974545296, \"y\": -1.7461249044183627, \"z\": -3.9732703161533713}, \"radius\": 1.0, \"color\": \"red\", \"alpha\": 0.9});\n\tviewer_1631253866935622.addSphere({\"center\": {\"x\": 11.513874526793566, \"y\": -9.088277170277557, \"z\": 30.664038410873452}, \"radius\": 1.0, \"color\": \"red\", \"alpha\": 0.9});\n\tviewer_1631253866935622.addSphere({\"center\": {\"x\": -31.701050427850202, \"y\": 13.029706113787098, \"z\": 7.030634614040154}, \"radius\": 1.0, \"color\": \"red\", \"alpha\": 0.9});\n\tviewer_1631253866935622.addSphere({\"center\": {\"x\": 26.59821208916624, \"y\": -3.3229621459467715, \"z\": 9.27881602868297}, \"radius\": 1.0, \"color\": \"red\", \"alpha\": 0.9});\n\tviewer_1631253866935622.addSphere({\"center\": {\"x\": 28.887733339666063, \"y\": -15.458891803413405, \"z\": -9.954330799702372}, \"radius\": 1.0, \"color\": \"red\", \"alpha\": 0.9});\n\tviewer_1631253866935622.addSphere({\"center\": {\"x\": 5.864982218545146, \"y\": 29.705919942383453, \"z\": 14.810687347009264}, \"radius\": 1.0, \"color\": \"red\", \"alpha\": 0.9});\n\tviewer_1631253866935622.addSphere({\"center\": {\"x\": 24.886246358867663, \"y\": -11.972248838161569, \"z\": 0.622025340889071}, \"radius\": 1.0, \"color\": \"red\", \"alpha\": 0.9});\n\tviewer_1631253866935622.addSphere({\"center\": {\"x\": -17.336761707722104, \"y\": 26.703546730718713, \"z\": -9.699938232419852}, \"radius\": 1.0, \"color\": \"red\", \"alpha\": 0.9});\n\tviewer_1631253866935622.addSphere({\"center\": {\"x\": 8.684031554156318, \"y\": -22.70340747797176, \"z\": 11.936367028153049}, \"radius\": 1.0, \"color\": \"red\", \"alpha\": 0.9});\n\tviewer_1631253866935622.addSphere({\"center\": {\"x\": -15.157173138526673, \"y\": 26.037964954013344, \"z\": 4.3060436272154705}, \"radius\": 1.0, \"color\": \"red\", \"alpha\": 0.9});\n\tviewer_1631253866935622.addSphere({\"center\": {\"x\": -2.964036142215712, \"y\": 26.222450730112488, \"z\": -10.747127886494443}, \"radius\": 1.0, \"color\": \"red\", \"alpha\": 0.9});\n\tviewer_1631253866935622.addSphere({\"center\": {\"x\": 20.235400121111525, \"y\": -13.124301131015857, \"z\": 20.428365606526825}, \"radius\": 1.0, \"color\": \"red\", \"alpha\": 0.9});\n\tviewer_1631253866935622.addSphere({\"center\": {\"x\": -8.507739359376108, \"y\": -13.769461878746851, \"z\": -26.132403517828152}, \"radius\": 1.0, \"color\": \"red\", \"alpha\": 0.9});\n\tviewer_1631253866935622.addSphere({\"center\": {\"x\": 20.8586506728275, \"y\": 19.03289779840111, \"z\": 17.987276868680702}, \"radius\": 1.0, \"color\": \"red\", \"alpha\": 0.9});\n\tviewer_1631253866935622.addSphere({\"center\": {\"x\": 29.458424586341373, \"y\": -7.886852662106948, \"z\": -8.589352900791576}, \"radius\": 1.0, \"color\": \"red\", \"alpha\": 0.9});\n\tviewer_1631253866935622.addSphere({\"center\": {\"x\": 31.59836637071105, \"y\": -13.646892109476624, \"z\": 4.127433737469647}, \"radius\": 1.0, \"color\": \"red\", \"alpha\": 0.9});\n\tviewer_1631253866935622.addSphere({\"center\": {\"x\": 2.1603543186679435, \"y\": 25.016396788352242, \"z\": -14.739423038631314}, \"radius\": 1.0, \"color\": \"red\", \"alpha\": 0.9});\n\tviewer_1631253866935622.addSphere({\"center\": {\"x\": 4.823853322488037, \"y\": 19.188275235409048, \"z\": 21.801638787306114}, \"radius\": 1.0, \"color\": \"red\", \"alpha\": 0.9});\n\tviewer_1631253866935622.addSphere({\"center\": {\"x\": -14.35612705350534, \"y\": -12.782980804541184, \"z\": 28.91074287278046}, \"radius\": 1.0, \"color\": \"red\", \"alpha\": 0.9});\n\tviewer_1631253866935622.addSphere({\"center\": {\"x\": -2.371779419570687, \"y\": 20.870871412659692, \"z\": 24.98542994863592}, \"radius\": 1.0, \"color\": \"red\", \"alpha\": 0.9});\n\tviewer_1631253866935622.addSphere({\"center\": {\"x\": -11.393738865881655, \"y\": -31.030246915069235, \"z\": 1.2379655240613487}, \"radius\": 1.0, \"color\": \"red\", \"alpha\": 0.9});\n\tviewer_1631253866935622.addSphere({\"center\": {\"x\": -1.0212031448044472, \"y\": 11.45360218466097, \"z\": -25.737341937827576}, \"radius\": 1.0, \"color\": \"red\", \"alpha\": 0.9});\n\tviewer_1631253866935622.addSphere({\"center\": {\"x\": -24.772665900165993, \"y\": 7.357647672947065, \"z\": -11.142786214977354}, \"radius\": 1.0, \"color\": \"red\", \"alpha\": 0.9});\n\tviewer_1631253866935622.addSphere({\"center\": {\"x\": -25.50354755289864, \"y\": 35.10451501978541, \"z\": -17.37843047431413}, \"radius\": 1.0, \"color\": \"blue\", \"alpha\": 0.9});\n\tviewer_1631253866935622.addSphere({\"center\": {\"x\": -40.058920252463324, \"y\": 8.323583499104895, \"z\": -16.868358036194017}, \"radius\": 1.0, \"color\": \"blue\", \"alpha\": 0.9});\n\tviewer_1631253866935622.addSphere({\"center\": {\"x\": 41.803612235491606, \"y\": -19.579335835360993, \"z\": -8.634930267933703}, \"radius\": 1.0, \"color\": \"blue\", \"alpha\": 0.9});\n\tviewer_1631253866935622.addSphere({\"center\": {\"x\": -15.568239247586265, \"y\": -15.350995169232064, \"z\": -32.0601686295023}, \"radius\": 1.0, \"color\": \"blue\", \"alpha\": 0.9});\n\tviewer_1631253866935622.addSphere({\"center\": {\"x\": -19.030049713212467, \"y\": 6.696445484342825, \"z\": 38.21760831341918}, \"radius\": 1.0, \"color\": \"blue\", \"alpha\": 0.9});\n\tviewer_1631253866935622.addSphere({\"center\": {\"x\": 12.624420436186963, \"y\": 5.760693636821483, \"z\": 44.786777650534034}, \"radius\": 1.0, \"color\": \"blue\", \"alpha\": 0.9});\n\tviewer_1631253866935622.addSphere({\"center\": {\"x\": -18.97332325852316, \"y\": 33.09601523798583, \"z\": -13.412788711838699}, \"radius\": 1.0, \"color\": \"blue\", \"alpha\": 0.9});\n\tviewer_1631253866935622.addSphere({\"center\": {\"x\": -13.325598303602636, \"y\": 18.30107456700225, \"z\": 36.04256440214823}, \"radius\": 1.0, \"color\": \"blue\", \"alpha\": 0.9});\n\tviewer_1631253866935622.addSphere({\"center\": {\"x\": -14.180833490438845, \"y\": 13.21438065637425, \"z\": -32.58375673636748}, \"radius\": 1.0, \"color\": \"blue\", \"alpha\": 0.9});\n\tviewer_1631253866935622.addSphere({\"center\": {\"x\": -34.459888989198696, \"y\": 11.45244712685732, \"z\": -24.47871975071126}, \"radius\": 1.0, \"color\": \"blue\", \"alpha\": 0.9});\n\tviewer_1631253866935622.addSphere({\"center\": {\"x\": -15.978306383815909, \"y\": 30.26166669964988, \"z\": 29.410135322684425}, \"radius\": 1.0, \"color\": \"blue\", \"alpha\": 0.9});\n\tviewer_1631253866935622.addSphere({\"center\": {\"x\": -11.885672295740607, \"y\": -37.0684379900285, \"z\": 18.04807649071247}, \"radius\": 1.0, \"color\": \"blue\", \"alpha\": 0.9});\n\tviewer_1631253866935622.addSphere({\"center\": {\"x\": 37.78017837475917, \"y\": -8.995010515630074, \"z\": 15.265907058338733}, \"radius\": 1.0, \"color\": \"blue\", \"alpha\": 0.9});\n\tviewer_1631253866935622.addSphere({\"center\": {\"x\": 22.95697941881016, \"y\": -21.303741546282176, \"z\": 23.852571042048346}, \"radius\": 1.0, \"color\": \"blue\", \"alpha\": 0.9});\n\tviewer_1631253866935622.addSphere({\"center\": {\"x\": -25.80138695503971, \"y\": 20.653867845174787, \"z\": -24.422359634730594}, \"radius\": 1.0, \"color\": \"blue\", \"alpha\": 0.9});\n\tviewer_1631253866935622.addSphere({\"center\": {\"x\": 27.58607842666645, \"y\": 21.486906531313984, \"z\": -30.064145790103428}, \"radius\": 1.0, \"color\": \"blue\", \"alpha\": 0.9});\n\tviewer_1631253866935622.addSphere({\"center\": {\"x\": 8.444196101184737, \"y\": 44.321261838233816, \"z\": -11.75130569765563}, \"radius\": 1.0, \"color\": \"blue\", \"alpha\": 0.9});\n\tviewer_1631253866935622.addSphere({\"center\": {\"x\": -30.594234774975728, \"y\": 7.307073318317468, \"z\": -19.39542262672021}, \"radius\": 1.0, \"color\": \"blue\", \"alpha\": 0.9});\n\tviewer_1631253866935622.addSphere({\"center\": {\"x\": 25.121228616599375, \"y\": 28.50086214623717, \"z\": 4.4973462795187995}, \"radius\": 1.0, \"color\": \"blue\", \"alpha\": 0.9});\n\tviewer_1631253866935622.addSphere({\"center\": {\"x\": -18.327172318866367, \"y\": 9.028193202116299, \"z\": 28.761716610286665}, \"radius\": 1.0, \"color\": \"blue\", \"alpha\": 0.9});\n\tviewer_1631253866935622.addSphere({\"center\": {\"x\": -24.815583512713566, \"y\": -10.936122666989965, \"z\": 35.334044950039164}, \"radius\": 1.0, \"color\": \"blue\", \"alpha\": 0.9});\n\tviewer_1631253866935622.addSphere({\"center\": {\"x\": -26.491304636200187, \"y\": 17.75689209951181, \"z\": 22.7266551917354}, \"radius\": 1.0, \"color\": \"blue\", \"alpha\": 0.9});\n\tviewer_1631253866935622.addSphere({\"center\": {\"x\": -35.08070311214421, \"y\": -3.6168722086627265, \"z\": 9.224964727618842}, \"radius\": 1.0, \"color\": \"blue\", \"alpha\": 0.9});\n\tviewer_1631253866935622.addSphere({\"center\": {\"x\": 5.445040086719377, \"y\": 10.833913254688378, \"z\": 43.04920713945552}, \"radius\": 1.0, \"color\": \"blue\", \"alpha\": 0.9});\n\tviewer_1631253866935622.addSphere({\"center\": {\"x\": 0.293510952415833, \"y\": -42.2598085571933, \"z\": -10.70708808109889}, \"radius\": 1.0, \"color\": \"blue\", \"alpha\": 0.9});\n\tviewer_1631253866935622.addSphere({\"center\": {\"x\": -37.22204184864615, \"y\": 7.272557486763731, \"z\": -11.468813652720536}, \"radius\": 1.0, \"color\": \"blue\", \"alpha\": 0.9});\n\tviewer_1631253866935622.addSphere({\"center\": {\"x\": -38.36149117590182, \"y\": 7.684998978841113, \"z\": 8.686605174643008}, \"radius\": 1.0, \"color\": \"blue\", \"alpha\": 0.9});\n\tviewer_1631253866935622.addSphere({\"center\": {\"x\": 10.458005051218002, \"y\": -7.072965801831423, \"z\": 33.79891412100591}, \"radius\": 1.0, \"color\": \"blue\", \"alpha\": 0.9});\n\tviewer_1631253866935622.addSphere({\"center\": {\"x\": 29.222222360454662, \"y\": -9.985524078965746, \"z\": 25.07883017058495}, \"radius\": 1.0, \"color\": \"blue\", \"alpha\": 0.9});\n\tviewer_1631253866935622.addSphere({\"center\": {\"x\": -41.05258490511324, \"y\": -12.490291986833762, \"z\": 11.916018791133604}, \"radius\": 1.0, \"color\": \"blue\", \"alpha\": 0.9});\n\tviewer_1631253866935622.addSphere({\"center\": {\"x\": 20.116381503357953, \"y\": 40.16331579163776, \"z\": -8.590989422244439}, \"radius\": 1.0, \"color\": \"blue\", \"alpha\": 0.9});\n\tviewer_1631253866935622.addSphere({\"center\": {\"x\": 36.36263519681308, \"y\": -23.291294671186566, \"z\": 2.777382558242769}, \"radius\": 1.0, \"color\": \"blue\", \"alpha\": 0.9});\n\tviewer_1631253866935622.addSphere({\"center\": {\"x\": -42.42566613456585, \"y\": 16.11149083239077, \"z\": 5.710117977515736}, \"radius\": 1.0, \"color\": \"blue\", \"alpha\": 0.9});\n\tviewer_1631253866935622.addSphere({\"center\": {\"x\": -27.079288287261708, \"y\": 26.25768077038001, \"z\": -17.890524616418876}, \"radius\": 1.0, \"color\": \"blue\", \"alpha\": 0.9});\n\tviewer_1631253866935622.addSphere({\"center\": {\"x\": -20.06735029434022, \"y\": 19.419985217283102, \"z\": 36.77211205039391}, \"radius\": 1.0, \"color\": \"blue\", \"alpha\": 0.9});\n\tviewer_1631253866935622.addSphere({\"center\": {\"x\": -35.872613936728854, \"y\": 14.51976507616034, \"z\": 0.3935572883283925}, \"radius\": 1.0, \"color\": \"blue\", \"alpha\": 0.9});\n\tviewer_1631253866935622.addSphere({\"center\": {\"x\": -22.637387396838573, \"y\": -26.299284971738647, \"z\": -25.990526197598683}, \"radius\": 1.0, \"color\": \"blue\", \"alpha\": 0.9});\n\tviewer_1631253866935622.addSphere({\"center\": {\"x\": -22.86248199794036, \"y\": 19.284594854736298, \"z\": -18.83423171052936}, \"radius\": 1.0, \"color\": \"blue\", \"alpha\": 0.9});\n\tviewer_1631253866935622.addSphere({\"center\": {\"x\": -18.14615743961241, \"y\": -13.14655509433138, \"z\": 35.908346077771874}, \"radius\": 1.0, \"color\": \"blue\", \"alpha\": 0.9});\n\tviewer_1631253866935622.addSphere({\"center\": {\"x\": 30.266172499450665, \"y\": -16.345693749371282, \"z\": 24.752856669986926}, \"radius\": 1.0, \"color\": \"blue\", \"alpha\": 0.9});\n\tviewer_1631253866935622.addSphere({\"center\": {\"x\": -12.135591429494804, \"y\": -12.930705182203495, \"z\": 36.5540447707017}, \"radius\": 1.0, \"color\": \"blue\", \"alpha\": 0.9});\n\tviewer_1631253866935622.addSphere({\"center\": {\"x\": 3.641911487787497, \"y\": 36.63301690498122, \"z\": 13.602817195954845}, \"radius\": 1.0, \"color\": \"blue\", \"alpha\": 0.9});\n\tviewer_1631253866935622.addSphere({\"center\": {\"x\": 4.535572527016206, \"y\": 27.17652406679632, \"z\": -24.744669742491045}, \"radius\": 1.0, \"color\": \"blue\", \"alpha\": 0.9});\n\tviewer_1631253866935622.addSphere({\"center\": {\"x\": 8.678812902423656, \"y\": 36.725446473003004, \"z\": -3.876543895702867}, \"radius\": 1.0, \"color\": \"blue\", \"alpha\": 0.9});\n\tviewer_1631253866935622.addSphere({\"center\": {\"x\": -27.750975050259207, \"y\": -24.754014804072526, \"z\": 11.021427000975507}, \"radius\": 1.0, \"color\": \"blue\", \"alpha\": 0.9});\n\tviewer_1631253866935622.addSphere({\"center\": {\"x\": -21.907763881460028, \"y\": 30.2995771859835, \"z\": -7.88162841509326}, \"radius\": 1.0, \"color\": \"blue\", \"alpha\": 0.9});\n\tviewer_1631253866935622.addSphere({\"center\": {\"x\": -3.1423500818206165, \"y\": 31.150133102459474, \"z\": 26.33325245180808}, \"radius\": 1.0, \"color\": \"blue\", \"alpha\": 0.9});\n\tviewer_1631253866935622.addSphere({\"center\": {\"x\": 6.953197477790596, \"y\": 42.8316568600022, \"z\": -8.374293977519706}, \"radius\": 1.0, \"color\": \"blue\", \"alpha\": 0.9});\n\tviewer_1631253866935622.addSphere({\"center\": {\"x\": -23.602787337827525, \"y\": 20.33612353211395, \"z\": -26.40118858396028}, \"radius\": 1.0, \"color\": \"blue\", \"alpha\": 0.9});\n\tviewer_1631253866935622.addSphere({\"center\": {\"x\": 28.32464949552375, \"y\": 29.547974663433877, \"z\": -13.432575823309556}, \"radius\": 1.0, \"color\": \"blue\", \"alpha\": 0.9});\n\tviewer_1631253866935622.addSphere({\"center\": {\"x\": 33.77514547224092, \"y\": 24.846388451123158, \"z\": 10.022634484120534}, \"radius\": 1.0, \"color\": \"blue\", \"alpha\": 0.9});\n\tviewer_1631253866935622.addSphere({\"center\": {\"x\": -36.76216277141972, \"y\": -18.886637023544523, \"z\": -10.041743231304668}, \"radius\": 1.0, \"color\": \"blue\", \"alpha\": 0.9});\n\tviewer_1631253866935622.addSphere({\"center\": {\"x\": 21.881123162362584, \"y\": 25.648137392803328, \"z\": 32.447973133039376}, \"radius\": 1.0, \"color\": \"blue\", \"alpha\": 0.9});\n\tviewer_1631253866935622.addSphere({\"center\": {\"x\": -39.76620695215233, \"y\": -1.6871661575897048, \"z\": -20.95407040234148}, \"radius\": 1.0, \"color\": \"blue\", \"alpha\": 0.9});\n\tviewer_1631253866935622.addSphere({\"center\": {\"x\": 40.65757447101175, \"y\": 11.859805757361098, \"z\": -10.992774539434226}, \"radius\": 1.0, \"color\": \"blue\", \"alpha\": 0.9});\n\tviewer_1631253866935622.addSphere({\"center\": {\"x\": 8.71909078808413, \"y\": -28.04920854708537, \"z\": -34.39005964372954}, \"radius\": 1.0, \"color\": \"blue\", \"alpha\": 0.9});\n\tviewer_1631253866935622.addSphere({\"center\": {\"x\": -6.61778229731676, \"y\": -26.84577693929611, \"z\": 33.8987015448065}, \"radius\": 1.0, \"color\": \"blue\", \"alpha\": 0.9});\n\tviewer_1631253866935622.addSphere({\"center\": {\"x\": 28.14198587873708, \"y\": 4.097218407071847, \"z\": 33.680819769867256}, \"radius\": 1.0, \"color\": \"blue\", \"alpha\": 0.9});\n\tviewer_1631253866935622.addSphere({\"center\": {\"x\": 37.771436839886775, \"y\": -7.792591156683288, \"z\": 18.941042413482037}, \"radius\": 1.0, \"color\": \"blue\", \"alpha\": 0.9});\n\tviewer_1631253866935622.addSphere({\"center\": {\"x\": -18.41586474976217, \"y\": -17.8160402085358, \"z\": 33.13973029313629}, \"radius\": 1.0, \"color\": \"blue\", \"alpha\": 0.9});\n\tviewer_1631253866935622.addSphere({\"center\": {\"x\": 29.468058996062727, \"y\": -8.487691819698533, \"z\": 29.369409460215508}, \"radius\": 1.0, \"color\": \"blue\", \"alpha\": 0.9});\n\tviewer_1631253866935622.addSphere({\"center\": {\"x\": 34.54675036226855, \"y\": 18.268112418442247, \"z\": 9.072656348607135}, \"radius\": 1.0, \"color\": \"blue\", \"alpha\": 0.9});\n\tviewer_1631253866935622.addSphere({\"center\": {\"x\": 41.194939868490835, \"y\": -5.076681930540396, \"z\": -2.325915308151389}, \"radius\": 1.0, \"color\": \"blue\", \"alpha\": 0.9});\n\tviewer_1631253866935622.addSphere({\"center\": {\"x\": 40.27959232573987, \"y\": 14.600509133499974, \"z\": 16.86006628574661}, \"radius\": 1.0, \"color\": \"blue\", \"alpha\": 0.9});\n\tviewer_1631253866935622.addSphere({\"center\": {\"x\": 5.936116569254985, \"y\": -37.3821814845013, \"z\": 13.86902228225107}, \"radius\": 1.0, \"color\": \"blue\", \"alpha\": 0.9});\n\tviewer_1631253866935622.addSphere({\"center\": {\"x\": 6.001296646020254, \"y\": 35.6490944793382, \"z\": -10.783666256692094}, \"radius\": 1.0, \"color\": \"blue\", \"alpha\": 0.9});\n\tviewer_1631253866935622.addSphere({\"center\": {\"x\": -14.877590038688524, \"y\": 43.37812791767629, \"z\": 3.769676357896074}, \"radius\": 1.0, \"color\": \"blue\", \"alpha\": 0.9});\n\tviewer_1631253866935622.addSphere({\"center\": {\"x\": -30.666822901435182, \"y\": 0.243706973868273, \"z\": -24.45527600097081}, \"radius\": 1.0, \"color\": \"blue\", \"alpha\": 0.9});\n\tviewer_1631253866935622.addSphere({\"center\": {\"x\": 35.03006841564004, \"y\": -14.941756674956341, \"z\": -9.83842617725282}, \"radius\": 1.0, \"color\": \"blue\", \"alpha\": 0.9});\n\tviewer_1631253866935622.addSphere({\"center\": {\"x\": -19.755456669533633, \"y\": -30.17485617098707, \"z\": -11.802111743584506}, \"radius\": 1.0, \"color\": \"blue\", \"alpha\": 0.9});\n\tviewer_1631253866935622.addSphere({\"center\": {\"x\": 11.1144346896148, \"y\": -12.342101791962431, \"z\": 36.48412773087859}, \"radius\": 1.0, \"color\": \"blue\", \"alpha\": 0.9});\n\tviewer_1631253866935622.addSphere({\"center\": {\"x\": -4.723657164654689, \"y\": -43.69426593797867, \"z\": -7.794527543359085}, \"radius\": 1.0, \"color\": \"blue\", \"alpha\": 0.9});\n\tviewer_1631253866935622.addSphere({\"center\": {\"x\": 1.8223972611678756, \"y\": 24.66239726751363, \"z\": -31.09468528018789}, \"radius\": 1.0, \"color\": \"blue\", \"alpha\": 0.9});\n\tviewer_1631253866935622.addSphere({\"center\": {\"x\": 27.840029680296304, \"y\": -7.534343266317614, \"z\": -33.30071261309215}, \"radius\": 1.0, \"color\": \"blue\", \"alpha\": 0.9});\n\tviewer_1631253866935622.addSphere({\"center\": {\"x\": 12.92895887116541, \"y\": 29.52544660806783, \"z\": -14.623219743831562}, \"radius\": 1.0, \"color\": \"blue\", \"alpha\": 0.9});\n\tviewer_1631253866935622.addSphere({\"center\": {\"x\": -4.372461563105768, \"y\": 37.67920117722262, \"z\": 10.4802682906344}, \"radius\": 1.0, \"color\": \"blue\", \"alpha\": 0.9});\n\tviewer_1631253866935622.addSphere({\"center\": {\"x\": 35.609674836177916, \"y\": 3.3453625345073976, \"z\": -18.993961778019898}, \"radius\": 1.0, \"color\": \"blue\", \"alpha\": 0.9});\n\tviewer_1631253866935622.addSphere({\"center\": {\"x\": 37.48041665112636, \"y\": -2.895953195137758, \"z\": -12.251562541673392}, \"radius\": 1.0, \"color\": \"blue\", \"alpha\": 0.9});\n\tviewer_1631253866935622.addSphere({\"center\": {\"x\": 32.5223943856722, \"y\": 14.099405395081638, \"z\": -11.200749167940112}, \"radius\": 1.0, \"color\": \"blue\", \"alpha\": 0.9});\n\tviewer_1631253866935622.addSphere({\"center\": {\"x\": -28.855155928553454, \"y\": -18.881477073667554, \"z\": -31.189918437489347}, \"radius\": 1.0, \"color\": \"blue\", \"alpha\": 0.9});\n\tviewer_1631253866935622.addSphere({\"center\": {\"x\": 20.954010075435612, \"y\": -30.512248679424317, \"z\": -25.565457803550785}, \"radius\": 1.0, \"color\": \"blue\", \"alpha\": 0.9});\n\tviewer_1631253866935622.addSphere({\"center\": {\"x\": 10.9000730263107, \"y\": 15.623923020317058, \"z\": 35.61703197023198}, \"radius\": 1.0, \"color\": \"blue\", \"alpha\": 0.9});\n\tviewer_1631253866935622.addSphere({\"center\": {\"x\": 18.37544338501765, \"y\": 32.061515516247255, \"z\": 27.20177962783242}, \"radius\": 1.0, \"color\": \"blue\", \"alpha\": 0.9});\n\tviewer_1631253866935622.addSphere({\"center\": {\"x\": 24.87422163868179, \"y\": 21.743420280004234, \"z\": -12.079988560539372}, \"radius\": 1.0, \"color\": \"blue\", \"alpha\": 0.9});\n\tviewer_1631253866935622.addSphere({\"center\": {\"x\": 38.31339289219548, \"y\": 5.756365424006376, \"z\": -18.345578272668504}, \"radius\": 1.0, \"color\": \"blue\", \"alpha\": 0.9});\n\tviewer_1631253866935622.addSphere({\"center\": {\"x\": 24.396312243992288, \"y\": 2.998715581678676, \"z\": -26.86351442310301}, \"radius\": 1.0, \"color\": \"blue\", \"alpha\": 0.9});\n\tviewer_1631253866935622.addSphere({\"center\": {\"x\": 4.767639050305885, \"y\": 35.07453777309806, \"z\": -3.0486374605473094}, \"radius\": 1.0, \"color\": \"blue\", \"alpha\": 0.9});\n\tviewer_1631253866935622.addSphere({\"center\": {\"x\": -14.431861400338244, \"y\": -22.120468513669827, \"z\": 38.41583997177844}, \"radius\": 1.0, \"color\": \"blue\", \"alpha\": 0.9});\n\tviewer_1631253866935622.addSphere({\"center\": {\"x\": 0.5301884882949482, \"y\": -2.9295125875970074, \"z\": 46.61982532325111}, \"radius\": 1.0, \"color\": \"blue\", \"alpha\": 0.9});\n\tviewer_1631253866935622.addSphere({\"center\": {\"x\": -20.665138930104604, \"y\": 28.175336115917624, \"z\": 2.51119398123833}, \"radius\": 1.0, \"color\": \"blue\", \"alpha\": 0.9});\n\tviewer_1631253866935622.addSphere({\"center\": {\"x\": -27.11052831993957, \"y\": -14.12513271053237, \"z\": -33.12795609719584}, \"radius\": 1.0, \"color\": \"blue\", \"alpha\": 0.9});\n\tviewer_1631253866935622.addSphere({\"center\": {\"x\": -10.4358869446191, \"y\": 43.741978393423, \"z\": -6.756423091683359}, \"radius\": 1.0, \"color\": \"blue\", \"alpha\": 0.9});\n\tviewer_1631253866935622.addSphere({\"center\": {\"x\": -3.1425872546241527, \"y\": -7.161757337032296, \"z\": -38.49428434731936}, \"radius\": 1.0, \"color\": \"blue\", \"alpha\": 0.9});\n\tviewer_1631253866935622.addSphere({\"center\": {\"x\": -2.3242648823278045, \"y\": 10.324882966417153, \"z\": -42.25987664799306}, \"radius\": 1.0, \"color\": \"blue\", \"alpha\": 0.9});\n\tviewer_1631253866935622.addSphere({\"center\": {\"x\": -25.290528096389078, \"y\": 15.291509466886353, \"z\": 24.73594647293648}, \"radius\": 1.0, \"color\": \"blue\", \"alpha\": 0.9});\n\tviewer_1631253866935622.addSphere({\"center\": {\"x\": 35.599213882680644, \"y\": 21.321739066019756, \"z\": 13.949254657326069}, \"radius\": 1.0, \"color\": \"blue\", \"alpha\": 0.9});\n\tviewer_1631253866935622.addSphere({\"center\": {\"x\": 35.47057520819701, \"y\": -8.507847762463353, \"z\": 8.984983002982801}, \"radius\": 1.0, \"color\": \"blue\", \"alpha\": 0.9});\n\tviewer_1631253866935622.addSphere({\"center\": {\"x\": -0.7603791195243815, \"y\": 11.868601198268664, \"z\": 36.36546811485134}, \"radius\": 1.0, \"color\": \"blue\", \"alpha\": 0.9});\n\tviewer_1631253866935622.addSphere({\"center\": {\"x\": 11.58495851543166, \"y\": -10.19976023842719, \"z\": -35.793826531274355}, \"radius\": 1.0, \"color\": \"blue\", \"alpha\": 0.9});\n\tviewer_1631253866935622.addSphere({\"center\": {\"x\": -30.252582988288843, \"y\": 7.402368843826714, \"z\": -31.158936988194988}, \"radius\": 1.0, \"color\": \"blue\", \"alpha\": 0.9});\n\tviewer_1631253866935622.addSphere({\"center\": {\"x\": -23.147092915508306, \"y\": -26.61395690368919, \"z\": -7.781828743892153}, \"radius\": 1.0, \"color\": \"blue\", \"alpha\": 0.9});\n\tviewer_1631253866935622.addSphere({\"center\": {\"x\": 19.43088633155072, \"y\": 5.970606942460698, \"z\": -39.522305986337635}, \"radius\": 1.0, \"color\": \"blue\", \"alpha\": 0.9});\n\tviewer_1631253866935622.addSphere({\"center\": {\"x\": -12.29219764710634, \"y\": 20.971366109663574, \"z\": 27.314897792501817}, \"radius\": 1.0, \"color\": \"blue\", \"alpha\": 0.9});\n\tviewer_1631253866935622.addSphere({\"center\": {\"x\": 2.4273991735297353, \"y\": 42.69310995334943, \"z\": -17.58235244957099}, \"radius\": 1.0, \"color\": \"blue\", \"alpha\": 0.9});\n\tviewer_1631253866935622.addSphere({\"center\": {\"x\": -41.39981290903425, \"y\": 20.322352456549922, \"z\": 7.718183034137534}, \"radius\": 1.0, \"color\": \"blue\", \"alpha\": 0.9});\n\tviewer_1631253866935622.addSphere({\"center\": {\"x\": -7.183755600899834, \"y\": 41.95083060961405, \"z\": 11.346386364403056}, \"radius\": 1.0, \"color\": \"blue\", \"alpha\": 0.9});\n\tviewer_1631253866935622.addSphere({\"center\": {\"x\": -18.313461790545283, \"y\": 17.304579753949003, \"z\": -25.193817455757703}, \"radius\": 1.0, \"color\": \"blue\", \"alpha\": 0.9});\n\tviewer_1631253866935622.addSphere({\"center\": {\"x\": 35.32940462922864, \"y\": 8.837564662781563, \"z\": -7.047087852467751}, \"radius\": 1.0, \"color\": \"blue\", \"alpha\": 0.9});\n\tviewer_1631253866935622.addSphere({\"center\": {\"x\": -36.02090061353832, \"y\": 25.854012820739985, \"z\": 3.0344294681541473}, \"radius\": 1.0, \"color\": \"blue\", \"alpha\": 0.9});\n\tviewer_1631253866935622.addSphere({\"center\": {\"x\": 27.545100947019872, \"y\": -22.331018984112177, \"z\": 24.75788282010037}, \"radius\": 1.0, \"color\": \"blue\", \"alpha\": 0.9});\n\tviewer_1631253866935622.addSphere({\"center\": {\"x\": -10.559415002525109, \"y\": -8.342789382960975, \"z\": -43.973108904971745}, \"radius\": 1.0, \"color\": \"blue\", \"alpha\": 0.9});\n\tviewer_1631253866935622.addSphere({\"center\": {\"x\": 18.069857592078385, \"y\": 11.299690681456218, \"z\": -32.52809590474549}, \"radius\": 1.0, \"color\": \"blue\", \"alpha\": 0.9});\n\tviewer_1631253866935622.addSphere({\"center\": {\"x\": -26.923491477213425, \"y\": 25.676763238836205, \"z\": -19.00173573068249}, \"radius\": 1.0, \"color\": \"blue\", \"alpha\": 0.9});\n\tviewer_1631253866935622.addSphere({\"center\": {\"x\": 6.5557065480319965, \"y\": -20.66285669769059, \"z\": -33.537536571899956}, \"radius\": 1.0, \"color\": \"blue\", \"alpha\": 0.9});\n\tviewer_1631253866935622.addSphere({\"center\": {\"x\": 10.766443286541865, \"y\": -34.37285628897834, \"z\": -10.399185208383033}, \"radius\": 1.0, \"color\": \"blue\", \"alpha\": 0.9});\n\tviewer_1631253866935622.addSphere({\"center\": {\"x\": 16.319942452073718, \"y\": -38.86740792294467, \"z\": 0.564619982003414}, \"radius\": 1.0, \"color\": \"blue\", \"alpha\": 0.9});\n\tviewer_1631253866935622.addSphere({\"center\": {\"x\": -18.985150094973985, \"y\": 28.39371283114481, \"z\": -9.345238569868483}, \"radius\": 1.0, \"color\": \"blue\", \"alpha\": 0.9});\n\tviewer_1631253866935622.addSphere({\"center\": {\"x\": 34.37709281726234, \"y\": 17.27429948313677, \"z\": 26.953816245744466}, \"radius\": 1.0, \"color\": \"blue\", \"alpha\": 0.9});\n\tviewer_1631253866935622.addSphere({\"center\": {\"x\": -23.842901833997782, \"y\": 8.596357056298643, \"z\": 25.74276479027984}, \"radius\": 1.0, \"color\": \"blue\", \"alpha\": 0.9});\n\tviewer_1631253866935622.addSphere({\"center\": {\"x\": -40.61523093014805, \"y\": -9.315938025425464, \"z\": -17.794853122128345}, \"radius\": 1.0, \"color\": \"blue\", \"alpha\": 0.9});\n\tviewer_1631253866935622.addSphere({\"center\": {\"x\": 10.897015156743631, \"y\": 40.40065882781002, \"z\": 9.646328806463162}, \"radius\": 1.0, \"color\": \"blue\", \"alpha\": 0.9});\n\tviewer_1631253866935622.addSphere({\"center\": {\"x\": -38.36575244546089, \"y\": 22.809184748468493, \"z\": -9.011822737872743}, \"radius\": 1.0, \"color\": \"blue\", \"alpha\": 0.9});\n\tviewer_1631253866935622.addSphere({\"center\": {\"x\": 33.24902358657437, \"y\": 17.737036562166857, \"z\": -15.761289889346251}, \"radius\": 1.0, \"color\": \"blue\", \"alpha\": 0.9});\n\tviewer_1631253866935622.addSphere({\"center\": {\"x\": -1.5301191004306955, \"y\": -34.65768540396745, \"z\": -19.38835975870695}, \"radius\": 1.0, \"color\": \"blue\", \"alpha\": 0.9});\n\tviewer_1631253866935622.addSphere({\"center\": {\"x\": 20.205418188729002, \"y\": 37.69108431064737, \"z\": -0.8714013873696841}, \"radius\": 1.0, \"color\": \"blue\", \"alpha\": 0.9});\n\tviewer_1631253866935622.addSphere({\"center\": {\"x\": 7.69949780736593, \"y\": -11.876349947483375, \"z\": 44.77289513287273}, \"radius\": 1.0, \"color\": \"blue\", \"alpha\": 0.9});\n\tviewer_1631253866935622.addSphere({\"center\": {\"x\": 16.857958989632667, \"y\": -18.05784784618227, \"z\": -32.87718310998877}, \"radius\": 1.0, \"color\": \"blue\", \"alpha\": 0.9});\n\tviewer_1631253866935622.addSphere({\"center\": {\"x\": 29.49771162803594, \"y\": 21.170534936684525, \"z\": -9.397152830268732}, \"radius\": 1.0, \"color\": \"blue\", \"alpha\": 0.9});\n\tviewer_1631253866935622.addSphere({\"center\": {\"x\": 31.609041717829747, \"y\": 21.880992089692782, \"z\": -6.922493320846867}, \"radius\": 1.0, \"color\": \"blue\", \"alpha\": 0.9});\n\tviewer_1631253866935622.addSphere({\"center\": {\"x\": 5.56784573925974, \"y\": 32.61671566879623, \"z\": -15.842499967639855}, \"radius\": 1.0, \"color\": \"blue\", \"alpha\": 0.9});\n\tviewer_1631253866935622.addSphere({\"center\": {\"x\": -15.525428447891676, \"y\": 25.944035296679864, \"z\": 18.67692432596829}, \"radius\": 1.0, \"color\": \"blue\", \"alpha\": 0.9});\n\tviewer_1631253866935622.addSphere({\"center\": {\"x\": 24.348835456219753, \"y\": -26.88851202813683, \"z\": 14.432643676614585}, \"radius\": 1.0, \"color\": \"blue\", \"alpha\": 0.9});\n\tviewer_1631253866935622.addSphere({\"center\": {\"x\": 7.697929274717375, \"y\": -45.58008567859118, \"z\": 5.636507479499369}, \"radius\": 1.0, \"color\": \"blue\", \"alpha\": 0.9});\n\tviewer_1631253866935622.addSphere({\"center\": {\"x\": 31.10948096971213, \"y\": -26.418310010511348, \"z\": -9.662923893526557}, \"radius\": 1.0, \"color\": \"blue\", \"alpha\": 0.9});\n\tviewer_1631253866935622.addSphere({\"center\": {\"x\": 4.607333940173654, \"y\": 43.95858986931544, \"z\": 9.48336223808019}, \"radius\": 1.0, \"color\": \"blue\", \"alpha\": 0.9});\n\tviewer_1631253866935622.addSphere({\"center\": {\"x\": 31.860471482684066, \"y\": -6.0314651207313865, \"z\": 14.550177435293758}, \"radius\": 1.0, \"color\": \"blue\", \"alpha\": 0.9});\n\tviewer_1631253866935622.addSphere({\"center\": {\"x\": 8.425171486109166, \"y\": -6.93159476498516, \"z\": 44.361314721422445}, \"radius\": 1.0, \"color\": \"blue\", \"alpha\": 0.9});\n\tviewer_1631253866935622.addSphere({\"center\": {\"x\": 39.66283653782547, \"y\": 8.136381043297275, \"z\": 5.961472950501773}, \"radius\": 1.0, \"color\": \"blue\", \"alpha\": 0.9});\n\tviewer_1631253866935622.addSphere({\"center\": {\"x\": 4.517901456409566, \"y\": -28.434380602899918, \"z\": 31.479662471348178}, \"radius\": 1.0, \"color\": \"blue\", \"alpha\": 0.9});\n\tviewer_1631253866935622.addSphere({\"center\": {\"x\": 10.033846072726105, \"y\": 34.73455620933104, \"z\": 12.605234635988262}, \"radius\": 1.0, \"color\": \"blue\", \"alpha\": 0.9});\n\tviewer_1631253866935622.addSphere({\"center\": {\"x\": -13.430209707266734, \"y\": 36.07737111120848, \"z\": -22.19114566863077}, \"radius\": 1.0, \"color\": \"blue\", \"alpha\": 0.9});\n\tviewer_1631253866935622.addSphere({\"center\": {\"x\": 36.59482361111086, \"y\": 20.252012891700797, \"z\": -6.281561180589337}, \"radius\": 1.0, \"color\": \"blue\", \"alpha\": 0.9});\n\tviewer_1631253866935622.addSphere({\"center\": {\"x\": -10.449099728397089, \"y\": 45.04704605850758, \"z\": -6.73833434888992}, \"radius\": 1.0, \"color\": \"blue\", \"alpha\": 0.9});\n\tviewer_1631253866935622.addSphere({\"center\": {\"x\": -27.416025469850744, \"y\": -14.46419430834828, \"z\": 28.965313290988185}, \"radius\": 1.0, \"color\": \"blue\", \"alpha\": 0.9});\n\tviewer_1631253866935622.addSphere({\"center\": {\"x\": 28.041190273076943, \"y\": 27.824185701678665, \"z\": 2.652786273622544}, \"radius\": 1.0, \"color\": \"blue\", \"alpha\": 0.9});\n\tviewer_1631253866935622.addSphere({\"center\": {\"x\": -4.167431405369879, \"y\": 33.79353872005926, \"z\": -26.92944223165087}, \"radius\": 1.0, \"color\": \"blue\", \"alpha\": 0.9});\n\tviewer_1631253866935622.addSphere({\"center\": {\"x\": -16.177741468274927, \"y\": -18.966946334574178, \"z\": 37.96074819231802}, \"radius\": 1.0, \"color\": \"blue\", \"alpha\": 0.9});\n\tviewer_1631253866935622.addSphere({\"center\": {\"x\": 30.93168266428039, \"y\": -19.38060598870915, \"z\": 25.678449840396897}, \"radius\": 1.0, \"color\": \"blue\", \"alpha\": 0.9});\n\tviewer_1631253866935622.addSphere({\"center\": {\"x\": 1.8851323455191629, \"y\": 40.43692000919257, \"z\": 13.32068077859027}, \"radius\": 1.0, \"color\": \"blue\", \"alpha\": 0.9});\n\tviewer_1631253866935622.addSphere({\"center\": {\"x\": -31.229556404023874, \"y\": 0.26084699391908883, \"z\": 25.723955880494398}, \"radius\": 1.0, \"color\": \"blue\", \"alpha\": 0.9});\n\tviewer_1631253866935622.addSphere({\"center\": {\"x\": -5.353110521504367, \"y\": -14.36605819812433, \"z\": -39.67849221414018}, \"radius\": 1.0, \"color\": \"blue\", \"alpha\": 0.9});\n\tviewer_1631253866935622.addSphere({\"center\": {\"x\": 22.10885231146228, \"y\": 18.346647499515566, \"z\": 22.045758108727338}, \"radius\": 1.0, \"color\": \"blue\", \"alpha\": 0.9});\n\tviewer_1631253866935622.addSphere({\"center\": {\"x\": -20.852237584530794, \"y\": -23.719502659755904, \"z\": -20.17598098931935}, \"radius\": 1.0, \"color\": \"blue\", \"alpha\": 0.9});\n\tviewer_1631253866935622.addSphere({\"center\": {\"x\": -9.988425716958055, \"y\": -22.22130572230521, \"z\": 35.21821336595203}, \"radius\": 1.0, \"color\": \"blue\", \"alpha\": 0.9});\n\tviewer_1631253866935622.addSphere({\"center\": {\"x\": 5.8451392239470294, \"y\": 9.849117331190582, \"z\": -40.6388392943708}, \"radius\": 1.0, \"color\": \"blue\", \"alpha\": 0.9});\n\tviewer_1631253866935622.addSphere({\"center\": {\"x\": -31.42559257344575, \"y\": -1.2570520633810869, \"z\": 31.266298443132655}, \"radius\": 1.0, \"color\": \"blue\", \"alpha\": 0.9});\n\tviewer_1631253866935622.addSphere({\"center\": {\"x\": 8.141627187249425, \"y\": 32.3672645293148, \"z\": 14.59854783094366}, \"radius\": 1.0, \"color\": \"blue\", \"alpha\": 0.9});\n\tviewer_1631253866935622.addSphere({\"center\": {\"x\": -27.162791573666482, \"y\": 19.657339067814117, \"z\": 12.433339071957459}, \"radius\": 1.0, \"color\": \"blue\", \"alpha\": 0.9});\n\tviewer_1631253866935622.addSphere({\"center\": {\"x\": -2.7441641889875394, \"y\": -46.580332282639, \"z\": -0.3613685733771922}, \"radius\": 1.0, \"color\": \"blue\", \"alpha\": 0.9});\n\tviewer_1631253866935622.addSphere({\"center\": {\"x\": 6.3543739493117535, \"y\": 42.266860154680366, \"z\": 3.937174306759799}, \"radius\": 1.0, \"color\": \"blue\", \"alpha\": 0.9});\n\tviewer_1631253866935622.addSphere({\"center\": {\"x\": 14.41304059403543, \"y\": -30.382527136799148, \"z\": -28.783922410434762}, \"radius\": 1.0, \"color\": \"blue\", \"alpha\": 0.9});\n\tviewer_1631253866935622.addSphere({\"center\": {\"x\": -36.729898213931776, \"y\": 12.56582486160793, \"z\": 19.094836555341587}, \"radius\": 1.0, \"color\": \"blue\", \"alpha\": 0.9});\n\tviewer_1631253866935622.addSphere({\"center\": {\"x\": -3.027072426318488, \"y\": 39.19890016728602, \"z\": 19.956850368359184}, \"radius\": 1.0, \"color\": \"blue\", \"alpha\": 0.9});\n\tviewer_1631253866935622.addSphere({\"center\": {\"x\": 6.73069258134635, \"y\": 19.086399274745766, \"z\": -39.400719287965686}, \"radius\": 1.0, \"color\": \"blue\", \"alpha\": 0.9});\n\tviewer_1631253866935622.addSphere({\"center\": {\"x\": 31.867759032341688, \"y\": -15.212807317993342, \"z\": -8.247622701165508}, \"radius\": 1.0, \"color\": \"blue\", \"alpha\": 0.9});\n\tviewer_1631253866935622.addSphere({\"center\": {\"x\": 22.49197558767652, \"y\": 32.06764836346732, \"z\": 22.97340072367221}, \"radius\": 1.0, \"color\": \"blue\", \"alpha\": 0.9});\n\tviewer_1631253866935622.addSphere({\"center\": {\"x\": 20.378694615562097, \"y\": -28.470992455044176, \"z\": 9.705170616453458}, \"radius\": 1.0, \"color\": \"blue\", \"alpha\": 0.9});\n\tviewer_1631253866935622.addSphere({\"center\": {\"x\": -9.590834026975624, \"y\": 12.397531496877633, \"z\": 41.360123133734625}, \"radius\": 1.0, \"color\": \"blue\", \"alpha\": 0.9});\n\tviewer_1631253866935622.addSphere({\"center\": {\"x\": -37.30323858069698, \"y\": -12.325061415012712, \"z\": 16.116033159635496}, \"radius\": 1.0, \"color\": \"blue\", \"alpha\": 0.9});\n\tviewer_1631253866935622.addSphere({\"center\": {\"x\": -3.8256790651494756, \"y\": 41.57938823991241, \"z\": 1.6517459857120882}, \"radius\": 1.0, \"color\": \"blue\", \"alpha\": 0.9});\n\tviewer_1631253866935622.addSphere({\"center\": {\"x\": -1.2260876653689514, \"y\": -11.043469559483514, \"z\": -37.79347693729824}, \"radius\": 1.0, \"color\": \"blue\", \"alpha\": 0.9});\n\tviewer_1631253866935622.addSphere({\"center\": {\"x\": 2.796484238448561, \"y\": -13.240733210997554, \"z\": 44.78434647011166}, \"radius\": 1.0, \"color\": \"blue\", \"alpha\": 0.9});\n\tviewer_1631253866935622.addSphere({\"center\": {\"x\": -24.51916168648651, \"y\": 15.612115033354103, \"z\": 28.845454113865916}, \"radius\": 1.0, \"color\": \"blue\", \"alpha\": 0.9});\n\tviewer_1631253866935622.addSphere({\"center\": {\"x\": -30.181869875213998, \"y\": -16.727866544645423, \"z\": -29.93976854834002}, \"radius\": 1.0, \"color\": \"blue\", \"alpha\": 0.9});\n\tviewer_1631253866935622.addSphere({\"center\": {\"x\": -4.5582969899977686, \"y\": -14.411074362695112, \"z\": 37.22526500683939}, \"radius\": 1.0, \"color\": \"blue\", \"alpha\": 0.9});\n\tviewer_1631253866935622.addSphere({\"center\": {\"x\": 13.294571856026176, \"y\": 44.58893295847582, \"z\": -2.3027025476041794}, \"radius\": 1.0, \"color\": \"blue\", \"alpha\": 0.9});\n\tviewer_1631253866935622.addSphere({\"center\": {\"x\": 19.631331397055927, \"y\": -16.778911146337105, \"z\": -24.680111177572837}, \"radius\": 1.0, \"color\": \"blue\", \"alpha\": 0.9});\n\tviewer_1631253866935622.addSphere({\"center\": {\"x\": -11.052326211323626, \"y\": -42.11624955498571, \"z\": 3.5444202801932434}, \"radius\": 1.0, \"color\": \"blue\", \"alpha\": 0.9});\n\tviewer_1631253866935622.addSphere({\"center\": {\"x\": 25.309810511029298, \"y\": -21.321835270479465, \"z\": -24.30102922821761}, \"radius\": 1.0, \"color\": \"blue\", \"alpha\": 0.9});\n\tviewer_1631253866935622.addSphere({\"center\": {\"x\": -7.076327526122915, \"y\": 35.58292462390881, \"z\": 24.434583860972907}, \"radius\": 1.0, \"color\": \"blue\", \"alpha\": 0.9});\n\tviewer_1631253866935622.addSphere({\"center\": {\"x\": 26.976974197473233, \"y\": -18.666246786105535, \"z\": 23.900967370309957}, \"radius\": 1.0, \"color\": \"blue\", \"alpha\": 0.9});\n\tviewer_1631253866935622.addSphere({\"center\": {\"x\": -24.860009761106074, \"y\": 19.833248990877795, \"z\": 17.391833651339233}, \"radius\": 1.0, \"color\": \"blue\", \"alpha\": 0.9});\n\tviewer_1631253866935622.addSphere({\"center\": {\"x\": -21.586623721510072, \"y\": -40.65662088017986, \"z\": -4.51762108651502}, \"radius\": 1.0, \"color\": \"blue\", \"alpha\": 0.9});\n\tviewer_1631253866935622.addSphere({\"center\": {\"x\": 34.90057070220428, \"y\": 24.31116064753002, \"z\": 18.58956411230818}, \"radius\": 1.0, \"color\": \"blue\", \"alpha\": 0.9});\n\tviewer_1631253866935622.addSphere({\"center\": {\"x\": -5.701453250410785, \"y\": 34.55629166650131, \"z\": 28.993651263162835}, \"radius\": 1.0, \"color\": \"blue\", \"alpha\": 0.9});\n\tviewer_1631253866935622.addSphere({\"center\": {\"x\": -21.38092664336073, \"y\": -35.24825910214709, \"z\": 2.796989966255714}, \"radius\": 1.0, \"color\": \"blue\", \"alpha\": 0.9});\n\tviewer_1631253866935622.addSphere({\"center\": {\"x\": 31.688875655828788, \"y\": 17.940518236793398, \"z\": 21.391813325583392}, \"radius\": 1.0, \"color\": \"blue\", \"alpha\": 0.9});\n\tviewer_1631253866935622.addSphere({\"center\": {\"x\": -13.776756832612165, \"y\": -30.490951032445434, \"z\": -27.0282342481347}, \"radius\": 1.0, \"color\": \"blue\", \"alpha\": 0.9});\n\tviewer_1631253866935622.addSphere({\"center\": {\"x\": 8.261795768490552, \"y\": -24.004129523817028, \"z\": 28.54454892707392}, \"radius\": 1.0, \"color\": \"blue\", \"alpha\": 0.9});\n\tviewer_1631253866935622.addSphere({\"center\": {\"x\": 13.585781337683988, \"y\": 38.04851656058543, \"z\": 6.859264041712091}, \"radius\": 1.0, \"color\": \"blue\", \"alpha\": 0.9});\n\tviewer_1631253866935622.addSphere({\"center\": {\"x\": 39.414459254594604, \"y\": -14.718393096967572, \"z\": 4.520832258849092}, \"radius\": 1.0, \"color\": \"blue\", \"alpha\": 0.9});\n\tviewer_1631253866935622.addSphere({\"center\": {\"x\": 26.108557296370083, \"y\": -32.8134909558658, \"z\": -10.483383336486044}, \"radius\": 1.0, \"color\": \"blue\", \"alpha\": 0.9});\n\tviewer_1631253866935622.addSphere({\"center\": {\"x\": -26.457642628476478, \"y\": -12.983539903254659, \"z\": 25.009071413430707}, \"radius\": 1.0, \"color\": \"blue\", \"alpha\": 0.9});\n\tviewer_1631253866935622.addSphere({\"center\": {\"x\": 19.258252801775605, \"y\": -31.733406875303253, \"z\": -23.462648611174107}, \"radius\": 1.0, \"color\": \"blue\", \"alpha\": 0.9});\n\tviewer_1631253866935622.addSphere({\"center\": {\"x\": 1.9489656390346428, \"y\": -23.586002182624977, \"z\": 29.505443437577014}, \"radius\": 1.0, \"color\": \"blue\", \"alpha\": 0.9});\n\tviewer_1631253866935622.addSphere({\"center\": {\"x\": 42.00922416473073, \"y\": -16.40823287715666, \"z\": 0.20152616957095712}, \"radius\": 1.0, \"color\": \"blue\", \"alpha\": 0.9});\n\tviewer_1631253866935622.addSphere({\"center\": {\"x\": 34.91934311734804, \"y\": -11.943585116175322, \"z\": -9.578034210571698}, \"radius\": 1.0, \"color\": \"blue\", \"alpha\": 0.9});\n\tviewer_1631253866935622.addSphere({\"center\": {\"x\": 24.975307679964867, \"y\": 19.616995322546792, \"z\": 22.63044540891238}, \"radius\": 1.0, \"color\": \"blue\", \"alpha\": 0.9});\n\tviewer_1631253866935622.addSphere({\"center\": {\"x\": 36.75797902681179, \"y\": 10.822711883868102, \"z\": 24.97682377477341}, \"radius\": 1.0, \"color\": \"blue\", \"alpha\": 0.9});\n\tviewer_1631253866935622.addSphere({\"center\": {\"x\": 42.48662063132894, \"y\": -1.0137415266920071, \"z\": -5.5138272186264725}, \"radius\": 1.0, \"color\": \"blue\", \"alpha\": 0.9});\nviewer_1631253866935622.render();\n});\n</script>",
      "text/html": [
       "<div id=\"3dmolviewer_1631253866935622\"  style=\"position: relative; width: 640px; height: 480px\">\n",
       "        <p id=\"3dmolwarning_1631253866935622\" style=\"background-color:#ffcccc;color:black\">You appear to be running in JupyterLab (or JavaScript failed to load for some other reason).  You need to install the 3dmol extension: <br>\n",
       "        <tt>jupyter labextension install jupyterlab_3dmol</tt></p>\n",
       "        </div>\n",
       "<script>\n",
       "\n",
       "var loadScriptAsync = function(uri){\n",
       "  return new Promise((resolve, reject) => {\n",
       "    var tag = document.createElement('script');\n",
       "    tag.src = uri;\n",
       "    tag.async = true;\n",
       "    tag.onload = () => {\n",
       "      resolve();\n",
       "    };\n",
       "  var firstScriptTag = document.getElementsByTagName('script')[0];\n",
       "  firstScriptTag.parentNode.insertBefore(tag, firstScriptTag);\n",
       "});\n",
       "};\n",
       "\n",
       "if(typeof $3Dmolpromise === 'undefined') {\n",
       "$3Dmolpromise = null;\n",
       "  $3Dmolpromise = loadScriptAsync('https://3dmol.org/build/3Dmol.js');\n",
       "}\n",
       "\n",
       "var viewer_1631253866935622 = null;\n",
       "var warn = document.getElementById(\"3dmolwarning_1631253866935622\");\n",
       "if(warn) {\n",
       "    warn.parentNode.removeChild(warn);\n",
       "}\n",
       "$3Dmolpromise.then(function() {\n",
       "viewer_1631253866935622 = $3Dmol.createViewer($(\"#3dmolviewer_1631253866935622\"),{backgroundColor:\"white\"});\n",
       "viewer_1631253866935622.zoomTo();\n",
       "\tviewer_1631253866935622.addSphere({\"center\": {\"x\": -8.921298057532189, \"y\": 9.001437431358035, \"z\": -18.617175511238102}, \"radius\": 1.0, \"color\": \"blue\", \"alpha\": 0.9});\n",
       "\tviewer_1631253866935622.addSphere({\"center\": {\"x\": -9.904919661006153, \"y\": 20.127790450659717, \"z\": -3.4318384824158095}, \"radius\": 1.0, \"color\": \"blue\", \"alpha\": 0.9});\n",
       "\tviewer_1631253866935622.addSphere({\"center\": {\"x\": 21.061409077062766, \"y\": -2.6005361114153143, \"z\": -3.585086355463275}, \"radius\": 1.0, \"color\": \"blue\", \"alpha\": 0.9});\n",
       "\tviewer_1631253866935622.addSphere({\"center\": {\"x\": -0.2720582642764508, \"y\": 20.825770367004782, \"z\": -0.5067726980716378}, \"radius\": 1.0, \"color\": \"blue\", \"alpha\": 0.9});\n",
       "\tviewer_1631253866935622.addSphere({\"center\": {\"x\": -9.626724462161684, \"y\": 6.1595993811465135, \"z\": 14.74138285249943}, \"radius\": 1.0, \"color\": \"blue\", \"alpha\": 0.9});\n",
       "\tviewer_1631253866935622.addSphere({\"center\": {\"x\": 4.568302902255904, \"y\": 14.40865462215227, \"z\": -4.839404014794325}, \"radius\": 1.0, \"color\": \"blue\", \"alpha\": 0.9});\n",
       "\tviewer_1631253866935622.addSphere({\"center\": {\"x\": -1.561153817723106, \"y\": -15.217260375082574, \"z\": 3.139389248389126}, \"radius\": 1.0, \"color\": \"blue\", \"alpha\": 0.9});\n",
       "\tviewer_1631253866935622.addSphere({\"center\": {\"x\": -10.098486612126415, \"y\": 5.371966867590948, \"z\": -21.195079988859916}, \"radius\": 1.0, \"color\": \"blue\", \"alpha\": 0.9});\n",
       "\tviewer_1631253866935622.addSphere({\"center\": {\"x\": -0.36136840521564983, \"y\": -8.18562268629679, \"z\": -24.05316342516803}, \"radius\": 1.0, \"color\": \"blue\", \"alpha\": 0.9});\n",
       "\tviewer_1631253866935622.addSphere({\"center\": {\"x\": -16.50870073928852, \"y\": 4.17213496444697, \"z\": 20.57159599597258}, \"radius\": 1.0, \"color\": \"blue\", \"alpha\": 0.9});\n",
       "\tviewer_1631253866935622.addSphere({\"center\": {\"x\": -17.597104940092795, \"y\": 10.540928769309364, \"z\": 14.396945123891433}, \"radius\": 1.0, \"color\": \"blue\", \"alpha\": 0.9});\n",
       "\tviewer_1631253866935622.addSphere({\"center\": {\"x\": 21.250399280431164, \"y\": -2.8934957100491396, \"z\": -0.9397630519893133}, \"radius\": 1.0, \"color\": \"blue\", \"alpha\": 0.9});\n",
       "\tviewer_1631253866935622.addSphere({\"center\": {\"x\": -9.179895170914497, \"y\": 13.110949097396812, \"z\": -9.896175139799475}, \"radius\": 1.0, \"color\": \"blue\", \"alpha\": 0.9});\n",
       "\tviewer_1631253866935622.addSphere({\"center\": {\"x\": -5.282304844042428, \"y\": -16.804533887653037, \"z\": -6.842299441167884}, \"radius\": 1.0, \"color\": \"blue\", \"alpha\": 0.9});\n",
       "\tviewer_1631253866935622.addSphere({\"center\": {\"x\": -5.9521923715971985, \"y\": -2.4822982640658053, \"z\": -19.1277100583997}, \"radius\": 1.0, \"color\": \"blue\", \"alpha\": 0.9});\n",
       "\tviewer_1631253866935622.addSphere({\"center\": {\"x\": -16.4125411936067, \"y\": -18.369510038935417, \"z\": -0.569220720516572}, \"radius\": 1.0, \"color\": \"blue\", \"alpha\": 0.9});\n",
       "\tviewer_1631253866935622.addSphere({\"center\": {\"x\": -8.155891808678499, \"y\": 3.8556569377854535, \"z\": 20.90903178697005}, \"radius\": 1.0, \"color\": \"blue\", \"alpha\": 0.9});\n",
       "\tviewer_1631253866935622.addSphere({\"center\": {\"x\": 8.699435517530619, \"y\": 12.10045767926503, \"z\": -22.4827849407037}, \"radius\": 1.0, \"color\": \"blue\", \"alpha\": 0.9});\n",
       "\tviewer_1631253866935622.addSphere({\"center\": {\"x\": -8.75362950798585, \"y\": -10.325557835594358, \"z\": -21.782184658048628}, \"radius\": 1.0, \"color\": \"blue\", \"alpha\": 0.9});\n",
       "\tviewer_1631253866935622.addSphere({\"center\": {\"x\": 5.202953502987199, \"y\": -20.530388385553557, \"z\": 9.13603196877797}, \"radius\": 1.0, \"color\": \"blue\", \"alpha\": 0.9});\n",
       "\tviewer_1631253866935622.addSphere({\"center\": {\"x\": 23.7313311852427, \"y\": 8.663130611470029, \"z\": 6.25515851767184}, \"radius\": 1.0, \"color\": \"blue\", \"alpha\": 0.9});\n",
       "\tviewer_1631253866935622.addSphere({\"center\": {\"x\": 3.302655632936082, \"y\": -4.858191456816325, \"z\": -15.535746068704933}, \"radius\": 1.0, \"color\": \"blue\", \"alpha\": 0.9});\n",
       "\tviewer_1631253866935622.addSphere({\"center\": {\"x\": -6.135774417808953, \"y\": -17.99663936936512, \"z\": 16.259211027206696}, \"radius\": 1.0, \"color\": \"blue\", \"alpha\": 0.9});\n",
       "\tviewer_1631253866935622.addSphere({\"center\": {\"x\": -5.128422496857778, \"y\": -3.6723034744377676, \"z\": -17.542429191913126}, \"radius\": 1.0, \"color\": \"blue\", \"alpha\": 0.9});\n",
       "\tviewer_1631253866935622.addSphere({\"center\": {\"x\": -3.341877066489126, \"y\": -2.4993957685092822, \"z\": -25.949279736866877}, \"radius\": 1.0, \"color\": \"blue\", \"alpha\": 0.9});\n",
       "\tviewer_1631253866935622.addSphere({\"center\": {\"x\": 9.539642478934098, \"y\": 12.181551740345174, \"z\": 11.582109708854649}, \"radius\": 1.0, \"color\": \"blue\", \"alpha\": 0.9});\n",
       "\tviewer_1631253866935622.addSphere({\"center\": {\"x\": 7.434794395995464, \"y\": 15.749688589072191, \"z\": 12.466793089174377}, \"radius\": 1.0, \"color\": \"blue\", \"alpha\": 0.9});\n",
       "\tviewer_1631253866935622.addSphere({\"center\": {\"x\": 12.214368616843714, \"y\": 7.837701812300481, \"z\": -10.076943904113405}, \"radius\": 1.0, \"color\": \"blue\", \"alpha\": 0.9});\n",
       "\tviewer_1631253866935622.addSphere({\"center\": {\"x\": -16.559587535238993, \"y\": -0.9826150807632541, \"z\": -3.3585067132821496}, \"radius\": 1.0, \"color\": \"blue\", \"alpha\": 0.9});\n",
       "\tviewer_1631253866935622.addSphere({\"center\": {\"x\": -3.46646332965255, \"y\": 18.155684782183027, \"z\": 7.5432400920010565}, \"radius\": 1.0, \"color\": \"blue\", \"alpha\": 0.9});\n",
       "\tviewer_1631253866935622.addSphere({\"center\": {\"x\": -23.19304558181175, \"y\": 4.195013074856572, \"z\": 6.327473770395879}, \"radius\": 1.0, \"color\": \"blue\", \"alpha\": 0.9});\n",
       "\tviewer_1631253866935622.addSphere({\"center\": {\"x\": -7.563611514139838, \"y\": 21.46333737996563, \"z\": -5.273999484665497}, \"radius\": 1.0, \"color\": \"blue\", \"alpha\": 0.9});\n",
       "\tviewer_1631253866935622.addSphere({\"center\": {\"x\": 11.254576983362375, \"y\": 15.197942511461264, \"z\": -11.590036234782934}, \"radius\": 1.0, \"color\": \"blue\", \"alpha\": 0.9});\n",
       "\tviewer_1631253866935622.addSphere({\"center\": {\"x\": 16.006241640370277, \"y\": 1.302978837501997, \"z\": -1.077673742850901}, \"radius\": 1.0, \"color\": \"blue\", \"alpha\": 0.9});\n",
       "\tviewer_1631253866935622.addSphere({\"center\": {\"x\": -7.014774880476222, \"y\": -16.590520340111553, \"z\": -18.602835823916614}, \"radius\": 1.0, \"color\": \"blue\", \"alpha\": 0.9});\n",
       "\tviewer_1631253866935622.addSphere({\"center\": {\"x\": 25.574160955937497, \"y\": -7.150767641988127, \"z\": -3.6171540388962105}, \"radius\": 1.0, \"color\": \"blue\", \"alpha\": 0.9});\n",
       "\tviewer_1631253866935622.addSphere({\"center\": {\"x\": -16.901163995323714, \"y\": -5.417380571943426, \"z\": 14.352105100414603}, \"radius\": 1.0, \"color\": \"blue\", \"alpha\": 0.9});\n",
       "\tviewer_1631253866935622.addSphere({\"center\": {\"x\": -6.315651912036961, \"y\": 0.6702255755704613, \"z\": 23.24303825611341}, \"radius\": 1.0, \"color\": \"blue\", \"alpha\": 0.9});\n",
       "\tviewer_1631253866935622.addSphere({\"center\": {\"x\": 5.156366878594647, \"y\": -17.886279172317536, \"z\": -5.057159222227643}, \"radius\": 1.0, \"color\": \"blue\", \"alpha\": 0.9});\n",
       "\tviewer_1631253866935622.addSphere({\"center\": {\"x\": 3.102030244937931, \"y\": 22.30555625742844, \"z\": -5.355009728411997}, \"radius\": 1.0, \"color\": \"blue\", \"alpha\": 0.9});\n",
       "\tviewer_1631253866935622.addSphere({\"center\": {\"x\": -18.79038311306323, \"y\": 12.770256047884482, \"z\": 3.151342645081369}, \"radius\": 1.0, \"color\": \"blue\", \"alpha\": 0.9});\n",
       "\tviewer_1631253866935622.addSphere({\"center\": {\"x\": -3.7636071337952774, \"y\": -14.48512968988638, \"z\": 19.314266594276535}, \"radius\": 1.0, \"color\": \"blue\", \"alpha\": 0.9});\n",
       "\tviewer_1631253866935622.addSphere({\"center\": {\"x\": 10.628046086327863, \"y\": 10.742520222281309, \"z\": -10.742614790544241}, \"radius\": 1.0, \"color\": \"blue\", \"alpha\": 0.9});\n",
       "\tviewer_1631253866935622.addSphere({\"center\": {\"x\": 0.10053895843454906, \"y\": 26.796397575460784, \"z\": 1.3796057301327056}, \"radius\": 1.0, \"color\": \"blue\", \"alpha\": 0.9});\n",
       "\tviewer_1631253866935622.addSphere({\"center\": {\"x\": -9.68159872122865, \"y\": 8.507633584858088, \"z\": 13.190113283101407}, \"radius\": 1.0, \"color\": \"blue\", \"alpha\": 0.9});\n",
       "\tviewer_1631253866935622.addSphere({\"center\": {\"x\": 10.658433673402344, \"y\": 5.811008010380489, \"z\": 20.643084549475365}, \"radius\": 1.0, \"color\": \"blue\", \"alpha\": 0.9});\n",
       "\tviewer_1631253866935622.addSphere({\"center\": {\"x\": 18.238458735052948, \"y\": 14.925381402674935, \"z\": 4.727920015613468}, \"radius\": 1.0, \"color\": \"blue\", \"alpha\": 0.9});\n",
       "\tviewer_1631253866935622.addSphere({\"center\": {\"x\": 0.24013671327600355, \"y\": 22.676151393854646, \"z\": 3.2311068757567876}, \"radius\": 1.0, \"color\": \"blue\", \"alpha\": 0.9});\n",
       "\tviewer_1631253866935622.addSphere({\"center\": {\"x\": 20.76943033130545, \"y\": -1.354183272343655, \"z\": 12.9108895970126}, \"radius\": 1.0, \"color\": \"blue\", \"alpha\": 0.9});\n",
       "\tviewer_1631253866935622.addSphere({\"center\": {\"x\": -15.70809833050384, \"y\": 13.040897059105568, \"z\": 17.513217260936596}, \"radius\": 1.0, \"color\": \"blue\", \"alpha\": 0.9});\n",
       "\tviewer_1631253866935622.addSphere({\"center\": {\"x\": 18.981612768226736, \"y\": -13.062336313690311, \"z\": 12.305770717671036}, \"radius\": 1.0, \"color\": \"blue\", \"alpha\": 0.9});\n",
       "\tviewer_1631253866935622.addSphere({\"center\": {\"x\": 20.646068347271335, \"y\": -13.925292102309275, \"z\": 3.850503902816274}, \"radius\": 1.0, \"color\": \"blue\", \"alpha\": 0.9});\n",
       "\tviewer_1631253866935622.addSphere({\"center\": {\"x\": 8.020070632747828, \"y\": 18.909871677445278, \"z\": 14.046163729901517}, \"radius\": 1.0, \"color\": \"blue\", \"alpha\": 0.9});\n",
       "\tviewer_1631253866935622.addSphere({\"center\": {\"x\": 20.170384742593377, \"y\": -3.2259287857461714, \"z\": 10.150541289150496}, \"radius\": 1.0, \"color\": \"blue\", \"alpha\": 0.9});\n",
       "\tviewer_1631253866935622.addSphere({\"center\": {\"x\": 17.504520038964582, \"y\": 6.017021157208769, \"z\": 13.359365202492919}, \"radius\": 1.0, \"color\": \"blue\", \"alpha\": 0.9});\n",
       "\tviewer_1631253866935622.addSphere({\"center\": {\"x\": -8.493026111937162, \"y\": 6.511718876339479, \"z\": -18.648203728776988}, \"radius\": 1.0, \"color\": \"blue\", \"alpha\": 0.9});\n",
       "\tviewer_1631253866935622.addSphere({\"center\": {\"x\": 24.013323232405, \"y\": 7.995038491899399, \"z\": -3.883491298861938}, \"radius\": 1.0, \"color\": \"blue\", \"alpha\": 0.9});\n",
       "\tviewer_1631253866935622.addSphere({\"center\": {\"x\": -1.0146009618488008, \"y\": 19.99536478860547, \"z\": -1.6525084172683835}, \"radius\": 1.0, \"color\": \"blue\", \"alpha\": 0.9});\n",
       "\tviewer_1631253866935622.addSphere({\"center\": {\"x\": -13.133220953980139, \"y\": 2.4579077239739187, \"z\": -16.70325325180601}, \"radius\": 1.0, \"color\": \"blue\", \"alpha\": 0.9});\n",
       "\tviewer_1631253866935622.addSphere({\"center\": {\"x\": -10.803272622609672, \"y\": 8.44130077806463, \"z\": 23.09681128214472}, \"radius\": 1.0, \"color\": \"blue\", \"alpha\": 0.9});\n",
       "\tviewer_1631253866935622.addSphere({\"center\": {\"x\": 10.809669673397675, \"y\": 6.6889970159047465, \"z\": -12.789011807014807}, \"radius\": 1.0, \"color\": \"blue\", \"alpha\": 0.9});\n",
       "\tviewer_1631253866935622.addSphere({\"center\": {\"x\": 9.033753506133527, \"y\": -17.459605627711912, \"z\": -11.242521122334916}, \"radius\": 1.0, \"color\": \"blue\", \"alpha\": 0.9});\n",
       "\tviewer_1631253866935622.addSphere({\"center\": {\"x\": 3.5296432894335688, \"y\": 6.166963106230479, \"z\": -16.217051238379355}, \"radius\": 1.0, \"color\": \"blue\", \"alpha\": 0.9});\n",
       "\tviewer_1631253866935622.addSphere({\"center\": {\"x\": -17.020407915146627, \"y\": 2.7821123047050222, \"z\": 17.265541077428317}, \"radius\": 1.0, \"color\": \"blue\", \"alpha\": 0.9});\n",
       "\tviewer_1631253866935622.addSphere({\"center\": {\"x\": 12.68496828879669, \"y\": 13.79130395089184, \"z\": 17.58785512091327}, \"radius\": 1.0, \"color\": \"blue\", \"alpha\": 0.9});\n",
       "\tviewer_1631253866935622.addSphere({\"center\": {\"x\": 4.397947871430217, \"y\": 3.35598387757849, \"z\": -17.974875567235344}, \"radius\": 1.0, \"color\": \"blue\", \"alpha\": 0.9});\n",
       "\tviewer_1631253866935622.addSphere({\"center\": {\"x\": -22.038815315822866, \"y\": -7.963241862905751, \"z\": -7.397941043391576}, \"radius\": 1.0, \"color\": \"blue\", \"alpha\": 0.9});\n",
       "\tviewer_1631253866935622.addSphere({\"center\": {\"x\": -7.089485252843811, \"y\": 10.76063895809427, \"z\": 23.242187856702937}, \"radius\": 1.0, \"color\": \"blue\", \"alpha\": 0.9});\n",
       "\tviewer_1631253866935622.addSphere({\"center\": {\"x\": 2.516435178172582, \"y\": -25.407068551442276, \"z\": 5.469090423611727}, \"radius\": 1.0, \"color\": \"blue\", \"alpha\": 0.9});\n",
       "\tviewer_1631253866935622.addSphere({\"center\": {\"x\": 13.289314681950819, \"y\": 2.164253748999126, \"z\": 22.246179552271716}, \"radius\": 1.0, \"color\": \"blue\", \"alpha\": 0.9});\n",
       "\tviewer_1631253866935622.addSphere({\"center\": {\"x\": -13.642359733902344, \"y\": 10.203222195177164, \"z\": -4.992189310180289}, \"radius\": 1.0, \"color\": \"blue\", \"alpha\": 0.9});\n",
       "\tviewer_1631253866935622.addSphere({\"center\": {\"x\": 18.144039510755306, \"y\": -0.08769087680922703, \"z\": -0.7380961679986419}, \"radius\": 1.0, \"color\": \"blue\", \"alpha\": 0.9});\n",
       "\tviewer_1631253866935622.addSphere({\"center\": {\"x\": -7.873434406972633, \"y\": 10.193214223990946, \"z\": 11.802434271206039}, \"radius\": 1.0, \"color\": \"blue\", \"alpha\": 0.9});\n",
       "\tviewer_1631253866935622.addSphere({\"center\": {\"x\": -8.52961797231958, \"y\": 9.718301845823909, \"z\": -18.788051560191136}, \"radius\": 1.0, \"color\": \"blue\", \"alpha\": 0.9});\n",
       "\tviewer_1631253866935622.addSphere({\"center\": {\"x\": 8.918911698615045, \"y\": -6.505225590062785, \"z\": -18.27217752998512}, \"radius\": 1.0, \"color\": \"blue\", \"alpha\": 0.9});\n",
       "\tviewer_1631253866935622.addSphere({\"center\": {\"x\": 12.881544639337775, \"y\": -21.827793625260696, \"z\": 7.632952276508627}, \"radius\": 1.0, \"color\": \"blue\", \"alpha\": 0.9});\n",
       "\tviewer_1631253866935622.addSphere({\"center\": {\"x\": -19.595891917730732, \"y\": 9.49073182692349, \"z\": 12.273266128138632}, \"radius\": 1.0, \"color\": \"blue\", \"alpha\": 0.9});\n",
       "\tviewer_1631253866935622.addSphere({\"center\": {\"x\": 15.681621248573789, \"y\": 3.071157259302162, \"z\": 20.059172207378527}, \"radius\": 1.0, \"color\": \"blue\", \"alpha\": 0.9});\n",
       "\tviewer_1631253866935622.addSphere({\"center\": {\"x\": 22.67517601061029, \"y\": -13.669503982805079, \"z\": 4.033641291224398}, \"radius\": 1.0, \"color\": \"blue\", \"alpha\": 0.9});\n",
       "\tviewer_1631253866935622.addSphere({\"center\": {\"x\": 7.229497206520368, \"y\": -4.515870365450516, \"z\": -24.456694494888602}, \"radius\": 1.0, \"color\": \"blue\", \"alpha\": 0.9});\n",
       "\tviewer_1631253866935622.addSphere({\"center\": {\"x\": 11.576114308682524, \"y\": 18.872751543488004, \"z\": -6.533524341560613}, \"radius\": 1.0, \"color\": \"blue\", \"alpha\": 0.9});\n",
       "\tviewer_1631253866935622.addSphere({\"center\": {\"x\": -17.65204968099756, \"y\": 10.973266400011616, \"z\": -11.640956917935844}, \"radius\": 1.0, \"color\": \"blue\", \"alpha\": 0.9});\n",
       "\tviewer_1631253866935622.addSphere({\"center\": {\"x\": 0.28711481784592796, \"y\": -6.373800360168833, \"z\": 13.64590699754508}, \"radius\": 1.0, \"color\": \"blue\", \"alpha\": 0.9});\n",
       "\tviewer_1631253866935622.addSphere({\"center\": {\"x\": -0.6584375435724745, \"y\": 19.007947345127683, \"z\": 15.847513521853642}, \"radius\": 1.0, \"color\": \"blue\", \"alpha\": 0.9});\n",
       "\tviewer_1631253866935622.addSphere({\"center\": {\"x\": -20.88341374344619, \"y\": 3.7111902298397994, \"z\": -11.804660187010374}, \"radius\": 1.0, \"color\": \"blue\", \"alpha\": 0.9});\n",
       "\tviewer_1631253866935622.addSphere({\"center\": {\"x\": 12.42804827853995, \"y\": -11.757255221868038, \"z\": 11.016989079771546}, \"radius\": 1.0, \"color\": \"blue\", \"alpha\": 0.9});\n",
       "\tviewer_1631253866935622.addSphere({\"center\": {\"x\": -13.339451441759502, \"y\": -10.949600525408798, \"z\": -3.029524330169426}, \"radius\": 1.0, \"color\": \"blue\", \"alpha\": 0.9});\n",
       "\tviewer_1631253866935622.addSphere({\"center\": {\"x\": 0.9388669224438618, \"y\": -12.195413245760545, \"z\": -21.020624082709045}, \"radius\": 1.0, \"color\": \"blue\", \"alpha\": 0.9});\n",
       "\tviewer_1631253866935622.addSphere({\"center\": {\"x\": -1.9534743677181583, \"y\": 7.0939967889887505, \"z\": -23.39804966235953}, \"radius\": 1.0, \"color\": \"blue\", \"alpha\": 0.9});\n",
       "\tviewer_1631253866935622.addSphere({\"center\": {\"x\": -3.7931153166963196, \"y\": 22.46055120879993, \"z\": -8.988623743704448}, \"radius\": 1.0, \"color\": \"blue\", \"alpha\": 0.9});\n",
       "\tviewer_1631253866935622.addSphere({\"center\": {\"x\": 6.20654251567518, \"y\": -11.429296244047185, \"z\": 16.20979009953343}, \"radius\": 1.0, \"color\": \"blue\", \"alpha\": 0.9});\n",
       "\tviewer_1631253866935622.addSphere({\"center\": {\"x\": 4.503481106987668, \"y\": -5.363343063269732, \"z\": -20.096253357562368}, \"radius\": 1.0, \"color\": \"blue\", \"alpha\": 0.9});\n",
       "\tviewer_1631253866935622.addSphere({\"center\": {\"x\": 5.225294249058014, \"y\": 15.302591287976075, \"z\": 7.812095669655552}, \"radius\": 1.0, \"color\": \"blue\", \"alpha\": 0.9});\n",
       "\tviewer_1631253866935622.addSphere({\"center\": {\"x\": 16.993102031696427, \"y\": 9.044415194658727, \"z\": -9.451364303217385}, \"radius\": 1.0, \"color\": \"blue\", \"alpha\": 0.9});\n",
       "\tviewer_1631253866935622.addSphere({\"center\": {\"x\": 7.494414319565503, \"y\": -7.074134178806761, \"z\": -21.91149552909617}, \"radius\": 1.0, \"color\": \"blue\", \"alpha\": 0.9});\n",
       "\tviewer_1631253866935622.addSphere({\"center\": {\"x\": -3.214483811065151, \"y\": 2.7391573731591676, \"z\": -18.36957210912573}, \"radius\": 1.0, \"color\": \"blue\", \"alpha\": 0.9});\n",
       "\tviewer_1631253866935622.addSphere({\"center\": {\"x\": 13.354211790613546, \"y\": -5.5890038378518545, \"z\": 16.793903848371656}, \"radius\": 1.0, \"color\": \"blue\", \"alpha\": 0.9});\n",
       "\tviewer_1631253866935622.addSphere({\"center\": {\"x\": 16.566618309554446, \"y\": -11.365040633272175, \"z\": 16.918658285721772}, \"radius\": 1.0, \"color\": \"blue\", \"alpha\": 0.9});\n",
       "\tviewer_1631253866935622.addSphere({\"center\": {\"x\": 5.546796588085035, \"y\": -3.301199105174876, \"z\": -18.26214527484113}, \"radius\": 1.0, \"color\": \"blue\", \"alpha\": 0.9});\n",
       "\tviewer_1631253866935622.addSphere({\"center\": {\"x\": -15.370530925999688, \"y\": -5.005404456943341, \"z\": -11.102568375147712}, \"radius\": 1.0, \"color\": \"blue\", \"alpha\": 0.9});\n",
       "\tviewer_1631253866935622.addSphere({\"center\": {\"x\": 20.11176747968505, \"y\": 8.600843006668745, \"z\": -6.8408202962976405}, \"radius\": 1.0, \"color\": \"blue\", \"alpha\": 0.9});\n",
       "\tviewer_1631253866935622.addSphere({\"center\": {\"x\": -12.658262699744723, \"y\": 10.814991320010787, \"z\": 17.346516174964126}, \"radius\": 1.0, \"color\": \"blue\", \"alpha\": 0.9});\n",
       "\tviewer_1631253866935622.addSphere({\"center\": {\"x\": 14.618524766387532, \"y\": 17.05102867127868, \"z\": 4.992052988530131}, \"radius\": 1.0, \"color\": \"blue\", \"alpha\": 0.9});\n",
       "\tviewer_1631253866935622.addSphere({\"center\": {\"x\": 16.764524255663716, \"y\": 1.9982412980458781, \"z\": -9.264700761535623}, \"radius\": 1.0, \"color\": \"blue\", \"alpha\": 0.9});\n",
       "\tviewer_1631253866935622.addSphere({\"center\": {\"x\": 15.98508147828083, \"y\": 11.72906429227554, \"z\": -6.2944413042846525}, \"radius\": 1.0, \"color\": \"blue\", \"alpha\": 0.9});\n",
       "\tviewer_1631253866935622.addSphere({\"center\": {\"x\": -16.71607338643185, \"y\": -7.678900748012878, \"z\": -1.7284871671166318}, \"radius\": 1.0, \"color\": \"blue\", \"alpha\": 0.9});\n",
       "\tviewer_1631253866935622.addSphere({\"center\": {\"x\": -8.864257643074204, \"y\": 9.704371307294975, \"z\": -7.860171640438176}, \"radius\": 1.0, \"color\": \"blue\", \"alpha\": 0.9});\n",
       "\tviewer_1631253866935622.addSphere({\"center\": {\"x\": -0.9816185243008594, \"y\": -17.570662160182522, \"z\": 8.330340568671485}, \"radius\": 1.0, \"color\": \"blue\", \"alpha\": 0.9});\n",
       "\tviewer_1631253866935622.addSphere({\"center\": {\"x\": 10.929027817884677, \"y\": -1.4964028584771882, \"z\": -15.225823774371355}, \"radius\": 1.0, \"color\": \"blue\", \"alpha\": 0.9});\n",
       "\tviewer_1631253866935622.addSphere({\"center\": {\"x\": -10.638874562346544, \"y\": 15.537515823375214, \"z\": -4.352053326955473}, \"radius\": 1.0, \"color\": \"blue\", \"alpha\": 0.9});\n",
       "\tviewer_1631253866935622.addSphere({\"center\": {\"x\": 6.325178446267715, \"y\": 16.698356832831966, \"z\": 10.430131591438403}, \"radius\": 1.0, \"color\": \"blue\", \"alpha\": 0.9});\n",
       "\tviewer_1631253866935622.addSphere({\"center\": {\"x\": 10.632623941157577, \"y\": -6.667321845266092, \"z\": 23.50660154667025}, \"radius\": 1.0, \"color\": \"blue\", \"alpha\": 0.9});\n",
       "\tviewer_1631253866935622.addSphere({\"center\": {\"x\": 3.651164099348351, \"y\": -4.409595405742825, \"z\": 19.49809119977319}, \"radius\": 1.0, \"color\": \"blue\", \"alpha\": 0.9});\n",
       "\tviewer_1631253866935622.addSphere({\"center\": {\"x\": -8.179222133884434, \"y\": -1.6364442725308674, \"z\": -13.80762296071518}, \"radius\": 1.0, \"color\": \"blue\", \"alpha\": 0.9});\n",
       "\tviewer_1631253866935622.addSphere({\"center\": {\"x\": -14.083242938971818, \"y\": 12.27456030827922, \"z\": -11.080854736605266}, \"radius\": 1.0, \"color\": \"blue\", \"alpha\": 0.9});\n",
       "\tviewer_1631253866935622.addSphere({\"center\": {\"x\": -0.8760840756766382, \"y\": -17.458142551173193, \"z\": -7.591256522352473}, \"radius\": 1.0, \"color\": \"blue\", \"alpha\": 0.9});\n",
       "\tviewer_1631253866935622.addSphere({\"center\": {\"x\": 19.596430688126237, \"y\": -4.5400388495098944, \"z\": -2.529405716872207}, \"radius\": 1.0, \"color\": \"blue\", \"alpha\": 0.9});\n",
       "\tviewer_1631253866935622.addSphere({\"center\": {\"x\": -10.276327220572815, \"y\": 7.687286736834459, \"z\": -19.337246029430347}, \"radius\": 1.0, \"color\": \"blue\", \"alpha\": 0.9});\n",
       "\tviewer_1631253866935622.addSphere({\"center\": {\"x\": -12.70499581980032, \"y\": 18.51362981548525, \"z\": 0.003126839523067121}, \"radius\": 1.0, \"color\": \"blue\", \"alpha\": 0.9});\n",
       "\tviewer_1631253866935622.addSphere({\"center\": {\"x\": -5.734009309138546, \"y\": -16.446342994350875, \"z\": 18.150680252269986}, \"radius\": 1.0, \"color\": \"blue\", \"alpha\": 0.9});\n",
       "\tviewer_1631253866935622.addSphere({\"center\": {\"x\": -7.833731026811471, \"y\": -8.741936613045018, \"z\": 13.048341669570794}, \"radius\": 1.0, \"color\": \"blue\", \"alpha\": 0.9});\n",
       "\tviewer_1631253866935622.addSphere({\"center\": {\"x\": 8.615000564562687, \"y\": 18.423779351288747, \"z\": 0.3133929818977771}, \"radius\": 1.0, \"color\": \"blue\", \"alpha\": 0.9});\n",
       "\tviewer_1631253866935622.addSphere({\"center\": {\"x\": 3.979383394461123, \"y\": 22.626750197960625, \"z\": -1.5718841615559995}, \"radius\": 1.0, \"color\": \"blue\", \"alpha\": 0.9});\n",
       "\tviewer_1631253866935622.addSphere({\"center\": {\"x\": 11.94153320467697, \"y\": 7.507933890245884, \"z\": 8.865386033900235}, \"radius\": 1.0, \"color\": \"blue\", \"alpha\": 0.9});\n",
       "\tviewer_1631253866935622.addSphere({\"center\": {\"x\": 9.93298622145668, \"y\": -8.327277096905705, \"z\": -23.448735481135582}, \"radius\": 1.0, \"color\": \"blue\", \"alpha\": 0.9});\n",
       "\tviewer_1631253866935622.addSphere({\"center\": {\"x\": 16.10675839208193, \"y\": 19.6041371179481, \"z\": -8.937473166932586}, \"radius\": 1.0, \"color\": \"blue\", \"alpha\": 0.9});\n",
       "\tviewer_1631253866935622.addSphere({\"center\": {\"x\": -19.89789329075953, \"y\": -1.5785495795172082, \"z\": -0.7068879083597923}, \"radius\": 1.0, \"color\": \"blue\", \"alpha\": 0.9});\n",
       "\tviewer_1631253866935622.addSphere({\"center\": {\"x\": 1.5665514016335322, \"y\": -8.695468381446886, \"z\": -12.29550416440676}, \"radius\": 1.0, \"color\": \"blue\", \"alpha\": 0.9});\n",
       "\tviewer_1631253866935622.addSphere({\"center\": {\"x\": 11.16612837547442, \"y\": -7.99488459677767, \"z\": 18.702384822099965}, \"radius\": 1.0, \"color\": \"blue\", \"alpha\": 0.9});\n",
       "\tviewer_1631253866935622.addSphere({\"center\": {\"x\": -6.953458378113244, \"y\": 20.86548878637204, \"z\": -5.682156557418868}, \"radius\": 1.0, \"color\": \"blue\", \"alpha\": 0.9});\n",
       "\tviewer_1631253866935622.addSphere({\"center\": {\"x\": -25.60298794783152, \"y\": 2.2689449701614466, \"z\": -0.2450880470607606}, \"radius\": 1.0, \"color\": \"blue\", \"alpha\": 0.9});\n",
       "\tviewer_1631253866935622.addSphere({\"center\": {\"x\": 10.39090091086644, \"y\": 20.280650989300273, \"z\": -0.7955461019989956}, \"radius\": 1.0, \"color\": \"blue\", \"alpha\": 0.9});\n",
       "\tviewer_1631253866935622.addSphere({\"center\": {\"x\": 15.39879504670202, \"y\": -6.467852401954496, \"z\": -19.131612949205206}, \"radius\": 1.0, \"color\": \"blue\", \"alpha\": 0.9});\n",
       "\tviewer_1631253866935622.addSphere({\"center\": {\"x\": -17.104699742008457, \"y\": 14.590649037353083, \"z\": 3.6056941143022674}, \"radius\": 1.0, \"color\": \"blue\", \"alpha\": 0.9});\n",
       "\tviewer_1631253866935622.addSphere({\"center\": {\"x\": 2.176351425185268, \"y\": 24.029326011547795, \"z\": -8.577091873179551}, \"radius\": 1.0, \"color\": \"blue\", \"alpha\": 0.9});\n",
       "\tviewer_1631253866935622.addSphere({\"center\": {\"x\": -16.269348322689485, \"y\": -16.10819462416352, \"z\": -11.773725695457253}, \"radius\": 1.0, \"color\": \"blue\", \"alpha\": 0.9});\n",
       "\tviewer_1631253866935622.addSphere({\"center\": {\"x\": 5.0653315552093, \"y\": -5.554627854126261, \"z\": 17.85069540292888}, \"radius\": 1.0, \"color\": \"blue\", \"alpha\": 0.9});\n",
       "\tviewer_1631253866935622.addSphere({\"center\": {\"x\": 5.864808992285488, \"y\": -9.337998579754201, \"z\": -18.779968623167058}, \"radius\": 1.0, \"color\": \"blue\", \"alpha\": 0.9});\n",
       "\tviewer_1631253866935622.addSphere({\"center\": {\"x\": 12.768379708305643, \"y\": -18.622298468945683, \"z\": -2.9591448487774885}, \"radius\": 1.0, \"color\": \"blue\", \"alpha\": 0.9});\n",
       "\tviewer_1631253866935622.addSphere({\"center\": {\"x\": -21.180981437434948, \"y\": 2.5492004621346624, \"z\": 3.6346356838096017}, \"radius\": 1.0, \"color\": \"blue\", \"alpha\": 0.9});\n",
       "\tviewer_1631253866935622.addSphere({\"center\": {\"x\": 2.3805564002753594, \"y\": 12.03247519550447, \"z\": 16.736767458785568}, \"radius\": 1.0, \"color\": \"blue\", \"alpha\": 0.9});\n",
       "\tviewer_1631253866935622.addSphere({\"center\": {\"x\": 19.895201481366357, \"y\": -2.1437044911150176, \"z\": -5.3354680748973875}, \"radius\": 1.0, \"color\": \"blue\", \"alpha\": 0.9});\n",
       "\tviewer_1631253866935622.addSphere({\"center\": {\"x\": 11.600836538404485, \"y\": -11.271964708027157, \"z\": -16.98150120378385}, \"radius\": 1.0, \"color\": \"blue\", \"alpha\": 0.9});\n",
       "\tviewer_1631253866935622.addSphere({\"center\": {\"x\": 10.907321451101888, \"y\": 23.002941076705284, \"z\": 1.0422681966497784}, \"radius\": 1.0, \"color\": \"blue\", \"alpha\": 0.9});\n",
       "\tviewer_1631253866935622.addSphere({\"center\": {\"x\": -0.26008082157235846, \"y\": -15.47683229488225, \"z\": -9.346199910413784}, \"radius\": 1.0, \"color\": \"blue\", \"alpha\": 0.9});\n",
       "\tviewer_1631253866935622.addSphere({\"center\": {\"x\": -18.35951736309081, \"y\": -6.447241124392873, \"z\": -17.103053903836656}, \"radius\": 1.0, \"color\": \"blue\", \"alpha\": 0.9});\n",
       "\tviewer_1631253866935622.addSphere({\"center\": {\"x\": 3.168210655448373, \"y\": 19.702056430692757, \"z\": -7.763715825377365}, \"radius\": 1.0, \"color\": \"blue\", \"alpha\": 0.9});\n",
       "\tviewer_1631253866935622.addSphere({\"center\": {\"x\": 21.682308490756167, \"y\": -12.341216370838675, \"z\": 10.254331642770934}, \"radius\": 1.0, \"color\": \"blue\", \"alpha\": 0.9});\n",
       "\tviewer_1631253866935622.addSphere({\"center\": {\"x\": -9.636855726942292, \"y\": 7.4569580843277175, \"z\": 9.75807925352728}, \"radius\": 1.0, \"color\": \"blue\", \"alpha\": 0.9});\n",
       "\tviewer_1631253866935622.addSphere({\"center\": {\"x\": -11.698215496186663, \"y\": 8.449585188362494, \"z\": 17.13129179076117}, \"radius\": 1.0, \"color\": \"blue\", \"alpha\": 0.9});\n",
       "\tviewer_1631253866935622.addSphere({\"center\": {\"x\": -7.7249079924716515, \"y\": 16.20949818077247, \"z\": -4.342827003766591}, \"radius\": 1.0, \"color\": \"blue\", \"alpha\": 0.9});\n",
       "\tviewer_1631253866935622.addSphere({\"center\": {\"x\": 3.916077167956673, \"y\": -14.68586768877703, \"z\": 8.242360439161825}, \"radius\": 1.0, \"color\": \"blue\", \"alpha\": 0.9});\n",
       "\tviewer_1631253866935622.addSphere({\"center\": {\"x\": 12.019317980011841, \"y\": -10.86874996964273, \"z\": -10.453835025928004}, \"radius\": 1.0, \"color\": \"blue\", \"alpha\": 0.9});\n",
       "\tviewer_1631253866935622.addSphere({\"center\": {\"x\": -22.305394380160145, \"y\": -9.673578518418886, \"z\": 7.798724498277024}, \"radius\": 1.0, \"color\": \"blue\", \"alpha\": 0.9});\n",
       "\tviewer_1631253866935622.addSphere({\"center\": {\"x\": -17.958766245096943, \"y\": -10.496459959355255, \"z\": -2.4002544155901457}, \"radius\": 1.0, \"color\": \"blue\", \"alpha\": 0.9});\n",
       "\tviewer_1631253866935622.addSphere({\"center\": {\"x\": 3.8817896677201653, \"y\": -19.344212855205914, \"z\": 7.012124162947911}, \"radius\": 1.0, \"color\": \"blue\", \"alpha\": 0.9});\n",
       "\tviewer_1631253866935622.addSphere({\"center\": {\"x\": 2.084797746528607, \"y\": -14.931160894692056, \"z\": -3.8285222979232065}, \"radius\": 1.0, \"color\": \"blue\", \"alpha\": 0.9});\n",
       "\tviewer_1631253866935622.addSphere({\"center\": {\"x\": 1.4030377853888585, \"y\": 9.610870889506428, \"z\": -15.934745582846222}, \"radius\": 1.0, \"color\": \"blue\", \"alpha\": 0.9});\n",
       "\tviewer_1631253866935622.addSphere({\"center\": {\"x\": 5.992544973855502, \"y\": -8.814948833439983, \"z\": 23.91259803091203}, \"radius\": 1.0, \"color\": \"blue\", \"alpha\": 0.9});\n",
       "\tviewer_1631253866935622.addSphere({\"center\": {\"x\": -14.22590421798192, \"y\": 4.2876703848029525, \"z\": 2.89373596973572}, \"radius\": 1.0, \"color\": \"blue\", \"alpha\": 0.9});\n",
       "\tviewer_1631253866935622.addSphere({\"center\": {\"x\": -13.004481463884257, \"y\": -15.213481320366933, \"z\": 12.373137158240507}, \"radius\": 1.0, \"color\": \"blue\", \"alpha\": 0.9});\n",
       "\tviewer_1631253866935622.addSphere({\"center\": {\"x\": 25.180420895860937, \"y\": 2.332230525341104, \"z\": -4.63194118089805}, \"radius\": 1.0, \"color\": \"blue\", \"alpha\": 0.9});\n",
       "\tviewer_1631253866935622.addSphere({\"center\": {\"x\": -5.947068939349555, \"y\": 19.53424428001586, \"z\": -10.423971057756345}, \"radius\": 1.0, \"color\": \"blue\", \"alpha\": 0.9});\n",
       "\tviewer_1631253866935622.addSphere({\"center\": {\"x\": -20.44523629098999, \"y\": -7.602127572678811, \"z\": 7.413663946878926}, \"radius\": 1.0, \"color\": \"blue\", \"alpha\": 0.9});\n",
       "\tviewer_1631253866935622.addSphere({\"center\": {\"x\": -2.168257637657087, \"y\": 12.377127309023674, \"z\": 21.477751868294774}, \"radius\": 1.0, \"color\": \"blue\", \"alpha\": 0.9});\n",
       "\tviewer_1631253866935622.addSphere({\"center\": {\"x\": -5.304984144404589, \"y\": -18.031465407816825, \"z\": -2.47516542498456}, \"radius\": 1.0, \"color\": \"blue\", \"alpha\": 0.9});\n",
       "\tviewer_1631253866935622.addSphere({\"center\": {\"x\": 0.07073985796401835, \"y\": 0.874584259601967, \"z\": 15.113181454088002}, \"radius\": 1.0, \"color\": \"blue\", \"alpha\": 0.9});\n",
       "\tviewer_1631253866935622.addSphere({\"center\": {\"x\": 19.299239691159716, \"y\": 10.363254108738376, \"z\": 5.1871606436728515}, \"radius\": 1.0, \"color\": \"blue\", \"alpha\": 0.9});\n",
       "\tviewer_1631253866935622.addSphere({\"center\": {\"x\": -2.5745134800493576, \"y\": 16.07299205026399, \"z\": -11.767107655074108}, \"radius\": 1.0, \"color\": \"blue\", \"alpha\": 0.9});\n",
       "\tviewer_1631253866935622.addSphere({\"center\": {\"x\": -13.12786962444973, \"y\": 7.49058434530224, \"z\": 10.821460705657756}, \"radius\": 1.0, \"color\": \"blue\", \"alpha\": 0.9});\n",
       "\tviewer_1631253866935622.addSphere({\"center\": {\"x\": 3.0772280818314375, \"y\": 22.56619999647288, \"z\": 7.976907677337234}, \"radius\": 1.0, \"color\": \"blue\", \"alpha\": 0.9});\n",
       "\tviewer_1631253866935622.addSphere({\"center\": {\"x\": -6.1880013005482475, \"y\": -8.640003102638795, \"z\": 15.477142698158367}, \"radius\": 1.0, \"color\": \"blue\", \"alpha\": 0.9});\n",
       "\tviewer_1631253866935622.addSphere({\"center\": {\"x\": -2.0496932409393964, \"y\": 10.644240817502823, \"z\": -19.094290566923704}, \"radius\": 1.0, \"color\": \"blue\", \"alpha\": 0.9});\n",
       "\tviewer_1631253866935622.addSphere({\"center\": {\"x\": 11.181330320104856, \"y\": 15.845633646858571, \"z\": -1.6469640681345419}, \"radius\": 1.0, \"color\": \"blue\", \"alpha\": 0.9});\n",
       "\tviewer_1631253866935622.addSphere({\"center\": {\"x\": -7.567020243251397, \"y\": -15.227016730447959, \"z\": -16.744151025701292}, \"radius\": 1.0, \"color\": \"blue\", \"alpha\": 0.9});\n",
       "\tviewer_1631253866935622.addSphere({\"center\": {\"x\": 13.453388697873867, \"y\": -8.9606997048395, \"z\": -3.6725705150804644}, \"radius\": 1.0, \"color\": \"blue\", \"alpha\": 0.9});\n",
       "\tviewer_1631253866935622.addSphere({\"center\": {\"x\": -2.330385282023502, \"y\": -1.5500564794697838, \"z\": -26.78848365662198}, \"radius\": 1.0, \"color\": \"blue\", \"alpha\": 0.9});\n",
       "\tviewer_1631253866935622.addSphere({\"center\": {\"x\": -2.404176882359864, \"y\": 18.352002882142564, \"z\": -10.924764863825676}, \"radius\": 1.0, \"color\": \"blue\", \"alpha\": 0.9});\n",
       "\tviewer_1631253866935622.addSphere({\"center\": {\"x\": 6.340601554165551, \"y\": -13.254084677448013, \"z\": -3.6073096558166773}, \"radius\": 1.0, \"color\": \"blue\", \"alpha\": 0.9});\n",
       "\tviewer_1631253866935622.addSphere({\"center\": {\"x\": 15.99249828702138, \"y\": -17.087700638325874, \"z\": 8.650017149416819}, \"radius\": 1.0, \"color\": \"blue\", \"alpha\": 0.9});\n",
       "\tviewer_1631253866935622.addSphere({\"center\": {\"x\": -22.21325109708542, \"y\": -3.055868818742475, \"z\": 2.380461010691521}, \"radius\": 1.0, \"color\": \"blue\", \"alpha\": 0.9});\n",
       "\tviewer_1631253866935622.addSphere({\"center\": {\"x\": -3.236371966496799, \"y\": -16.214775109849214, \"z\": -0.962090573805857}, \"radius\": 1.0, \"color\": \"blue\", \"alpha\": 0.9});\n",
       "\tviewer_1631253866935622.addSphere({\"center\": {\"x\": 0.4766591481364932, \"y\": -4.139030086086518, \"z\": 21.56086101154469}, \"radius\": 1.0, \"color\": \"blue\", \"alpha\": 0.9});\n",
       "\tviewer_1631253866935622.addSphere({\"center\": {\"x\": -9.247521224067853, \"y\": 6.574609750153085, \"z\": -19.955613380225913}, \"radius\": 1.0, \"color\": \"blue\", \"alpha\": 0.9});\n",
       "\tviewer_1631253866935622.addSphere({\"center\": {\"x\": -24.76100893884084, \"y\": 2.8435811702909812, \"z\": -9.949205963108746}, \"radius\": 1.0, \"color\": \"blue\", \"alpha\": 0.9});\n",
       "\tviewer_1631253866935622.addSphere({\"center\": {\"x\": -13.78633437388835, \"y\": 1.6137647525327117, \"z\": -14.560623403820463}, \"radius\": 1.0, \"color\": \"blue\", \"alpha\": 0.9});\n",
       "\tviewer_1631253866935622.addSphere({\"center\": {\"x\": 0.673282427499324, \"y\": -17.864384935148312, \"z\": -15.606203066816837}, \"radius\": 1.0, \"color\": \"blue\", \"alpha\": 0.9});\n",
       "\tviewer_1631253866935622.addSphere({\"center\": {\"x\": -19.77125678759615, \"y\": 7.178101190841889, \"z\": 0.4131790771201899}, \"radius\": 1.0, \"color\": \"blue\", \"alpha\": 0.9});\n",
       "\tviewer_1631253866935622.addSphere({\"center\": {\"x\": -17.221999354321394, \"y\": -10.647884915709055, \"z\": 17.377117021486175}, \"radius\": 1.0, \"color\": \"blue\", \"alpha\": 0.9});\n",
       "\tviewer_1631253866935622.addSphere({\"center\": {\"x\": 12.653495201491177, \"y\": 13.157834204471252, \"z\": 0.35918465118769194}, \"radius\": 1.0, \"color\": \"blue\", \"alpha\": 0.9});\n",
       "\tviewer_1631253866935622.addSphere({\"center\": {\"x\": -1.6275059018526286, \"y\": -15.830501401345563, \"z\": 2.855500663088815}, \"radius\": 1.0, \"color\": \"blue\", \"alpha\": 0.9});\n",
       "\tviewer_1631253866935622.addSphere({\"center\": {\"x\": -22.886571124849567, \"y\": 7.081237836550878, \"z\": -8.795562820990718}, \"radius\": 1.0, \"color\": \"blue\", \"alpha\": 0.9});\n",
       "\tviewer_1631253866935622.addSphere({\"center\": {\"x\": -12.404412386151334, \"y\": -3.64261088913143, \"z\": -17.432381123606397}, \"radius\": 1.0, \"color\": \"blue\", \"alpha\": 0.9});\n",
       "\tviewer_1631253866935622.addSphere({\"center\": {\"x\": -4.250134363082427, \"y\": 16.504692468831106, \"z\": 9.479229950052977}, \"radius\": 1.0, \"color\": \"blue\", \"alpha\": 0.9});\n",
       "\tviewer_1631253866935622.addSphere({\"center\": {\"x\": -2.054522451971916, \"y\": 8.047784845323312, \"z\": 25.38004437696829}, \"radius\": 1.0, \"color\": \"blue\", \"alpha\": 0.9});\n",
       "\tviewer_1631253866935622.addSphere({\"center\": {\"x\": 23.870129831147004, \"y\": -7.994964744652768, \"z\": 8.651270668743676}, \"radius\": 1.0, \"color\": \"blue\", \"alpha\": 0.9});\n",
       "\tviewer_1631253866935622.addSphere({\"center\": {\"x\": 24.480759798458422, \"y\": 3.108183663245615, \"z\": 8.38431211258112}, \"radius\": 1.0, \"color\": \"blue\", \"alpha\": 0.9});\n",
       "\tviewer_1631253866935622.addSphere({\"center\": {\"x\": 7.439496146872462, \"y\": -3.192591277285674, \"z\": -13.513873837256144}, \"radius\": 1.0, \"color\": \"blue\", \"alpha\": 0.9});\n",
       "\tviewer_1631253866935622.addSphere({\"center\": {\"x\": -2.984026209172393, \"y\": 19.486398445592965, \"z\": 15.93580008055372}, \"radius\": 1.0, \"color\": \"blue\", \"alpha\": 0.9});\n",
       "\tviewer_1631253866935622.addSphere({\"center\": {\"x\": -4.894584587925534, \"y\": 2.353580796967044, \"z\": 17.29476660860072}, \"radius\": 1.0, \"color\": \"blue\", \"alpha\": 0.9});\n",
       "\tviewer_1631253866935622.addSphere({\"center\": {\"x\": -24.883054782992374, \"y\": -3.861044403933149, \"z\": 9.811796514052194}, \"radius\": 1.0, \"color\": \"red\", \"alpha\": 0.9});\n",
       "\tviewer_1631253866935622.addSphere({\"center\": {\"x\": 18.424381792719455, \"y\": 17.87742367100562, \"z\": 22.82643303861045}, \"radius\": 1.0, \"color\": \"red\", \"alpha\": 0.9});\n",
       "\tviewer_1631253866935622.addSphere({\"center\": {\"x\": 27.063119537529076, \"y\": 2.7087211743147646, \"z\": -21.274802937795325}, \"radius\": 1.0, \"color\": \"red\", \"alpha\": 0.9});\n",
       "\tviewer_1631253866935622.addSphere({\"center\": {\"x\": -10.69079560224582, \"y\": 25.370835022602854, \"z\": -9.471920381031191}, \"radius\": 1.0, \"color\": \"red\", \"alpha\": 0.9});\n",
       "\tviewer_1631253866935622.addSphere({\"center\": {\"x\": 26.038842760573264, \"y\": 3.5960669750546277, \"z\": 7.325961447326178}, \"radius\": 1.0, \"color\": \"red\", \"alpha\": 0.9});\n",
       "\tviewer_1631253866935622.addSphere({\"center\": {\"x\": -17.60312921702813, \"y\": 7.157275498359935, \"z\": 24.041341442573678}, \"radius\": 1.0, \"color\": \"red\", \"alpha\": 0.9});\n",
       "\tviewer_1631253866935622.addSphere({\"center\": {\"x\": 7.557987093846624, \"y\": 31.704936974784, \"z\": -0.898400337478945}, \"radius\": 1.0, \"color\": \"red\", \"alpha\": 0.9});\n",
       "\tviewer_1631253866935622.addSphere({\"center\": {\"x\": 30.425912947876952, \"y\": -3.838608313868481, \"z\": 16.149294489589327}, \"radius\": 1.0, \"color\": \"red\", \"alpha\": 0.9});\n",
       "\tviewer_1631253866935622.addSphere({\"center\": {\"x\": 9.843620752957047, \"y\": 30.38263368953002, \"z\": -8.697833157857234}, \"radius\": 1.0, \"color\": \"red\", \"alpha\": 0.9});\n",
       "\tviewer_1631253866935622.addSphere({\"center\": {\"x\": -13.094540958840708, \"y\": 23.111269344256776, \"z\": 8.2392751421437}, \"radius\": 1.0, \"color\": \"red\", \"alpha\": 0.9});\n",
       "\tviewer_1631253866935622.addSphere({\"center\": {\"x\": 12.305638283154567, \"y\": -18.457046747623167, \"z\": 26.487877333722075}, \"radius\": 1.0, \"color\": \"red\", \"alpha\": 0.9});\n",
       "\tviewer_1631253866935622.addSphere({\"center\": {\"x\": 6.676797436400506, \"y\": -28.4436255849168, \"z\": 1.5295263671670507}, \"radius\": 1.0, \"color\": \"red\", \"alpha\": 0.9});\n",
       "\tviewer_1631253866935622.addSphere({\"center\": {\"x\": 3.476217213672863, \"y\": 3.0995057984703216, \"z\": -32.085885404744644}, \"radius\": 1.0, \"color\": \"red\", \"alpha\": 0.9});\n",
       "\tviewer_1631253866935622.addSphere({\"center\": {\"x\": 26.686972915039497, \"y\": 14.223806266168651, \"z\": 16.465096475116823}, \"radius\": 1.0, \"color\": \"red\", \"alpha\": 0.9});\n",
       "\tviewer_1631253866935622.addSphere({\"center\": {\"x\": -9.903143890293912, \"y\": 30.613004728403794, \"z\": 4.445897200441658}, \"radius\": 1.0, \"color\": \"red\", \"alpha\": 0.9});\n",
       "\tviewer_1631253866935622.addSphere({\"center\": {\"x\": 30.978691262458167, \"y\": 0.445932391170918, \"z\": -14.126346544589083}, \"radius\": 1.0, \"color\": \"red\", \"alpha\": 0.9});\n",
       "\tviewer_1631253866935622.addSphere({\"center\": {\"x\": -23.1831429652997, \"y\": -16.425373728003844, \"z\": -12.570095965863356}, \"radius\": 1.0, \"color\": \"red\", \"alpha\": 0.9});\n",
       "\tviewer_1631253866935622.addSphere({\"center\": {\"x\": 28.25685297590977, \"y\": 6.55984440492055, \"z\": 3.2297491385454373}, \"radius\": 1.0, \"color\": \"red\", \"alpha\": 0.9});\n",
       "\tviewer_1631253866935622.addSphere({\"center\": {\"x\": 1.6903841064238805, \"y\": -34.363230645007, \"z\": 1.3224611069290249}, \"radius\": 1.0, \"color\": \"red\", \"alpha\": 0.9});\n",
       "\tviewer_1631253866935622.addSphere({\"center\": {\"x\": -10.419746105175005, \"y\": -4.970324678464328, \"z\": -28.64429522576382}, \"radius\": 1.0, \"color\": \"red\", \"alpha\": 0.9});\n",
       "\tviewer_1631253866935622.addSphere({\"center\": {\"x\": -6.025038940262315, \"y\": -24.846044908648157, \"z\": 13.988949969158156}, \"radius\": 1.0, \"color\": \"red\", \"alpha\": 0.9});\n",
       "\tviewer_1631253866935622.addSphere({\"center\": {\"x\": -0.9174009238541875, \"y\": -28.63712183260262, \"z\": -19.63240177784532}, \"radius\": 1.0, \"color\": \"red\", \"alpha\": 0.9});\n",
       "\tviewer_1631253866935622.addSphere({\"center\": {\"x\": -11.115671971015182, \"y\": -23.877938446428104, \"z\": 6.982425516207338}, \"radius\": 1.0, \"color\": \"red\", \"alpha\": 0.9});\n",
       "\tviewer_1631253866935622.addSphere({\"center\": {\"x\": -31.346032302361817, \"y\": 8.060136935637038, \"z\": 12.967600484368031}, \"radius\": 1.0, \"color\": \"red\", \"alpha\": 0.9});\n",
       "\tviewer_1631253866935622.addSphere({\"center\": {\"x\": 7.305211673597462, \"y\": 33.802172458569096, \"z\": -4.672441088047393}, \"radius\": 1.0, \"color\": \"red\", \"alpha\": 0.9});\n",
       "\tviewer_1631253866935622.addSphere({\"center\": {\"x\": 23.706255267462712, \"y\": 0.6888870938144673, \"z\": -15.276876286804326}, \"radius\": 1.0, \"color\": \"red\", \"alpha\": 0.9});\n",
       "\tviewer_1631253866935622.addSphere({\"center\": {\"x\": 4.931730223622201, \"y\": 29.378081590745076, \"z\": 3.6893390468116483}, \"radius\": 1.0, \"color\": \"red\", \"alpha\": 0.9});\n",
       "\tviewer_1631253866935622.addSphere({\"center\": {\"x\": -29.492984896843335, \"y\": -10.156351495379988, \"z\": 5.092419467163555}, \"radius\": 1.0, \"color\": \"red\", \"alpha\": 0.9});\n",
       "\tviewer_1631253866935622.addSphere({\"center\": {\"x\": -7.194581976335708, \"y\": -32.156565306844755, \"z\": -3.5053990372984716}, \"radius\": 1.0, \"color\": \"red\", \"alpha\": 0.9});\n",
       "\tviewer_1631253866935622.addSphere({\"center\": {\"x\": 12.192473543957856, \"y\": -16.946640365777366, \"z\": 19.917720847299016}, \"radius\": 1.0, \"color\": \"red\", \"alpha\": 0.9});\n",
       "\tviewer_1631253866935622.addSphere({\"center\": {\"x\": 23.746367866396973, \"y\": -8.422673396815913, \"z\": 13.90073058980049}, \"radius\": 1.0, \"color\": \"red\", \"alpha\": 0.9});\n",
       "\tviewer_1631253866935622.addSphere({\"center\": {\"x\": -14.680148211478395, \"y\": 16.382669353888478, \"z\": -23.53252459810819}, \"radius\": 1.0, \"color\": \"red\", \"alpha\": 0.9});\n",
       "\tviewer_1631253866935622.addSphere({\"center\": {\"x\": 22.953361825322233, \"y\": -22.935446959526082, \"z\": 5.4266480296233315}, \"radius\": 1.0, \"color\": \"red\", \"alpha\": 0.9});\n",
       "\tviewer_1631253866935622.addSphere({\"center\": {\"x\": -9.291386687787972, \"y\": 25.663357877420243, \"z\": 17.818866784131764}, \"radius\": 1.0, \"color\": \"red\", \"alpha\": 0.9});\n",
       "\tviewer_1631253866935622.addSphere({\"center\": {\"x\": -22.155932647948006, \"y\": -16.283107068283876, \"z\": 16.043719631410504}, \"radius\": 1.0, \"color\": \"red\", \"alpha\": 0.9});\n",
       "\tviewer_1631253866935622.addSphere({\"center\": {\"x\": 23.004972980405263, \"y\": -8.12704912472531, \"z\": 17.77851318206761}, \"radius\": 1.0, \"color\": \"red\", \"alpha\": 0.9});\n",
       "\tviewer_1631253866935622.addSphere({\"center\": {\"x\": 6.47128262340181, \"y\": 22.18444941430208, \"z\": 14.836871116641888}, \"radius\": 1.0, \"color\": \"red\", \"alpha\": 0.9});\n",
       "\tviewer_1631253866935622.addSphere({\"center\": {\"x\": 27.65335986788692, \"y\": 1.5067985814476732, \"z\": -4.5917043899500065}, \"radius\": 1.0, \"color\": \"red\", \"alpha\": 0.9});\n",
       "\tviewer_1631253866935622.addSphere({\"center\": {\"x\": 21.05479228098116, \"y\": 7.089188528916229, \"z\": -16.960039715432767}, \"radius\": 1.0, \"color\": \"red\", \"alpha\": 0.9});\n",
       "\tviewer_1631253866935622.addSphere({\"center\": {\"x\": -17.46154357102586, \"y\": -14.93850824261162, \"z\": -18.59883070389264}, \"radius\": 1.0, \"color\": \"red\", \"alpha\": 0.9});\n",
       "\tviewer_1631253866935622.addSphere({\"center\": {\"x\": -4.375011138206304, \"y\": 7.651069497824542, \"z\": -30.164145464423786}, \"radius\": 1.0, \"color\": \"red\", \"alpha\": 0.9});\n",
       "\tviewer_1631253866935622.addSphere({\"center\": {\"x\": -17.05329285437975, \"y\": 28.017696790770067, \"z\": 4.182310398308583}, \"radius\": 1.0, \"color\": \"red\", \"alpha\": 0.9});\n",
       "\tviewer_1631253866935622.addSphere({\"center\": {\"x\": 21.691915231018562, \"y\": -22.854237150074844, \"z\": 8.16159736277142}, \"radius\": 1.0, \"color\": \"red\", \"alpha\": 0.9});\n",
       "\tviewer_1631253866935622.addSphere({\"center\": {\"x\": 24.297293572304735, \"y\": -12.060039536566856, \"z\": -12.719627872497558}, \"radius\": 1.0, \"color\": \"red\", \"alpha\": 0.9});\n",
       "\tviewer_1631253866935622.addSphere({\"center\": {\"x\": -1.5303204051199506, \"y\": 14.46585065708269, \"z\": 26.700504786890367}, \"radius\": 1.0, \"color\": \"red\", \"alpha\": 0.9});\n",
       "\tviewer_1631253866935622.addSphere({\"center\": {\"x\": -19.25580826393476, \"y\": -16.93239617439573, \"z\": -23.50287445402456}, \"radius\": 1.0, \"color\": \"red\", \"alpha\": 0.9});\n",
       "\tviewer_1631253866935622.addSphere({\"center\": {\"x\": 18.543076193763625, \"y\": -8.67951253055311, \"z\": -22.127943646013364}, \"radius\": 1.0, \"color\": \"red\", \"alpha\": 0.9});\n",
       "\tviewer_1631253866935622.addSphere({\"center\": {\"x\": 29.370350892269403, \"y\": -0.32190633867247403, \"z\": -8.6123553451039}, \"radius\": 1.0, \"color\": \"red\", \"alpha\": 0.9});\n",
       "\tviewer_1631253866935622.addSphere({\"center\": {\"x\": -19.134925901235977, \"y\": 2.8501653020699744, \"z\": 26.136559023403464}, \"radius\": 1.0, \"color\": \"red\", \"alpha\": 0.9});\n",
       "\tviewer_1631253866935622.addSphere({\"center\": {\"x\": 25.887434716405757, \"y\": 13.783831015518299, \"z\": 0.2970089737723462}, \"radius\": 1.0, \"color\": \"red\", \"alpha\": 0.9});\n",
       "\tviewer_1631253866935622.addSphere({\"center\": {\"x\": -6.888288147009367, \"y\": -10.987008883255001, \"z\": -26.331801143238664}, \"radius\": 1.0, \"color\": \"red\", \"alpha\": 0.9});\n",
       "\tviewer_1631253866935622.addSphere({\"center\": {\"x\": 26.79928910712415, \"y\": -15.483884848750645, \"z\": 9.138031244986855}, \"radius\": 1.0, \"color\": \"red\", \"alpha\": 0.9});\n",
       "\tviewer_1631253866935622.addSphere({\"center\": {\"x\": 30.060538274571453, \"y\": -14.728741025875921, \"z\": -5.741459401583378}, \"radius\": 1.0, \"color\": \"red\", \"alpha\": 0.9});\n",
       "\tviewer_1631253866935622.addSphere({\"center\": {\"x\": -25.69660053964331, \"y\": -11.858862884302331, \"z\": -13.887837838085222}, \"radius\": 1.0, \"color\": \"red\", \"alpha\": 0.9});\n",
       "\tviewer_1631253866935622.addSphere({\"center\": {\"x\": 32.25965265406849, \"y\": 1.6455439200932565, \"z\": -8.373365167309409}, \"radius\": 1.0, \"color\": \"red\", \"alpha\": 0.9});\n",
       "\tviewer_1631253866935622.addSphere({\"center\": {\"x\": 19.42410315682396, \"y\": -6.362230743974672, \"z\": -17.898816161723968}, \"radius\": 1.0, \"color\": \"red\", \"alpha\": 0.9});\n",
       "\tviewer_1631253866935622.addSphere({\"center\": {\"x\": -17.600481647234147, \"y\": 0.23488342364358253, \"z\": 23.51959974700263}, \"radius\": 1.0, \"color\": \"red\", \"alpha\": 0.9});\n",
       "\tviewer_1631253866935622.addSphere({\"center\": {\"x\": -13.458200655497365, \"y\": -26.728803148201784, \"z\": -13.773692131278839}, \"radius\": 1.0, \"color\": \"red\", \"alpha\": 0.9});\n",
       "\tviewer_1631253866935622.addSphere({\"center\": {\"x\": 16.964508657851226, \"y\": 6.1494870199297695, \"z\": 23.2223628287056}, \"radius\": 1.0, \"color\": \"red\", \"alpha\": 0.9});\n",
       "\tviewer_1631253866935622.addSphere({\"center\": {\"x\": -4.6838924975709455, \"y\": -18.39335599609803, \"z\": -24.61681588405548}, \"radius\": 1.0, \"color\": \"red\", \"alpha\": 0.9});\n",
       "\tviewer_1631253866935622.addSphere({\"center\": {\"x\": 12.611028300826819, \"y\": 31.243959334383703, \"z\": 5.601730310732267}, \"radius\": 1.0, \"color\": \"red\", \"alpha\": 0.9});\n",
       "\tviewer_1631253866935622.addSphere({\"center\": {\"x\": -1.1791960823756076, \"y\": 23.497175500396224, \"z\": 21.660938453806356}, \"radius\": 1.0, \"color\": \"red\", \"alpha\": 0.9});\n",
       "\tviewer_1631253866935622.addSphere({\"center\": {\"x\": 5.880978844874115, \"y\": 21.464952184563124, \"z\": -16.33855400311758}, \"radius\": 1.0, \"color\": \"red\", \"alpha\": 0.9});\n",
       "\tviewer_1631253866935622.addSphere({\"center\": {\"x\": 12.573589431342988, \"y\": -24.035967965705233, \"z\": 13.87670102935412}, \"radius\": 1.0, \"color\": \"red\", \"alpha\": 0.9});\n",
       "\tviewer_1631253866935622.addSphere({\"center\": {\"x\": -3.253832746180839, \"y\": 6.1195297043158625, \"z\": -28.942763815551846}, \"radius\": 1.0, \"color\": \"red\", \"alpha\": 0.9});\n",
       "\tviewer_1631253866935622.addSphere({\"center\": {\"x\": -21.551378585375893, \"y\": -12.4976368332491, \"z\": -12.334563076323692}, \"radius\": 1.0, \"color\": \"red\", \"alpha\": 0.9});\n",
       "\tviewer_1631253866935622.addSphere({\"center\": {\"x\": 10.828894302108116, \"y\": -30.84450860258471, \"z\": -1.7311583075912034}, \"radius\": 1.0, \"color\": \"red\", \"alpha\": 0.9});\n",
       "\tviewer_1631253866935622.addSphere({\"center\": {\"x\": -20.190022542590697, \"y\": -27.38071747534859, \"z\": -3.0814921757752995}, \"radius\": 1.0, \"color\": \"red\", \"alpha\": 0.9});\n",
       "\tviewer_1631253866935622.addSphere({\"center\": {\"x\": 26.0062752973852, \"y\": -8.56848687793154, \"z\": -16.554352163628415}, \"radius\": 1.0, \"color\": \"red\", \"alpha\": 0.9});\n",
       "\tviewer_1631253866935622.addSphere({\"center\": {\"x\": -26.581542661616332, \"y\": -16.64122592038062, \"z\": -7.065287387603883}, \"radius\": 1.0, \"color\": \"red\", \"alpha\": 0.9});\n",
       "\tviewer_1631253866935622.addSphere({\"center\": {\"x\": -25.921889840358535, \"y\": 9.816563957927396, \"z\": -17.384641294611022}, \"radius\": 1.0, \"color\": \"red\", \"alpha\": 0.9});\n",
       "\tviewer_1631253866935622.addSphere({\"center\": {\"x\": -1.8925775983922883, \"y\": -23.785142813066003, \"z\": -16.0406334901849}, \"radius\": 1.0, \"color\": \"red\", \"alpha\": 0.9});\n",
       "\tviewer_1631253866935622.addSphere({\"center\": {\"x\": 18.032218241500896, \"y\": 15.046328162619114, \"z\": 23.510530972835095}, \"radius\": 1.0, \"color\": \"red\", \"alpha\": 0.9});\n",
       "\tviewer_1631253866935622.addSphere({\"center\": {\"x\": -15.628723346684097, \"y\": 13.001715457315655, \"z\": -28.18168179826487}, \"radius\": 1.0, \"color\": \"red\", \"alpha\": 0.9});\n",
       "\tviewer_1631253866935622.addSphere({\"center\": {\"x\": 12.476727903782333, \"y\": 27.868305869258762, \"z\": -4.585222371418427}, \"radius\": 1.0, \"color\": \"red\", \"alpha\": 0.9});\n",
       "\tviewer_1631253866935622.addSphere({\"center\": {\"x\": -2.745898781376368, \"y\": 30.04700134149483, \"z\": 4.620802650051427}, \"radius\": 1.0, \"color\": \"red\", \"alpha\": 0.9});\n",
       "\tviewer_1631253866935622.addSphere({\"center\": {\"x\": 2.4768177742325923, \"y\": -31.641208933750075, \"z\": -6.587787500369744}, \"radius\": 1.0, \"color\": \"red\", \"alpha\": 0.9});\n",
       "\tviewer_1631253866935622.addSphere({\"center\": {\"x\": 32.121307974545296, \"y\": -1.7461249044183627, \"z\": -3.9732703161533713}, \"radius\": 1.0, \"color\": \"red\", \"alpha\": 0.9});\n",
       "\tviewer_1631253866935622.addSphere({\"center\": {\"x\": 11.513874526793566, \"y\": -9.088277170277557, \"z\": 30.664038410873452}, \"radius\": 1.0, \"color\": \"red\", \"alpha\": 0.9});\n",
       "\tviewer_1631253866935622.addSphere({\"center\": {\"x\": -31.701050427850202, \"y\": 13.029706113787098, \"z\": 7.030634614040154}, \"radius\": 1.0, \"color\": \"red\", \"alpha\": 0.9});\n",
       "\tviewer_1631253866935622.addSphere({\"center\": {\"x\": 26.59821208916624, \"y\": -3.3229621459467715, \"z\": 9.27881602868297}, \"radius\": 1.0, \"color\": \"red\", \"alpha\": 0.9});\n",
       "\tviewer_1631253866935622.addSphere({\"center\": {\"x\": 28.887733339666063, \"y\": -15.458891803413405, \"z\": -9.954330799702372}, \"radius\": 1.0, \"color\": \"red\", \"alpha\": 0.9});\n",
       "\tviewer_1631253866935622.addSphere({\"center\": {\"x\": 5.864982218545146, \"y\": 29.705919942383453, \"z\": 14.810687347009264}, \"radius\": 1.0, \"color\": \"red\", \"alpha\": 0.9});\n",
       "\tviewer_1631253866935622.addSphere({\"center\": {\"x\": 24.886246358867663, \"y\": -11.972248838161569, \"z\": 0.622025340889071}, \"radius\": 1.0, \"color\": \"red\", \"alpha\": 0.9});\n",
       "\tviewer_1631253866935622.addSphere({\"center\": {\"x\": -17.336761707722104, \"y\": 26.703546730718713, \"z\": -9.699938232419852}, \"radius\": 1.0, \"color\": \"red\", \"alpha\": 0.9});\n",
       "\tviewer_1631253866935622.addSphere({\"center\": {\"x\": 8.684031554156318, \"y\": -22.70340747797176, \"z\": 11.936367028153049}, \"radius\": 1.0, \"color\": \"red\", \"alpha\": 0.9});\n",
       "\tviewer_1631253866935622.addSphere({\"center\": {\"x\": -15.157173138526673, \"y\": 26.037964954013344, \"z\": 4.3060436272154705}, \"radius\": 1.0, \"color\": \"red\", \"alpha\": 0.9});\n",
       "\tviewer_1631253866935622.addSphere({\"center\": {\"x\": -2.964036142215712, \"y\": 26.222450730112488, \"z\": -10.747127886494443}, \"radius\": 1.0, \"color\": \"red\", \"alpha\": 0.9});\n",
       "\tviewer_1631253866935622.addSphere({\"center\": {\"x\": 20.235400121111525, \"y\": -13.124301131015857, \"z\": 20.428365606526825}, \"radius\": 1.0, \"color\": \"red\", \"alpha\": 0.9});\n",
       "\tviewer_1631253866935622.addSphere({\"center\": {\"x\": -8.507739359376108, \"y\": -13.769461878746851, \"z\": -26.132403517828152}, \"radius\": 1.0, \"color\": \"red\", \"alpha\": 0.9});\n",
       "\tviewer_1631253866935622.addSphere({\"center\": {\"x\": 20.8586506728275, \"y\": 19.03289779840111, \"z\": 17.987276868680702}, \"radius\": 1.0, \"color\": \"red\", \"alpha\": 0.9});\n",
       "\tviewer_1631253866935622.addSphere({\"center\": {\"x\": 29.458424586341373, \"y\": -7.886852662106948, \"z\": -8.589352900791576}, \"radius\": 1.0, \"color\": \"red\", \"alpha\": 0.9});\n",
       "\tviewer_1631253866935622.addSphere({\"center\": {\"x\": 31.59836637071105, \"y\": -13.646892109476624, \"z\": 4.127433737469647}, \"radius\": 1.0, \"color\": \"red\", \"alpha\": 0.9});\n",
       "\tviewer_1631253866935622.addSphere({\"center\": {\"x\": 2.1603543186679435, \"y\": 25.016396788352242, \"z\": -14.739423038631314}, \"radius\": 1.0, \"color\": \"red\", \"alpha\": 0.9});\n",
       "\tviewer_1631253866935622.addSphere({\"center\": {\"x\": 4.823853322488037, \"y\": 19.188275235409048, \"z\": 21.801638787306114}, \"radius\": 1.0, \"color\": \"red\", \"alpha\": 0.9});\n",
       "\tviewer_1631253866935622.addSphere({\"center\": {\"x\": -14.35612705350534, \"y\": -12.782980804541184, \"z\": 28.91074287278046}, \"radius\": 1.0, \"color\": \"red\", \"alpha\": 0.9});\n",
       "\tviewer_1631253866935622.addSphere({\"center\": {\"x\": -2.371779419570687, \"y\": 20.870871412659692, \"z\": 24.98542994863592}, \"radius\": 1.0, \"color\": \"red\", \"alpha\": 0.9});\n",
       "\tviewer_1631253866935622.addSphere({\"center\": {\"x\": -11.393738865881655, \"y\": -31.030246915069235, \"z\": 1.2379655240613487}, \"radius\": 1.0, \"color\": \"red\", \"alpha\": 0.9});\n",
       "\tviewer_1631253866935622.addSphere({\"center\": {\"x\": -1.0212031448044472, \"y\": 11.45360218466097, \"z\": -25.737341937827576}, \"radius\": 1.0, \"color\": \"red\", \"alpha\": 0.9});\n",
       "\tviewer_1631253866935622.addSphere({\"center\": {\"x\": -24.772665900165993, \"y\": 7.357647672947065, \"z\": -11.142786214977354}, \"radius\": 1.0, \"color\": \"red\", \"alpha\": 0.9});\n",
       "\tviewer_1631253866935622.addSphere({\"center\": {\"x\": -25.50354755289864, \"y\": 35.10451501978541, \"z\": -17.37843047431413}, \"radius\": 1.0, \"color\": \"blue\", \"alpha\": 0.9});\n",
       "\tviewer_1631253866935622.addSphere({\"center\": {\"x\": -40.058920252463324, \"y\": 8.323583499104895, \"z\": -16.868358036194017}, \"radius\": 1.0, \"color\": \"blue\", \"alpha\": 0.9});\n",
       "\tviewer_1631253866935622.addSphere({\"center\": {\"x\": 41.803612235491606, \"y\": -19.579335835360993, \"z\": -8.634930267933703}, \"radius\": 1.0, \"color\": \"blue\", \"alpha\": 0.9});\n",
       "\tviewer_1631253866935622.addSphere({\"center\": {\"x\": -15.568239247586265, \"y\": -15.350995169232064, \"z\": -32.0601686295023}, \"radius\": 1.0, \"color\": \"blue\", \"alpha\": 0.9});\n",
       "\tviewer_1631253866935622.addSphere({\"center\": {\"x\": -19.030049713212467, \"y\": 6.696445484342825, \"z\": 38.21760831341918}, \"radius\": 1.0, \"color\": \"blue\", \"alpha\": 0.9});\n",
       "\tviewer_1631253866935622.addSphere({\"center\": {\"x\": 12.624420436186963, \"y\": 5.760693636821483, \"z\": 44.786777650534034}, \"radius\": 1.0, \"color\": \"blue\", \"alpha\": 0.9});\n",
       "\tviewer_1631253866935622.addSphere({\"center\": {\"x\": -18.97332325852316, \"y\": 33.09601523798583, \"z\": -13.412788711838699}, \"radius\": 1.0, \"color\": \"blue\", \"alpha\": 0.9});\n",
       "\tviewer_1631253866935622.addSphere({\"center\": {\"x\": -13.325598303602636, \"y\": 18.30107456700225, \"z\": 36.04256440214823}, \"radius\": 1.0, \"color\": \"blue\", \"alpha\": 0.9});\n",
       "\tviewer_1631253866935622.addSphere({\"center\": {\"x\": -14.180833490438845, \"y\": 13.21438065637425, \"z\": -32.58375673636748}, \"radius\": 1.0, \"color\": \"blue\", \"alpha\": 0.9});\n",
       "\tviewer_1631253866935622.addSphere({\"center\": {\"x\": -34.459888989198696, \"y\": 11.45244712685732, \"z\": -24.47871975071126}, \"radius\": 1.0, \"color\": \"blue\", \"alpha\": 0.9});\n",
       "\tviewer_1631253866935622.addSphere({\"center\": {\"x\": -15.978306383815909, \"y\": 30.26166669964988, \"z\": 29.410135322684425}, \"radius\": 1.0, \"color\": \"blue\", \"alpha\": 0.9});\n",
       "\tviewer_1631253866935622.addSphere({\"center\": {\"x\": -11.885672295740607, \"y\": -37.0684379900285, \"z\": 18.04807649071247}, \"radius\": 1.0, \"color\": \"blue\", \"alpha\": 0.9});\n",
       "\tviewer_1631253866935622.addSphere({\"center\": {\"x\": 37.78017837475917, \"y\": -8.995010515630074, \"z\": 15.265907058338733}, \"radius\": 1.0, \"color\": \"blue\", \"alpha\": 0.9});\n",
       "\tviewer_1631253866935622.addSphere({\"center\": {\"x\": 22.95697941881016, \"y\": -21.303741546282176, \"z\": 23.852571042048346}, \"radius\": 1.0, \"color\": \"blue\", \"alpha\": 0.9});\n",
       "\tviewer_1631253866935622.addSphere({\"center\": {\"x\": -25.80138695503971, \"y\": 20.653867845174787, \"z\": -24.422359634730594}, \"radius\": 1.0, \"color\": \"blue\", \"alpha\": 0.9});\n",
       "\tviewer_1631253866935622.addSphere({\"center\": {\"x\": 27.58607842666645, \"y\": 21.486906531313984, \"z\": -30.064145790103428}, \"radius\": 1.0, \"color\": \"blue\", \"alpha\": 0.9});\n",
       "\tviewer_1631253866935622.addSphere({\"center\": {\"x\": 8.444196101184737, \"y\": 44.321261838233816, \"z\": -11.75130569765563}, \"radius\": 1.0, \"color\": \"blue\", \"alpha\": 0.9});\n",
       "\tviewer_1631253866935622.addSphere({\"center\": {\"x\": -30.594234774975728, \"y\": 7.307073318317468, \"z\": -19.39542262672021}, \"radius\": 1.0, \"color\": \"blue\", \"alpha\": 0.9});\n",
       "\tviewer_1631253866935622.addSphere({\"center\": {\"x\": 25.121228616599375, \"y\": 28.50086214623717, \"z\": 4.4973462795187995}, \"radius\": 1.0, \"color\": \"blue\", \"alpha\": 0.9});\n",
       "\tviewer_1631253866935622.addSphere({\"center\": {\"x\": -18.327172318866367, \"y\": 9.028193202116299, \"z\": 28.761716610286665}, \"radius\": 1.0, \"color\": \"blue\", \"alpha\": 0.9});\n",
       "\tviewer_1631253866935622.addSphere({\"center\": {\"x\": -24.815583512713566, \"y\": -10.936122666989965, \"z\": 35.334044950039164}, \"radius\": 1.0, \"color\": \"blue\", \"alpha\": 0.9});\n",
       "\tviewer_1631253866935622.addSphere({\"center\": {\"x\": -26.491304636200187, \"y\": 17.75689209951181, \"z\": 22.7266551917354}, \"radius\": 1.0, \"color\": \"blue\", \"alpha\": 0.9});\n",
       "\tviewer_1631253866935622.addSphere({\"center\": {\"x\": -35.08070311214421, \"y\": -3.6168722086627265, \"z\": 9.224964727618842}, \"radius\": 1.0, \"color\": \"blue\", \"alpha\": 0.9});\n",
       "\tviewer_1631253866935622.addSphere({\"center\": {\"x\": 5.445040086719377, \"y\": 10.833913254688378, \"z\": 43.04920713945552}, \"radius\": 1.0, \"color\": \"blue\", \"alpha\": 0.9});\n",
       "\tviewer_1631253866935622.addSphere({\"center\": {\"x\": 0.293510952415833, \"y\": -42.2598085571933, \"z\": -10.70708808109889}, \"radius\": 1.0, \"color\": \"blue\", \"alpha\": 0.9});\n",
       "\tviewer_1631253866935622.addSphere({\"center\": {\"x\": -37.22204184864615, \"y\": 7.272557486763731, \"z\": -11.468813652720536}, \"radius\": 1.0, \"color\": \"blue\", \"alpha\": 0.9});\n",
       "\tviewer_1631253866935622.addSphere({\"center\": {\"x\": -38.36149117590182, \"y\": 7.684998978841113, \"z\": 8.686605174643008}, \"radius\": 1.0, \"color\": \"blue\", \"alpha\": 0.9});\n",
       "\tviewer_1631253866935622.addSphere({\"center\": {\"x\": 10.458005051218002, \"y\": -7.072965801831423, \"z\": 33.79891412100591}, \"radius\": 1.0, \"color\": \"blue\", \"alpha\": 0.9});\n",
       "\tviewer_1631253866935622.addSphere({\"center\": {\"x\": 29.222222360454662, \"y\": -9.985524078965746, \"z\": 25.07883017058495}, \"radius\": 1.0, \"color\": \"blue\", \"alpha\": 0.9});\n",
       "\tviewer_1631253866935622.addSphere({\"center\": {\"x\": -41.05258490511324, \"y\": -12.490291986833762, \"z\": 11.916018791133604}, \"radius\": 1.0, \"color\": \"blue\", \"alpha\": 0.9});\n",
       "\tviewer_1631253866935622.addSphere({\"center\": {\"x\": 20.116381503357953, \"y\": 40.16331579163776, \"z\": -8.590989422244439}, \"radius\": 1.0, \"color\": \"blue\", \"alpha\": 0.9});\n",
       "\tviewer_1631253866935622.addSphere({\"center\": {\"x\": 36.36263519681308, \"y\": -23.291294671186566, \"z\": 2.777382558242769}, \"radius\": 1.0, \"color\": \"blue\", \"alpha\": 0.9});\n",
       "\tviewer_1631253866935622.addSphere({\"center\": {\"x\": -42.42566613456585, \"y\": 16.11149083239077, \"z\": 5.710117977515736}, \"radius\": 1.0, \"color\": \"blue\", \"alpha\": 0.9});\n",
       "\tviewer_1631253866935622.addSphere({\"center\": {\"x\": -27.079288287261708, \"y\": 26.25768077038001, \"z\": -17.890524616418876}, \"radius\": 1.0, \"color\": \"blue\", \"alpha\": 0.9});\n",
       "\tviewer_1631253866935622.addSphere({\"center\": {\"x\": -20.06735029434022, \"y\": 19.419985217283102, \"z\": 36.77211205039391}, \"radius\": 1.0, \"color\": \"blue\", \"alpha\": 0.9});\n",
       "\tviewer_1631253866935622.addSphere({\"center\": {\"x\": -35.872613936728854, \"y\": 14.51976507616034, \"z\": 0.3935572883283925}, \"radius\": 1.0, \"color\": \"blue\", \"alpha\": 0.9});\n",
       "\tviewer_1631253866935622.addSphere({\"center\": {\"x\": -22.637387396838573, \"y\": -26.299284971738647, \"z\": -25.990526197598683}, \"radius\": 1.0, \"color\": \"blue\", \"alpha\": 0.9});\n",
       "\tviewer_1631253866935622.addSphere({\"center\": {\"x\": -22.86248199794036, \"y\": 19.284594854736298, \"z\": -18.83423171052936}, \"radius\": 1.0, \"color\": \"blue\", \"alpha\": 0.9});\n",
       "\tviewer_1631253866935622.addSphere({\"center\": {\"x\": -18.14615743961241, \"y\": -13.14655509433138, \"z\": 35.908346077771874}, \"radius\": 1.0, \"color\": \"blue\", \"alpha\": 0.9});\n",
       "\tviewer_1631253866935622.addSphere({\"center\": {\"x\": 30.266172499450665, \"y\": -16.345693749371282, \"z\": 24.752856669986926}, \"radius\": 1.0, \"color\": \"blue\", \"alpha\": 0.9});\n",
       "\tviewer_1631253866935622.addSphere({\"center\": {\"x\": -12.135591429494804, \"y\": -12.930705182203495, \"z\": 36.5540447707017}, \"radius\": 1.0, \"color\": \"blue\", \"alpha\": 0.9});\n",
       "\tviewer_1631253866935622.addSphere({\"center\": {\"x\": 3.641911487787497, \"y\": 36.63301690498122, \"z\": 13.602817195954845}, \"radius\": 1.0, \"color\": \"blue\", \"alpha\": 0.9});\n",
       "\tviewer_1631253866935622.addSphere({\"center\": {\"x\": 4.535572527016206, \"y\": 27.17652406679632, \"z\": -24.744669742491045}, \"radius\": 1.0, \"color\": \"blue\", \"alpha\": 0.9});\n",
       "\tviewer_1631253866935622.addSphere({\"center\": {\"x\": 8.678812902423656, \"y\": 36.725446473003004, \"z\": -3.876543895702867}, \"radius\": 1.0, \"color\": \"blue\", \"alpha\": 0.9});\n",
       "\tviewer_1631253866935622.addSphere({\"center\": {\"x\": -27.750975050259207, \"y\": -24.754014804072526, \"z\": 11.021427000975507}, \"radius\": 1.0, \"color\": \"blue\", \"alpha\": 0.9});\n",
       "\tviewer_1631253866935622.addSphere({\"center\": {\"x\": -21.907763881460028, \"y\": 30.2995771859835, \"z\": -7.88162841509326}, \"radius\": 1.0, \"color\": \"blue\", \"alpha\": 0.9});\n",
       "\tviewer_1631253866935622.addSphere({\"center\": {\"x\": -3.1423500818206165, \"y\": 31.150133102459474, \"z\": 26.33325245180808}, \"radius\": 1.0, \"color\": \"blue\", \"alpha\": 0.9});\n",
       "\tviewer_1631253866935622.addSphere({\"center\": {\"x\": 6.953197477790596, \"y\": 42.8316568600022, \"z\": -8.374293977519706}, \"radius\": 1.0, \"color\": \"blue\", \"alpha\": 0.9});\n",
       "\tviewer_1631253866935622.addSphere({\"center\": {\"x\": -23.602787337827525, \"y\": 20.33612353211395, \"z\": -26.40118858396028}, \"radius\": 1.0, \"color\": \"blue\", \"alpha\": 0.9});\n",
       "\tviewer_1631253866935622.addSphere({\"center\": {\"x\": 28.32464949552375, \"y\": 29.547974663433877, \"z\": -13.432575823309556}, \"radius\": 1.0, \"color\": \"blue\", \"alpha\": 0.9});\n",
       "\tviewer_1631253866935622.addSphere({\"center\": {\"x\": 33.77514547224092, \"y\": 24.846388451123158, \"z\": 10.022634484120534}, \"radius\": 1.0, \"color\": \"blue\", \"alpha\": 0.9});\n",
       "\tviewer_1631253866935622.addSphere({\"center\": {\"x\": -36.76216277141972, \"y\": -18.886637023544523, \"z\": -10.041743231304668}, \"radius\": 1.0, \"color\": \"blue\", \"alpha\": 0.9});\n",
       "\tviewer_1631253866935622.addSphere({\"center\": {\"x\": 21.881123162362584, \"y\": 25.648137392803328, \"z\": 32.447973133039376}, \"radius\": 1.0, \"color\": \"blue\", \"alpha\": 0.9});\n",
       "\tviewer_1631253866935622.addSphere({\"center\": {\"x\": -39.76620695215233, \"y\": -1.6871661575897048, \"z\": -20.95407040234148}, \"radius\": 1.0, \"color\": \"blue\", \"alpha\": 0.9});\n",
       "\tviewer_1631253866935622.addSphere({\"center\": {\"x\": 40.65757447101175, \"y\": 11.859805757361098, \"z\": -10.992774539434226}, \"radius\": 1.0, \"color\": \"blue\", \"alpha\": 0.9});\n",
       "\tviewer_1631253866935622.addSphere({\"center\": {\"x\": 8.71909078808413, \"y\": -28.04920854708537, \"z\": -34.39005964372954}, \"radius\": 1.0, \"color\": \"blue\", \"alpha\": 0.9});\n",
       "\tviewer_1631253866935622.addSphere({\"center\": {\"x\": -6.61778229731676, \"y\": -26.84577693929611, \"z\": 33.8987015448065}, \"radius\": 1.0, \"color\": \"blue\", \"alpha\": 0.9});\n",
       "\tviewer_1631253866935622.addSphere({\"center\": {\"x\": 28.14198587873708, \"y\": 4.097218407071847, \"z\": 33.680819769867256}, \"radius\": 1.0, \"color\": \"blue\", \"alpha\": 0.9});\n",
       "\tviewer_1631253866935622.addSphere({\"center\": {\"x\": 37.771436839886775, \"y\": -7.792591156683288, \"z\": 18.941042413482037}, \"radius\": 1.0, \"color\": \"blue\", \"alpha\": 0.9});\n",
       "\tviewer_1631253866935622.addSphere({\"center\": {\"x\": -18.41586474976217, \"y\": -17.8160402085358, \"z\": 33.13973029313629}, \"radius\": 1.0, \"color\": \"blue\", \"alpha\": 0.9});\n",
       "\tviewer_1631253866935622.addSphere({\"center\": {\"x\": 29.468058996062727, \"y\": -8.487691819698533, \"z\": 29.369409460215508}, \"radius\": 1.0, \"color\": \"blue\", \"alpha\": 0.9});\n",
       "\tviewer_1631253866935622.addSphere({\"center\": {\"x\": 34.54675036226855, \"y\": 18.268112418442247, \"z\": 9.072656348607135}, \"radius\": 1.0, \"color\": \"blue\", \"alpha\": 0.9});\n",
       "\tviewer_1631253866935622.addSphere({\"center\": {\"x\": 41.194939868490835, \"y\": -5.076681930540396, \"z\": -2.325915308151389}, \"radius\": 1.0, \"color\": \"blue\", \"alpha\": 0.9});\n",
       "\tviewer_1631253866935622.addSphere({\"center\": {\"x\": 40.27959232573987, \"y\": 14.600509133499974, \"z\": 16.86006628574661}, \"radius\": 1.0, \"color\": \"blue\", \"alpha\": 0.9});\n",
       "\tviewer_1631253866935622.addSphere({\"center\": {\"x\": 5.936116569254985, \"y\": -37.3821814845013, \"z\": 13.86902228225107}, \"radius\": 1.0, \"color\": \"blue\", \"alpha\": 0.9});\n",
       "\tviewer_1631253866935622.addSphere({\"center\": {\"x\": 6.001296646020254, \"y\": 35.6490944793382, \"z\": -10.783666256692094}, \"radius\": 1.0, \"color\": \"blue\", \"alpha\": 0.9});\n",
       "\tviewer_1631253866935622.addSphere({\"center\": {\"x\": -14.877590038688524, \"y\": 43.37812791767629, \"z\": 3.769676357896074}, \"radius\": 1.0, \"color\": \"blue\", \"alpha\": 0.9});\n",
       "\tviewer_1631253866935622.addSphere({\"center\": {\"x\": -30.666822901435182, \"y\": 0.243706973868273, \"z\": -24.45527600097081}, \"radius\": 1.0, \"color\": \"blue\", \"alpha\": 0.9});\n",
       "\tviewer_1631253866935622.addSphere({\"center\": {\"x\": 35.03006841564004, \"y\": -14.941756674956341, \"z\": -9.83842617725282}, \"radius\": 1.0, \"color\": \"blue\", \"alpha\": 0.9});\n",
       "\tviewer_1631253866935622.addSphere({\"center\": {\"x\": -19.755456669533633, \"y\": -30.17485617098707, \"z\": -11.802111743584506}, \"radius\": 1.0, \"color\": \"blue\", \"alpha\": 0.9});\n",
       "\tviewer_1631253866935622.addSphere({\"center\": {\"x\": 11.1144346896148, \"y\": -12.342101791962431, \"z\": 36.48412773087859}, \"radius\": 1.0, \"color\": \"blue\", \"alpha\": 0.9});\n",
       "\tviewer_1631253866935622.addSphere({\"center\": {\"x\": -4.723657164654689, \"y\": -43.69426593797867, \"z\": -7.794527543359085}, \"radius\": 1.0, \"color\": \"blue\", \"alpha\": 0.9});\n",
       "\tviewer_1631253866935622.addSphere({\"center\": {\"x\": 1.8223972611678756, \"y\": 24.66239726751363, \"z\": -31.09468528018789}, \"radius\": 1.0, \"color\": \"blue\", \"alpha\": 0.9});\n",
       "\tviewer_1631253866935622.addSphere({\"center\": {\"x\": 27.840029680296304, \"y\": -7.534343266317614, \"z\": -33.30071261309215}, \"radius\": 1.0, \"color\": \"blue\", \"alpha\": 0.9});\n",
       "\tviewer_1631253866935622.addSphere({\"center\": {\"x\": 12.92895887116541, \"y\": 29.52544660806783, \"z\": -14.623219743831562}, \"radius\": 1.0, \"color\": \"blue\", \"alpha\": 0.9});\n",
       "\tviewer_1631253866935622.addSphere({\"center\": {\"x\": -4.372461563105768, \"y\": 37.67920117722262, \"z\": 10.4802682906344}, \"radius\": 1.0, \"color\": \"blue\", \"alpha\": 0.9});\n",
       "\tviewer_1631253866935622.addSphere({\"center\": {\"x\": 35.609674836177916, \"y\": 3.3453625345073976, \"z\": -18.993961778019898}, \"radius\": 1.0, \"color\": \"blue\", \"alpha\": 0.9});\n",
       "\tviewer_1631253866935622.addSphere({\"center\": {\"x\": 37.48041665112636, \"y\": -2.895953195137758, \"z\": -12.251562541673392}, \"radius\": 1.0, \"color\": \"blue\", \"alpha\": 0.9});\n",
       "\tviewer_1631253866935622.addSphere({\"center\": {\"x\": 32.5223943856722, \"y\": 14.099405395081638, \"z\": -11.200749167940112}, \"radius\": 1.0, \"color\": \"blue\", \"alpha\": 0.9});\n",
       "\tviewer_1631253866935622.addSphere({\"center\": {\"x\": -28.855155928553454, \"y\": -18.881477073667554, \"z\": -31.189918437489347}, \"radius\": 1.0, \"color\": \"blue\", \"alpha\": 0.9});\n",
       "\tviewer_1631253866935622.addSphere({\"center\": {\"x\": 20.954010075435612, \"y\": -30.512248679424317, \"z\": -25.565457803550785}, \"radius\": 1.0, \"color\": \"blue\", \"alpha\": 0.9});\n",
       "\tviewer_1631253866935622.addSphere({\"center\": {\"x\": 10.9000730263107, \"y\": 15.623923020317058, \"z\": 35.61703197023198}, \"radius\": 1.0, \"color\": \"blue\", \"alpha\": 0.9});\n",
       "\tviewer_1631253866935622.addSphere({\"center\": {\"x\": 18.37544338501765, \"y\": 32.061515516247255, \"z\": 27.20177962783242}, \"radius\": 1.0, \"color\": \"blue\", \"alpha\": 0.9});\n",
       "\tviewer_1631253866935622.addSphere({\"center\": {\"x\": 24.87422163868179, \"y\": 21.743420280004234, \"z\": -12.079988560539372}, \"radius\": 1.0, \"color\": \"blue\", \"alpha\": 0.9});\n",
       "\tviewer_1631253866935622.addSphere({\"center\": {\"x\": 38.31339289219548, \"y\": 5.756365424006376, \"z\": -18.345578272668504}, \"radius\": 1.0, \"color\": \"blue\", \"alpha\": 0.9});\n",
       "\tviewer_1631253866935622.addSphere({\"center\": {\"x\": 24.396312243992288, \"y\": 2.998715581678676, \"z\": -26.86351442310301}, \"radius\": 1.0, \"color\": \"blue\", \"alpha\": 0.9});\n",
       "\tviewer_1631253866935622.addSphere({\"center\": {\"x\": 4.767639050305885, \"y\": 35.07453777309806, \"z\": -3.0486374605473094}, \"radius\": 1.0, \"color\": \"blue\", \"alpha\": 0.9});\n",
       "\tviewer_1631253866935622.addSphere({\"center\": {\"x\": -14.431861400338244, \"y\": -22.120468513669827, \"z\": 38.41583997177844}, \"radius\": 1.0, \"color\": \"blue\", \"alpha\": 0.9});\n",
       "\tviewer_1631253866935622.addSphere({\"center\": {\"x\": 0.5301884882949482, \"y\": -2.9295125875970074, \"z\": 46.61982532325111}, \"radius\": 1.0, \"color\": \"blue\", \"alpha\": 0.9});\n",
       "\tviewer_1631253866935622.addSphere({\"center\": {\"x\": -20.665138930104604, \"y\": 28.175336115917624, \"z\": 2.51119398123833}, \"radius\": 1.0, \"color\": \"blue\", \"alpha\": 0.9});\n",
       "\tviewer_1631253866935622.addSphere({\"center\": {\"x\": -27.11052831993957, \"y\": -14.12513271053237, \"z\": -33.12795609719584}, \"radius\": 1.0, \"color\": \"blue\", \"alpha\": 0.9});\n",
       "\tviewer_1631253866935622.addSphere({\"center\": {\"x\": -10.4358869446191, \"y\": 43.741978393423, \"z\": -6.756423091683359}, \"radius\": 1.0, \"color\": \"blue\", \"alpha\": 0.9});\n",
       "\tviewer_1631253866935622.addSphere({\"center\": {\"x\": -3.1425872546241527, \"y\": -7.161757337032296, \"z\": -38.49428434731936}, \"radius\": 1.0, \"color\": \"blue\", \"alpha\": 0.9});\n",
       "\tviewer_1631253866935622.addSphere({\"center\": {\"x\": -2.3242648823278045, \"y\": 10.324882966417153, \"z\": -42.25987664799306}, \"radius\": 1.0, \"color\": \"blue\", \"alpha\": 0.9});\n",
       "\tviewer_1631253866935622.addSphere({\"center\": {\"x\": -25.290528096389078, \"y\": 15.291509466886353, \"z\": 24.73594647293648}, \"radius\": 1.0, \"color\": \"blue\", \"alpha\": 0.9});\n",
       "\tviewer_1631253866935622.addSphere({\"center\": {\"x\": 35.599213882680644, \"y\": 21.321739066019756, \"z\": 13.949254657326069}, \"radius\": 1.0, \"color\": \"blue\", \"alpha\": 0.9});\n",
       "\tviewer_1631253866935622.addSphere({\"center\": {\"x\": 35.47057520819701, \"y\": -8.507847762463353, \"z\": 8.984983002982801}, \"radius\": 1.0, \"color\": \"blue\", \"alpha\": 0.9});\n",
       "\tviewer_1631253866935622.addSphere({\"center\": {\"x\": -0.7603791195243815, \"y\": 11.868601198268664, \"z\": 36.36546811485134}, \"radius\": 1.0, \"color\": \"blue\", \"alpha\": 0.9});\n",
       "\tviewer_1631253866935622.addSphere({\"center\": {\"x\": 11.58495851543166, \"y\": -10.19976023842719, \"z\": -35.793826531274355}, \"radius\": 1.0, \"color\": \"blue\", \"alpha\": 0.9});\n",
       "\tviewer_1631253866935622.addSphere({\"center\": {\"x\": -30.252582988288843, \"y\": 7.402368843826714, \"z\": -31.158936988194988}, \"radius\": 1.0, \"color\": \"blue\", \"alpha\": 0.9});\n",
       "\tviewer_1631253866935622.addSphere({\"center\": {\"x\": -23.147092915508306, \"y\": -26.61395690368919, \"z\": -7.781828743892153}, \"radius\": 1.0, \"color\": \"blue\", \"alpha\": 0.9});\n",
       "\tviewer_1631253866935622.addSphere({\"center\": {\"x\": 19.43088633155072, \"y\": 5.970606942460698, \"z\": -39.522305986337635}, \"radius\": 1.0, \"color\": \"blue\", \"alpha\": 0.9});\n",
       "\tviewer_1631253866935622.addSphere({\"center\": {\"x\": -12.29219764710634, \"y\": 20.971366109663574, \"z\": 27.314897792501817}, \"radius\": 1.0, \"color\": \"blue\", \"alpha\": 0.9});\n",
       "\tviewer_1631253866935622.addSphere({\"center\": {\"x\": 2.4273991735297353, \"y\": 42.69310995334943, \"z\": -17.58235244957099}, \"radius\": 1.0, \"color\": \"blue\", \"alpha\": 0.9});\n",
       "\tviewer_1631253866935622.addSphere({\"center\": {\"x\": -41.39981290903425, \"y\": 20.322352456549922, \"z\": 7.718183034137534}, \"radius\": 1.0, \"color\": \"blue\", \"alpha\": 0.9});\n",
       "\tviewer_1631253866935622.addSphere({\"center\": {\"x\": -7.183755600899834, \"y\": 41.95083060961405, \"z\": 11.346386364403056}, \"radius\": 1.0, \"color\": \"blue\", \"alpha\": 0.9});\n",
       "\tviewer_1631253866935622.addSphere({\"center\": {\"x\": -18.313461790545283, \"y\": 17.304579753949003, \"z\": -25.193817455757703}, \"radius\": 1.0, \"color\": \"blue\", \"alpha\": 0.9});\n",
       "\tviewer_1631253866935622.addSphere({\"center\": {\"x\": 35.32940462922864, \"y\": 8.837564662781563, \"z\": -7.047087852467751}, \"radius\": 1.0, \"color\": \"blue\", \"alpha\": 0.9});\n",
       "\tviewer_1631253866935622.addSphere({\"center\": {\"x\": -36.02090061353832, \"y\": 25.854012820739985, \"z\": 3.0344294681541473}, \"radius\": 1.0, \"color\": \"blue\", \"alpha\": 0.9});\n",
       "\tviewer_1631253866935622.addSphere({\"center\": {\"x\": 27.545100947019872, \"y\": -22.331018984112177, \"z\": 24.75788282010037}, \"radius\": 1.0, \"color\": \"blue\", \"alpha\": 0.9});\n",
       "\tviewer_1631253866935622.addSphere({\"center\": {\"x\": -10.559415002525109, \"y\": -8.342789382960975, \"z\": -43.973108904971745}, \"radius\": 1.0, \"color\": \"blue\", \"alpha\": 0.9});\n",
       "\tviewer_1631253866935622.addSphere({\"center\": {\"x\": 18.069857592078385, \"y\": 11.299690681456218, \"z\": -32.52809590474549}, \"radius\": 1.0, \"color\": \"blue\", \"alpha\": 0.9});\n",
       "\tviewer_1631253866935622.addSphere({\"center\": {\"x\": -26.923491477213425, \"y\": 25.676763238836205, \"z\": -19.00173573068249}, \"radius\": 1.0, \"color\": \"blue\", \"alpha\": 0.9});\n",
       "\tviewer_1631253866935622.addSphere({\"center\": {\"x\": 6.5557065480319965, \"y\": -20.66285669769059, \"z\": -33.537536571899956}, \"radius\": 1.0, \"color\": \"blue\", \"alpha\": 0.9});\n",
       "\tviewer_1631253866935622.addSphere({\"center\": {\"x\": 10.766443286541865, \"y\": -34.37285628897834, \"z\": -10.399185208383033}, \"radius\": 1.0, \"color\": \"blue\", \"alpha\": 0.9});\n",
       "\tviewer_1631253866935622.addSphere({\"center\": {\"x\": 16.319942452073718, \"y\": -38.86740792294467, \"z\": 0.564619982003414}, \"radius\": 1.0, \"color\": \"blue\", \"alpha\": 0.9});\n",
       "\tviewer_1631253866935622.addSphere({\"center\": {\"x\": -18.985150094973985, \"y\": 28.39371283114481, \"z\": -9.345238569868483}, \"radius\": 1.0, \"color\": \"blue\", \"alpha\": 0.9});\n",
       "\tviewer_1631253866935622.addSphere({\"center\": {\"x\": 34.37709281726234, \"y\": 17.27429948313677, \"z\": 26.953816245744466}, \"radius\": 1.0, \"color\": \"blue\", \"alpha\": 0.9});\n",
       "\tviewer_1631253866935622.addSphere({\"center\": {\"x\": -23.842901833997782, \"y\": 8.596357056298643, \"z\": 25.74276479027984}, \"radius\": 1.0, \"color\": \"blue\", \"alpha\": 0.9});\n",
       "\tviewer_1631253866935622.addSphere({\"center\": {\"x\": -40.61523093014805, \"y\": -9.315938025425464, \"z\": -17.794853122128345}, \"radius\": 1.0, \"color\": \"blue\", \"alpha\": 0.9});\n",
       "\tviewer_1631253866935622.addSphere({\"center\": {\"x\": 10.897015156743631, \"y\": 40.40065882781002, \"z\": 9.646328806463162}, \"radius\": 1.0, \"color\": \"blue\", \"alpha\": 0.9});\n",
       "\tviewer_1631253866935622.addSphere({\"center\": {\"x\": -38.36575244546089, \"y\": 22.809184748468493, \"z\": -9.011822737872743}, \"radius\": 1.0, \"color\": \"blue\", \"alpha\": 0.9});\n",
       "\tviewer_1631253866935622.addSphere({\"center\": {\"x\": 33.24902358657437, \"y\": 17.737036562166857, \"z\": -15.761289889346251}, \"radius\": 1.0, \"color\": \"blue\", \"alpha\": 0.9});\n",
       "\tviewer_1631253866935622.addSphere({\"center\": {\"x\": -1.5301191004306955, \"y\": -34.65768540396745, \"z\": -19.38835975870695}, \"radius\": 1.0, \"color\": \"blue\", \"alpha\": 0.9});\n",
       "\tviewer_1631253866935622.addSphere({\"center\": {\"x\": 20.205418188729002, \"y\": 37.69108431064737, \"z\": -0.8714013873696841}, \"radius\": 1.0, \"color\": \"blue\", \"alpha\": 0.9});\n",
       "\tviewer_1631253866935622.addSphere({\"center\": {\"x\": 7.69949780736593, \"y\": -11.876349947483375, \"z\": 44.77289513287273}, \"radius\": 1.0, \"color\": \"blue\", \"alpha\": 0.9});\n",
       "\tviewer_1631253866935622.addSphere({\"center\": {\"x\": 16.857958989632667, \"y\": -18.05784784618227, \"z\": -32.87718310998877}, \"radius\": 1.0, \"color\": \"blue\", \"alpha\": 0.9});\n",
       "\tviewer_1631253866935622.addSphere({\"center\": {\"x\": 29.49771162803594, \"y\": 21.170534936684525, \"z\": -9.397152830268732}, \"radius\": 1.0, \"color\": \"blue\", \"alpha\": 0.9});\n",
       "\tviewer_1631253866935622.addSphere({\"center\": {\"x\": 31.609041717829747, \"y\": 21.880992089692782, \"z\": -6.922493320846867}, \"radius\": 1.0, \"color\": \"blue\", \"alpha\": 0.9});\n",
       "\tviewer_1631253866935622.addSphere({\"center\": {\"x\": 5.56784573925974, \"y\": 32.61671566879623, \"z\": -15.842499967639855}, \"radius\": 1.0, \"color\": \"blue\", \"alpha\": 0.9});\n",
       "\tviewer_1631253866935622.addSphere({\"center\": {\"x\": -15.525428447891676, \"y\": 25.944035296679864, \"z\": 18.67692432596829}, \"radius\": 1.0, \"color\": \"blue\", \"alpha\": 0.9});\n",
       "\tviewer_1631253866935622.addSphere({\"center\": {\"x\": 24.348835456219753, \"y\": -26.88851202813683, \"z\": 14.432643676614585}, \"radius\": 1.0, \"color\": \"blue\", \"alpha\": 0.9});\n",
       "\tviewer_1631253866935622.addSphere({\"center\": {\"x\": 7.697929274717375, \"y\": -45.58008567859118, \"z\": 5.636507479499369}, \"radius\": 1.0, \"color\": \"blue\", \"alpha\": 0.9});\n",
       "\tviewer_1631253866935622.addSphere({\"center\": {\"x\": 31.10948096971213, \"y\": -26.418310010511348, \"z\": -9.662923893526557}, \"radius\": 1.0, \"color\": \"blue\", \"alpha\": 0.9});\n",
       "\tviewer_1631253866935622.addSphere({\"center\": {\"x\": 4.607333940173654, \"y\": 43.95858986931544, \"z\": 9.48336223808019}, \"radius\": 1.0, \"color\": \"blue\", \"alpha\": 0.9});\n",
       "\tviewer_1631253866935622.addSphere({\"center\": {\"x\": 31.860471482684066, \"y\": -6.0314651207313865, \"z\": 14.550177435293758}, \"radius\": 1.0, \"color\": \"blue\", \"alpha\": 0.9});\n",
       "\tviewer_1631253866935622.addSphere({\"center\": {\"x\": 8.425171486109166, \"y\": -6.93159476498516, \"z\": 44.361314721422445}, \"radius\": 1.0, \"color\": \"blue\", \"alpha\": 0.9});\n",
       "\tviewer_1631253866935622.addSphere({\"center\": {\"x\": 39.66283653782547, \"y\": 8.136381043297275, \"z\": 5.961472950501773}, \"radius\": 1.0, \"color\": \"blue\", \"alpha\": 0.9});\n",
       "\tviewer_1631253866935622.addSphere({\"center\": {\"x\": 4.517901456409566, \"y\": -28.434380602899918, \"z\": 31.479662471348178}, \"radius\": 1.0, \"color\": \"blue\", \"alpha\": 0.9});\n",
       "\tviewer_1631253866935622.addSphere({\"center\": {\"x\": 10.033846072726105, \"y\": 34.73455620933104, \"z\": 12.605234635988262}, \"radius\": 1.0, \"color\": \"blue\", \"alpha\": 0.9});\n",
       "\tviewer_1631253866935622.addSphere({\"center\": {\"x\": -13.430209707266734, \"y\": 36.07737111120848, \"z\": -22.19114566863077}, \"radius\": 1.0, \"color\": \"blue\", \"alpha\": 0.9});\n",
       "\tviewer_1631253866935622.addSphere({\"center\": {\"x\": 36.59482361111086, \"y\": 20.252012891700797, \"z\": -6.281561180589337}, \"radius\": 1.0, \"color\": \"blue\", \"alpha\": 0.9});\n",
       "\tviewer_1631253866935622.addSphere({\"center\": {\"x\": -10.449099728397089, \"y\": 45.04704605850758, \"z\": -6.73833434888992}, \"radius\": 1.0, \"color\": \"blue\", \"alpha\": 0.9});\n",
       "\tviewer_1631253866935622.addSphere({\"center\": {\"x\": -27.416025469850744, \"y\": -14.46419430834828, \"z\": 28.965313290988185}, \"radius\": 1.0, \"color\": \"blue\", \"alpha\": 0.9});\n",
       "\tviewer_1631253866935622.addSphere({\"center\": {\"x\": 28.041190273076943, \"y\": 27.824185701678665, \"z\": 2.652786273622544}, \"radius\": 1.0, \"color\": \"blue\", \"alpha\": 0.9});\n",
       "\tviewer_1631253866935622.addSphere({\"center\": {\"x\": -4.167431405369879, \"y\": 33.79353872005926, \"z\": -26.92944223165087}, \"radius\": 1.0, \"color\": \"blue\", \"alpha\": 0.9});\n",
       "\tviewer_1631253866935622.addSphere({\"center\": {\"x\": -16.177741468274927, \"y\": -18.966946334574178, \"z\": 37.96074819231802}, \"radius\": 1.0, \"color\": \"blue\", \"alpha\": 0.9});\n",
       "\tviewer_1631253866935622.addSphere({\"center\": {\"x\": 30.93168266428039, \"y\": -19.38060598870915, \"z\": 25.678449840396897}, \"radius\": 1.0, \"color\": \"blue\", \"alpha\": 0.9});\n",
       "\tviewer_1631253866935622.addSphere({\"center\": {\"x\": 1.8851323455191629, \"y\": 40.43692000919257, \"z\": 13.32068077859027}, \"radius\": 1.0, \"color\": \"blue\", \"alpha\": 0.9});\n",
       "\tviewer_1631253866935622.addSphere({\"center\": {\"x\": -31.229556404023874, \"y\": 0.26084699391908883, \"z\": 25.723955880494398}, \"radius\": 1.0, \"color\": \"blue\", \"alpha\": 0.9});\n",
       "\tviewer_1631253866935622.addSphere({\"center\": {\"x\": -5.353110521504367, \"y\": -14.36605819812433, \"z\": -39.67849221414018}, \"radius\": 1.0, \"color\": \"blue\", \"alpha\": 0.9});\n",
       "\tviewer_1631253866935622.addSphere({\"center\": {\"x\": 22.10885231146228, \"y\": 18.346647499515566, \"z\": 22.045758108727338}, \"radius\": 1.0, \"color\": \"blue\", \"alpha\": 0.9});\n",
       "\tviewer_1631253866935622.addSphere({\"center\": {\"x\": -20.852237584530794, \"y\": -23.719502659755904, \"z\": -20.17598098931935}, \"radius\": 1.0, \"color\": \"blue\", \"alpha\": 0.9});\n",
       "\tviewer_1631253866935622.addSphere({\"center\": {\"x\": -9.988425716958055, \"y\": -22.22130572230521, \"z\": 35.21821336595203}, \"radius\": 1.0, \"color\": \"blue\", \"alpha\": 0.9});\n",
       "\tviewer_1631253866935622.addSphere({\"center\": {\"x\": 5.8451392239470294, \"y\": 9.849117331190582, \"z\": -40.6388392943708}, \"radius\": 1.0, \"color\": \"blue\", \"alpha\": 0.9});\n",
       "\tviewer_1631253866935622.addSphere({\"center\": {\"x\": -31.42559257344575, \"y\": -1.2570520633810869, \"z\": 31.266298443132655}, \"radius\": 1.0, \"color\": \"blue\", \"alpha\": 0.9});\n",
       "\tviewer_1631253866935622.addSphere({\"center\": {\"x\": 8.141627187249425, \"y\": 32.3672645293148, \"z\": 14.59854783094366}, \"radius\": 1.0, \"color\": \"blue\", \"alpha\": 0.9});\n",
       "\tviewer_1631253866935622.addSphere({\"center\": {\"x\": -27.162791573666482, \"y\": 19.657339067814117, \"z\": 12.433339071957459}, \"radius\": 1.0, \"color\": \"blue\", \"alpha\": 0.9});\n",
       "\tviewer_1631253866935622.addSphere({\"center\": {\"x\": -2.7441641889875394, \"y\": -46.580332282639, \"z\": -0.3613685733771922}, \"radius\": 1.0, \"color\": \"blue\", \"alpha\": 0.9});\n",
       "\tviewer_1631253866935622.addSphere({\"center\": {\"x\": 6.3543739493117535, \"y\": 42.266860154680366, \"z\": 3.937174306759799}, \"radius\": 1.0, \"color\": \"blue\", \"alpha\": 0.9});\n",
       "\tviewer_1631253866935622.addSphere({\"center\": {\"x\": 14.41304059403543, \"y\": -30.382527136799148, \"z\": -28.783922410434762}, \"radius\": 1.0, \"color\": \"blue\", \"alpha\": 0.9});\n",
       "\tviewer_1631253866935622.addSphere({\"center\": {\"x\": -36.729898213931776, \"y\": 12.56582486160793, \"z\": 19.094836555341587}, \"radius\": 1.0, \"color\": \"blue\", \"alpha\": 0.9});\n",
       "\tviewer_1631253866935622.addSphere({\"center\": {\"x\": -3.027072426318488, \"y\": 39.19890016728602, \"z\": 19.956850368359184}, \"radius\": 1.0, \"color\": \"blue\", \"alpha\": 0.9});\n",
       "\tviewer_1631253866935622.addSphere({\"center\": {\"x\": 6.73069258134635, \"y\": 19.086399274745766, \"z\": -39.400719287965686}, \"radius\": 1.0, \"color\": \"blue\", \"alpha\": 0.9});\n",
       "\tviewer_1631253866935622.addSphere({\"center\": {\"x\": 31.867759032341688, \"y\": -15.212807317993342, \"z\": -8.247622701165508}, \"radius\": 1.0, \"color\": \"blue\", \"alpha\": 0.9});\n",
       "\tviewer_1631253866935622.addSphere({\"center\": {\"x\": 22.49197558767652, \"y\": 32.06764836346732, \"z\": 22.97340072367221}, \"radius\": 1.0, \"color\": \"blue\", \"alpha\": 0.9});\n",
       "\tviewer_1631253866935622.addSphere({\"center\": {\"x\": 20.378694615562097, \"y\": -28.470992455044176, \"z\": 9.705170616453458}, \"radius\": 1.0, \"color\": \"blue\", \"alpha\": 0.9});\n",
       "\tviewer_1631253866935622.addSphere({\"center\": {\"x\": -9.590834026975624, \"y\": 12.397531496877633, \"z\": 41.360123133734625}, \"radius\": 1.0, \"color\": \"blue\", \"alpha\": 0.9});\n",
       "\tviewer_1631253866935622.addSphere({\"center\": {\"x\": -37.30323858069698, \"y\": -12.325061415012712, \"z\": 16.116033159635496}, \"radius\": 1.0, \"color\": \"blue\", \"alpha\": 0.9});\n",
       "\tviewer_1631253866935622.addSphere({\"center\": {\"x\": -3.8256790651494756, \"y\": 41.57938823991241, \"z\": 1.6517459857120882}, \"radius\": 1.0, \"color\": \"blue\", \"alpha\": 0.9});\n",
       "\tviewer_1631253866935622.addSphere({\"center\": {\"x\": -1.2260876653689514, \"y\": -11.043469559483514, \"z\": -37.79347693729824}, \"radius\": 1.0, \"color\": \"blue\", \"alpha\": 0.9});\n",
       "\tviewer_1631253866935622.addSphere({\"center\": {\"x\": 2.796484238448561, \"y\": -13.240733210997554, \"z\": 44.78434647011166}, \"radius\": 1.0, \"color\": \"blue\", \"alpha\": 0.9});\n",
       "\tviewer_1631253866935622.addSphere({\"center\": {\"x\": -24.51916168648651, \"y\": 15.612115033354103, \"z\": 28.845454113865916}, \"radius\": 1.0, \"color\": \"blue\", \"alpha\": 0.9});\n",
       "\tviewer_1631253866935622.addSphere({\"center\": {\"x\": -30.181869875213998, \"y\": -16.727866544645423, \"z\": -29.93976854834002}, \"radius\": 1.0, \"color\": \"blue\", \"alpha\": 0.9});\n",
       "\tviewer_1631253866935622.addSphere({\"center\": {\"x\": -4.5582969899977686, \"y\": -14.411074362695112, \"z\": 37.22526500683939}, \"radius\": 1.0, \"color\": \"blue\", \"alpha\": 0.9});\n",
       "\tviewer_1631253866935622.addSphere({\"center\": {\"x\": 13.294571856026176, \"y\": 44.58893295847582, \"z\": -2.3027025476041794}, \"radius\": 1.0, \"color\": \"blue\", \"alpha\": 0.9});\n",
       "\tviewer_1631253866935622.addSphere({\"center\": {\"x\": 19.631331397055927, \"y\": -16.778911146337105, \"z\": -24.680111177572837}, \"radius\": 1.0, \"color\": \"blue\", \"alpha\": 0.9});\n",
       "\tviewer_1631253866935622.addSphere({\"center\": {\"x\": -11.052326211323626, \"y\": -42.11624955498571, \"z\": 3.5444202801932434}, \"radius\": 1.0, \"color\": \"blue\", \"alpha\": 0.9});\n",
       "\tviewer_1631253866935622.addSphere({\"center\": {\"x\": 25.309810511029298, \"y\": -21.321835270479465, \"z\": -24.30102922821761}, \"radius\": 1.0, \"color\": \"blue\", \"alpha\": 0.9});\n",
       "\tviewer_1631253866935622.addSphere({\"center\": {\"x\": -7.076327526122915, \"y\": 35.58292462390881, \"z\": 24.434583860972907}, \"radius\": 1.0, \"color\": \"blue\", \"alpha\": 0.9});\n",
       "\tviewer_1631253866935622.addSphere({\"center\": {\"x\": 26.976974197473233, \"y\": -18.666246786105535, \"z\": 23.900967370309957}, \"radius\": 1.0, \"color\": \"blue\", \"alpha\": 0.9});\n",
       "\tviewer_1631253866935622.addSphere({\"center\": {\"x\": -24.860009761106074, \"y\": 19.833248990877795, \"z\": 17.391833651339233}, \"radius\": 1.0, \"color\": \"blue\", \"alpha\": 0.9});\n",
       "\tviewer_1631253866935622.addSphere({\"center\": {\"x\": -21.586623721510072, \"y\": -40.65662088017986, \"z\": -4.51762108651502}, \"radius\": 1.0, \"color\": \"blue\", \"alpha\": 0.9});\n",
       "\tviewer_1631253866935622.addSphere({\"center\": {\"x\": 34.90057070220428, \"y\": 24.31116064753002, \"z\": 18.58956411230818}, \"radius\": 1.0, \"color\": \"blue\", \"alpha\": 0.9});\n",
       "\tviewer_1631253866935622.addSphere({\"center\": {\"x\": -5.701453250410785, \"y\": 34.55629166650131, \"z\": 28.993651263162835}, \"radius\": 1.0, \"color\": \"blue\", \"alpha\": 0.9});\n",
       "\tviewer_1631253866935622.addSphere({\"center\": {\"x\": -21.38092664336073, \"y\": -35.24825910214709, \"z\": 2.796989966255714}, \"radius\": 1.0, \"color\": \"blue\", \"alpha\": 0.9});\n",
       "\tviewer_1631253866935622.addSphere({\"center\": {\"x\": 31.688875655828788, \"y\": 17.940518236793398, \"z\": 21.391813325583392}, \"radius\": 1.0, \"color\": \"blue\", \"alpha\": 0.9});\n",
       "\tviewer_1631253866935622.addSphere({\"center\": {\"x\": -13.776756832612165, \"y\": -30.490951032445434, \"z\": -27.0282342481347}, \"radius\": 1.0, \"color\": \"blue\", \"alpha\": 0.9});\n",
       "\tviewer_1631253866935622.addSphere({\"center\": {\"x\": 8.261795768490552, \"y\": -24.004129523817028, \"z\": 28.54454892707392}, \"radius\": 1.0, \"color\": \"blue\", \"alpha\": 0.9});\n",
       "\tviewer_1631253866935622.addSphere({\"center\": {\"x\": 13.585781337683988, \"y\": 38.04851656058543, \"z\": 6.859264041712091}, \"radius\": 1.0, \"color\": \"blue\", \"alpha\": 0.9});\n",
       "\tviewer_1631253866935622.addSphere({\"center\": {\"x\": 39.414459254594604, \"y\": -14.718393096967572, \"z\": 4.520832258849092}, \"radius\": 1.0, \"color\": \"blue\", \"alpha\": 0.9});\n",
       "\tviewer_1631253866935622.addSphere({\"center\": {\"x\": 26.108557296370083, \"y\": -32.8134909558658, \"z\": -10.483383336486044}, \"radius\": 1.0, \"color\": \"blue\", \"alpha\": 0.9});\n",
       "\tviewer_1631253866935622.addSphere({\"center\": {\"x\": -26.457642628476478, \"y\": -12.983539903254659, \"z\": 25.009071413430707}, \"radius\": 1.0, \"color\": \"blue\", \"alpha\": 0.9});\n",
       "\tviewer_1631253866935622.addSphere({\"center\": {\"x\": 19.258252801775605, \"y\": -31.733406875303253, \"z\": -23.462648611174107}, \"radius\": 1.0, \"color\": \"blue\", \"alpha\": 0.9});\n",
       "\tviewer_1631253866935622.addSphere({\"center\": {\"x\": 1.9489656390346428, \"y\": -23.586002182624977, \"z\": 29.505443437577014}, \"radius\": 1.0, \"color\": \"blue\", \"alpha\": 0.9});\n",
       "\tviewer_1631253866935622.addSphere({\"center\": {\"x\": 42.00922416473073, \"y\": -16.40823287715666, \"z\": 0.20152616957095712}, \"radius\": 1.0, \"color\": \"blue\", \"alpha\": 0.9});\n",
       "\tviewer_1631253866935622.addSphere({\"center\": {\"x\": 34.91934311734804, \"y\": -11.943585116175322, \"z\": -9.578034210571698}, \"radius\": 1.0, \"color\": \"blue\", \"alpha\": 0.9});\n",
       "\tviewer_1631253866935622.addSphere({\"center\": {\"x\": 24.975307679964867, \"y\": 19.616995322546792, \"z\": 22.63044540891238}, \"radius\": 1.0, \"color\": \"blue\", \"alpha\": 0.9});\n",
       "\tviewer_1631253866935622.addSphere({\"center\": {\"x\": 36.75797902681179, \"y\": 10.822711883868102, \"z\": 24.97682377477341}, \"radius\": 1.0, \"color\": \"blue\", \"alpha\": 0.9});\n",
       "\tviewer_1631253866935622.addSphere({\"center\": {\"x\": 42.48662063132894, \"y\": -1.0137415266920071, \"z\": -5.5138272186264725}, \"radius\": 1.0, \"color\": \"blue\", \"alpha\": 0.9});\n",
       "viewer_1631253866935622.render();\n",
       "});\n",
       "</script>"
      ]
     },
     "metadata": {},
     "output_type": "display_data"
    }
   ],
   "source": [
    "# optional to run (but cool visualization)\n",
    "coords = sg.genLP(Rcore=15,dR_Ain=12,dR_B=8,dR_Aout=12,sigmabead=2,nAin=200,nAout=200,nB=100)\n",
    "v = sg.visualize(coords,Rcore=15,dR_Ain=12,dR_B=8,dR_Aout=12,sigmabead=2)"
   ]
  },
  {
   "cell_type": "markdown",
   "metadata": {},
   "source": [
    "### converttoIQ for vesicle\n",
    "\n",
    "**Equations to get computed scattering intensity**\n",
    "\n",
    "Now that we have the scatterer positions from the `gen_LP` function, `converttoIQ` uses the following equations to get $I_{comp}$(q):\n",
    "\n",
    "$$ I_{comp}(q) = F_{M}^2(q)S_{MM}(q) + I_{background} $$\n",
    "\n",
    "$F^2_{M}(q)$ is the form factor given by\n",
    "$$ F^2_{M}(q) = \\sum_{\\alpha\\in{A,B}} \\sum_{\\beta\\in{A,B}} b_{\\alpha}b_{\\beta}F_{GA, \\alpha}(q)F_{GA, \\beta}(q)\\omega(q) $$\n",
    "\n",
    "where $b_{A}$ and $b_{B}$ are the scattering length densities for A and B scatterers, $F_{GA, \\alpha}(q)$ and $F_{GA, \\beta}$ are the spherical form factor amplitudes for A and B scatterers (see `LPFbead`), $\\omega(q)$ is the intra-vesicle structure factor (see `LPOmega`) and $S_{MM}(q) = 1$ is the vesicle-vesicle structure factor for dilute solutions. For concentrated solutions where the structure factor will not be equal to 1, we can combine the approach described above with the structure factor CREASE code (work in Reference [4]); we will be adding this capability into this package in the near future.\n",
    "\n",
    "So let us take a look at how $\\omega(q)$ is calculated in `LPOmega` and how the spherical form factor amplitudes $F_{GA, \\alpha}(q)$ and $F_{GA, \\beta}$ for A and B scatterers are calculated in `LPFbead` (note that in this example, A and B scatterers are spheres with the same finite size, so we only need to calculate one spherical form factor as $F_{GA, \\alpha}(q)$ = $F_{GA, \\beta}(q)$."
   ]
  },
  {
   "cell_type": "markdown",
   "metadata": {},
   "source": [
    "### LPOmega\n",
    "\n",
    "<img src=\"tutorial_images/code_diagram_sub3_omega.png\" width=600 height=600 />\n",
    "\n",
    "Here we calculate the intra-vesicle structure factor as\n",
    "$$ \\omega(q) = \\left< \\frac{1}{N_{A}+N_{B}} \\sum^{N_{A}+N_{B}}_{i=1} \\sum^{N_{A}+N_{B}}_{j=1} \\frac{\\sin{qr_{ij}}}{qr_{ij}} \\right> $$\n",
    "\n",
    "where $N_{A}$ and $N_{B}$ are the number of scatterers in the two solvophilic A and one solvophobic B layers, respectively, and $r_{ij}$ is the distance between the pair of scatterers $i$ and $j$ in the vesicle assembly determined from the previous step in `genLP`.\n",
    "\n",
    "**NOTE: The above is a computationally intensive calculation as it scales quadratically with the number of scatterers.**\n",
    "\n",
    "There are alternative faster options for directly obtaining $I_{comp}(q)$ for a given set of structural dimensions include using machine learning methods. We direct you to reference [3] where one such alternative option using artificial neural networks was developed.\n",
    "\n",
    "To see the sourcecode for `LPOmega`, run the cell block below:"
   ]
  },
  {
   "cell_type": "code",
   "execution_count": null,
   "metadata": {},
   "outputs": [],
   "source": [
    "# optional to run\n",
    "print(getsource(sg.LPOmega))"
   ]
  },
  {
   "cell_type": "markdown",
   "metadata": {},
   "source": [
    "### LPFbead\n",
    "\n",
    "<img src=\"tutorial_images/code_diagram_sub4_bead.png\" width=600 height=600 />\n",
    "\n",
    "The **spherical form factor amplitude** is calculated as\n",
    "\n",
    "$$ F_{GA, \\alpha}(q) = 3 \\frac{ \\sin(q0.5\\sigma_{GA, \\alpha}) - q0.5\\sigma_{GA, \\alpha}\\cos(q0.5\\sigma_{GA, \\alpha}) }{(q0.5\\sigma_{GA, \\alpha})^3} $$\n",
    "\n",
    "where $\\alpha$ indicates A or B scatterer and $\\sigma_{GA, \\alpha}$ is the scatterer diameter.\n",
    "\n",
    "To see the sourcecode for this function, run the following cell block:"
   ]
  },
  {
   "cell_type": "code",
   "execution_count": null,
   "metadata": {},
   "outputs": [],
   "source": [
    "# optional to run\n",
    "print(getsource(sg.LPFbead))"
   ]
  },
  {
   "cell_type": "markdown",
   "metadata": {},
   "source": [
    "### Fitness calculations\n",
    "\n",
    "<img src=\"tutorial_images/Slide10.PNG\" width=600 height=600 />\n"
   ]
  },
  {
   "cell_type": "code",
   "execution_count": null,
   "metadata": {},
   "outputs": [],
   "source": [
    "# optional to run\n",
    "print(getsource(cga.Model.fitness))"
   ]
  },
  {
   "cell_type": "markdown",
   "metadata": {},
   "source": [
    "After we have the $I_{comp}$(q) for each individual within the generation, we can compute the fitness of an individual by quantifying the error between its $I_{comp}$(q) and $I_{exp}$(q).\n",
    "\n",
    "The core of the `fitness` function is given by the following set of equations\n",
    "\n",
    "$$ fitness = X({sse}_{max}-sse)+Y $$\n",
    "\n",
    "$$ sse = \\sum w\\left[log\\left(\\frac{I_{exp}(q)}{I_{comp}(q)}\\right)\\right]^2 $$\n",
    "\n",
    "$$ X = (cs-1)\\frac{max(sse_{max}-sse)}{max(sse_{max}-sse)-average(sse_{max}-sse)} $$\n",
    "\n",
    "$$ Y = (1-X)average(sse_{max}-sse) $$\n",
    "\n",
    "where $I_{exp}$(q) is the input scattering intensity profile read in from the main GA code, $I_{comp}$(q) is the computed scattering intensity profile for the individual (to be discussed in more details later on), $sse$ is the sum of squared errors between $I_{comp}$(q) and $I_{exp}$(q), and $cs$, $X$ and $Y$ are additional factors that serve to prevent low fitness solutions from being prematurely eliminated in the population (for more detail on how these factors achieve this purpose, see references [1] and [2].\n",
    "\n",
    "In this example, we choose the form of the error function, `sse`, as the sum of the squared log difference of errors where the weighting factor, $w$, accounts for the log-scale spacing of the q values. For more details on the choice of this form for the error function for the systems explored with CREASE, see references [1-5].\n",
    "\n",
    "We also note that the user may choose to use a different form of sse as long as the choice of error function ensures appropriate error weighting in the range of q explored. For studies where the target $I_{exp}$(q) comes from experimental scattering with an associated uncertainty at each q, a commonly used formulation is $\\chi^{2}$ to account for the errors during fitting optimization. For example, SASVIEW uses $\\chi^{2}$ to quantify the goodness of fit by taking the squared direct difference between the computed and target dataset over the fitted q range weighted by the squared error at each q. If the error associated with each q is known, $\\chi^{2}$ can similarly be implemented into the fitness function in CREASE to account for uncertainty in I(q) at each q. We plan to incorporate $\\chi^{2}$ as another option for the fitness calculation in a future release coming soon.\n",
    "\n",
    "SASVIEW implementation of $\\chi^{2}$: https://www.sasview.org/docs/user/qtgui/Perspectives/Fitting/residuals_help.html\n",
    "\n"
   ]
  },
  {
   "cell_type": "markdown",
   "metadata": {},
   "source": [
    "In this example, the `fitness` function also provides useful information like which one of the individuals performed the best (\"elite\") in terms of having its $I_{comp}$(q) most closely match the input $I_{exp}$(q), the second best (\"second\"), the average (\"average\"), and the worst (\"minfit\") that are stored and saved for the user (in `fitness_vs_gen.txt`).\n",
    "\n",
    "Next, a new generation of individuals will be selected based on the fitnesses of the individuals in the  current generation. That is done in the `genetic_operations` function.\n",
    "\n",
    "### genetic_operations\n",
    "\n",
    "<img src=\"tutorial_images/Slide11.PNG\" width=600 height=600 />\n",
    "\n",
    "**Selection Process: Crossover, Mutation, and Elitism**\n",
    "\n",
    "Now that we have the fitness value for each individual in the current generation, the GA will need to select the candidates for the next generation. Then the next generation has its fitness calculated, and this iterative process is continued until the maximum number of generations (set by the user during the beginning of the main GA code) is reached. As each of the GA parameters is encoded as a seven-bit binary sequence, the genetic operations (crossover, mutation) performed on selected individuals is done in binary form.\n",
    "\n",
    "*Crossover*\n",
    "\n",
    "During crossover, two individuals in the population are selected as \"parents\" and their traits are mixed to produce a new \"offspring\" individual to be included in the next generation. Each \"parent\" individual is selected with probability $PC$, and the offspring has each of its parameters randomly chosen from one of its two \"parent\" individuals. \n",
    "\n",
    "*Mutation*\n",
    "\n",
    "An individual is selected for mutation with probability $PM$, where one of its bits is randomly changed within that parameter's range of values (between the min value and max value).\n",
    "\n",
    "*Elitism*\n",
    "\n",
    "The best individual in the generation is always included in the population for next generation.\n",
    "\n",
    "Run the block below to see the source code:"
   ]
  },
  {
   "cell_type": "code",
   "execution_count": null,
   "metadata": {},
   "outputs": [],
   "source": [
    "# optional to run\n",
    "print(getsource(cga.Model.genetic_operations))"
   ]
  },
  {
   "cell_type": "markdown",
   "metadata": {},
   "source": [
    "## Adapting the genetic operation parameters during GA\n",
    "The probabilities of crossover $PC$ and mutation $PM$ are adjusted over the generations during a GA run to help prevent premature convergence to local minima (with the `adaptation_params.update` function during `Model.solve`). These self-adjustments are controlled by a set of adaptation parameters. During the GA, $PC$ and $PM$ are updated after each generation based on the reciprocal genetic diversity parameter, $GDM$, given by\n",
    "\n",
    "$$ GDM = \\frac{\\text{min error of population}}{\\text{average error of population}} $$\n",
    "\n",
    "which also has upper and lower bounds ($GDM_{max}$, $GDM_{min}$) set by the user. $GDM$ should be between 0 and 1, with higher value indicating lower diversity in the generation. When $GDM$ becomes smaller than $GDM_{min}$ (indicating diversity within the generation is too high), $PM$ is automatically decreased (by a factor of $kGDM$) and $PC$ is increased (by a factor of $kGDM$) to encourage more crossover, and thus decrease diversity (higher $GDM$). When $GDM$ becomes larger than $GDM_{max}$, $PM$ is increased (by a factor of $kGDM$) and $PC$ is decreased (by a factor of $kGDM$) to encourage mutation and increase diversity. The adjustment factor $kGDM$ is also set by the user and needs to be larger than 1.\n",
    "\n",
    "These values can depend on the shape and need to be tested if the user applies the GA to a new shape. For this tutorial, we are using the adaptation parameters that have been optimized for the vesicle example here. To learn more about the rationale behind choosing these adaptation parameters, please read referefence [1].\n",
    "\n",
    "Run the cell block below to see the values of the adaptation parameters being used:"
   ]
  },
  {
   "cell_type": "code",
   "execution_count": 10,
   "metadata": {},
   "outputs": [
    {
     "name": "stdout",
     "output_type": "stream",
     "text": [
      "gdmmax 0.85\n",
      "gdmmin 0.005\n",
      "kgdm 1.1\n",
      "pc 0.6\n",
      "pcmax 1\n",
      "pcmin 0.1\n",
      "pm 0.001\n",
      "pmmax 0.25\n",
      "pmmin 0.006\n",
      "update <bound method adaptation_params.update of <crease_ga.adaptation_params.adaptation_params object at 0x7f86d72967f0>>\n"
     ]
    }
   ],
   "source": [
    "# optional to run\n",
    "for d in dir(m.adaptation_params):\n",
    "    if not '__' in d:\n",
    "    \n",
    "        print(d,getattr(m.adaptation_params,d))"
   ]
  },
  {
   "cell_type": "markdown",
   "metadata": {},
   "source": [
    "After determining the individuals in the next generation, we once again calculate the fitness for each individual in the new generation. Then the selection and fitness processes are repeated until the end of the GA run.\n",
    "\n",
    "## Running the GA\n",
    "\n",
    "We have finally gone through all the elements of `Model.solve`, and now let's get it to work!\n",
    "(**Note**: you can uncomment the `output_dir` argument for the directory to which you would like to save all the output files. The directory needs to already exist before you run this line!)"
   ]
  },
  {
   "cell_type": "code",
   "execution_count": 11,
   "metadata": {},
   "outputs": [
    {
     "name": "stdout",
     "output_type": "stream",
     "text": [
      "Gen 1/2, individual 10/10Generation time: 961.961s\n",
      "Generation best fitness: 1.4075\n",
      "Generation gdm: 0.164\n",
      "Generation best parameters [[7.18750000e+01 7.64843750e+01 1.78750000e+02 1.74765625e+02\n",
      "  1.35546875e-01 2.74218750e-01 2.65937500e+00]]\n",
      "pc 0.6\n",
      "#crossovers 4\n",
      "pm 0.001\n",
      "#mutations 1\n",
      "\n",
      "\n"
     ]
    },
    {
     "data": {
      "image/png": "[encoded data removed]",
      "text/plain": [
       "<Figure size 288x288 with 1 Axes>"
      ]
     },
     "metadata": {
      "needs_background": "light"
     },
     "output_type": "display_data"
    },
    {
     "name": "stdout",
     "output_type": "stream",
     "text": [
      "Gen 2/2, individual 10/10Generation time: 1408.930s\n",
      "Generation best fitness: 0.9136\n",
      "Generation gdm: 0.298\n",
      "Generation best parameters [[170.3125      35.3125      60.546875   180.078125     0.30507812\n",
      "    0.27421875   2.659375  ]]\n",
      "pc 0.6\n",
      "#crossovers 6\n",
      "pm 0.006\n",
      "#mutations 5\n",
      "\n",
      "\n"
     ]
    },
    {
     "data": {
      "image/png": "[encoded data removed]",
      "text/plain": [
       "<Figure size 288x288 with 1 Axes>"
      ]
     },
     "metadata": {
      "needs_background": "light"
     },
     "output_type": "display_data"
    }
   ],
   "source": [
    "'''uncomment this to create a new directory'''\n",
    "!mkdir test_output_1 \n",
    "\n",
    "m.solve(name='newjob',verbose=True,output_dir='./test_output_1')"
   ]
  },
  {
   "cell_type": "markdown",
   "metadata": {},
   "source": [
    "If all of the required cell blocks of code above have been run properly, performing the GA on the small number of individuals and generations will produce the output dimensions and $I_{comp}$(q) that can be compared to the target dimensions of the structure that provided the input $I_{exp}$(q) as shown below.\n",
    "\n",
    "Data output from each generation has been saved to files under the directory specified by `output_dir`. Check out `results` for all the indiviuals at each generation, and `fitness_vs_gen` for how the fitness of the generation in general evolves. \n",
    "\n",
    "After you are finished, check out the notebook under this directory named [workflow_simplified](./workflow_simplified.ipynb), to see how each step works once we have taken out these in-depth explanations. You will see how the entire GA is actually set up and run with few lines of codes.\n",
    "\n",
    "Good luck!\n",
    "\n",
    "<img src=\"short_run_output.png\" width=300 height=300 />"
   ]
  },
  {
   "cell_type": "markdown",
   "metadata": {},
   "source": [
    "### GA for Vesicles with Larger Population Size and Number of Generations\n",
    "\n",
    "If the above codes for the example vesicle system in this tutorial have been successfully run, then the user should be able to see the best individual's $I_{comp}$(q) plotted against the input $I_{exp}$(q). With the small population size (`popnumber = 5`) and number of generations (`generations = 5`) used in this tutorial example, the resulting $I_{comp}$(q) of the best individual structure is unlikely to be a good match to the input $I_{exp}$(q). As mentioned previously, using a small number of individuals and generations in this example is purely to keep the calculations computationally feasible for a tutorial. To produce better matches to the input $I_{exp}$(q) one would need to use significantly higher number of individuals and generations (and possibly a more powerful computer to speed the GA up).\n",
    "\n",
    "Shown below is an example of GA determined results that we can expect when we use the GA on the same input $I_{exp}$(q) but with a much larger population size and number of generations:\n",
    "\n",
    "`popnumber = 80`\n",
    "\n",
    "`generations = 100`\n",
    "\n",
    "<img src=\"crease_tutorial_fig_Icomp-vs-gen.png\" width=300 height=300 />\n",
    "\n",
    "**Figure 1**: *CREASE analysis on an example vesicle with the target dimensions of small core with thin B layer (shown schematically). $I_{comp}$(q) of the best individual (colored lines) from all generations in one example GA run (with dispersity) compared with the input in silico  $I_{exp}$(q) (open circles). Progression from the initial generation to the final generation is shown with increasingly warmer colors.*\n",
    "\n",
    "From the best individual's $I_{comp}$(q) over multiple generations, we can see that increasing the population size and number of generation gradually drives the GA determined vesicle structure toward that of the target structure (**Figure 1**). Because our input  $I_{exp}$(q) was generated in silico from known target dimensions, we can also make a direct comparison of the GA determined vesicle dimensions to the known target dimensions. For comparison we also provide the dimensions determined through the traditional fitting of the data with the core-multi-shell model in SASVIEW.\n",
    "\n",
    "<img src=\"crease_tutorial_fig_dim-ga-vs-sasview.png\" width=300 height=300 />\n",
    "\n",
    "**Figure 2**: *GA determined dimensions of relevant vesicle features at the end of 100 generations for the cases where dispersity in dimensions is not accounted for in the GA step (blue triangles) and when dispersity is incorporated into the GA (orange squares). The target dimensions of the in silico Iexp(q) are shown as open circles with 20% dispersity in the core radius (Rcore) dimensions. SASVIEW fitting results using the core-multi-shell model (grey stars) are offset to the right of the target dimensions.*\n",
    "\n",
    "As discussed during the tutorial, GA for vesicles can incorporate the effect of dispersity in the dimensions of the assembly into the calculation of the individual's $I_{comp}$(q). This dispersity is determined as one of the GA results given as $\\sigma_{R}$ in this example system where dispersity is incorporated in the core radius dimension. **Figure 2** shows how the GA with (i.e. GA searches and optimizes for $\\sigma_{R}$) and without (i.e. GA sets $\\sigma_{R} = 0$) dispersity performs in getting the vesicle structural dimensions of core radius ($R_{core}$), each layer thickness ($t_{Ain}$, $t_{B}$, $t_{Aout}$) and total vesicle diameter size ($D_{vesicle}$). We can see that with an appropriate population size and number of generations, the GA is able to accurately capture the target structure's dimensions. Additionally, while the analytical fitting to a core-multi-shell model using SASVIEW can also determine these structural dimensions, GA for vesicle is able to inform the user how the molecules are split between the inner and outer layers of the vesicle wall ($s_{Ain}$), a piece of molecular information not available if the core-multi-shell model is used instead. The GA determined parameter $s_{Ain}$ gives the fraction of molecules in the vesicle assembly that occupies the inner layer of the vesicle walls. For this example system, the target structure has 20% of the molecules in the assembly occupying the inner layer of the vesicle wall and the GA is able to determine $s_{Ain}$ as 28%, matching the target value.\n",
    "\n",
    "<img src=\"crease_tutorial_fig_high_dispersity.png\" width=750 height=500 />\n",
    "\n",
    "**Figure 3**: *GA analysis on (a) sample of highly disperse vesicles created using target dimensions that encompass small\n",
    "core with thin B layer, small core with thick B layer, and big core with thick B layer. (b) Icomp(q) of the best individual\n",
    "(colored lines) for all generations in one example GA run (with dispersity) compared with the input in silico scattering\n",
    "intensity Iexp(q) (open circles). Progression from the initial generation to the final generation is shown by increasingly\n",
    "warmer colors. (c) GA determined dimensions of relevant vesicle features for the cases where dispersity is not\n",
    "accounted for in the GA step (blue triangles) and when dispersity is incorporated into the GA (orange squares). The\n",
    "target dimensions of the in silico Iexp(q) are shown as open circles. SASVIEW fitting results using the core-multi-shell\n",
    "model (grey stars) are offset to the right of the target dimensions.*\n",
    "\n",
    "In Figure 3, we show another example where GA is applied to an *in silico* sample where dispersity exists not only in the core radius, but also in all other dimensions including the thicknesses of the three layers. Among the GA parameters, however, we still only incorporate dispersity in the core radius ($\\sigma_{R}$), but not the other dimensions. In this more challenging task, GA (with or without dispersity in core radius) outperforms the core-multi-shell model used in SASview significantly in all the dimensions, with SASView-predicted values in general falling out of the uncertainty range.\n",
    "\n",
    "For more detailed discussions on CREASE for vesicles and its application to different vesicle sizes and high dispersity, the user can refer to reference [5]."
   ]
  }
 ],
 "metadata": {
  "kernelspec": {
   "display_name": "Python 3 (ipykernel)",
   "language": "python",
   "name": "python3"
  },
  "language_info": {
   "codemirror_mode": {
    "name": "ipython",
    "version": 3
   },
   "file_extension": ".py",
   "mimetype": "text/x-python",
   "name": "python",
   "nbconvert_exporter": "python",
   "pygments_lexer": "ipython3",
   "version": "3.9.7"
  }
 },
 "nbformat": 4,
 "nbformat_minor": 2
}

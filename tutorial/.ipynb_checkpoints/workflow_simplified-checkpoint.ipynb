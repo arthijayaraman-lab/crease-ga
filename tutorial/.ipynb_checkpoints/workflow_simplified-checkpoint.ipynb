{
 "cells": [
  {
   "cell_type": "code",
   "execution_count": 2,
   "metadata": {},
   "outputs": [],
   "source": [
    "import crease_ga as cga"
   ]
  },
  {
   "cell_type": "code",
   "execution_count": null,
   "metadata": {},
   "outputs": [
    {
     "name": "stdout",
     "output_type": "stream",
     "text": [
      "minimum parameter boundaries have been set to (50, 30, 30, 30, 0.1, 0.0, 0.1),\n",
      "maximum parameter boundaries have been set to (400, 200, 200, 200, 0.45, 0.45, 4).\n",
      "\n",
      "\r",
      "Gen 1/10, individual 1/5"
     ]
    },
    {
     "name": "stderr",
     "output_type": "stream",
     "text": [
      "/tmp/ipykernel_5064/837371250.py:3: UserWarning: Unspecified minimum and/or maximum parameter boundaries. Fall back to the default minimum and maximum parameter boundaries of shape vesicle.\n",
      "\n",
      "  m.load_chemistry(chemistry='vesicle',chemistry_params=[24,54,0.5,50.4,50.4,0.55,7])\n"
     ]
    },
    {
     "name": "stdout",
     "output_type": "stream",
     "text": [
      "Gen 1/10, individual 3/5"
     ]
    }
   ],
   "source": [
    "m = cga.Model()\n",
    "\n",
    "m.load_chemistry(chemistry='vesicle',chemistry_params=[24,54,0.5,50.4,50.4,0.55,7])\n",
    "\n",
    "\n",
    "m.load_iq('../IEXP_DATA/Itot_disper_10_Ain12_B6_Aout12_nLP7_dR0.2.txt')\n",
    "\n",
    "m.solve(backend='debye')"
   ]
  },
  {
   "cell_type": "code",
   "execution_count": 24,
   "metadata": {},
   "outputs": [],
   "source": [
    "m = cga.Model()\n",
    "\n",
    "m.load_chemistry(chemistry='vesicle',chemistry_params=[24,54,0.5,50.4,50.4,0.55,7])\n",
    "\n",
    "m.load_iq('../IEXP_DATA/Itot_disper_10_Ain12_B6_Aout12_nLP7_dR0.2.txt')\n"
   ]
  },
  {
   "cell_type": "code",
   "execution_count": 21,
   "metadata": {},
   "outputs": [
    {
     "name": "stdout",
     "output_type": "stream",
     "text": [
      "gdmmax 0.85\n",
      "gdmmin 0.005\n",
      "kgdm 1.1\n",
      "pc 0.6\n",
      "pcmax 1\n",
      "pcmin 0.5\n",
      "pm 0.001\n",
      "pmmax 0.25\n",
      "pmmin 0.006\n",
      "update <bound method adaptation_params.update of <crease_ga.adaptation_params.adaptation_params object at 0x7fc2ee58e640>>\n"
     ]
    }
   ],
   "source": [
    "for d in dir(m.adaptation_params):\n",
    "    if not '__' in d:\n",
    "    \n",
    "        print(d,getattr(m.adaptation_params,d))"
   ]
  },
  {
   "cell_type": "code",
   "execution_count": 22,
   "metadata": {},
   "outputs": [
    {
     "name": "stdout",
     "output_type": "stream",
     "text": [
      "IQin [1.0000000e+00 6.2860837e-01 2.9286080e-01 8.7949510e-02 1.2834420e-02\n",
      " 9.2236500e-03 2.0607380e-02 2.2230630e-02 1.5156950e-02 7.5634500e-03\n",
      " 3.5948300e-03 2.7369700e-03 3.0672500e-03 3.3229100e-03 3.1583600e-03\n",
      " 2.7294400e-03 2.3245000e-03 2.1397100e-03 2.1655100e-03 2.2329100e-03\n",
      " 2.2011700e-03 2.0914600e-03 2.0090300e-03 1.9766300e-03 1.9166600e-03\n",
      " 1.7834700e-03 1.6330700e-03 1.5407800e-03 1.5069200e-03 1.4766600e-03\n",
      " 1.4189700e-03 1.3519000e-03 1.3046900e-03 1.2831100e-03 1.2720800e-03\n",
      " 1.2557800e-03 1.2297400e-03 1.2004100e-03 1.1775700e-03 1.1654200e-03\n",
      " 1.1587200e-03 1.1480600e-03 1.1295100e-03 1.1076500e-03 1.0882500e-03\n",
      " 1.0701900e-03 1.0475400e-03 1.0185700e-03 9.8931000e-04 9.6721000e-04]\n",
      "IQin_load [1.0000000e+00 6.2860837e-01 2.9286080e-01 8.7949510e-02 1.2834420e-02\n",
      " 9.2236500e-03 2.0607380e-02 2.2230630e-02 1.5156950e-02 7.5634500e-03\n",
      " 3.5948300e-03 2.7369700e-03 3.0672500e-03 3.3229100e-03 3.1583600e-03\n",
      " 2.7294400e-03 2.3245000e-03 2.1397100e-03 2.1655100e-03 2.2329100e-03\n",
      " 2.2011700e-03 2.0914600e-03 2.0090300e-03 1.9766300e-03 1.9166600e-03\n",
      " 1.7834700e-03 1.6330700e-03 1.5407800e-03 1.5069200e-03 1.4766600e-03\n",
      " 1.4189700e-03 1.3519000e-03 1.3046900e-03 1.2831100e-03 1.2720800e-03\n",
      " 1.2557800e-03 1.2297400e-03 1.2004100e-03 1.1775700e-03 1.1654200e-03\n",
      " 1.1587200e-03 1.1480600e-03 1.1295100e-03 1.1076500e-03 1.0882500e-03\n",
      " 1.0701900e-03 1.0475400e-03 1.0185700e-03 9.8931000e-04 9.6721000e-04]\n",
      "adaptation_params <crease_ga.adaptation_params.adaptation_params object at 0x7fc2ee58e640>\n",
      "fitness <bound method Model.fitness of <crease_ga.model.Model object at 0x7fc35443ea00>>\n",
      "generations 10\n",
      "genetic_operations <bound method Model.genetic_operations of <crease_ga.model.Model object at 0x7fc35443ea00>>\n",
      "load_chemistry <bound method Model.load_chemistry of <crease_ga.model.Model object at 0x7fc35443ea00>>\n",
      "load_iq <bound method Model.load_iq of <crease_ga.model.Model object at 0x7fc35443ea00>>\n",
      "maxvalu (400, 200, 200, 200, 0.45, 0.45, 4)\n",
      "minvalu (50, 30, 30, 30, 0.1, 0.0, 0.1)\n",
      "nloci 7\n",
      "numvars 7\n",
      "popnumber 5\n",
      "qrange [0.003      0.00499038 0.00698077 0.00897115 0.01096154 0.01295192\n",
      " 0.01494231 0.01693269 0.01892308 0.02091346 0.02290385 0.02489423\n",
      " 0.02688462 0.028875   0.03086538 0.03285577 0.03484615 0.03683654\n",
      " 0.03882692 0.04081731 0.04280769 0.04479808 0.04678846 0.04877885\n",
      " 0.05076923 0.05275962 0.05475    0.05674038 0.05873077 0.06072115\n",
      " 0.06271154 0.06470192 0.06669231 0.06868269 0.07067308 0.07266346\n",
      " 0.07465385 0.07664423 0.07863462 0.080625   0.08261538 0.08460577\n",
      " 0.08659615 0.08858654 0.09057692 0.09256731 0.09455769 0.09654808\n",
      " 0.09853846 0.10052885]\n",
      "qrange_load [0.003      0.00499038 0.00698077 0.00897115 0.01096154 0.01295192\n",
      " 0.01494231 0.01693269 0.01892308 0.02091346 0.02290385 0.02489423\n",
      " 0.02688462 0.028875   0.03086538 0.03285577 0.03484615 0.03683654\n",
      " 0.03882692 0.04081731 0.04280769 0.04479808 0.04678846 0.04877885\n",
      " 0.05076923 0.05275962 0.05475    0.05674038 0.05873077 0.06072115\n",
      " 0.06271154 0.06470192 0.06669231 0.06868269 0.07067308 0.07266346\n",
      " 0.07465385 0.07664423 0.07863462 0.080625   0.08261538 0.08460577\n",
      " 0.08659615 0.08858654 0.09057692 0.09256731 0.09455769 0.09654808\n",
      " 0.09853846 0.10052885]\n",
      "scatterer_generator <crease_ga.chemistries.vesicle.scatterer_generator.scatterer_generator object at 0x7fc35443ea60>\n",
      "solve <bound method Model.solve of <crease_ga.model.Model object at 0x7fc35443ea00>>\n"
     ]
    }
   ],
   "source": [
    "for d in dir(m):\n",
    "    if not '__' in d:\n",
    "    \n",
    "        print(d,getattr(m,d))"
   ]
  },
  {
   "cell_type": "code",
   "execution_count": 18,
   "metadata": {},
   "outputs": [
    {
     "data": {
      "text/plain": [
       "1.1"
      ]
     },
     "execution_count": 18,
     "metadata": {},
     "output_type": "execute_result"
    }
   ],
   "source": [
    "getattr(m.adaptation_params,'kgdm')"
   ]
  },
  {
   "cell_type": "code",
   "execution_count": 8,
   "metadata": {},
   "outputs": [],
   "source": [
    "import matplotlib.pyplot as plt\n",
    "fig = plt.figure()\n",
    "plt.plot(m.qrange_load,m.IQin_load)\n",
    "plt.show()"
   ]
  }
 ],
 "metadata": {
  "kernelspec": {
   "display_name": "Python 3 (ipykernel)",
   "language": "python",
   "name": "python3"
  },
  "language_info": {
   "codemirror_mode": {
    "name": "ipython",
    "version": 3
   },
   "file_extension": ".py",
   "mimetype": "text/x-python",
   "name": "python",
   "nbconvert_exporter": "python",
   "pygments_lexer": "ipython3",
   "version": "3.9.6"
  }
 },
 "nbformat": 4,
 "nbformat_minor": 4
}

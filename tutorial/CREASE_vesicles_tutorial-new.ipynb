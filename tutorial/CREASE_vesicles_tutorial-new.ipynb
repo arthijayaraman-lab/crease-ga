{
 "cells": [
  {
   "cell_type": "markdown",
   "metadata": {},
   "source": [
    "# CREASE for Vesicles"
   ]
  },
  {
   "cell_type": "markdown",
   "metadata": {},
   "source": [
    "## Introduction\n",
    "\n",
    "**This tutorial has been created by Ziyu Ye and Arthi Jayaraman to accompany: Ye, Z.; Jayaraman, A. Computational Reverse-Engineering Analysis for Scattering Experiments (CREASE) on Vesicles Assembled from Amphiphilic Macromolecular Solutions**\n",
    "\n",
    "Computational Reverse Engineering Analysis for Scattering Experiments (CREASE) is a two step approach that combines a genetic algorithm (GA) as the first step with molecular simulations based reconstruction as the second step to determine structural features of assembled structures from aggregate dimensions to the chain- and monomer- level packing for a given input scattering profile. \n",
    "\n",
    "If using this code, please cite the following references for the method:\n",
    "\n",
    "[1] Beltran-Villegas, D. J.; Wessels, M. G.; Lee, J. Y.; Song, Y.; Wooley, K. L.; Pochan, D. J.; Jayaraman, A. Computational Reverse-Engineering Analysis for Scattering Experiments on Amphiphilic Block Polymer Solutions. *J. Am. Chem. Soc.* **2019**, 141, 14916−14930.\n",
    "\n",
    "[2] Wessels, M. G.; Jayaraman, A. Computational Reverse-Engineering Analysis of Scattering Experiments (CREASE) on Amphiphilic Block Polymer Solutions: Cylindrical and Fibrillar Assembly. *Macromolecules* **2021**, 54, 783-796.\n",
    "\n",
    "[3] Wessels, M. G.; Jayaraman, A. Machine Learning Enhanced Computational Reverse Engineering Analysis for Scattering Experiments (CREASE) to Determine Structures in Amphiphilic Polymer Solutions. *ACS Polym. Au* **2021**, https://doi.org/10.1021/acspolymersau.1c00015.\n",
    "\n",
    "[4] Heil, C.; Jayaraman, A. Computational reverse-engineering analysis for scattering experiments of assembled binary mixture of nanoparticles. *ACS Mater. Au* **2021**, https://doi.org/10.1021/acsmaterialsau.1c00015\n",
    "\n",
    "[5] Ye, Z.; Jayaraman, A. Computational Reverse-Engineering Analysis for Scattering Experiments (CREASE) on Vesicles Assembled from Amphiphilic Macromolecular Solutions.\n",
    "\n",
    "This notebook presents a tutorial on how the first step of CREASE, the GA, works in determining the structure of a vesicle assembly from small angle scattering intensity profiles. The GA code presented here is applicable to vesicle assemblies enclosed by one bilayer and can be adapted to other structure geometries by modification to sections of the code that will be highlighted as such.\n",
    "\n",
    "The GA code for vesicles is able to determine:\n",
    "1. Vesicle dimensions in core radius ($R_{core}$), the three individual layer thicknesses in the bilayer that consist of the inner solvophilic A layer ($t_{Ain}$), middle solvophobic B layer ($t_{B}$), and the outer solvophilic A layer ($t_{Aput}$).\n",
    "2. How the solvophilic scatterers are split between inner ($s_{Ain}$) and outer ($1-s_{Ain}$) layers.\n",
    "3. Polydispersity in vesicle size as implemented in the core radius dimension ($\\sigma_{R}$) during I(q) calculation.\n",
    "\n",
    "<img src=\"CREASE_vesicles_code_structure_dimensions.png\" width=300 height=300 />"
   ]
  },
  {
   "cell_type": "markdown",
   "metadata": {},
   "source": [
    "Here is the general structure showing the flow of the code:\n",
    "\n",
    "<img src=\"code_diagram1.png\" width=600 height=600 />"
   ]
  },
  {
   "cell_type": "markdown",
   "metadata": {},
   "source": [
    "## Setup python libraries"
   ]
  },
  {
   "cell_type": "code",
   "execution_count": 1,
   "metadata": {},
   "outputs": [],
   "source": [
    "import crease_ga as cga\n",
    "from inspect import getsource"
   ]
  },
  {
   "cell_type": "markdown",
   "metadata": {},
   "source": [
    "### Model.py\n",
    "\n",
    "Current \"location\" in the code flow diagram marked in red:\n",
    "\n",
    "<img src=\"code_diagram2.png\" width=600 height=600 />\n",
    "\n",
    "Let's start with the initial arguments that the user needs to choose and input for their system. \n",
    "\n",
    "In the cell block below, the user needs to define two sets of arguments: those that defines the basic architecture of the genetic algorithm, includng:\n",
    "* number of individuals in a population (pop_number)\n",
    "* number of generations that GA runs for (generations)\n",
    "* number of binary digits used to represent each individual (nloci)\n",
    "\n",
    "The user chooses the number of individuals in the population and the number of generations to run the GA (note: in this example we use 5 for both the number of individuals in the population and the number of generations to keep the calculations computationally feasible in this tutorial. To produce accurate matches to the target structure's $I$(q) one would need to use significantly higher number of individuals and generations on more powerful computer.). For each of the parameters to be fit (or genome) using GA, it is encoded as a seven-digit (chosen by the user as $n_{loci}$, here set as 7) binary sequence that is evenly distributed between the maximum and minimum bounds set by the user.\n",
    "\n",
    "The second set of arguments are passed in with the `load_chemistry` method and define the shape of interest. In this example, we load in the shape `vesicle`, and set up some shape descriptors (`chemistry_params`) that a user needs to define. The 7 shape descriptors here are:\n",
    "* number of scatterers per chain ($num_{scatterers}$)\n",
    "* Number of beads on chain ($N$)\n",
    "* density/volume fraction of beads in B layer ($rho_B$)\n",
    "* Angstrom 'monomer contour length' ($l_{mono,b}）\n",
    "* Angstrom 'monomer cminontour length' ($l_{mono,a}）\n",
    "* fraction of B type monomers in chain ($fb$)\n",
    "* number of replicates ($n_{LP}$)\n",
    "\n",
    "The A and B type scatterers are randomly placed within the designated vesicle layer boundaries (more details to be given later) and the ratio of A and B scatterers matches the composition of the amphiphilic macromolecule ( 1−𝑓𝑏 ,  𝑓𝑏 ). These A and B scatterers could be point scatterers or scatterers with a specified diameter, as is the case in this example. Regardless of the choice, the total number of A and B scatterers is another choice the user has to make to balance the accuracy of the output vesicle dimensions from GA and the computational intensity of the  𝐼𝑐𝑜𝑚𝑝 (q) calculation (more details to be given later).\n",
    "\n",
    "NOTE: The determination of  𝐼𝑐𝑜𝑚𝑝 (q) in the GA only uses the scatterer placements.\n",
    "\n",
    "In this vesicle system example, the user can enter the molecular information about the solution that was used to obtain the scattering profile to guide the choice of number of scatterers placed in the individual candidate structure. Here for this tutorial example, we use the molecular information for a diblock copolymer with the solvophilic block A and solvophobic block B forming the vesicle bilayer. The diblock chain has total number of  𝑁  beads with  𝑓𝑏  fraction of the beads in the chain being solvophobic. The packing density of the solvophobic beads in the middle layer is given by  𝜌𝐵  and the diameters of the A an B beads (or \"monomer contour length\") are given by  𝑙𝑚𝑜𝑛𝑜,𝑎  and  𝑙𝑚𝑜𝑛𝑜,𝑏 , respectively. The specific values used in this example are given below.\n",
    "\n",
    "For this vesicle system example, we calculate each individual's  𝐼𝑐𝑜𝑚𝑝 (q) using seven different configurations (nLP) of random scatterer placements to generate the averaged  𝐼𝑐𝑜𝑚𝑝 (q). Having multiple configurations of scatterer placements mitigates the chance of any one configuration of scatterer placements within the vesicle dimension from biasing the computed scattering intensity. One could also choose to replace the use of multiple (nLP=7in this case) placements of fewer scatterers with just one placement using a significantly higher total number of scatterers per unit volume (i.e., scatterer density) which will lead to reduced biasing one may see upon using fewer scatterers (or smaller scatterer density). We choose to use multiple different configurations of random scatterer placements in this case to incorporate the ability to capture dispersity (more details to be given later).\n",
    "\n",
    "For a more detailed discussion on the scatterer placement and density in the case of CREASE for vesicles, please see reference [5].\n",
    "\n",
    "Here is also where the user can set the maximum and minimum bounds for each parameter (or genome) of the individual. For the vesicle system example, the parameters that the GA determines are:\n",
    "* core radius ($R_{core}$), \n",
    "* three individual layer thicknesses in the bilayer consisting of the inner solvophilic A layer ($t_{Ain}$), middle solvophobic B layer ($t_{B}$), and the outer solvophilic A layer ($t_{Aput}$), \n",
    "* split of the solvophilic scatterers between inner ($s_{Ain}$) and outer layers,\n",
    "* polydispersity in vesicle size as implemented in the core radius dimension ($\\sigma_{R}$).\n",
    "* background intensity ($background$).\n",
    "\n",
    "Different shapes will have different sets of shape descriptors and parameters. It is important for the user to make sure the shape descriptors and minimum/maximum bound defined matches the expectation of the corresponding shape.\n",
    "**TODO: Add a reference to the table of shape descriptors and parameters**"
   ]
  },
  {
   "cell_type": "code",
   "execution_count": 11,
   "metadata": {},
   "outputs": [],
   "source": [
    "m = cga.Model(pop_number = 5,\n",
    "              generations = 5,\n",
    "              nloci = 7)\n",
    "\n",
    "m.load_chemistry(chemistry='vesicle',chemistry_params=[24,54,0.5,50.4,50.4,0.55,7],\n",
    "                                     minvalu = (50, 30, 30, 30, 0.1, 0.0, 0.1),\n",
    "                                     maxvalu = (400, 200, 200, 200, 0.45, 0.45, 4))"
   ]
  },
  {
   "cell_type": "markdown",
   "metadata": {},
   "source": [
    "As the GA selects the individuals that gets to move on to the next generation, the selected individual can be modified through the crossover and mutation procedures. The selected individual undergoes crossover with probability $PC$ and mutation with probability $PM$, and the initial values of these two parameters are chosen below. The user also sets the upper and lower bounds for these two parameters ($PC_{max}$, $PC_{min}$, $PM_{max}$, $PM_{min}$). During the GA, $PC$ and $PM$ are updated based on the reciprocal genetic diversity parameter, $GDM$, given by\n",
    "\n",
    "$$ GDM = \\frac{\\text{min error of population}}{\\text{average error of population}} $$\n",
    "\n",
    "which also has upper and lower bounds ($GDM_{max}$, $GDM_{min}$) set by the user. $GDM$ should be between 0 and 1. The form of the error will be described in more details in a later section. The adjustment factor $kGDM$ is also set by the user that is used to adjust the genetic diversity of the population.\n",
    "\n",
    "For this tutorial, we are just going to use the default GDM adaptation parameters for the sake of simplicity.\n",
    "Run the cell block below to see the parameters being used:"
   ]
  },
  {
   "cell_type": "code",
   "execution_count": 12,
   "metadata": {},
   "outputs": [
    {
     "name": "stdout",
     "output_type": "stream",
     "text": [
      "gdmmax 0.85\n",
      "gdmmin 0.005\n",
      "kgdm 1.1\n",
      "pc 0.6\n",
      "pcmax 1\n",
      "pcmin 0.5\n",
      "pm 0.001\n",
      "pmmax 0.25\n",
      "pmmin 0.006\n",
      "update <bound method adaptation_params.update of <crease_ga.adaptation_params.adaptation_params object at 0x7f91f8e4d280>>\n"
     ]
    }
   ],
   "source": [
    "for d in dir(m.adaptation_params):\n",
    "    if not '__' in d:\n",
    "    \n",
    "        print(d,getattr(m.adaptation_params,d))"
   ]
  },
  {
   "cell_type": "markdown",
   "metadata": {},
   "source": [
    "**TODO: Teach the user how to set their own adaptation parameters.**"
   ]
  },
  {
   "cell_type": "markdown",
   "metadata": {},
   "source": [
    "Taking in the above input values, the GA calls the **Initial_pop** function to create the initial population of individuals. So let's first take a look at the `Initial_pop` function."
   ]
  },
  {
   "cell_type": "markdown",
   "metadata": {},
   "source": [
    "### Initial_pop.py\n",
    "\n",
    "<img src=\"code_diagram3.png\" width=600 height=600 />\n",
    "\n",
    "Takes in the population number and generate individuals based on the bounds set for each of the GA parameters, then output the population information ($pop$) back to the **GA_main** code.\n"
   ]
  },
  {
   "cell_type": "markdown",
   "metadata": {},
   "source": [
    "To see the source code of this funtion, run following block:"
   ]
  },
  {
   "cell_type": "code",
   "execution_count": 13,
   "metadata": {},
   "outputs": [
    {
     "name": "stdout",
     "output_type": "stream",
     "text": [
      "def initial_pop(popnumber, nloci, numvars):\n",
      "    '''\n",
      "    Generate a generation of (binary) chromosomes.\n",
      "    \n",
      "    Parameters\n",
      "    ----------\n",
      "    popnumber: int\n",
      "        Number of individuals in a population.\n",
      "    nloci: int\n",
      "        Number of binary bits to represent each parameter in a chromosome.\n",
      "    numvars: int\n",
      "        Number of parameters in a chromosome.\n",
      "        \n",
      "    Return\n",
      "    ------\n",
      "    pop: np.array of size (`popnumber`,`nloci`*`numvars`)\n",
      "        A numpy array of binary bits representing the entire generation, \n",
      "        with each row representing a chromosome.\n",
      "    '''\n",
      "    pop=np.zeros((popnumber,nloci*numvars))\n",
      "    for i in range(popnumber):\n",
      "        for j in range(nloci*numvars):\n",
      "            randbinary=np.random.randint(2)\n",
      "            pop[i,j]=randbinary\n",
      "    return pop\n",
      "\n"
     ]
    }
   ],
   "source": [
    "print(getsource(cga.utils.initial_pop))"
   ]
  },
  {
   "cell_type": "markdown",
   "metadata": {},
   "source": [
    "Run the block below to see what a binary representation for an example of 5 individuals in the population looks like:"
   ]
  },
  {
   "cell_type": "code",
   "execution_count": 14,
   "metadata": {},
   "outputs": [
    {
     "name": "stdout",
     "output_type": "stream",
     "text": [
      "[[0. 0. 1. 1. 0. 1. 1. 0. 1. 1. 1. 0. 1. 1. 1. 0. 0. 1. 1. 0. 0. 0. 0. 0.\n",
      "  1. 1. 1. 1. 0. 0. 0. 0. 0. 0. 0. 0. 1. 0. 0. 0. 0. 1. 1. 1. 1. 1. 1. 1.\n",
      "  0.]\n",
      " [0. 0. 1. 1. 1. 1. 0. 0. 1. 0. 0. 0. 1. 1. 1. 0. 0. 1. 1. 1. 0. 0. 0. 0.\n",
      "  1. 0. 1. 0. 1. 1. 0. 1. 1. 1. 1. 1. 0. 0. 0. 0. 0. 1. 0. 0. 1. 0. 1. 1.\n",
      "  1.]\n",
      " [0. 0. 0. 1. 0. 0. 0. 0. 0. 0. 0. 0. 0. 1. 1. 0. 1. 0. 0. 0. 0. 1. 0. 1.\n",
      "  1. 0. 1. 1. 1. 1. 0. 0. 1. 1. 1. 0. 1. 0. 1. 0. 1. 0. 0. 0. 1. 0. 1. 0.\n",
      "  1.]\n",
      " [0. 1. 0. 0. 1. 0. 1. 0. 1. 1. 1. 0. 1. 0. 0. 1. 0. 0. 1. 1. 0. 1. 1. 0.\n",
      "  1. 1. 0. 1. 0. 0. 1. 0. 0. 1. 1. 1. 1. 1. 1. 0. 0. 1. 1. 0. 1. 1. 0. 0.\n",
      "  1.]\n",
      " [1. 1. 1. 1. 0. 1. 1. 1. 1. 1. 1. 1. 0. 0. 1. 0. 1. 1. 0. 0. 0. 0. 0. 1.\n",
      "  1. 0. 1. 1. 1. 1. 0. 1. 0. 0. 1. 1. 0. 1. 0. 0. 1. 0. 0. 0. 0. 1. 0. 0.\n",
      "  1.]]\n"
     ]
    }
   ],
   "source": [
    "pop = cga.utils.initial_pop(popnumber = 5, nloci = 7, numvars = 7)\n",
    "print(pop)"
   ]
  },
  {
   "cell_type": "markdown",
   "metadata": {},
   "source": [
    "To read the docstring of this funtion, run following block:"
   ]
  },
  {
   "cell_type": "code",
   "execution_count": 15,
   "metadata": {},
   "outputs": [
    {
     "name": "stdout",
     "output_type": "stream",
     "text": [
      "\n",
      "    Generate a generation of (binary) chromosomes.\n",
      "    \n",
      "    Parameters\n",
      "    ----------\n",
      "    popnumber: int\n",
      "        Number of individuals in a population.\n",
      "    nloci: int\n",
      "        Number of binary bits to represent each parameter in a chromosome.\n",
      "    numvars: int\n",
      "        Number of parameters in a chromosome.\n",
      "        \n",
      "    Return\n",
      "    ------\n",
      "    pop: np.array of size (`popnumber`,`nloci`*`numvars`)\n",
      "        A numpy array of binary bits representing the entire generation, \n",
      "        with each row representing a chromosome.\n",
      "    \n"
     ]
    }
   ],
   "source": [
    "print(cga.utils.initial_pop.__doc__)"
   ]
  },
  {
   "cell_type": "markdown",
   "metadata": {},
   "source": [
    "### Model.py\n",
    "\n",
    "<img src=\"code_diagram2.png\" width=600 height=600 />\n",
    "\n",
    "Back to the main GA code after creating the initial population of individuals. Now let's read in the \"experimental\" scattering intensity profile $I_{exp}(q)$ (`loadvals`) that in this example is stored in a text file that has the $q$ and $I(q)$ information. \n",
    "\n",
    "For the example here, our $I_{exp}(q)$ is an *in silico* $I(q)$ created from a target vesicle structure where all dimensions and dispersity in size are known and thus the GA can be tested on it to see how well the code performs in getting each parameter.\n",
    "\n",
    "After loading in the target $I_{exp}(q)$, the user can set the upper and lower bounds on the $q$-range over which the GA will determine the best candidate vesicle structure. \n",
    "\n",
    "Run the cell block below to see how loading the input $I_{exp}(q)$ is implemented in the code."
   ]
  },
  {
   "cell_type": "code",
   "execution_count": 16,
   "metadata": {},
   "outputs": [
    {
     "name": "stdout",
     "output_type": "stream",
     "text": [
      "    def load_iq(self,input_file_path,q_bounds=None):\n",
      "        loadvals = np.loadtxt(input_file_path)\n",
      "        self.qrange_load = loadvals[:,0]\n",
      "        IQin_load = loadvals[:,1]\n",
      "        self.IQin_load=np.true_divide(IQin_load,np.max(IQin_load))\n",
      "        #TODO: highQ and lowQ needs to be able to be dynamically set\n",
      "        if q_bounds == None:\n",
      "            self.qrange = self.qrange_load\n",
      "            self.IQin = self.IQin_load\n",
      "        else:\n",
      "            lowQ = q_bounds[0]\n",
      "            highQ = q_bounds[1]\n",
      "            self.IQin = self.IQin_load[ np.where(self.qrange_load>=lowQ)[0][0]:np.where(self.qrange_load>=highQ)[0][0] ]\n",
      "            self.qrange = self.qrange_load[ np.where(self.qrange_load>=lowQ)[0][0]:np.where(self.qrange_load>=highQ)[0][0] ]\n",
      "            \n",
      "\n",
      "        baseline = self.IQin[0]\n",
      "        self.IQin = np.true_divide(self.IQin,baseline)\n",
      "        self.IQin_load = np.true_divide(self.IQin_load,baseline)\n",
      "\n"
     ]
    }
   ],
   "source": [
    "print(getsource(cga.Model.load_iq))"
   ]
  },
  {
   "cell_type": "markdown",
   "metadata": {},
   "source": [
    "Now we can start running the GA. Starting with the inital population of individuals (0-th generation), we first need to determine the \"fitness\" of each individual, that is, how well does its computed $I_{comp}$(q) matches the target \"experimental\" $I_{exp}$(q). To facilitate the fitness calculation in the GA code, we call the `fitness` function from **fitness.py** from the main GA code. The fitness calculation requires several input arguments passed from the main GA code that is in binary form and it \"decodes\" to get the values of all of the GA parameters for each of the individuals in the population. \n",
    "\n",
    "So before running the `fitness` block, first we need to run **decode.py** for the `decode` function."
   ]
  },
  {
   "cell_type": "markdown",
   "metadata": {},
   "source": [
    "### decode.py\n",
    "\n",
    "<img src=\"code_diagram5.png\" width=600 height=600 />\n",
    "\n",
    "Run the cell block below to see the source code of this function."
   ]
  },
  {
   "cell_type": "code",
   "execution_count": 17,
   "metadata": {},
   "outputs": [
    {
     "name": "stdout",
     "output_type": "stream",
     "text": [
      "def decode(pop, indiv, nloci, minvalu,maxvalu):\n",
      "    import numpy as np\n",
      "    minvalu = np.array(minvalu)\n",
      "    maxvalu = np.array(maxvalu)\n",
      "    deltavalu=maxvalu-minvalu\n",
      "    nvars=len(minvalu)\n",
      "    valdec=np.zeros(nvars)\n",
      "    param=np.zeros(nvars)\n",
      "    #   decodes from binary to values between max and min\n",
      "    for j in range(nvars): \n",
      "        n=nloci\n",
      "        for i in range(j*nloci,(j+1)*nloci):\n",
      "            n=n-1\n",
      "            valdec[j]+=pop[indiv,i]*(2**n)\n",
      "            \n",
      "        param[j]=minvalu[j]+np.true_divide((deltavalu[j])*(valdec[j]),2**nloci)\n",
      "    return param\n",
      "\n"
     ]
    }
   ],
   "source": [
    "print(getsource(cga.utils.decode))"
   ]
  },
  {
   "cell_type": "markdown",
   "metadata": {},
   "source": [
    "To see an example of the decoded parameter values for an individual generated using `initial_pop`, run the following cell block:"
   ]
  },
  {
   "cell_type": "code",
   "execution_count": 18,
   "metadata": {},
   "outputs": [
    {
     "data": {
      "text/plain": [
       "array([8.28125000e+01, 6.71875000e+01, 4.46093750e+01, 1.56171875e+02,\n",
       "       3.07812500e-01, 2.10937500e-02, 1.59296875e+00])"
      ]
     },
     "execution_count": 18,
     "metadata": {},
     "output_type": "execute_result"
    }
   ],
   "source": [
    "pop = cga.utils.initial_pop(popnumber = 5, nloci = 7, numvars = 7)\n",
    "cga.utils.decode(pop,0,7,[50, 30, 30, 30, 0.1, 0.0, 0.1],[400, 200, 200, 200, 0.45, 0.45, 4])"
   ]
  },
  {
   "cell_type": "markdown",
   "metadata": {},
   "source": [
    "Now let's take a closer look at what happens in **fitness.py** and how fitness is calculated for each individual in the population."
   ]
  },
  {
   "cell_type": "markdown",
   "metadata": {},
   "source": [
    "### fitness.py\n",
    "\n",
    "<img src=\"code_diagram4.png\" width=600 height=600 />\n",
    "\n",
    "The core of the `fitness` function is given by the following set of equations\n",
    "\n",
    "$$ fitness = X(sse_{max}-see)+Y $$\n",
    "\n",
    "$$ sse = \\sum w\\left[log\\left(\\frac{I_{exp}(q)}{I_{comp}(q)}\\right)\\right]^2 $$\n",
    "\n",
    "$$ X = (cs-1)\\frac{max(sse_{max}-sse)}{max(sse_{max}-sse)-average(sse_{max}-sse)} $$\n",
    "\n",
    "$$ Y = (1-X)average(sse_{max}-sse) $$\n",
    "\n",
    "where $I_{exp}$(q) is the input target scattering intensity profile read in from the main GA code, $I_{comp}$(q) is the computed scattering intensity profile for the individual (to be discussed in more details later on), $sse$ is the sum of squared errors between $I_{comp}$(q) and $I_{exp}$(q) and $X$ and $Y$ serve to prevent low fitness solutions from being prematurely eliminated in the population.\n",
    "\n",
    "In this example, we choose the form of the error function, `sse`, as the sum of the log difference of squared errors where the weighting factor, $w$, accounts for the log-scale spacing of the q values. For more details on the choice of this form for the error function for the systems explored with CREASE, see references [1-5].\n",
    "\n",
    "We also note that user may choose to use a different form of sse as long as the choice of error function ensures appropriate error weighting in the range of q explored. For studies where the target $I_{exp}$(q) comes from experimental scattering with an associated uncertainty at each q, a commonly used formulation is $\\chi^{2}$ to account for the errors during fitting optimization. For example, in SASVIEW uses $\\chi^{2}$ to quantify the goodness of fit by taking the direct difference squared between the computed and target dataset over the fitted q range weighted by the squared error at each q. If the error associated with each q is known, $\\chi^{2}$ can similarly be implemented into the fitness function in CREASE to account for uncertainty in I(q) at each q.\n",
    "\n",
    "SASVIEW implementation of $\\chi_{2}$: https://www.sasview.org/docs/user/qtgui/Perspectives/Fitting/residuals_help.html\n",
    "\n",
    "In order to perform the fitness calculation, the key piece of information needed is the computed scattering intensity, $I_{comp}$(q), which **fitness.py** gets from the `converttoIQ` function. So let's now take a look at how CREASE determines the the computed scattering intensity, $I_{comp}$(q)."
   ]
  },
  {
   "cell_type": "markdown",
   "metadata": {},
   "source": [
    "### converttoIQ.py\n",
    "\n",
    "<img src=\"code_diagram6.png\" width=600 height=600 />\n",
    "\n",
    "**Equations to get computed scattering intensity**\n",
    "\n",
    "The `converttoIQ` function calculates the computed scattering intensity $I_{comp}$(q) from the intra-vesicle structure factor $\\omega$(q) (see LPOmega.py) using the following set of equations from scatterers placed within the boundaries of the candidate individual structure:\n",
    "\n",
    "$$ I_{comp}(q) = F_{M}^2(q)S_{MM}(q) + I_{background} $$\n",
    "\n",
    "$F^2_{M}(q)$ is the form factor given by\n",
    "$$ F^2_{M}(q) = \\sum_{\\alpha\\in{A,B}} \\sum_{\\beta\\in{A,B}} b_{\\alpha}b_{\\beta}F_{GA, \\alpha}(q)F_{GA, \\beta}(q)\\omega(q) $$\n",
    "\n",
    "where $b_{A}$ and $b_{B}$ are the scattering length densities for A and B scatterers, $F_{GA, \\alpha}(q)$ and $F_{GA, \\beta}$ are the spherical form factors for A and B scatterers (see **LPFbead.py**), $\\omega(q)$ is the intra-vesicle structure factor (see **LPOmega.py**) and $S_{MM}(q) = 1$ is the vesicle-vesicle structure factor for dilute solutions.\n",
    "\n",
    "\n",
    "**Scatterer placements**\n",
    "\n",
    "As mentioned in an above section, the essential information for the calculation of $I_{comp}$(q) is the scatterer placements and the user can directly choose the total number of scatterers ($n_{tot}$) to be placed in the assembly to control the scatterer density. For an assembly formed from molecules with two (or more) chemistries, the user also input the relative compositions for the chemical groups as $f_{a}$ and $f_{b}$ ($f_{c}$, etc.). The choice of the scatterer density appropriate to the assembly studied is chosen by the user. One way to obtain an estimate of $n_{tot}$, as shown in this tutorial example for vesicles, is through the coarse-grained molecular information of the molecule that make up the assembly.\n",
    "\n",
    "In this vesicle system example, let us determine the number of scatterers for placing within each layer in the vesicle wall:\n",
    "\n",
    "1. Get the core radius ($R_{core}$) as the averaged core radius ($R_{core, 0}$) plus the variation in core radius for each replicate ($\\sigma_{R}$).\n",
    "$$ R_{core} = R_{core, 0} + \\sigma_{R} $$\n",
    "\n",
    "2. Calculate the volume of the solvophobic B layer for the individual:\n",
    "$$ V_{B} = \\frac{4}{3}\\pi \\left[ (R_{core}+t_{Ain}+t_{B})^3 - (R_{core}+t_{Ain})^3 \\right] $$\n",
    "\n",
    "3. Get the number of chains/molecules in the structure:\n",
    "$$ N_{chain} = \\frac{\\rho_{B}V_{B}}{Nf_{B}M_{B}} $$\n",
    "\n",
    "4. The number of A ($n_{A}$) and B ($n_{B}$) scatterers are determined using the composition ($f_{A}$, $f_{B}$) of the respective block in the chain/molecule are given by\n",
    "$$ n_{A} = N_{chain}n_{sct}f_{A} = N_{chain}n_{sct}(1-f_{B}) $$\n",
    "$$ n_{B} = N_{chain}n_{sct}f_{B} $$\n",
    "where $n_{sct}$ is the number of scatterers per chain/molecule selected by the user.\n",
    "\n",
    "5. The number A scatterers the inner ($n_{Ain}$) and outer ($n_{Aout}$) solvophilic layers are given by\n",
    "$$ n_{Ain} = n_{A}s_{Ain} $$\n",
    "$$ n_{Aout} = n_{A}(1-s_{Ain}) $$\n",
    "where $s_{Ain}$ is a parameter in the GA that gives the fraction of chains/molecules in the inner solvophilic layer. \n",
    "\n",
    "**The $s_{Ain}$ parameter, which is determined through the GA, is a feature of the vesicle assembly that cannot be readily determined through traditional analytical fittings of scattering profiles. The addition and determination of $s_{Ain}$ in CREASE for vesicles offers molecular insight to the distribution of solvophilic monomers between the inner and outer layers in the vesicle wall**.\n",
    "\n",
    "Now with the set of information for the vesicle dimensions and how many scatterers go into each layer in the vesicle wall, we can generate the scatterer positions by calling the `genLP` function from **genLP.py**."
   ]
  },
  {
   "cell_type": "markdown",
   "metadata": {},
   "source": [
    "### genLP.py and gen_layer.py\n",
    "\n",
    "<img src=\"code_diagram7.png\" width=600 height=600 />\n",
    "\n",
    "**NOTE: genLP.py is the part of the GA code that the user needs to modify to generate the scatterer positions for the assembly of interest.**\n",
    "\n",
    "In this example, we get the coordinates for all scatterers in the vesicle with one bilayer. \n",
    "\n",
    "For the vesicle system example presented here, the `gen_layer` function defined in **gen_layer.py** places $n_{size}$ number of random point scatterers within a spherical shell defined by the inner ($r_{in}$) and outer ($r_{out}$) radii, where $n_{size}$ is the corresponding number of A or B type scatterers determined in **converttoIQ.py** for the given shell or layer.\n",
    "\n",
    "**NOTE: `gen_layer` function is specific to this example system.**\n",
    "\n",
    "**gen_LP.py** then calls the `gen_layer` function for each individual layers in the vesicle (in this example, the 2 solvophilic A and 1 solvophobic B layer that make up the bilayer) and gathers the scatterer coordinates for the complete vesicle to be passed back to **converttoIQ.py** for use in calculating the intra-vesicle structure factor $\\omega(q)$."
   ]
  },
  {
   "cell_type": "code",
   "execution_count": 5,
   "metadata": {},
   "outputs": [
    {
     "name": "stdout",
     "output_type": "stream",
     "text": [
      "def gen_layer(rin, rout, nsize):\n",
      "        R = 1.0\n",
      "\n",
      "        phi = np.random.uniform(0, 2*np.pi, size=(nsize))\n",
      "        costheta = np.random.uniform(-1, 1, size=(nsize))\n",
      "        u = np.random.uniform(rin**3, rout**3, size=(nsize))\n",
      "\n",
      "        theta = np.arccos( costheta )\n",
      "        r = R * np.cbrt( u )\n",
      "\n",
      "        x = r * np.sin( theta ) * np.cos( phi )\n",
      "        y = r * np.sin( theta ) * np.sin( phi )\n",
      "        z = r * np.cos( theta )\n",
      "\n",
      "        return( x, y, z )\n",
      "\n",
      "def genLP(Rcore, dR_Ain, dR_B, dR_Aout, sigmabead, nAin, nAout, nB):  \n",
      "        # core radius, inner A layer thickness, B layer thickness, outer A layer thickness, \n",
      "        # bead diameter, # of inner A beads, # of outer A beads, # of B beads\n",
      "\n",
      "        ntot = nAin+nB+nAout\n",
      "        power = 2\n",
      "        r = np.zeros((1, 3, ntot))\n",
      "        types = np.zeros((ntot))\n",
      "\n",
      "        ### Create configuration for each replicate with dispersity ###\n",
      "        for step in range(0, 1):\n",
      "            ### Populate A inner Layer ###\n",
      "            x, y, z = gen_layer(Rcore, Rcore+dR_Ain, nAin)\n",
      "            for i in range(nAin):\n",
      "                r[0,:,i] = [x[i], y[i], z[i]]\n",
      "                types[i] = 1\n",
      "\n",
      "            ### Populate B middle Layer ###\n",
      "            x, y, z = gen_layer(Rcore+dR_Ain, Rcore+dR_Ain+dR_B, nB)\n",
      "            for i in range(nB):\n",
      "                r[0,:,i+nAin] = [x[i], y[i], z[i]]\n",
      "                types[i+nAin] = 2\n",
      "\n",
      "            ### Populate A outer Layer ###\n",
      "            x, y, z = gen_layer(Rcore+dR_Ain+dR_B, Rcore+dR_Ain+dR_B+dR_Aout, nAout)\n",
      "            for i in range(nAout):\n",
      "                r[0,:,i+nAin+nB] = [x[i], y[i], z[i]]\n",
      "                types[i+nAin+nB] = 1            \n",
      "        return r\n",
      "\n"
     ]
    }
   ],
   "source": [
    "print(getsource(cga.chemistries.vesicle.scatterer_generator.gen_layer))\n",
    "print(getsource(cga.chemistries.vesicle.scatterer_generator.genLP))"
   ]
  },
  {
   "cell_type": "markdown",
   "metadata": {},
   "source": [
    "### converttoIQ.py\n",
    "\n",
    "<img src=\"code_diagram6.png\" width=600 height=600 />\n",
    "\n",
    "**Back to getting the computed $I_{comp}$(q)**\n",
    "\n",
    "Now that we have the scatterer positions from the `gen_LP` function, **converttoIQ.py** can call the `LPOmega` function and pass the scatterer coordinates to it to get the intra-vesicle structure factor, $\\omega(q)$. Recall the set of equations to get $I_{comp}$(q):\n",
    "\n",
    "$$ I_{comp}(q) = F_{M}^2(q)S_{MM}(q) + I_{background} $$\n",
    "\n",
    "$F^2_{M}(q)$ is the form factor given by\n",
    "$$ F^2_{M}(q) = \\sum_{\\alpha\\in{A,B}} \\sum_{\\beta\\in{A,B}} b_{\\alpha}b_{\\beta}F_{GA, \\alpha}(q)F_{GA, \\beta}(q)\\omega(q) $$\n",
    "\n",
    "So let us take a look at how $\\omega(q)$ is calculated in **LPOmega.py** and how the spherical form factors $F_{GA, \\alpha}(q)$ and $F_{GA, \\beta}$ for A and B scatterers are calculated in **LPFbead.py** (note that in this example, A and B scatterers are the same and so we only need to do one spherical form factor calculation as $F_{GA, \\alpha}(q)$ = $F_{GA, \\beta}$)."
   ]
  },
  {
   "cell_type": "markdown",
   "metadata": {},
   "source": [
    "### LPOmega.py\n",
    "\n",
    "<img src=\"code_diagram9.png\" width=600 height=600 />\n",
    "\n",
    "Here we calculate the intra-vesicle structure factor as\n",
    "$$ \\omega(q) = \\left< \\frac{1}{N_{A}+N_{B}} \\sum^{N_{A}+N_{B}}_{i=1} \\sum^{N_{A}+N_{B}}_{j=1} \\frac{\\sin{qr_{ij}}}{qr_{ij}} \\right> $$\n",
    "\n",
    "where $N_{A}$ and $N_{B}$ are the number of scatterers in the two solvophilic A and one solvophobic B layers, respectively, and $r_{ij}$ is the distance between the pair of scatterers $i$ and $j$ in the vesicle assembly determined from the previous step in **genLP.py**.\n",
    "\n",
    "**NOTE: This section is the computationally intensive calculation as it scales with the number of scatterers.**\n",
    "\n",
    "Alternative options for directly obtaining $I_{comp}(q)$ for a given set of structural dimensions include using machine learning methods such as artificial neural networks; further disccusion on this can be found in reference [3].\n",
    "\n",
    "To see the sourcecode for this function, run the cell block below:"
   ]
  },
  {
   "cell_type": "code",
   "execution_count": 19,
   "metadata": {},
   "outputs": [
    {
     "name": "stdout",
     "output_type": "stream",
     "text": [
      "def LPOmega(qrange, nAin, nAout, nB, r):                # qvalues number_of_B number_of_A scatterer_coordinates\n",
      "    Ntot=nAin+nB+nAout                                  # Total number of scatterers to loop through\n",
      "    omegaarrt=np.zeros((1,len(qrange)))                 # initiating array\n",
      "    for step in range(0, 1):                            # loops through independent_scatterer_placemetns\n",
      "        omegaarr=np.zeros((1,len(qrange)))              # initiating array\n",
      "        rur=r[step,:,:]                                 # selects      \n",
      "        for i in range(Ntot-1):                         # loops through index and all further indexes to prevent double counting \n",
      "            x = np.square(rur[0,i]-rur[0,(i+1):])\n",
      "            y = np.square(rur[1,i]-rur[1,(i+1):])\n",
      "            z = np.square(rur[2,i]-rur[2,(i+1):])\n",
      "            rij = np.sqrt(np.sum([x,y,z],axis=0))       # calculates the distances\n",
      "            rs = rij[:,np.newaxis]                      # reshapes array for consistency\n",
      "            Q = qrange[np.newaxis,:]                    # reshapes array for consistency\n",
      "            vals = ne.evaluate(\"sin(Q*rs)/(Q*rs)\")      # ne is efficient at calculations\n",
      "            inds=np.argwhere(np.isnan(vals))            # error catching in case there are NaN values\n",
      "            if len(inds)>0:\n",
      "                for val in inds:\n",
      "                    vals[val[0],val[1]]=1\n",
      "            inds_double_check=np.argwhere(np.isnan(vals))\n",
      "            if len(inds_double_check)>0:\n",
      "                print('nan error!')\n",
      "            vals = ne.evaluate(\"sum((vals), axis=0)\")   # adds together scatterer contributions for each q value\n",
      "            omegaarr+=vals\n",
      "        omegaarr=np.true_divide(2*omegaarr,Ntot)+1      # 1 accounts for the guarenteed overlap of same bead  # 2* accounts for double counting avoided to reduce computational expense by looping for all other pairs\n",
      "        omegaarrt+=omegaarr                             # stores values between loops\n",
      "#     omegaarrt=np.true_divide(omegaarrt,nLP)             # averages between independent_scatterer_placements\n",
      "#     omegaarrt=omegaarrt.reshape(len(qrange),)           # reshapes array for output\n",
      "    return omegaarrt\n",
      "\n"
     ]
    }
   ],
   "source": [
    "print(getsource(cga.chemistries.vesicle.scatterer_generator.LPOmega))"
   ]
  },
  {
   "cell_type": "markdown",
   "metadata": {},
   "source": [
    "### LPFbead.py\n",
    "\n",
    "<img src=\"code_diagram8.png\" width=600 height=600 />\n",
    "\n",
    "The **spherical form factor amplitude** is calculated as\n",
    "\n",
    "$$ F_{GA, \\alpha}(q) = 3 \\frac{ \\sin(q0.5\\sigma_{GA, \\alpha}) - q0.5\\sigma_{GA, \\alpha}\\cos(q0.5\\sigma_{GA, \\alpha}) }{(q0.5\\sigma_{GA, \\alpha})^3} $$\n",
    "\n",
    "where $\\alpha$ indicates A or B scatterer and $\\sigma_{GA, \\alpha}$ is the scatterer diameter.\n",
    "\n",
    "To see the sourcecode for this function, run the following cell block:"
   ]
  },
  {
   "cell_type": "code",
   "execution_count": 20,
   "metadata": {},
   "outputs": [
    {
     "name": "stdout",
     "output_type": "stream",
     "text": [
      "def LPFbead(qrange, sigmabead):\n",
      "    '''\n",
      "    Compute the spherical form factor given a range of q values.\n",
      "    \n",
      "    Parameters:\n",
      "    ----------\n",
      "    qrange: numpy.array\n",
      "        array of values in q-space to compute form factor for.\n",
      "    sigmabead: float\n",
      "        diameter of the sphere.\n",
      "    \n",
      "    Return:\n",
      "    ----------\n",
      "    Fqb: numpy.array\n",
      "        array of values of the spherical form factors (F(q)) computed at q-points listed in qrange.\n",
      "    '''\n",
      "    \n",
      "    R=np.true_divide(sigmabead,2)\n",
      "    QR=np.multiply(qrange,R)\n",
      "    Fqb=np.multiply(np.true_divide(np.sin(QR)-np.multiply(QR,np.cos(QR)),np.power(QR,3)),3)  \n",
      "\n",
      "    return Fqb\n",
      "\n"
     ]
    }
   ],
   "source": [
    "print(getsource(cga.chemistries.vesicle.scatterer_generator.LPFbead))"
   ]
  },
  {
   "cell_type": "markdown",
   "metadata": {},
   "source": [
    "### converttoIQ.py\n",
    "\n",
    "<img src=\"code_diagram6.png\" width=600 height=600 />\n",
    "\n",
    "**Back again to getting the computed scattering intensity $I_{comp}$(q)**\n",
    "\n",
    "Now that we have both $\\omega(q)$ and $F_{GA, \\alpha}(q)$ from the `LPOmega` and `LPFbead` functions, all that is left to do is to put together all of the pieces together to get $I_{comp}$(q) as:\n",
    "\n",
    "$$ I_{comp}(q) = F_{M}^2(q)S_{MM}(q) + I_{background} $$\n",
    "\n",
    "$F^2_{M}(q)$ is the form factor given by\n",
    "$$ F^2_{M}(q) = \\sum_{\\alpha\\in{A,B}} \\sum_{\\beta\\in{A,B}} b_{\\alpha}b_{\\beta}F_{GA, \\alpha}(q)F_{GA, \\beta}(q)\\omega(q) $$\n",
    "\n",
    "and **converttoIQ.py** will output the computed scattering intensity $I_{comp}$(q) as `IQid` in the code.\n",
    "\n",
    "Run the cell block below to see the sourcecode for this function:"
   ]
  },
  {
   "cell_type": "code",
   "execution_count": 21,
   "metadata": {},
   "outputs": [
    {
     "name": "stdout",
     "output_type": "stream",
     "text": [
      "    def converttoIQ(self, qrange, param):\n",
      "        '''\n",
      "        Calculate computed scattering intensity profile.\n",
      "\n",
      "        Parameters\n",
      "        ----------\n",
      "        qrange: int\n",
      "            q values.\n",
      "        param: int\n",
      "            Decoded parameters.\n",
      "\n",
      "        Return\n",
      "        ------\n",
      "        IQid: A numpy array holding I(q).\n",
      "        '''\n",
      "        # q values, decoded parameters, \n",
      "        # number of repeat units per chain, fraction of B beads per chain, core density, \n",
      "        # scatterer diameter, molar mass of B chemistry, \n",
      "        # length of A chemistry bond, length of B chemistry bond, \n",
      "        # number of scatterers per chain, # of replicates, stdev in Rcore size\n",
      "        sigmabead = self.sigmabead\n",
      "        N = self.N\n",
      "        fb = self.fb\n",
      "        rho_B = self.rho_B\n",
      "        MB = self.MB\n",
      "        lmono_a = self.lmono_a\n",
      "        lmono_b = self.lmono_b\n",
      "        num_scatterers = self.num_scatterers\n",
      "        nLP = self.nLP\n",
      "        \n",
      "        IQid=np.zeros((len(qrange)))      #initiates array for output IQ\n",
      "\n",
      "        ### Parameters used to generate scatterer placements ###\n",
      "        Rcore=param[0]\n",
      "        dR_Ain=param[1]\n",
      "        dR_B=param[2]\n",
      "        dR_Aout=param[3]\n",
      "        sAin=param[4]     # split of type A scatterer \n",
      "        sigmaR=param[5]   # variation in Rcore, dispersity\n",
      "        #print(Rcore, dR_Ain, dR_B, dR_Aout, sAin)\n",
      "        Background=10**(-param[6]) \n",
      "\n",
      "        varR = Rcore*sigmaR # variation in Rcore\n",
      "        disper = np.array([-2.0, -1.5, -1.0, -0.5, 0.0, 0.5, 1.0, 1.5, 2.0]) # fixed intervals of sigma\n",
      "        sum_omegaarr=np.zeros((1,len(qrange)))\n",
      "\n",
      "        for step in range(0, nLP):\n",
      "            Rcore = param[0] + varR*disper[step + int((9-nLP)/2.)]          ## add displacement to Rcore\n",
      "    #         print(\"disper = \", disper[step + int((9-nLP)/2.)])\n",
      "    #         print(\"Rcore = \", Rcore)\n",
      "            vol_B = (4/3.0)*np.pi*(np.power(Rcore + dR_Ain + dR_B, 3) \n",
      "                                   - np.power(Rcore + dR_Ain, 3)) ## volume of solvophobic layer B\n",
      "            nagg = int(np.true_divide( rho_B*vol_B, N*fb*MB ))    ## number of chains in vesicle\n",
      "            ntot = nagg*num_scatterers                            ## total number of scatterers\n",
      "            nB = int(ntot*fb)                                     ## number of scatterers in B\n",
      "            nAin = int(ntot*(1-fb)*sAin)                          ## number of scatterers in A_in\n",
      "            nAout = int(ntot*(1-fb)*(1-sAin))                     ## number of scatterers in A_out\n",
      "\n",
      "            for reps in range(0, 3):\n",
      "                ### Generates scatterer positions in structure ###\n",
      "                r = genLP(Rcore, dR_Ain, dR_B, dR_Aout, sigmabead, nAin, nAout, nB)\n",
      "\n",
      "                ### Calculates omega from scatterers in shape ###\n",
      "                sum_omegaarr += LPOmega(qrange, nAin, nAout, nB, r)\n",
      "\n",
      "        omegaarr=np.true_divide(sum_omegaarr,nLP*3)        # average omega\n",
      "        omegaarr=omegaarr.reshape(len(qrange),)\n",
      "        Fqb=LPFbead(qrange,sigmabead)                      # calcualtes sphere shape factor\n",
      "        F2qb=np.multiply(Fqb,Fqb)                          # Sphere shape factor square\n",
      "        sqmm=np.ones((np.shape(Fqb)))                      # assuming dilute mixture the micelle-micelle structure factor = 1\n",
      "        F2qb_sqmm=np.multiply(F2qb,sqmm)                   # determines the micelle form factor\n",
      "        IQid=np.multiply(omegaarr,F2qb_sqmm)               # calculates Icomp\n",
      "        maxIQ=np.max(IQid)                                  \n",
      "        IQid=np.true_divide(IQid,maxIQ)                    # normalizes the I(q) to have its maximum = 1\n",
      "        IQid+=Background                                   # add background\n",
      "        return IQid\n",
      "\n"
     ]
    }
   ],
   "source": [
    "print(getsource(cga.chemistries.vesicle.scatterer_generator.scatterer_generator.converttoIQ))"
   ]
  },
  {
   "cell_type": "markdown",
   "metadata": {},
   "source": [
    "### fitness.py\n",
    "\n",
    "<img src=\"code_diagram4.png\" width=600 height=600 />\n",
    "\n",
    "Having gone through getting the computed scattering intensity, we are finally back to the `fitness` function, which if the user recalls is given by the following set of equations\n",
    "\n",
    "$$ fitness = X(sse_{max}-see)+Y $$\n",
    "\n",
    "$$ sse = \\sum w\\left[log\\left(\\frac{I_{exp}(q)}{I_{comp}(q)}\\right)\\right]^2 $$\n",
    "\n",
    "$$ X = (cs-1)\\frac{max(sse_{max}-sse)}{max(sse_{max}-sse)-average(sse_{max}-sse)} $$\n",
    "\n",
    "$$ Y = (1-X)average(sse_{max}-sse) $$\n",
    "\n",
    "where we get the $I_{exp}$(q) from reading in the input scattering data file and $I_{comp}$(q) from the `converttoIQ` function, and in this example we choose the scaling constant $cs$ to be 10.\n",
    "\n",
    "Within the `fitness` function, we also calculate the selection probability for each individual, $P_{select}$, that is proportional to its fitness value.\n",
    "We then store the selection information (`pacc`) for all of the individuals in the population and pass it back to the main GA code where individuals will be selected to move on to the next generation.\n",
    "\n",
    "To see the sourcecode of this function, run the following cell block:"
   ]
  },
  {
   "cell_type": "code",
   "execution_count": 22,
   "metadata": {
    "scrolled": true
   },
   "outputs": [
    {
     "name": "stdout",
     "output_type": "stream",
     "text": [
      "    def fitness(self,pop,generation,output_dir,metric='log_sse'):\n",
      "        tic = time.time()\n",
      "        cs=10\n",
      "        F1= open(output_dir+'z_temp_results_'+str(generation)+'.txt','w')\n",
      "        np.savetxt(output_dir+'z_temp_population_'+str(generation)+'.txt',np.c_[pop])\n",
      "        \n",
      "        fitn=np.zeros(self.popnumber)\n",
      "        fitnfr=np.zeros(self.popnumber)\n",
      "        fit=np.zeros(self.popnumber)\n",
      "        qfin=self.qrange[-1]\n",
      "        IQid_str=[]\n",
      "        params=[]\n",
      "        for val in range(self.popnumber):\n",
      "            sys.stdout.write(\"\\rGen {:d}/{:d}, individual {:d}/{:d}\".format(generation+1,self.generations,val+1,self.popnumber))\n",
      "            sys.stdout.flush()\n",
      "            param=utils.decode(pop, val, self.nloci, self.minvalu, self.maxvalu) # gets the current structure variables\n",
      "            params.append(param)\n",
      "\n",
      "            ### calculate computed Icomp(q) ###\n",
      "            IQid=self.scatterer_generator.converttoIQ(self.qrange, param)\n",
      "\n",
      "            err=0\n",
      "            for qi,qval in enumerate(self.qrange):\n",
      "                if (IQid[qi]>0)&(self.IQin[qi]>0):\n",
      "                    if (qi<qfin):\n",
      "                        wil=np.log(np.true_divide(self.qrange[qi+1],self.qrange[qi]))  # weighting factor\n",
      "                    else:\n",
      "                        wil=np.log(np.true_divide(self.qrange[qi],self.qrange[qi-1]))  # weighting factor\n",
      "                    if metric == 'log_sse':\n",
      "                        err+=wil*(np.log(np.true_divide(self.IQin[qi],IQid[qi])))**2  # squared log error \n",
      "            fit[val]=err\n",
      "            IQid_str.append(IQid)\n",
      "\n",
      "            \n",
      "\n",
      "            F1.write((str(val)+' '+str(param[0])+' '+str(param[1])+' '+str(param[2])+str(err)+'\\n'))\n",
      "            F1.flush()\n",
      "\n",
      "        params = np.array(params)\n",
      "        maxerr=np.max(fit)           #determines maximum SSerror for the population\n",
      "        fitn=fit-maxerr #determines error differences\n",
      "        #maxfit=np.max(fitn)\n",
      "        sumup=np.sum(fitn)\n",
      "\n",
      "        avgfit=np.true_divide(sumup,self.popnumber)\n",
      "        dval=-avgfit\n",
      "        ascale=np.true_divide(avgfit,dval)*(cs-1.0)     #linear scaling with cs as a scaleFactor\n",
      "        bscale=avgfit*(1.0-ascale)\n",
      "\n",
      "        sumup=0\n",
      "\n",
      "        # get scaled fitness to enable selection of bad candidates\n",
      "        for val in range(self.popnumber):\n",
      "            if (fitn[val]>avgfit):\n",
      "                fitnfr[val]=ascale*fitn[val]+bscale\n",
      "            else:\n",
      "                fitnfr[val]=fitn[val]\n",
      "\n",
      "        sumup=np.sum(fitnfr)\n",
      "\n",
      "        pacc=np.zeros(self.popnumber)\n",
      "        prob=np.true_divide(fitnfr,sumup)\n",
      "        pacc=np.cumsum(prob)\n",
      "\n",
      "        ### returns cummulative relative error from which individuals can be selected ###\n",
      "        maxfit=np.min(fit)\n",
      "        elitei=np.where(fit==maxfit)[0]                  # Best candidate \n",
      "        secondfit=sorted(fit)[1]\n",
      "        secondi = np.where(fit==secondfit)[0]            # Second best candidate\n",
      "        avgfit=np.average(fit)\n",
      "        avgi=np.array([(np.abs(fit-avgfit)).argmin()])   # Average candidate\n",
      "        minfit=np.max(fit)\n",
      "        mini=np.where(fit==minfit)[0]                    # Worst candidate\n",
      "        if avgfit==0:\n",
      "            avgfit=1\n",
      "        gdm=np.true_divide(maxfit,avgfit)\n",
      "        if len(elitei)>1:\n",
      "            elitei=elitei[0]\n",
      "        if len(secondi)>1:\n",
      "            secondi=secondi[0]\n",
      "        if len(avgi)>1:\n",
      "            avgi=avgi[0]\n",
      "        if len(mini)>1:\n",
      "            mini=mini[0]\n",
      "        \n",
      "        f = open(output_dir+'fitness_vs_gen.txt', 'a' )\n",
      "        if generation == 0:\n",
      "            f.write( 'gen mini min avgi avg secondi second besti best\\n' )\n",
      "        f.write( '%d ' %(generation) )\n",
      "        f.write( '%d %.8lf ' %(mini,minfit) )\n",
      "        f.write( '%d %.8lf ' %(avgi,avgfit) )\n",
      "        f.write( '%d %.8lf ' %(secondi,secondfit) )\n",
      "        f.write( '%d %.8lf ' %(elitei,maxfit) )\n",
      "        f.write( '\\n' )\n",
      "        f.close()\n",
      "        print('Generation time: {:.3f}s'.format(time.time()-tic))\n",
      "        print('Generation best fitness: {:.4f}'.format(maxfit))\n",
      "        print('Generation best fitness: {:.3f}'.format(gdm))\n",
      "        print('Generation best parameters '+str(params[elitei]))\n",
      "        \n",
      "        return pacc, gdm, elitei, IQid_str\n",
      "\n"
     ]
    }
   ],
   "source": [
    "print(getsource(cga.Model.fitness))"
   ]
  },
  {
   "cell_type": "markdown",
   "metadata": {},
   "source": [
    "### GA_main.py\n",
    "\n",
    "<img src=\"code_diagram2.png\" width=600 height=600 />\n",
    "\n",
    "Now we can finally run the main GA code (having defined the `fitness` function and all other functions that it calls) for the initial population of individuals (0-th generation).\n",
    "\n",
    "Calling the `fitness` function we will have the fitness value for each of the individuals. In this example, the `fitness` function also provides useful information like which one of the individuals performed the best (\"elite\"), in terms of having its computed $I_{comp}$(q) matching the input $I_{exp}$(q), the second best (\"second\"), averagely (\"average\") and the worst (\"minfit\") that are stored and saved for the user."
   ]
  },
  {
   "cell_type": "markdown",
   "metadata": {},
   "source": [
    "**Selection Process: Crossover, Mutation and Elitism**\n",
    "\n",
    "Now that we have the fitness value for each individual in the population, the GA will need to select the candidates for the next generation, and this iterative process is continued until the maximum number of generations (set by the user during the beginning of the main GA code) is reached. As each of the GA parameters is encoded as a seven-digit binary sequence, the genetic operations (crossover, mutation) performed on selected individuals is done in binary form.\n",
    "\n",
    "*Crossover*\n",
    "\n",
    "During crossover, two individuals in the population are selected as \"parents\" and their traits are mixed to produced a new \"offspring\" individual to be included in the next generation. Each parent individual is selected with probability $PC$ as and the offspring has traits randomly chosen from its two parent individuals. \n",
    "\n",
    "*Mutation*\n",
    "\n",
    "An individual is selected for mutation with probability $PM$, where one of its traits is randomly selected to be changed within that parameter's range of values.\n",
    "\n",
    "*Elitism*\n",
    "\n",
    "The best individual in the generation is always included in the population for next generation.\n",
    "\n",
    "The probabilities of crossover $PC$ and mutation $PM$ are adjusted during the iterative process over the generations during a GA run to help prevent premature convergence to local minima. When $GDM$ drops below the lower bound, then $PC$ is increased by the factor $kGDM$ (here chosen to be 1.1) and $PM$ is decreased by the same factor $kGDM$ to reduced the genetic diversity. If $GDM$ is close to 1, then $PC$ is decreased by the factor $kGDM$ and $PM$ is increased by the factor $kGDM$ to increase the genetic diversity."
   ]
  },
  {
   "cell_type": "markdown",
   "metadata": {},
   "source": [
    "**Running the GA**\n",
    "\n",
    "After selecting the individuals in the population that get to move on to the next generation, we once again calculate the fitness for each individual in the new generation. Then the selection and fitness processes are repeated until the end of the GA. \n",
    "\n",
    "Run the cell block below to see the source code for the selection process:"
   ]
  },
  {
   "cell_type": "code",
   "execution_count": 23,
   "metadata": {},
   "outputs": [
    {
     "name": "stdout",
     "output_type": "stream",
     "text": [
      "    def genetic_operations(self,pop,pacc,elitei):\n",
      "        popn = np.zeros(np.shape(pop))\n",
      "        cross = 0\n",
      "        mute = 0\n",
      "        pc = self.adaptation_params.pc\n",
      "        pm = self.adaptation_params.pm\n",
      "        \n",
      "        for i in range(self.popnumber-1):\n",
      "\n",
      "            #####################    Crossover    ####################\n",
      "\n",
      "            #Selection based on fitness\n",
      "            testoff=random.random()\n",
      "            isit=0\n",
      "            npart1=1\n",
      "            for j in range(1,self.popnumber):\n",
      "                if (testoff>pacc[j-1])&(testoff<pacc[j]):\n",
      "                    npart1=j\n",
      "\n",
      "            testoff=random.random()\n",
      "            isit=0\n",
      "            npart2=1\n",
      "            for j in range(self.popnumber):\n",
      "                if (testoff>=pacc[j-1])&(testoff!=pacc[j]):\n",
      "                    npart2=j\n",
      "\n",
      "            #Fit parents put in array popn\n",
      "\n",
      "            popn[i,:]=pop[npart1,:]\n",
      "\n",
      "\n",
      "            testoff=random.random()\n",
      "            loc=int((testoff*(self.numvars-1))*self.nloci)\n",
      "            if loc==0:\n",
      "                loc=self.nloci\n",
      "            testoff=random.random()\n",
      "\n",
      "            #crossover\n",
      "            if (testoff<=pc):\n",
      "                cross+=1\n",
      "                popn[i,loc:]=pop[npart2,loc:]\n",
      "\n",
      "\n",
      "        #####################    Mutation    ####################\n",
      "\n",
      "\n",
      "            for j in range(self.nloci*self.numvars):\n",
      "                testoff=random.random()\n",
      "                if (testoff<=pm):\n",
      "                    popn[i,j]=random.randint(0,1)\n",
      "                    mute+=1\n",
      "\n",
      "\n",
      "        #####################    Elitism    ####################\n",
      "\n",
      "        popn[-1,:]=pop[elitei,:]\n",
      "\n",
      "        \n",
      "        print('pc',pc)\n",
      "        print('#crossovers',cross)\n",
      "        print('pm',pm)\n",
      "        print('#mutations',mute)\n",
      "        print('\\n')\n",
      "        \n",
      "        return popn\n",
      "\n"
     ]
    }
   ],
   "source": [
    "print(getsource(cga.Model.genetic_operations))"
   ]
  },
  {
   "cell_type": "markdown",
   "metadata": {},
   "source": [
    "If all of the cell blocks of code above have been run properly, then performing the GA on the small number of individuals and generations will produce the example dimensions and $I_{comp}$(q) that the user can see can compare to the target dimensions and input $I_{exp}$(q) as shown below\n",
    "\n",
    "Good luck!\n",
    "\n",
    "<img src=\"short_run_output.png\" width=300 height=300 />"
   ]
  },
  {
   "cell_type": "code",
   "execution_count": null,
   "metadata": {},
   "outputs": [],
   "source": [
    "m.solve()"
   ]
  },
  {
   "cell_type": "markdown",
   "metadata": {},
   "source": [
    "### GA for Vesicles with Larger Population Size and Number of Generations\n",
    "\n",
    "If the above codes for the example vesicle system in this tutorial have been successfully run, then the user should be able to see the best individual's $I_{comp}$(q) plotted against the input $I_{exp}$(q). With the small population size (`popnumber = 5`) and number of generations (`generations = 5`) used in this tutorial example, the resulting best individual structure is unlikely to be a good match to the target $I_{exp}$(q). As mentioned previously, using a small number of individuals and generations in this example is to keep the calculations computationally feasible and to produce accurate matches to the target $I_{exp}$(q) one would need to use significantly higher number of individuals and generations on more powerful computer.\n",
    "\n",
    "Shown below is an example of the kind of GA determined results that we can expect when we use the GA on the same target $I_{exp}$(q) but with a much larger population size and number of generations:\n",
    "\n",
    "`popnumber = 80`\n",
    "\n",
    "`generations = 100`\n",
    "\n",
    "<img src=\"crease_tutorial_fig_Icomp-vs-gen.png\" width=300 height=300 />\n",
    "\n",
    "**Figure 1**: *CREASE analysis on an example vesicle with the target dimensions of small core with thin B layer (shown schematically). $I_{comp}$(q) of the best individual (colored lines) from all generations in one example GA run (with dispersity) compared with the input in silico scattering intensity $I_{exp}$(q) (open circles). Progression from the initial generation to the final generation is shown with increasingly warmer colors.*\n",
    "\n",
    "From the best individual's $I_{comp}$(q) over multiple generations, we can see that increasing the population size and number of generation gradually drives the GA determined vesicle structure towards that of the target structure (**Figure 1**). We can also make a direct comparison of the GA determined vesicle dimensions to the known target dimensions and also to the dimensions determined through the traditional analytical model fitting of scattering profiles using packages like SASVIEW.\n",
    "\n",
    "<img src=\"crease_tutorial_fig_dim-ga-vs-sasview.png\" width=300 height=300 />\n",
    "\n",
    "**Figure 2**: *GA determined dimensions of relevant vesicle features at the end of 100 generations for the cases where dispersity in dimensions is not accounted for in the GA step (blue triangles) and when dispersity is incorporated into the GA (orange squares). The target dimensions of the in silico Iexp(q) are shown as open circles with 20% dispersity in the core radius (Rcore) dimensions. SASVIEW fitting results using the core-multi-shell model (grey stars) are offset to the right of the target dimensions.*\n",
    "\n",
    "As discussed during the tutorial, GA for vesicles can incorporate the effect of dispersity in the dimensions of the assembly into the calculation of the individual's $I_{comp}$(q) and this dispersity is determined as one of the GA results given as $\\sigma_{R}$ in this example systems where dispersity is incorporated in the core radius dimension. **Figure 2** shows how the GA with (i.e. GA searches and optimizes for $\\sigma_{R}$) and without (i.e. GA sets $\\sigma_{R} = 0$) dispersity performs in getting the vesicle structural dimensions of core radius ($R_{core}$), each layer thickness ($t_{A,in}$, $t_{B}$, $t_{A,out}$) and total vesicle diameter size ($D_{vesicle}$). We can see that with an appropriate population size and number of generations, the GA is able to accurately capture the target structure's dimensions. Additionally, while the analytical fitting to a core-multi-shell model using SASVIEW can also determine these structural dimensions, GA for vesicle is able to inform the user how the molecules are split between the inner and outer layers of the vesicle wall ($s_{Ain}$), a piece of molecular information not available to traditional method of analytical fitting. The GA determined parameter $s_{Ain}$ gives the fraction of molecules in the vesicle assembly that occupies the inner layer of the vesicle walls. For this example system, the target structure has 20% of the molecules in the assembly occupying the inner layer of the vesicle wall and the GA is able to determine $s_{Ain}$ as 28%, well matching the target value.\n",
    "\n",
    "For more detailed discussions on CREASE for vesicles and its application to different vesicle sizes and high dispersity, the user can refer to reference [5]."
   ]
  },
  {
   "cell_type": "markdown",
   "metadata": {},
   "source": []
  }
 ],
 "metadata": {
  "kernelspec": {
   "display_name": "Python 3 (ipykernel)",
   "language": "python",
   "name": "python3"
  },
  "language_info": {
   "codemirror_mode": {
    "name": "ipython",
    "version": 3
   },
   "file_extension": ".py",
   "mimetype": "text/x-python",
   "name": "python",
   "nbconvert_exporter": "python",
   "pygments_lexer": "ipython3",
   "version": "3.9.6"
  }
 },
 "nbformat": 4,
 "nbformat_minor": 2
}

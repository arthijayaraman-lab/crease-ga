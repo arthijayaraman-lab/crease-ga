{
 "cells": [
  {
   "cell_type": "markdown",
   "metadata": {},
   "source": [
    "# CREASE for Vesicle Analysis"
   ]
  },
  {
   "cell_type": "markdown",
   "metadata": {},
   "source": [
    "## Introduction\n",
    "\n",
    "**This tutorial has been created by Ziyu Ye, Zijie Wu, and Arthi Jayaraman to accompany their publication: Ye, Z.; Wu, Z; Jayaraman, A. Computational Reverse-Engineering Analysis for Scattering Experiments (CREASE) on Vesicles Assembled from Amphiphilic Macromolecular Solutions (under review)**\n",
    "\n",
    "In general, Computational Reverse Engineering Analysis for Scattering Experiments (CREASE) is a two step approach that combines a genetic algorithm (GA) as the first step with molecular simulations based reconstruction as the second step to determine for a given input scattering profile the structural features of assembled structures in macromolecular solutions. Structural features range from aggregate dimensions to the chain- and monomer- level packing within the aggregate. This tutorial presents CREASE for vesicles. If you use CREASE in your work, we ask that you please cite one of the relevant papers below. If you use this vesicle code, please cite References 5. \n",
    "\n",
    "\n",
    "[1] Beltran-Villegas, D. J.; Wessels, M. G.; Lee, J. Y.; Song, Y.; Wooley, K. L.; Pochan, D. J.; Jayaraman, A. Computational Reverse-Engineering Analysis for Scattering Experiments on Amphiphilic Block Polymer Solutions. *J. Am. Chem. Soc.* **2019**, 141, 14916−14930.\n",
    "\n",
    "[2] Wessels, M. G.; Jayaraman, A. Computational Reverse-Engineering Analysis of Scattering Experiments (CREASE) on Amphiphilic Block Polymer Solutions: Cylindrical and Fibrillar Assembly. *Macromolecules* **2021**, 54, 783-796.\n",
    "\n",
    "[3] Wessels, M. G.; Jayaraman, A. Machine Learning Enhanced Computational Reverse Engineering Analysis for Scattering Experiments (CREASE) to Determine Structures in Amphiphilic Polymer Solutions. *ACS Polymers Au* **2021**, https://doi.org/10.1021/acspolymersau.1c00015.\n",
    "\n",
    "[4] Heil, C.; Jayaraman, A. Computational reverse-engineering analysis for scattering experiments of assembled binary mixture of nanoparticles. *ACS Materials Au* **2021**, https://doi.org/10.1021/acsmaterialsau.1c00015\n",
    "\n",
    "[5] Ye, Z.; Wu, Z; Jayaraman, A. Computational Reverse-Engineering Analysis for Scattering Experiments (CREASE) on Vesicles Assembled from Amphiphilic Macromolecular Solutions.\n",
    "\n",
    "This notebook presents a tutorial on how the first step of CREASE, the GA step, works in determining the structural features of the assembled structure (vesicle in this tutorial) found in macromolecular solutions from small angle scattering intensity profiles. The GA codes takes as input I(q) and finds the structural dimensions of the vesicle whose computed scattering, 𝐼𝑐𝑜𝑚𝑝(q), best matches the input I(q). The GA code presented here is applicable to vesicle structure with a core and three layers (two solvophilic layers and one solvophobic layer). But it can be adapted to other shapes and geometries by modifying sections of the code that will be highlighted as such.\n",
    "\n",
    "The GA code for vesicles is able to determine:\n",
    "1. Vesicle dimensions in core radius ($R_{core}$), the three individual layer thicknesses in the membrane that consist of the inner solvophilic A layer ($t_{Ain}$), middle solvophobic B layer ($t_{B}$), and the outer solvophilic A layer ($t_{Aput}$).\n",
    "2. How the solvophilic scatterers are split between inner ($s_{Ain}$) and outer ($1-s_{Ain}$) layers.\n",
    "3. Dispersity (or polydispersity) in vesicle size as implemented in the core radius dimension ($\\sigma_{R}$) during I(q) calculation.\n",
    "\n",
    "<img src=\"CREASE_vesicles_code_structure_dimensions.png\" width=300 height=300 />"
   ]
  },
  {
   "cell_type": "markdown",
   "metadata": {},
   "source": [
    "A basic understanding of how GA works and the associated technical terms(e.g. gene, generation, selection, fitness, crossover, mutation) would be helpful for following along to this tutorial. The user can find a brief introduction to GA from any of the five references listed above, especially in the original refences [1]. The [the wikipedia page of genetic algorithm](https://en.wikipedia.org/wiki/Genetic_algorithm) also offers a general overview of the GA method.\n",
    "\n",
    "Below is the general structure showing the flow of the GA code presented in this package:\n",
    "\n",
    "<img src=\"code_diagram_main1_all.png\" width=600 height=600 />"
   ]
  },
  {
   "cell_type": "markdown",
   "metadata": {},
   "source": [
    "## Setup python libraries"
   ]
  },
  {
   "cell_type": "code",
   "execution_count": 1,
   "metadata": {},
   "outputs": [],
   "source": [
    "import crease_ga as cga\n",
    "from inspect import getsource"
   ]
  },
  {
   "cell_type": "markdown",
   "metadata": {},
   "source": [
    "### Model\n",
    "\n",
    "Current \"location\" in the code flow diagram marked in red:\n",
    "\n",
    "<img src=\"code_diagram_main2_model.png\" width=600 height=600 />\n",
    "\n",
    "Let's start with the initial arguments that the user needs to choose and input for their system. \n",
    "\n",
    "In the cell block below, the user needs to define the arguments that define the basic architecture of the genetic algorithm:\n",
    "* number of individuals in a population ('pop_number')\n",
    "* number of generations that GA runs for ('generations')\n",
    "* number of binary digits used to represent each individual ('nloci')\n",
    "\n",
    "The user chooses the above three agruments to run the GA. The choice of these three arguments will significantly affect the performance of the GA. We recommend that the user test out different combinations of these three parameters to ensure convergence to the right output. For the example, here, after multiple tests during our previous work, we recommend the following values for these arguments to produce reliable output for the input $I$(q):\n",
    "* `pop_number = 80`\n",
    "* `generations = 100`\n",
    "* `nloci = 7`\n",
    "\n",
    "As the computational time needed to complete the GA run increases with increasing number of individuals and generations, for the purpose of completing this tutorial within reasonable time, on a regular PC, we use the following values:\n",
    "* `pop_number = 5`\n",
    "* `generations = 5`\n",
    "* `nloci = 7`\n",
    "\n",
    "You should not expect to see the 'best' 𝐼𝑐𝑜𝑚𝑝(q) match the input or target $I$(q) with these settings. With larger number of individuals and generations, you can see how the GA predictions evolve over the generations to higher \"fitness\" structures [i.e. closer match to the input $I$(q)].\n",
    "\n",
    "For each individual in the GA, we store information about structural features in its genome. For each of the individual's genome, the information is encoded as a seven-digit (chosen by the user as $n_{loci}$, set in this tutorial as 7) binary sequence that corresponds to the value of structural dimensions evenly distributed between the maximum and minimum bounds set by the user (minimum bound will be 0000000, and maximum 1111111). The choice of the number of binary digits will determine the precision of the final optimized structural dimensions.\n",
    "\n",
    "*You may ask at this point - why are we encoding the parameters in a binary fashion?*\n",
    "That is a great question! Actually, whether to use binary or decimal encoding has always been a topic of debate in the field of genetic algorithm. Traditional GAs tend to use binary coding (referred to as 'binary-coded GA'), but there also have been numerous applications of GA to engineering problems using \"decimal coding\" (often referred to as 'real-coded GA'). We happen to have been developing the algorithm following the binary coding route, but there is technically no reason why we cannot use real-coded GA for this problem. One can always rewrite our genetic operator algorithms if one wishes to use real-coded GA (more on this later)"
   ]
  },
  {
   "cell_type": "code",
   "execution_count": 2,
   "metadata": {},
   "outputs": [],
   "source": [
    "m = cga.Model(pop_number = 5,\n",
    "              generations = 5,\n",
    "              nloci = 7)"
   ]
  },
  {
   "cell_type": "markdown",
   "metadata": {},
   "source": [
    "## load_shape\n",
    "\n",
    "<img src=\"code_diagram_main3_load-chem.png\" width=600 height=600 />\n",
    "\n",
    "The second set of arguments passed to the GA is done through `load_shape` and here the user chooses the assembled shape of interest. For this tutorial the shape is 'vesicle'.\n",
    "\n",
    "**shape_params**\n",
    "\n",
    "Regardless of the type of assembled shape (vesicles or other micelles), each shape requires the user to choose a set of shape descriptors that defines the basic morphology of the structure. In this example, we load in the `vesicle` shape, which requires the following 7 shape descriptors (specified as a list given in the following order with the `shape_params` argument):\n",
    "* Number of scatterers per chain (${num}_{scatterers}$)\n",
    "* Number of beads on chain ($N$)\n",
    "* Density or volume fraction of beads in B layer ($\\rho_B$)\n",
    "* Monomer contour length' ($l_{mono,b}$） [Angstrom]\n",
    "* Monomer cminontour length' ($l_{mono,a}$）[Angstrom]\n",
    "* Fraction of B type monomers in chain ($fb$)\n",
    "* Number of replicates ($n_{LP}$)\n",
    "\n",
    "For vesicles assembled from amphiphilic macromolecules with solvophilic A and solvophobic B blocks, two types of scatterers (A and B, respectively) are randomly placed within the designated vesicle layer boundaries (more details to be given later). The ratio of A and B scatterers matches the composition of the amphiphilic macromolecule ( 1−𝑓𝑏 ,  𝑓𝑏 ).  We note that the scatterers could be point scatterers or scatterers with a specified diameter, as is the case in this example (for reasons described in the reference [5]). Regardless of the choice, the total number of A and B scatterers is another choice that the user has to make to balance the accuracy of the output vesicle dimensions from GA and the computational time for the 𝐼𝑐𝑜𝑚𝑝(q) calculation (more details to be given later).\n",
    "\n",
    "NOTE: The determination of 𝐼𝑐𝑜𝑚𝑝(q) in the GA only uses the scatterer placements and these placements do NOT include any connectivity to resemble macromolecules.\n",
    "\n",
    "In this vesicle example, the user can enter the macromolecular information about the solution that was used to obtain the scattering profile to guide the choice of number of scatterers placed in the individual candidate structure. Here for this tutorial example, we use the molecular information for a diblock copolymer with the solvophilic block A and solvophobic block B forming the vesicle bilayer. The diblock chain has total number of  𝑁 monomer beads with  𝑓𝑏  fraction of the beads in the chain being solvophobic. The packing density of the solvophobic monomor beads in the middle layer is given by $\\rho_B$ and the diameters of the A an B beads (or \"monomer contour length\") are given by $l_{mono,a}$ and $l_{mono,b}$, respectively. The specific values used in this example are given below.\n",
    "\n",
    "For this vesicle system example, we calculate each individual's 𝐼𝑐𝑜𝑚𝑝(q) using seven different configurations (`nLP`) of random scatterer placements to generate the averaged 𝐼𝑐𝑜𝑚𝑝(q) for that individual. Having multiple configurations of scatterer placements mitigates the chance of any one configuration of scatterer placements within the vesicle dimension from biasing the computed scattering intensity. One could also choose to replace the use of multiple (`nLP=7` in this case) placements of fewer scatterers with just one placement using a significantly higher total number of scatterers per unit volume (i.e., scatterer density) which will lead to reduced biasing one may see upon using fewer scatterers (or smaller scatterer density). We choose to use multiple different configurations of random scatterer placements in this case to incorporate the ability to capture dispersity in dimensions (more details will be found later).\n",
    "\n",
    "For a more detailed discussion on the scatterer placement and density in the specific case of CREASE for vesicles, please see reference [5].\n",
    "\n",
    "**Setting bounds for GA parameters**\n",
    "\n",
    "The user also sets the maximum (`maxvalu`) and minimum (`minvalu`) bounds for each parameter (or genome) of the individual candidate structure. For the vesicle system example, the GA determines the following parameters:\n",
    "* Core radius ($R_{core}$), \n",
    "* Three individual layer thicknesses in the bilayer consisting of the inner solvophilic A layer ($t_{Ain}$), middle solvophobic B layer ($t_{B}$), and the outer solvophilic A layer ($t_{Aout}$), \n",
    "* Split of the solvophilic scatterers between inner ($s_{Ain}$) and outer layers,\n",
    "* Dispersity in the core radius dimension ($\\sigma_{R}$).\n",
    "* Background intensity as -log10($bg$)\n",
    "\n",
    "The structural parameters (core radius and the three layer thicknesses) in the `vesicle` shape, are in length units and coded in Angstrom, and `q` is given in $A^{-1}$.\n",
    "\n",
    "Just to reiterate, different shapes will have different sets of shape descriptors and parameters, so the aforementioned list of descriptors and their definitions only applies to the **`vesicle`** shape. It is important for the user to make sure that the shape descriptors and minimum/maximum bounds correspond to the expectation of the chosen shape.\n"
   ]
  },
  {
   "cell_type": "markdown",
   "metadata": {},
   "source": [
    "Obviously, to properly use a shape, a user will need to understand what each value in `shape_params` (the shape descriptors) corresponds to, and what each value specified in `minvalu` and `maxvalu` refer to (the dimension parameters GA is going to predict based on the input I(q) profile). These pieces of information, as explained in the previous cell, can also be retrieved by calling the docstring of the `scatterer_generator` class of each shape. For example, for shape _vesicle_,"
   ]
  },
  {
   "cell_type": "code",
   "execution_count": 3,
   "metadata": {},
   "outputs": [
    {
     "name": "stdout",
     "output_type": "stream",
     "text": [
      "\n",
      "    The wrapper class for vesicle shape. Default length unit: Angstrom.\n",
      "    \n",
      "    Shape-specific descriptors (shape_params):\n",
      "    ------------------------------------------\n",
      "    num_scatterers: \n",
      "        Number of scatterers per chain (num_scatterers). Default: 24\n",
      "    N: \n",
      "        Number of beads on chain. Default: 54\n",
      "    rho_B:\n",
      "        Density or volume freaction of beads in B layer. Default: 0.5\n",
      "    lmono_b:\n",
      "        Monomer contour length (diameter) of chemistry B. Default: 50.4 A\n",
      "    lmono_a:\n",
      "        Monomer contour length (diameter) of chemistry A. Default: 50.4 A\n",
      "    fb: \n",
      "        Fraction of monomers of chemistry B. fa = 1-fb. Default: 0.55\n",
      "    nLP:\n",
      "        Number of replicates for each individual. Default: 7\n",
      "\n",
      "    Input parameters to be predicted:\n",
      "    --------------------------------\n",
      "    R_core:\n",
      "        Core radius. Default [min,max]: [50 A, 400 A]\n",
      "    t_Ain:\n",
      "        Thickness of inner A layer. Default [min,max]: [30 A, 200 A]\n",
      "    t_B:\n",
      "        Thickness of B layer. Default [min,max]: [30 A, 200 A]\n",
      "    t_Aout:\n",
      "        Thickness of outer A layer. Default [min,max]: [30 A, 200 A]\n",
      "    sigma_Ain:\n",
      "        Split of solvophilic scatterers between inner and output layers. \n",
      "        Default [min,max]: [0.1, 0.45]\n",
      "    sigma_R:\n",
      "        Polydispersity n vesicle size as implemented in the core radius.\n",
      "        Default [min,max]: [0.0, 0.45]\n",
      "    log10(bg):\n",
      "        Negative log10 of Background intensity. \n",
      "        E.g. an background intensity of 0.001 leads to this value being 3.\n",
      "        Default [min,max]:  [0.1,4]\n",
      "    \n"
     ]
    }
   ],
   "source": [
    "import crease_ga.shapes.vesicle.scatterer_generator as sg\n",
    "print(sg.scatterer_generator.__doc__)"
   ]
  },
  {
   "cell_type": "code",
   "execution_count": 4,
   "metadata": {},
   "outputs": [],
   "source": [
    "m.load_shape(shape='vesicle', \n",
    "                 shape_params=[24,54,0.5,50.4,50.4,0.55,7], #num_scatterers,N,rho_B,lmono_b,lmono_a,fb,n_LP \n",
    "                 minvalu = (50, 30, 30, 30, 0.1, 0.0, 0.1), #lower bounds: R_core,t_Ain,t_B,t_Aout,s_Ain,sigma_R,bg \n",
    "                 maxvalu = (400, 200, 200, 200, 0.45, 0.45, 4)) # upper bounds: R_core,t_Ain,t_B,t_Aout,s_Ain,sigma_R,-log10(bg)"
   ]
  },
  {
   "cell_type": "markdown",
   "metadata": {},
   "source": [
    "The final preparation step we need to do before the model is prepared for the GA iteration is to specify the \\\"input\\\" $I_{exp}(q)$, i.e. the input I(q) profile we want to analyze to obtain relevant structural dimensions."
   ]
  },
  {
   "cell_type": "markdown",
   "metadata": {},
   "source": [
    "### load_iq\n",
    "\n",
    "<img src=\"code_diagram_main4_load-iq.png\" width=600 height=600 />\n",
    "\n",
    "Back to the main GA code after creating the initial population of individuals. Now let's read in the input \"experimental\" scattering intensity profile $I_{exp}(q)$, which in this example is stored in a text file that has the $q$ and $I(q)$ information. \n",
    "\n",
    "For the example here, our $I_{exp}(q)$ is an *in silico* $I(q)$ created from a target vesicle structure where all dimensions and dispersity in size are known and thus the GA can be tested on it to see how well the code performs in getting each parameter.\n",
    "\n",
    "After loading in the target $I_{exp}(q)$, the user can set the upper and lower bounds on the $q$-range over which the GA will determine the best candidate vesicle structure. \n",
    "\n",
    "Run the cell block below to see how loading the input $I_{exp}(q)$ is implemented in the code."
   ]
  },
  {
   "cell_type": "code",
   "execution_count": 5,
   "metadata": {},
   "outputs": [
    {
     "name": "stdout",
     "output_type": "stream",
     "text": [
      "    def load_iq(self,input_file_path,q_bounds=None):\n",
      "        loadvals = np.loadtxt(input_file_path)\n",
      "        self.qrange_load = loadvals[:,0]\n",
      "        IQin_load = loadvals[:,1]\n",
      "        self.IQin_load=np.true_divide(IQin_load,np.max(IQin_load))\n",
      "        #TODO: highQ and lowQ needs to be able to be dynamically set\n",
      "        if q_bounds == None:\n",
      "            self.qrange = self.qrange_load\n",
      "            self.IQin = self.IQin_load\n",
      "        else:\n",
      "            lowQ = q_bounds[0]\n",
      "            highQ = q_bounds[1]\n",
      "            self.IQin = self.IQin_load[ np.where(self.qrange_load>=lowQ)[0][0]:np.where(self.qrange_load>=highQ)[0][0] ]\n",
      "            self.qrange = self.qrange_load[ np.where(self.qrange_load>=lowQ)[0][0]:np.where(self.qrange_load>=highQ)[0][0] ]\n",
      "            \n",
      "\n",
      "        baseline = self.IQin[0]\n",
      "        self.IQin = np.true_divide(self.IQin,baseline)\n",
      "        self.IQin_load = np.true_divide(self.IQin_load,baseline)\n",
      "\n"
     ]
    }
   ],
   "source": [
    "print(getsource(cga.Model.load_iq))"
   ]
  },
  {
   "cell_type": "markdown",
   "metadata": {},
   "source": [
    "And now let's load the target $I_{exp}(q)$ for this tutorial and have a look at what we just loaded, the qs (`qrange`) and the I(q)s (`IQin`):"
   ]
  },
  {
   "cell_type": "code",
   "execution_count": 6,
   "metadata": {},
   "outputs": [
    {
     "data": {
      "text/plain": [
       "array([0.003     , 0.00499038, 0.00698077, 0.00897115, 0.01096154,\n",
       "       0.01295192, 0.01494231, 0.01693269, 0.01892308, 0.02091346,\n",
       "       0.02290385, 0.02489423, 0.02688462, 0.028875  , 0.03086538,\n",
       "       0.03285577, 0.03484615, 0.03683654, 0.03882692, 0.04081731,\n",
       "       0.04280769, 0.04479808, 0.04678846, 0.04877885, 0.05076923,\n",
       "       0.05275962, 0.05475   , 0.05674038, 0.05873077, 0.06072115,\n",
       "       0.06271154, 0.06470192, 0.06669231, 0.06868269, 0.07067308,\n",
       "       0.07266346, 0.07465385, 0.07664423, 0.07863462, 0.080625  ,\n",
       "       0.08261538, 0.08460577, 0.08659615, 0.08858654, 0.09057692,\n",
       "       0.09256731, 0.09455769, 0.09654808, 0.09853846, 0.10052885])"
      ]
     },
     "execution_count": 6,
     "metadata": {},
     "output_type": "execute_result"
    }
   ],
   "source": [
    "m.load_iq('../IEXP_DATA/Itot_disper_10_Ain12_B6_Aout12_nLP7_dR0.2.txt')\n",
    "m.qrange"
   ]
  },
  {
   "cell_type": "code",
   "execution_count": 7,
   "metadata": {},
   "outputs": [
    {
     "data": {
      "text/plain": [
       "array([1.0000000e+00, 6.2860837e-01, 2.9286080e-01, 8.7949510e-02,\n",
       "       1.2834420e-02, 9.2236500e-03, 2.0607380e-02, 2.2230630e-02,\n",
       "       1.5156950e-02, 7.5634500e-03, 3.5948300e-03, 2.7369700e-03,\n",
       "       3.0672500e-03, 3.3229100e-03, 3.1583600e-03, 2.7294400e-03,\n",
       "       2.3245000e-03, 2.1397100e-03, 2.1655100e-03, 2.2329100e-03,\n",
       "       2.2011700e-03, 2.0914600e-03, 2.0090300e-03, 1.9766300e-03,\n",
       "       1.9166600e-03, 1.7834700e-03, 1.6330700e-03, 1.5407800e-03,\n",
       "       1.5069200e-03, 1.4766600e-03, 1.4189700e-03, 1.3519000e-03,\n",
       "       1.3046900e-03, 1.2831100e-03, 1.2720800e-03, 1.2557800e-03,\n",
       "       1.2297400e-03, 1.2004100e-03, 1.1775700e-03, 1.1654200e-03,\n",
       "       1.1587200e-03, 1.1480600e-03, 1.1295100e-03, 1.1076500e-03,\n",
       "       1.0882500e-03, 1.0701900e-03, 1.0475400e-03, 1.0185700e-03,\n",
       "       9.8931000e-04, 9.6721000e-04])"
      ]
     },
     "execution_count": 7,
     "metadata": {},
     "output_type": "execute_result"
    }
   ],
   "source": [
    "m.IQin"
   ]
  },
  {
   "cell_type": "markdown",
   "metadata": {},
   "source": [
    "Sometimes, a user might only be interested in fitting to a portion of the q range. This can be done by setting the `q_bounds` argument of `load_iq` to `[lower_bound,higher_bound]`. For example:"
   ]
  },
  {
   "cell_type": "code",
   "execution_count": 8,
   "metadata": {},
   "outputs": [
    {
     "name": "stdout",
     "output_type": "stream",
     "text": [
      "qrange [0.00698077 0.00897115 0.01096154 0.01295192 0.01494231 0.01693269\n",
      " 0.01892308 0.02091346 0.02290385 0.02489423 0.02688462 0.028875\n",
      " 0.03086538 0.03285577 0.03484615 0.03683654 0.03882692 0.04081731\n",
      " 0.04280769 0.04479808 0.04678846 0.04877885 0.05076923 0.05275962\n",
      " 0.05475    0.05674038 0.05873077 0.06072115 0.06271154 0.06470192\n",
      " 0.06669231 0.06868269 0.07067308 0.07266346 0.07465385 0.07664423\n",
      " 0.07863462 0.080625   0.08261538 0.08460577 0.08659615 0.08858654\n",
      " 0.09057692 0.09256731 0.09455769 0.09654808 0.09853846]\n",
      "IQin [1.         0.30031165 0.0438243  0.031495   0.07036578 0.07590852\n",
      " 0.05175479 0.02582609 0.01227488 0.00934563 0.01047341 0.01134638\n",
      " 0.01078451 0.00931992 0.00793722 0.00730624 0.00739433 0.00762448\n",
      " 0.0075161  0.00714148 0.00686002 0.00674938 0.00654461 0.00608982\n",
      " 0.00557627 0.00526113 0.00514552 0.00504219 0.0048452  0.00461619\n",
      " 0.00445498 0.0043813  0.00434363 0.00428798 0.00419906 0.00409891\n",
      " 0.00402092 0.00397943 0.00395656 0.00392016 0.00385682 0.00378217\n",
      " 0.00371593 0.00365426 0.00357692 0.003478   0.00337809]\n"
     ]
    }
   ],
   "source": [
    "m.load_iq('../IEXP_DATA/Itot_disper_10_Ain12_B6_Aout12_nLP7_dR0.2.txt',q_bounds=[0.005,0.1])\n",
    "print('qrange',m.qrange)\n",
    "print('IQin',m.IQin)"
   ]
  },
  {
   "cell_type": "markdown",
   "metadata": {},
   "source": [
    "You can see that the first two and last one pairs of q and I(q) values have been excluded because they are out of the bounds that we have set."
   ]
  },
  {
   "cell_type": "markdown",
   "metadata": {},
   "source": [
    "## Adaptation parameters\n",
    "\n",
    "Another set of parameters we have not covered are the adaptation parameters. As the GA selects the individuals that gets to move on to the next generation, the selected individual can be modified through the crossover and mutation procedures. The selected individual undergoes crossover with probability $PC$ and mutation with probability $PM$, and the initial values of these two parameters are chosen below. The user also sets the upper and lower bounds for these two parameters ($PC_{max}$, $PC_{min}$, $PM_{max}$, $PM_{min}$). During the GA, $PC$ and $PM$ control the relative rate of exploration vs exploitation updated based on the reciprocal genetic diversity parameter, $GDM$, given by\n",
    "\n",
    "$$ GDM = \\frac{\\text{min error of population}}{\\text{average error of population}} $$\n",
    "\n",
    "which also has upper and lower bounds ($GDM_{max}$, $GDM_{min}$) set by the user. $GDM$ should be between 0 and 1. The form of the error will be described in more details in a later section. The adjustment factor $kGDM$ is also set by the user that is used to adjust the genetic diversity of the population.\n",
    "\n",
    "These values can depend on the shape and need to be tested if the user applies the GA to a new shape. For this tutorial, we are using the adaptation parameters that have been optimized for the vesicle example here. To learn more about the choosing these adaptation parameters, please read referefence [1].\n",
    "\n",
    "Run the cell block below to see the values of the adaptation parameters being used:"
   ]
  },
  {
   "cell_type": "code",
   "execution_count": 9,
   "metadata": {},
   "outputs": [
    {
     "name": "stdout",
     "output_type": "stream",
     "text": [
      "gdmmax 0.85\n",
      "gdmmin 0.005\n",
      "kgdm 1.1\n",
      "pc 0.6\n",
      "pcmax 1\n",
      "pcmin 0.5\n",
      "pm 0.001\n",
      "pmmax 0.25\n",
      "pmmin 0.006\n",
      "update <bound method adaptation_params.update of <crease_ga.adaptation_params.adaptation_params object at 0x7f0b97d16820>>\n"
     ]
    }
   ],
   "source": [
    "for d in dir(m.adaptation_params):\n",
    "    if not '__' in d:\n",
    "    \n",
    "        print(d,getattr(m.adaptation_params,d))"
   ]
  },
  {
   "cell_type": "markdown",
   "metadata": {},
   "source": [
    "## Solve\n",
    "\n",
    "<img src=\"code_diagram_main5_solve.png\" width=600 height=600 />\n",
    "\n",
    "Now having all of the user defined parameters and chosen shape for the structure, we can start running the GA. This is done by calling the `solve` instance method of the `Model` class. Let's see the source code by running the block below:"
   ]
  },
  {
   "cell_type": "code",
   "execution_count": 10,
   "metadata": {},
   "outputs": [
    {
     "name": "stdout",
     "output_type": "stream",
     "text": [
      "    def solve(self,verbose = True,backend = 'debye',fitness_metric = 'log_sse',output_dir='./'):\n",
      "        pop = utils.initial_pop(self.popnumber, self.nloci, self.numvars)\n",
      "        for gen in range(self.generations):    \n",
      "            if backend == 'debye':\n",
      "                pacc,gdm,elitei,IQid_str = self.fitness(pop,gen,output_dir,metric='log_sse')\n",
      "                IQid_str = np.array(IQid_str)\n",
      "            pop = self.genetic_operations(pop,pacc,elitei)\n",
      "            self.adaptation_params.update(gdm)\n",
      "            \n",
      "            if verbose:\n",
      "                figsize=(4,4)\n",
      "                fig, ax = plt.subplots(figsize=(figsize))\n",
      "                ax.plot(self.qrange_load,self.IQin_load,color='k',linestyle='-',ms=8,linewidth=1.3,marker='o')\n",
      "                ax.plot(self.qrange,IQid_str[elitei].transpose(),color='fuchsia',linestyle='-',ms=8,linewidth=2)#,marker='o')\n",
      "                plt.xlim(0.001,0.1)\n",
      "                plt.ylim(2*10**(-5),20)\n",
      "                plt.xlabel(r'q, $\\AA^{-1}$',fontsize=20)\n",
      "                plt.ylabel(r'$I$(q)',fontsize=20)\n",
      "                ax.set_xscale(\"log\")\n",
      "                ax.set_yscale(\"log\")\n",
      "                plt.show()\n",
      "\n"
     ]
    }
   ],
   "source": [
    "print(getsource(cga.Model.solve))"
   ]
  },
  {
   "cell_type": "markdown",
   "metadata": {},
   "source": [
    "### Initial_pop\n",
    "\n",
    "<img src=\"code_diagram_main6_initial-pop.png\" width=600 height=600 />\n",
    "\n",
    "The first thing `solve` does is to call the instance method `initial_pop` to create the first generation of individuals for the GA iteration. `Initial_pop` takes in the number of indiviuals in a population and generates individual candidate structures based on the bounds set for each of the GA parameters. It then outputs the population information (`pop`) back to the GA code.\n",
    "\n",
    "To see the source code of this function, run following block:"
   ]
  },
  {
   "cell_type": "code",
   "execution_count": 11,
   "metadata": {},
   "outputs": [
    {
     "name": "stdout",
     "output_type": "stream",
     "text": [
      "def initial_pop(popnumber, nloci, numvars):\n",
      "    '''\n",
      "    Generate a generation of (binary) chromosomes.\n",
      "    \n",
      "    Parameters\n",
      "    ----------\n",
      "    popnumber: int\n",
      "        Number of individuals in a population.\n",
      "    nloci: int\n",
      "        Number of binary bits to represent each parameter in a chromosome.\n",
      "    numvars: int\n",
      "        Number of parameters in a chromosome.\n",
      "        \n",
      "    Return\n",
      "    ------\n",
      "    pop: np.array of size (`popnumber`,`nloci`*`numvars`)\n",
      "        A numpy array of binary bits representing the entire generation, \n",
      "        with each row representing a chromosome.\n",
      "    '''\n",
      "    pop=np.zeros((popnumber,nloci*numvars))\n",
      "    for i in range(popnumber):\n",
      "        for j in range(nloci*numvars):\n",
      "            randbinary=np.random.randint(2)\n",
      "            pop[i,j]=randbinary\n",
      "    return pop\n",
      "\n"
     ]
    }
   ],
   "source": [
    "print(getsource(cga.utils.initial_pop))"
   ]
  },
  {
   "cell_type": "markdown",
   "metadata": {},
   "source": [
    "To read the docstring of this function, run following block:"
   ]
  },
  {
   "cell_type": "code",
   "execution_count": 12,
   "metadata": {},
   "outputs": [
    {
     "name": "stdout",
     "output_type": "stream",
     "text": [
      "\n",
      "    Generate a generation of (binary) chromosomes.\n",
      "    \n",
      "    Parameters\n",
      "    ----------\n",
      "    popnumber: int\n",
      "        Number of individuals in a population.\n",
      "    nloci: int\n",
      "        Number of binary bits to represent each parameter in a chromosome.\n",
      "    numvars: int\n",
      "        Number of parameters in a chromosome.\n",
      "        \n",
      "    Return\n",
      "    ------\n",
      "    pop: np.array of size (`popnumber`,`nloci`*`numvars`)\n",
      "        A numpy array of binary bits representing the entire generation, \n",
      "        with each row representing a chromosome.\n",
      "    \n"
     ]
    }
   ],
   "source": [
    "print(cga.utils.initial_pop.__doc__)"
   ]
  },
  {
   "cell_type": "markdown",
   "metadata": {},
   "source": [
    "Run the block below to see what a binary representation for an example of 5 individuals in the population looks like:"
   ]
  },
  {
   "cell_type": "code",
   "execution_count": 13,
   "metadata": {},
   "outputs": [
    {
     "name": "stdout",
     "output_type": "stream",
     "text": [
      "[[0. 0. 1. 1. 1. 1. 1. 1. 0. 1. 1. 0. 1. 0. 0. 0. 0. 1. 1. 1. 0. 0. 0. 0.\n",
      "  1. 0. 1. 0. 0. 1. 0. 1. 0. 1. 0. 0. 0. 1. 1. 0. 0. 1. 0. 0. 1. 1. 0. 0.\n",
      "  0.]\n",
      " [0. 1. 1. 0. 1. 0. 1. 1. 1. 1. 1. 0. 0. 0. 0. 1. 0. 1. 1. 1. 0. 1. 0. 1.\n",
      "  0. 1. 1. 1. 0. 0. 1. 0. 1. 1. 0. 0. 0. 1. 0. 0. 0. 0. 0. 0. 1. 1. 1. 0.\n",
      "  0.]\n",
      " [1. 1. 1. 1. 1. 0. 1. 0. 0. 1. 0. 1. 1. 1. 1. 1. 0. 1. 1. 1. 1. 0. 0. 1.\n",
      "  1. 0. 1. 1. 0. 0. 0. 0. 1. 0. 0. 0. 0. 1. 1. 0. 1. 1. 0. 0. 1. 0. 0. 1.\n",
      "  1.]\n",
      " [1. 0. 0. 1. 0. 0. 0. 1. 1. 1. 1. 1. 1. 1. 1. 0. 0. 0. 1. 0. 0. 0. 0. 0.\n",
      "  1. 1. 0. 0. 1. 0. 1. 0. 0. 0. 0. 0. 0. 0. 1. 1. 0. 0. 1. 0. 1. 0. 1. 1.\n",
      "  0.]\n",
      " [1. 0. 1. 1. 1. 0. 1. 0. 0. 0. 0. 1. 1. 0. 1. 1. 0. 1. 1. 1. 0. 0. 1. 0.\n",
      "  1. 1. 0. 1. 0. 1. 1. 0. 0. 0. 1. 0. 0. 1. 1. 1. 1. 1. 0. 1. 1. 1. 1. 0.\n",
      "  1.]]\n"
     ]
    }
   ],
   "source": [
    "pop = cga.utils.initial_pop(popnumber = 5, nloci = 7, numvars = 7)\n",
    "print(pop)"
   ]
  },
  {
   "cell_type": "markdown",
   "metadata": {},
   "source": [
    "Starting with the inital population of individuals (0-th generation) generated from `Initial_pop`, we need to determine the \"fitness\" for each individual, that is, how well does the individual's computed $I_{comp}$(q) matches the target \"experimental\" $I_{exp}$(q). To facilitate the fitness calculation in the GA code, we call the `fitness` function from the main GA code. The fitness calculation requires several input arguments from the main GA code that is passed in binary form, which it then \"decodes\" to get the values of all of the GA parameters for each of the individuals in the population. \n",
    "\n",
    "So before talking about the `fitness` in more details, first let's take a look at the `decode` function."
   ]
  },
  {
   "cell_type": "markdown",
   "metadata": {},
   "source": [
    "### decode\n",
    "\n",
    "<img src=\"code_diagram_main9_decode.png\" width=600 height=600 />\n",
    "\n",
    "Run the cell block below to see the source code of this function."
   ]
  },
  {
   "cell_type": "code",
   "execution_count": 14,
   "metadata": {},
   "outputs": [
    {
     "name": "stdout",
     "output_type": "stream",
     "text": [
      "def decode(pop, indiv, nloci, minvalu,maxvalu):\n",
      "    import numpy as np\n",
      "    minvalu = np.array(minvalu)\n",
      "    maxvalu = np.array(maxvalu)\n",
      "    deltavalu=maxvalu-minvalu\n",
      "    nvars=len(minvalu)\n",
      "    valdec=np.zeros(nvars)\n",
      "    param=np.zeros(nvars)\n",
      "    #   decodes from binary to values between max and min\n",
      "    for j in range(nvars): \n",
      "        n=nloci\n",
      "        for i in range(j*nloci,(j+1)*nloci):\n",
      "            n=n-1\n",
      "            valdec[j]+=pop[indiv,i]*(2**n)\n",
      "            \n",
      "        param[j]=minvalu[j]+np.true_divide((deltavalu[j])*(valdec[j]),2**nloci)\n",
      "    return param\n",
      "\n"
     ]
    }
   ],
   "source": [
    "print(getsource(cga.utils.decode))"
   ]
  },
  {
   "cell_type": "markdown",
   "metadata": {},
   "source": [
    "To see an example of the decoded parameter values for an individual generated using `initial_pop`, run the following cell block:"
   ]
  },
  {
   "cell_type": "code",
   "execution_count": 15,
   "metadata": {},
   "outputs": [
    {
     "name": "stdout",
     "output_type": "stream",
     "text": [
      "binary [1. 0. 0. 1. 1. 1. 0. 1. 0. 1. 1. 1. 0. 1. 1. 1. 0. 0. 1. 0. 0. 1. 0. 0.\n",
      " 0. 0. 1. 1. 0. 1. 0. 1. 1. 0. 1. 0. 0. 0. 1. 0. 1. 1. 1. 0. 0. 0. 0. 0.\n",
      " 1.]\n",
      "decimal [2.63281250e+02 1.53515625e+02 1.62812500e+02 1.18984375e+02\n",
      " 2.23046875e-01 3.86718750e-02 2.08046875e+00]\n"
     ]
    }
   ],
   "source": [
    "pop = cga.utils.initial_pop(popnumber = 5, nloci = 7, numvars = 7)\n",
    "print('binary',pop[0])\n",
    "print('decimal',cga.utils.decode(pop,0,\n",
    "                                 nloci=7,\n",
    "                                 minvalu=[50, 30, 30, 30, 0.1, 0.0, 0.1],\n",
    "                                 maxvalu=[400, 200, 200, 200, 0.45, 0.45, 4]))"
   ]
  },
  {
   "cell_type": "markdown",
   "metadata": {},
   "source": [
    "Now let's take a closer look at what happens in `fitness` and how fitness is calculated for each individual in the population.\n",
    "### fitness\n",
    "\n",
    "<img src=\"code_diagram_main7_fitness.png\" width=600 height=600 />\n",
    "\n",
    "First let's look at the source code:"
   ]
  },
  {
   "cell_type": "code",
   "execution_count": 16,
   "metadata": {},
   "outputs": [
    {
     "name": "stdout",
     "output_type": "stream",
     "text": [
      "    def fitness(self,pop,generation,output_dir,metric='log_sse'):\n",
      "        tic = time.time()\n",
      "        cs=10\n",
      "        F1= open(output_dir+'results_'+str(generation)+'.txt','w')\n",
      "        F1.write('#individual...all params...error\\n')\n",
      "        np.savetxt(output_dir+'population_'+str(generation)+'.txt',np.c_[pop])\n",
      "        \n",
      "        fitn=np.zeros(self.popnumber)\n",
      "        fitnfr=np.zeros(self.popnumber)\n",
      "        fit=np.zeros(self.popnumber)\n",
      "        qfin=self.qrange[-1]\n",
      "        IQid_str=[]\n",
      "        params=[]\n",
      "        for val in range(self.popnumber):\n",
      "            sys.stdout.write(\"\\rGen {:d}/{:d}, individual {:d}/{:d}\\n\".format(generation+1,self.generations,val+1,self.popnumber))\n",
      "            sys.stdout.flush()\n",
      "            param=utils.decode(pop, val, self.nloci, self.minvalu, self.maxvalu) # gets the current structure variables\n",
      "            params.append(param)\n",
      "\n",
      "            ### calculate computed Icomp(q) ###\n",
      "            IQid=self.scatterer_generator.converttoIQ(self.qrange, param)\n",
      "\n",
      "            err=0\n",
      "            for qi,qval in enumerate(self.qrange):\n",
      "                if (IQid[qi]>0)&(self.IQin[qi]>0):\n",
      "                    if (qi<qfin):\n",
      "                        wil=np.log(np.true_divide(self.qrange[qi+1],self.qrange[qi]))  # weighting factor\n",
      "                    else:\n",
      "                        wil=np.log(np.true_divide(self.qrange[qi],self.qrange[qi-1]))  # weighting factor\n",
      "                    if metric == 'log_sse':\n",
      "                        err+=wil*(np.log(np.true_divide(self.IQin[qi],IQid[qi])))**2  # squared log error \n",
      "            fit[val]=err\n",
      "            IQid_str.append(IQid)\n",
      "\n",
      "            \n",
      "\n",
      "            F1.write(str(val)+' ')\n",
      "            for p in param:\n",
      "                F1.write(str(p)+' ')\n",
      "            F1.write(str(err)+'\\n')\n",
      "            F1.flush()\n",
      "\n",
      "        params = np.array(params)\n",
      "        maxerr=np.max(fit)           #determines maximum SSerror for the population\n",
      "        fitn=fit-maxerr #determines error differences\n",
      "        #maxfit=np.max(fitn)\n",
      "        sumup=np.sum(fitn)\n",
      "\n",
      "        avgfit=np.true_divide(sumup,self.popnumber)\n",
      "        dval=-avgfit\n",
      "        ascale=np.true_divide(avgfit,dval)*(cs-1.0)     #linear scaling with cs as a scaleFactor\n",
      "        bscale=avgfit*(1.0-ascale)\n",
      "\n",
      "        sumup=0\n",
      "\n",
      "        # get scaled fitness to enable selection of bad candidates\n",
      "        for val in range(self.popnumber):\n",
      "            if (fitn[val]>avgfit):\n",
      "                fitnfr[val]=ascale*fitn[val]+bscale\n",
      "            else:\n",
      "                fitnfr[val]=fitn[val]\n",
      "\n",
      "        sumup=np.sum(fitnfr)\n",
      "\n",
      "        pacc=np.zeros(self.popnumber)\n",
      "        prob=np.true_divide(fitnfr,sumup)\n",
      "        pacc=np.cumsum(prob)\n",
      "\n",
      "        ### returns cummulative relative error from which individuals can be selected ###\n",
      "        maxfit=np.min(fit)\n",
      "        elitei=np.where(fit==maxfit)[0]                  # Best candidate \n",
      "        secondfit=sorted(fit)[1]\n",
      "        secondi = np.where(fit==secondfit)[0]            # Second best candidate\n",
      "        avgfit=np.average(fit)\n",
      "        avgi=np.array([(np.abs(fit-avgfit)).argmin()])   # Average candidate\n",
      "        minfit=np.max(fit)\n",
      "        mini=np.where(fit==minfit)[0]                    # Worst candidate\n",
      "        if avgfit==0:\n",
      "            avgfit=1\n",
      "        gdm=np.true_divide(maxfit,avgfit)\n",
      "        if len(elitei)>1:\n",
      "            elitei=elitei[0]\n",
      "        if len(secondi)>1:\n",
      "            secondi=secondi[0]\n",
      "        if len(avgi)>1:\n",
      "            avgi=avgi[0]\n",
      "        if len(mini)>1:\n",
      "            mini=mini[0]\n",
      "        \n",
      "        f = open(output_dir+'fitness_vs_gen.txt', 'a' )\n",
      "        if generation == 0:\n",
      "            f.write( 'gen mini min avgi avg secondi second besti best\\n' )\n",
      "        f.write( '%d ' %(generation) )\n",
      "        f.write( '%d %.8lf ' %(mini,minfit) )\n",
      "        f.write( '%d %.8lf ' %(avgi,avgfit) )\n",
      "        f.write( '%d %.8lf ' %(secondi,secondfit) )\n",
      "        f.write( '%d %.8lf ' %(elitei,maxfit) )\n",
      "        f.write( '\\n' )\n",
      "        f.close()\n",
      "        print('Generation time: {:.3f}s'.format(time.time()-tic))\n",
      "        print('Generation best fitness: {:.4f}'.format(maxfit))\n",
      "        print('Generation gdm: {:.3f}'.format(gdm))\n",
      "        print('Generation best parameters '+str(params[elitei]))\n",
      "        \n",
      "        return pacc, gdm, elitei, IQid_str\n",
      "\n"
     ]
    }
   ],
   "source": [
    "print(getsource(cga.Model.fitness))"
   ]
  },
  {
   "cell_type": "markdown",
   "metadata": {},
   "source": [
    "\n",
    "\n",
    "\n",
    "\n",
    "The core of the `fitness` function is given by the following set of equations\n",
    "\n",
    "$$ fitness = X(sse_{max}-see)+Y $$\n",
    "\n",
    "$$ sse = \\sum w\\left[log\\left(\\frac{I_{exp}(q)}{I_{comp}(q)}\\right)\\right]^2 $$\n",
    "\n",
    "$$ X = (cs-1)\\frac{max(sse_{max}-sse)}{max(sse_{max}-sse)-average(sse_{max}-sse)} $$\n",
    "\n",
    "$$ Y = (1-X)average(sse_{max}-sse) $$\n",
    "\n",
    "where $I_{exp}$(q) is the input scattering intensity profile read in from the main GA code, $I_{comp}$(q) is the computed scattering intensity profile for the individual (to be discussed in more details later on), $sse$ is the sum of squared errors between $I_{comp}$(q) and $I_{exp}$(q) and $X$ and $Y$ serve to prevent low fitness solutions from being prematurely eliminated in the population.\n",
    "\n",
    "In this example, we choose the form of the error function, `sse`, as the sum of the log difference of squared errors where the weighting factor, $w$, accounts for the log-scale spacing of the q values. For more details on the choice of this form for the error function for the systems explored with CREASE, see references [1-5].\n",
    "\n",
    "We also note that user may choose to use a different form of sse as long as the choice of error function ensures appropriate error weighting in the range of q explored. For studies where the target $I_{exp}$(q) comes from experimental scattering with an associated uncertainty at each q, a commonly used formulation is $\\chi^{2}$ to account for the errors during fitting optimization. For example, SASVIEW uses $\\chi^{2}$ to quantify the goodness of fit by taking the direct difference squared between the computed and target dataset over the fitted q range weighted by the squared error at each q. If the error associated with each q is known, $\\chi^{2}$ can similarly be implemented into the fitness function in CREASE to account for uncertainty in I(q) at each q. We plan to incorporate $\\chi^{2}$ as another option for fitness metric in a future release coming soon.\n",
    "\n",
    "SASVIEW implementation of $\\chi_{2}$: https://www.sasview.org/docs/user/qtgui/Perspectives/Fitting/residuals_help.html\n",
    "\n",
    "## converttoIQ\n",
    "\n",
    "<img src=\"code_diagram_main10_convert.png\" width=600 height=600 />\n",
    "\n",
    "In order to perform the fitness calculation, the key piece of information needed is the computed scattering intensity, $I_{comp}$(q), which `fitness` function gets from the `converttoIQ` function. The `converttoIQ` function is what ties the different shapes to the GA code during implementation. Each shape will have its own `converttoIQ` that takes as input a list of q values (`qrange`) and a list of shape-specific parameters (the \"gene\"), and outputs a list of $I_{comp}$(q) value corresponding to the input `qrange`. So let's now take a look at how the `vesicle` shape determines the the computed scattering intensity, $I_{comp}$(q), from the input parameters."
   ]
  },
  {
   "cell_type": "markdown",
   "metadata": {},
   "source": [
    "### converttoIQ for vesicle\n",
    "\n",
    "<img src=\"code_diagram_sub1_all.png\" width=600 height=600 />\n",
    "\n",
    "**Equations to get computed scattering intensity**\n",
    "\n",
    "The `converttoIQ` function calculates the computed scattering intensity $I_{comp}$(q) from the intra-vesicle structure factor $\\omega$(q) (see `LPOmega`) using the following set of equations from scatterers placed within the boundaries of the candidate individual structure:\n",
    "\n",
    "$$ I_{comp}(q) = F_{M}^2(q)S_{MM}(q) + I_{background} $$\n",
    "\n",
    "$F^2_{M}(q)$ is the form factor given by\n",
    "$$ F^2_{M}(q) = \\sum_{\\alpha\\in{A,B}} \\sum_{\\beta\\in{A,B}} b_{\\alpha}b_{\\beta}F_{GA, \\alpha}(q)F_{GA, \\beta}(q)\\omega(q) $$\n",
    "\n",
    "where $b_{A}$ and $b_{B}$ are the scattering length densities for A and B scatterers, $F_{GA, \\alpha}(q)$ and $F_{GA, \\beta}$ are the spherical form factors for A and B scatterers (see `LPFbead`), $\\omega(q)$ is the intra-vesicle structure factor (see `LPOmega`) and $S_{MM}(q) = 1$ is the vesicle-vesicle structure factor for dilute solutions. For concentration solutions where the structure factor will not be equal 1, we can combine the approach described along with the structure factor CREASE code (work in Reference [4]); we will be adding this capability into this package in the near future.\n",
    "\n",
    "\n",
    "**Scatterer placements**\n",
    "\n",
    "As mentioned in an above section, the essential information for the calculation of $I_{comp}$(q) is the scatterer placements and the user can directly choose the total number of scatterers ($n_{tot}$) to be placed in the vesicle to control the scatterer density. For an assembled structure formed from molecules with two (or more) chemistries, the user also inputs the relative compositions for the chemical groups as $f_{a}$ and $f_{b}$ ($f_{c}$, etc.). The choice of the scatterer density appropriate to the assembled structure studied is chosen by the user. One way to obtain an estimate of $n_{tot}$, as shown in this tutorial example for vesicles, is through the molecular information of the molecule that make up the assembled structure.\n",
    "\n",
    "In this vesicle system example, let us determine the number of scatterers for placing within each layer in the vesicle wall:\n",
    "\n",
    "1. Get the core radius ($R_{core}$) as the averaged core radius ($R_{core, 0}$) plus the variation in core radius for each replicate ($\\sigma_{R}$).\n",
    "$$ R_{core} = R_{core, 0} + \\sigma_{R} $$\n",
    "\n",
    "2. Calculate the volume of the solvophobic B layer for the individual:\n",
    "$$ V_{B} = \\frac{4}{3}\\pi \\left[ (R_{core}+t_{Ain}+t_{B})^3 - (R_{core}+t_{Ain})^3 \\right] $$\n",
    "\n",
    "3. Get the number of chains/molecules in the structure:\n",
    "$$ N_{chain} = \\frac{\\rho_{B}V_{B}}{Nf_{B}M_{B}} $$\n",
    "\n",
    "4. The number of A ($n_{A}$) and B ($n_{B}$) scatterers are determined using the composition ($f_{A}$, $f_{B}$) of the respective block in the chain/molecule are given by\n",
    "$$ n_{A} = N_{chain}n_{sct}f_{A} = N_{chain}n_{sct}(1-f_{B}) $$\n",
    "$$ n_{B} = N_{chain}n_{sct}f_{B} $$\n",
    "where $n_{sct}$ is the number of scatterers per chain/molecule selected by the user.\n",
    "\n",
    "5. The number A scatterers the inner ($n_{Ain}$) and outer ($n_{Aout}$) solvophilic layers are given by\n",
    "$$ n_{Ain} = n_{A}s_{Ain} $$\n",
    "$$ n_{Aout} = n_{A}(1-s_{Ain}) $$\n",
    "where $s_{Ain}$ is a parameter in the GA that gives the fraction of chains/molecules in the inner solvophilic layer. \n",
    "\n",
    "**The $s_{Ain}$ parameter, which is determined by the GA, is a feature of the vesicle assembly that cannot be readily determined through traditional fittings of scattering profiles with core-multi-shell model, which is found in SASVIEW package [ https://www.sasview.org/docs/user/models/core_multi_shell.html ]. The addition and determination of $s_{Ain}$ in CREASE for vesicles offers molecular insight to the distribution of solvophilic monomers between the inner and outer layers in the vesicle wall**. For more details on the `vesicle` shape scatterer generation and parameter determination, please read reference [5].\n",
    "\n",
    "Now using the set of information for the vesicle dimensions and the number of scatterers that goes into each layer in the vesicle wall, we can generate the scatterer positions for the vesicle shape by calling the `genLP` and `gen_layer` functions."
   ]
  },
  {
   "cell_type": "markdown",
   "metadata": {},
   "source": [
    "### genLP and gen_layer\n",
    "\n",
    "<img src=\"code_diagram_sub2_gen.png\" width=600 height=600 />\n",
    "\n",
    "In this example, we get the coordinates for all scatterers in the vesicle with three layers in the wall. \n",
    "\n",
    "For the vesicle system example presented here, the `gen_layer` function defined in `gen_layer` places $n_{size}$ number of random point scatterers within a spherical shell defined by the inner ($r_{in}$) and outer ($r_{out}$) radii, where $n_{size}$ is the corresponding number of A or B type scatterers determined in `converttoIQ` for the given shell or layer.\n",
    "\n",
    "`gen_LP` then calls the `gen_layer` function for each individual layers in the vesicle (in this example, the two solvophilic A and one solvophobic B layers that make up the vesicle membrane) and gathers the scatterer coordinates for the complete vesicle to be passed back to `converttoIQ` for use in calculating the intra-vesicle structure factor $\\omega(q)$."
   ]
  },
  {
   "cell_type": "code",
   "execution_count": 17,
   "metadata": {},
   "outputs": [
    {
     "name": "stdout",
     "output_type": "stream",
     "text": [
      "def gen_layer(rin, rout, nsize):\n",
      "        R = 1.0\n",
      "\n",
      "        phi = np.random.uniform(0, 2*np.pi, size=(nsize))\n",
      "        costheta = np.random.uniform(-1, 1, size=(nsize))\n",
      "        u = np.random.uniform(rin**3, rout**3, size=(nsize))\n",
      "\n",
      "        theta = np.arccos( costheta )\n",
      "        r = R * np.cbrt( u )\n",
      "\n",
      "        x = r * np.sin( theta ) * np.cos( phi )\n",
      "        y = r * np.sin( theta ) * np.sin( phi )\n",
      "        z = r * np.cos( theta )\n",
      "\n",
      "        return( x, y, z )\n",
      "\n",
      "def genLP(Rcore, dR_Ain, dR_B, dR_Aout, sigmabead, nAin, nAout, nB):  \n",
      "        # core radius, inner A layer thickness, B layer thickness, outer A layer thickness, \n",
      "        # bead diameter, # of inner A beads, # of outer A beads, # of B beads\n",
      "\n",
      "        ntot = nAin+nB+nAout\n",
      "        power = 2\n",
      "        r = np.zeros((1, 3, ntot))\n",
      "        types = np.zeros((ntot))\n",
      "\n",
      "        ### Create configuration for each replicate with dispersity ###\n",
      "        for step in range(0, 1):\n",
      "            ### Populate A inner Layer ###\n",
      "            x, y, z = gen_layer(Rcore, Rcore+dR_Ain, nAin)\n",
      "            for i in range(nAin):\n",
      "                r[0,:,i] = [x[i], y[i], z[i]]\n",
      "                types[i] = 1\n",
      "\n",
      "            ### Populate B middle Layer ###\n",
      "            x, y, z = gen_layer(Rcore+dR_Ain, Rcore+dR_Ain+dR_B, nB)\n",
      "            for i in range(nB):\n",
      "                r[0,:,i+nAin] = [x[i], y[i], z[i]]\n",
      "                types[i+nAin] = 2\n",
      "\n",
      "            ### Populate A outer Layer ###\n",
      "            x, y, z = gen_layer(Rcore+dR_Ain+dR_B, Rcore+dR_Ain+dR_B+dR_Aout, nAout)\n",
      "            for i in range(nAout):\n",
      "                r[0,:,i+nAin+nB] = [x[i], y[i], z[i]]\n",
      "                types[i+nAin+nB] = 1            \n",
      "        return r\n",
      "\n"
     ]
    }
   ],
   "source": [
    "import crease_ga.shapes.vesicle.scatterer_generator as sg\n",
    "print(getsource(sg.gen_layer))\n",
    "print(getsource(sg.genLP))"
   ]
  },
  {
   "cell_type": "markdown",
   "metadata": {},
   "source": [
    "### converttoIQ for vesicle\n",
    "\n",
    "**Back to getting the computed $I_{comp}$(q)**\n",
    "\n",
    "Now that we have the scatterer positions from the `gen_LP` function, `converttoIQ` can call the `LPOmega` function and pass the scatterer coordinates to it to get the intra-vesicle structure factor, $\\omega(q)$. Recall the set of equations to get $I_{comp}$(q):\n",
    "\n",
    "$$ I_{comp}(q) = F_{M}^2(q)S_{MM}(q) + I_{background} $$\n",
    "\n",
    "$F^2_{M}(q)$ is the form factor given by\n",
    "$$ F^2_{M}(q) = \\sum_{\\alpha\\in{A,B}} \\sum_{\\beta\\in{A,B}} b_{\\alpha}b_{\\beta}F_{GA, \\alpha}(q)F_{GA, \\beta}(q)\\omega(q) $$\n",
    "\n",
    "So let us take a look at how $\\omega(q)$ is calculated in `LPOmega` and how the spherical form factors $F_{GA, \\alpha}(q)$ and $F_{GA, \\beta}$ for A and B scatterers are calculated in `LPFbead` (note that in this example, A and B scatterers are spheres with the same finite size and so we only need to calculate one spherical form factor as $F_{GA, \\alpha}(q)$ = $F_{GA, \\beta}$)."
   ]
  },
  {
   "cell_type": "markdown",
   "metadata": {},
   "source": [
    "### LPOmega\n",
    "\n",
    "<img src=\"code_diagram_sub3_omega.png\" width=600 height=600 />\n",
    "\n",
    "Here we calculate the intra-vesicle structure factor as\n",
    "$$ \\omega(q) = \\left< \\frac{1}{N_{A}+N_{B}} \\sum^{N_{A}+N_{B}}_{i=1} \\sum^{N_{A}+N_{B}}_{j=1} \\frac{\\sin{qr_{ij}}}{qr_{ij}} \\right> $$\n",
    "\n",
    "where $N_{A}$ and $N_{B}$ are the number of scatterers in the two solvophilic A and one solvophobic B layers, respectively, and $r_{ij}$ is the distance between the pair of scatterers $i$ and $j$ in the vesicle assembly determined from the previous step in `genLP`.\n",
    "\n",
    "**NOTE: The above is a computationally intensive calculation as it scales with the number of scatterers.**\n",
    "\n",
    "There are alternative faster options for directly obtaining $I_{comp}(q)$ for a given set of structural dimensions include using machine learning methods. We direct you to reference [3] where one such alternative option using artificial neural networks was developed.\n",
    "\n",
    "To see the sourcecode for this function, run the cell block below:"
   ]
  },
  {
   "cell_type": "code",
   "execution_count": 18,
   "metadata": {},
   "outputs": [
    {
     "name": "stdout",
     "output_type": "stream",
     "text": [
      "def LPOmega(qrange, nAin, nAout, nB, r):                # qvalues number_of_B number_of_A scatterer_coordinates\n",
      "    Ntot=nAin+nB+nAout                                  # Total number of scatterers to loop through\n",
      "    omegaarrt=np.zeros((1,len(qrange)))                 # initiating array\n",
      "    \n",
      "    omegaarr=np.zeros((1,len(qrange)))              # initiating array\n",
      "    rur=r[0,:,:]                                 # selects      \n",
      "    for i in range(Ntot-1):                         # loops through index and all further indexes to prevent double counting \n",
      "        x = np.square(rur[0,i]-rur[0,(i+1):])\n",
      "        y = np.square(rur[1,i]-rur[1,(i+1):])\n",
      "        z = np.square(rur[2,i]-rur[2,(i+1):])\n",
      "        rij = np.sqrt(np.sum([x,y,z],axis=0))       # calculates the distances\n",
      "        rs = rij[:,np.newaxis]                      # reshapes array for consistency\n",
      "        Q = qrange[np.newaxis,:]                    # reshapes array for consistency\n",
      "        vals = ne.evaluate(\"sin(Q*rs)/(Q*rs)\")      # ne is efficient at calculations\n",
      "        inds=np.argwhere(np.isnan(vals))            # error catching in case there are NaN values\n",
      "        if len(inds)>0:\n",
      "            for val in inds:\n",
      "                vals[val[0],val[1]]=1\n",
      "        inds_double_check=np.argwhere(np.isnan(vals))\n",
      "        if len(inds_double_check)>0:\n",
      "            print('nan error!')\n",
      "        vals = ne.evaluate(\"sum((vals), axis=0)\")   # adds together scatterer contributions for each q value\n",
      "        omegaarr+=vals\n",
      "    omegaarr=np.true_divide(2*omegaarr,Ntot)+1      # 1 accounts for the guarenteed overlap of same bead  # 2* accounts for double counting avoided to reduce computational expense by looping for all other pairs\n",
      "    omegaarrt+=omegaarr                             # stores values between loops\n",
      "\n",
      "    return omegaarrt\n",
      "\n"
     ]
    }
   ],
   "source": [
    "print(getsource(sg.LPOmega))"
   ]
  },
  {
   "cell_type": "markdown",
   "metadata": {},
   "source": [
    "### LPFbead\n",
    "\n",
    "<img src=\"code_diagram_sub4_bead.png\" width=600 height=600 />\n",
    "\n",
    "The **spherical form factor amplitude** is calculated as\n",
    "\n",
    "$$ F_{GA, \\alpha}(q) = 3 \\frac{ \\sin(q0.5\\sigma_{GA, \\alpha}) - q0.5\\sigma_{GA, \\alpha}\\cos(q0.5\\sigma_{GA, \\alpha}) }{(q0.5\\sigma_{GA, \\alpha})^3} $$\n",
    "\n",
    "where $\\alpha$ indicates A or B scatterer and $\\sigma_{GA, \\alpha}$ is the scatterer diameter.\n",
    "\n",
    "To see the sourcecode for this function, run the following cell block:"
   ]
  },
  {
   "cell_type": "code",
   "execution_count": 19,
   "metadata": {},
   "outputs": [
    {
     "name": "stdout",
     "output_type": "stream",
     "text": [
      "def LPFbead(qrange, sigmabead):\n",
      "    '''\n",
      "    Compute the spherical form factor given a range of q values.\n",
      "    \n",
      "    Parameters:\n",
      "    ----------\n",
      "    qrange: numpy.array\n",
      "        array of values in q-space to compute form factor for.\n",
      "    sigmabead: float\n",
      "        diameter of the sphere.\n",
      "    \n",
      "    Return:\n",
      "    ----------\n",
      "    Fqb: numpy.array\n",
      "        array of values of the spherical form factors (F(q)) computed at q-points listed in qrange.\n",
      "    '''\n",
      "    \n",
      "    R=np.true_divide(sigmabead,2)\n",
      "    QR=np.multiply(qrange,R)\n",
      "    Fqb=np.multiply(np.true_divide(np.sin(QR)-np.multiply(QR,np.cos(QR)),np.power(QR,3)),3)  \n",
      "\n",
      "    return Fqb\n",
      "\n"
     ]
    }
   ],
   "source": [
    "print(getsource(sg.LPFbead))"
   ]
  },
  {
   "cell_type": "markdown",
   "metadata": {},
   "source": [
    "### converttoIQ for vesicles\n",
    "\n",
    "<img src=\"code_diagram_main10_convert.png\" width=600 height=600 />\n",
    "\n",
    "**Back again to getting the computed scattering intensity $I_{comp}$(q)**\n",
    "\n",
    "Now that we have both $\\omega(q)$ and $F_{GA, \\alpha}(q)$ from the `LPOmega` and `LPFbead` functions, all that is left to do is to put together all of the pieces together to get $I_{comp}$(q) as:\n",
    "\n",
    "$$ I_{comp}(q) = F_{M}^2(q)S_{MM}(q) + I_{background} $$\n",
    "\n",
    "$F^2_{M}(q)$ is the form factor given by\n",
    "$$ F^2_{M}(q) = \\sum_{\\alpha\\in{A,B}} \\sum_{\\beta\\in{A,B}} b_{\\alpha}b_{\\beta}F_{GA, \\alpha}(q)F_{GA, \\beta}(q)\\omega(q) $$\n",
    "\n",
    "and `converttoIQ` will output the computed scattering intensity $I_{comp}$(q) as `IQid` in the code.\n",
    "\n",
    "Run the cell block below to see the sourcecode for this function:"
   ]
  },
  {
   "cell_type": "code",
   "execution_count": 20,
   "metadata": {},
   "outputs": [
    {
     "name": "stdout",
     "output_type": "stream",
     "text": [
      "    def converttoIQ(self, qrange, param):\n",
      "        '''\n",
      "        Calculate computed scattering intensity profile.\n",
      "\n",
      "        Parameters\n",
      "        ----------\n",
      "        qrange: int\n",
      "            q values.\n",
      "        param: int\n",
      "            Decoded parameters.\n",
      "\n",
      "        Return\n",
      "        ------\n",
      "        IQid: A numpy array holding I(q).\n",
      "        '''\n",
      "        # q values, decoded parameters, \n",
      "        # number of repeat units per chain, fraction of B beads per chain, core density, \n",
      "        # scatterer diameter, molar mass of B chemistry, \n",
      "        # length of A chemistry bond, length of B chemistry bond, \n",
      "        # number of scatterers per chain, # of replicates, stdev in Rcore size\n",
      "        sigmabead = self.sigmabead\n",
      "        N = self.N\n",
      "        fb = self.fb\n",
      "        rho_B = self.rho_B\n",
      "        MB = self.MB\n",
      "        lmono_a = self.lmono_a\n",
      "        lmono_b = self.lmono_b\n",
      "        num_scatterers = self.num_scatterers\n",
      "        nLP = self.nLP\n",
      "        \n",
      "        IQid=np.zeros((len(qrange)))      #initiates array for output IQ\n",
      "\n",
      "        ### Parameters used to generate scatterer placements ###\n",
      "        Rcore=param[0]\n",
      "        dR_Ain=param[1]\n",
      "        dR_B=param[2]\n",
      "        dR_Aout=param[3]\n",
      "        sAin=param[4]     # split of type A scatterer \n",
      "        sigmaR=param[5]   # variation in Rcore, dispersity\n",
      "        #print(Rcore, dR_Ain, dR_B, dR_Aout, sAin)\n",
      "        Background=10**(-param[6]) \n",
      "\n",
      "        varR = Rcore*sigmaR # variation in Rcore\n",
      "        disper = np.array([-2.0, -1.5, -1.0, -0.5, 0.0, 0.5, 1.0, 1.5, 2.0]) # fixed intervals of sigma\n",
      "        sum_omegaarr=np.zeros((1,len(qrange)))\n",
      "\n",
      "        for step in range(0, nLP):\n",
      "            Rcore = param[0] + varR*disper[step + int((9-nLP)/2.)]          ## add displacement to Rcore\n",
      "    #         print(\"disper = \", disper[step + int((9-nLP)/2.)])\n",
      "    #         print(\"Rcore = \", Rcore)\n",
      "            vol_B = (4/3.0)*np.pi*(np.power(Rcore + dR_Ain + dR_B, 3) \n",
      "                                   - np.power(Rcore + dR_Ain, 3)) ## volume of solvophobic layer B\n",
      "            nagg = int(np.true_divide( rho_B*vol_B, N*fb*MB ))    ## number of chains in vesicle\n",
      "            ntot = nagg*num_scatterers                            ## total number of scatterers\n",
      "            nB = int(ntot*fb)                                     ## number of scatterers in B\n",
      "            nAin = int(ntot*(1-fb)*sAin)                          ## number of scatterers in A_in\n",
      "            nAout = int(ntot*(1-fb)*(1-sAin))                     ## number of scatterers in A_out\n",
      "\n",
      "            for reps in range(0, 3):\n",
      "                ### Generates scatterer positions in structure ###\n",
      "                r = genLP(Rcore, dR_Ain, dR_B, dR_Aout, sigmabead, nAin, nAout, nB)\n",
      "\n",
      "                ### Calculates omega from scatterers in shape ###\n",
      "                sum_omegaarr += LPOmega(qrange, nAin, nAout, nB, r)\n",
      "\n",
      "        omegaarr=np.true_divide(sum_omegaarr,nLP*3)        # average omega\n",
      "        omegaarr=omegaarr.reshape(len(qrange),)\n",
      "        Fqb=LPFbead(qrange,sigmabead)                      # calcualtes sphere shape factor\n",
      "        F2qb=np.multiply(Fqb,Fqb)                          # Sphere shape factor square\n",
      "        sqmm=np.ones((np.shape(Fqb)))                      # assuming dilute mixture the micelle-micelle structure factor = 1\n",
      "        F2qb_sqmm=np.multiply(F2qb,sqmm)                   # determines the micelle form factor\n",
      "        IQid=np.multiply(omegaarr,F2qb_sqmm)               # calculates Icomp\n",
      "        maxIQ=np.max(IQid)                                  \n",
      "        IQid=np.true_divide(IQid,maxIQ)                    # normalizes the I(q) to have its maximum = 1\n",
      "        IQid+=Background                                   # add background\n",
      "        return IQid\n",
      "\n"
     ]
    }
   ],
   "source": [
    "print(getsource(sg.scatterer_generator.converttoIQ))"
   ]
  },
  {
   "cell_type": "markdown",
   "metadata": {},
   "source": [
    "### fitness\n",
    "\n",
    "<img src=\"code_diagram_main7_fitness.png\" width=600 height=600 />\n",
    "\n",
    "Having gone through getting the computed scattering intensity, we are finally back to the `fitness` function, which if the user recalls is given by the following set of equations\n",
    "\n",
    "$$ fitness = X(sse_{max}-see)+Y $$\n",
    "\n",
    "$$ sse = \\sum w\\left[log\\left(\\frac{I_{exp}(q)}{I_{comp}(q)}\\right)\\right]^2 $$\n",
    "\n",
    "$$ X = (cs-1)\\frac{max(sse_{max}-sse)}{max(sse_{max}-sse)-average(sse_{max}-sse)} $$\n",
    "\n",
    "$$ Y = (1-X)average(sse_{max}-sse) $$\n",
    "\n",
    "where we get the $I_{exp}$(q) from reading in the input scattering data file and $I_{comp}$(q) from the `converttoIQ` function, and in this example we choose the scaling constant $cs$ to be 10.\n",
    "\n",
    "Thus the `fitness` function will calculate the fitness value for each of the individuals. Also within the `fitness` function, we calculate the selection probability for each individual, $P_{select}$, that is proportional to its fitness value.\n",
    "We then store the selection information (`pacc`) for all of the individuals in the population and pass it back to the main GA code where individuals will be selected to move on to the next generation.\n",
    "\n",
    "To see the sourcecode of this function, run the following cell block:"
   ]
  },
  {
   "cell_type": "code",
   "execution_count": 21,
   "metadata": {
    "scrolled": true
   },
   "outputs": [
    {
     "name": "stdout",
     "output_type": "stream",
     "text": [
      "    def fitness(self,pop,generation,output_dir,metric='log_sse'):\n",
      "        tic = time.time()\n",
      "        cs=10\n",
      "        F1= open(output_dir+'results_'+str(generation)+'.txt','w')\n",
      "        F1.write('#individual...all params...error\\n')\n",
      "        np.savetxt(output_dir+'population_'+str(generation)+'.txt',np.c_[pop])\n",
      "        \n",
      "        fitn=np.zeros(self.popnumber)\n",
      "        fitnfr=np.zeros(self.popnumber)\n",
      "        fit=np.zeros(self.popnumber)\n",
      "        qfin=self.qrange[-1]\n",
      "        IQid_str=[]\n",
      "        params=[]\n",
      "        for val in range(self.popnumber):\n",
      "            sys.stdout.write(\"\\rGen {:d}/{:d}, individual {:d}/{:d}\\n\".format(generation+1,self.generations,val+1,self.popnumber))\n",
      "            sys.stdout.flush()\n",
      "            param=utils.decode(pop, val, self.nloci, self.minvalu, self.maxvalu) # gets the current structure variables\n",
      "            params.append(param)\n",
      "\n",
      "            ### calculate computed Icomp(q) ###\n",
      "            IQid=self.scatterer_generator.converttoIQ(self.qrange, param)\n",
      "\n",
      "            err=0\n",
      "            for qi,qval in enumerate(self.qrange):\n",
      "                if (IQid[qi]>0)&(self.IQin[qi]>0):\n",
      "                    if (qi<qfin):\n",
      "                        wil=np.log(np.true_divide(self.qrange[qi+1],self.qrange[qi]))  # weighting factor\n",
      "                    else:\n",
      "                        wil=np.log(np.true_divide(self.qrange[qi],self.qrange[qi-1]))  # weighting factor\n",
      "                    if metric == 'log_sse':\n",
      "                        err+=wil*(np.log(np.true_divide(self.IQin[qi],IQid[qi])))**2  # squared log error \n",
      "            fit[val]=err\n",
      "            IQid_str.append(IQid)\n",
      "\n",
      "            \n",
      "\n",
      "            F1.write(str(val)+' ')\n",
      "            for p in param:\n",
      "                F1.write(str(p)+' ')\n",
      "            F1.write(str(err)+'\\n')\n",
      "            F1.flush()\n",
      "\n",
      "        params = np.array(params)\n",
      "        maxerr=np.max(fit)           #determines maximum SSerror for the population\n",
      "        fitn=fit-maxerr #determines error differences\n",
      "        #maxfit=np.max(fitn)\n",
      "        sumup=np.sum(fitn)\n",
      "\n",
      "        avgfit=np.true_divide(sumup,self.popnumber)\n",
      "        dval=-avgfit\n",
      "        ascale=np.true_divide(avgfit,dval)*(cs-1.0)     #linear scaling with cs as a scaleFactor\n",
      "        bscale=avgfit*(1.0-ascale)\n",
      "\n",
      "        sumup=0\n",
      "\n",
      "        # get scaled fitness to enable selection of bad candidates\n",
      "        for val in range(self.popnumber):\n",
      "            if (fitn[val]>avgfit):\n",
      "                fitnfr[val]=ascale*fitn[val]+bscale\n",
      "            else:\n",
      "                fitnfr[val]=fitn[val]\n",
      "\n",
      "        sumup=np.sum(fitnfr)\n",
      "\n",
      "        pacc=np.zeros(self.popnumber)\n",
      "        prob=np.true_divide(fitnfr,sumup)\n",
      "        pacc=np.cumsum(prob)\n",
      "\n",
      "        ### returns cummulative relative error from which individuals can be selected ###\n",
      "        maxfit=np.min(fit)\n",
      "        elitei=np.where(fit==maxfit)[0]                  # Best candidate \n",
      "        secondfit=sorted(fit)[1]\n",
      "        secondi = np.where(fit==secondfit)[0]            # Second best candidate\n",
      "        avgfit=np.average(fit)\n",
      "        avgi=np.array([(np.abs(fit-avgfit)).argmin()])   # Average candidate\n",
      "        minfit=np.max(fit)\n",
      "        mini=np.where(fit==minfit)[0]                    # Worst candidate\n",
      "        if avgfit==0:\n",
      "            avgfit=1\n",
      "        gdm=np.true_divide(maxfit,avgfit)\n",
      "        if len(elitei)>1:\n",
      "            elitei=elitei[0]\n",
      "        if len(secondi)>1:\n",
      "            secondi=secondi[0]\n",
      "        if len(avgi)>1:\n",
      "            avgi=avgi[0]\n",
      "        if len(mini)>1:\n",
      "            mini=mini[0]\n",
      "        \n",
      "        f = open(output_dir+'fitness_vs_gen.txt', 'a' )\n",
      "        if generation == 0:\n",
      "            f.write( 'gen mini min avgi avg secondi second besti best\\n' )\n",
      "        f.write( '%d ' %(generation) )\n",
      "        f.write( '%d %.8lf ' %(mini,minfit) )\n",
      "        f.write( '%d %.8lf ' %(avgi,avgfit) )\n",
      "        f.write( '%d %.8lf ' %(secondi,secondfit) )\n",
      "        f.write( '%d %.8lf ' %(elitei,maxfit) )\n",
      "        f.write( '\\n' )\n",
      "        f.close()\n",
      "        print('Generation time: {:.3f}s'.format(time.time()-tic))\n",
      "        print('Generation best fitness: {:.4f}'.format(maxfit))\n",
      "        print('Generation gdm: {:.3f}'.format(gdm))\n",
      "        print('Generation best parameters '+str(params[elitei]))\n",
      "        \n",
      "        return pacc, gdm, elitei, IQid_str\n",
      "\n"
     ]
    }
   ],
   "source": [
    "print(getsource(cga.Model.fitness))"
   ]
  },
  {
   "cell_type": "markdown",
   "metadata": {},
   "source": [
    "In this example, the `fitness` function also provides useful information like which one of the individuals performed the best (\"elite\"), in terms of having its computed $I_{comp}$(q) matching the input $I_{exp}$(q), the second best (\"second\"), averagely (\"average\") and the worst (\"minfit\") that are stored and saved for the user (in `fitness_vs_gen.txt`).\n",
    "\n",
    "Next, a new generation of individuals will be selected based on the fitnesses of the current generation. That is done in the `genetic_operations` function.\n",
    "\n",
    "### genetic_operations\n",
    "\n",
    "<img src=\"code_diagram_main8_genetic-ops.png\" width=600 height=600 />\n",
    "\n",
    "**Selection Process: Crossover, Mutation and Elitism**\n",
    "\n",
    "Now that we have the fitness value for each individual in the population, the GA will need to select the candidates for the next generation, and this iterative process is continued until the maximum number of generations (set by the user during the beginning of the main GA code) is reached. As each of the GA parameters is encoded as a seven-digit binary sequence, the genetic operations (crossover, mutation) performed on selected individuals is done in binary form.\n",
    "\n",
    "*Crossover*\n",
    "\n",
    "During crossover, two individuals in the population are selected as \"parents\" and their traits are mixed to produced a new \"offspring\" individual to be included in the next generation. Each parent individual is selected with probability $PC$ as and the offspring has traits randomly chosen from its two parent individuals. \n",
    "\n",
    "*Mutation*\n",
    "\n",
    "An individual is selected for mutation with probability $PM$, where one of its traits is randomly selected to be changed within that parameter's range of values.\n",
    "\n",
    "*Elitism*\n",
    "\n",
    "The best individual in the generation is always included in the population for next generation.\n",
    "\n",
    "The probabilities of crossover $PC$ and mutation $PM$ are adjusted during the iterative process over the generations during a GA run to help prevent premature convergence to local minima (with the `adaptation_params.update` function during `Model.solve`). When $GDM$ drops below the lower bound, then $PC$ is increased by the factor $kGDM$ (here chosen to be 1.1) and $PM$ is decreased by the same factor $kGDM$ to reduced the genetic diversity. If $GDM$ is close to 1, then $PC$ is decreased by the factor $kGDM$ and $PM$ is increased by the factor $kGDM$ to increase the genetic diversity.\n",
    "\n",
    "Run the block below to see the source code:"
   ]
  },
  {
   "cell_type": "code",
   "execution_count": 22,
   "metadata": {},
   "outputs": [
    {
     "name": "stdout",
     "output_type": "stream",
     "text": [
      "    def genetic_operations(self,pop,pacc,elitei):\n",
      "        popn = np.zeros(np.shape(pop))\n",
      "        cross = 0\n",
      "        mute = 0\n",
      "        pc = self.adaptation_params.pc\n",
      "        pm = self.adaptation_params.pm\n",
      "        \n",
      "        for i in range(self.popnumber-1):\n",
      "\n",
      "            #####################    Crossover    ####################\n",
      "\n",
      "            #Selection based on fitness\n",
      "            testoff=random.random()\n",
      "            isit=0\n",
      "            npart1=1\n",
      "            for j in range(1,self.popnumber):\n",
      "                if (testoff>pacc[j-1])&(testoff<pacc[j]):\n",
      "                    npart1=j\n",
      "\n",
      "            testoff=random.random()\n",
      "            isit=0\n",
      "            npart2=1\n",
      "            for j in range(self.popnumber):\n",
      "                if (testoff>=pacc[j-1])&(testoff!=pacc[j]):\n",
      "                    npart2=j\n",
      "\n",
      "            #Fit parents put in array popn\n",
      "\n",
      "            popn[i,:]=pop[npart1,:]\n",
      "\n",
      "\n",
      "            testoff=random.random()\n",
      "            loc=int((testoff*(self.numvars-1))*self.nloci)\n",
      "            if loc==0:\n",
      "                loc=self.nloci\n",
      "            testoff=random.random()\n",
      "\n",
      "            #crossover\n",
      "            if (testoff<=pc):\n",
      "                cross+=1\n",
      "                popn[i,loc:]=pop[npart2,loc:]\n",
      "\n",
      "\n",
      "        #####################    Mutation    ####################\n",
      "\n",
      "\n",
      "            for j in range(self.nloci*self.numvars):\n",
      "                testoff=random.random()\n",
      "                if (testoff<=pm):\n",
      "                    popn[i,j]=random.randint(0,1)\n",
      "                    mute+=1\n",
      "\n",
      "\n",
      "        #####################    Elitism    ####################\n",
      "\n",
      "        popn[-1,:]=pop[elitei,:]\n",
      "\n",
      "        \n",
      "        print('pc',pc)\n",
      "        print('#crossovers',cross)\n",
      "        print('pm',pm)\n",
      "        print('#mutations',mute)\n",
      "        print('\\n')\n",
      "        \n",
      "        return popn\n",
      "\n"
     ]
    }
   ],
   "source": [
    "print(getsource(cga.Model.genetic_operations))"
   ]
  },
  {
   "cell_type": "markdown",
   "metadata": {},
   "source": [
    "After selecting the individuals in the population that get to move on to the next generation, we once again calculate the fitness for each individual in the new generation. Then the selection and fitness processes are repeated until the end of the GA run.\n",
    "\n",
    "## Running the GA\n",
    "\n",
    "We have finally gone through all the elements of `Model.solve`, and now let's get it to work!\n",
    "(**Note**: you can specify the `output_dir` argument for the directory to which you would like to save all the output files. The directory needs to already exist before you run this line!)"
   ]
  },
  {
   "cell_type": "code",
   "execution_count": 23,
   "metadata": {},
   "outputs": [
    {
     "name": "stdout",
     "output_type": "stream",
     "text": [
      "Gen 1/5, individual 1/5\n",
      "Gen 1/5, individual 2/5\n",
      "Gen 1/5, individual 3/5\n",
      "Gen 1/5, individual 4/5\n",
      "Gen 1/5, individual 5/5\n",
      "Generation time: 852.591s\n",
      "Generation best fitness: 3.9459\n",
      "Generation gdm: 0.541\n",
      "Generation best parameters [[1.37500000e+02 1.64140625e+02 1.34921875e+02 1.68125000e+02\n",
      "  3.76171875e-01 8.78906250e-02 3.23828125e+00]]\n",
      "pc 0.6\n",
      "#crossovers 1\n",
      "pm 0.001\n",
      "#mutations 0\n",
      "\n",
      "\n"
     ]
    },
    {
     "data": {
      "image/png": "[encoded data removed]",
      "text/plain": [
       "<Figure size 288x288 with 1 Axes>"
      ]
     },
     "metadata": {
      "needs_background": "light"
     },
     "output_type": "display_data"
    },
    {
     "name": "stdout",
     "output_type": "stream",
     "text": [
      "Gen 2/5, individual 1/5\n",
      "Gen 2/5, individual 2/5\n",
      "Gen 2/5, individual 3/5\n",
      "Gen 2/5, individual 4/5\n",
      "Gen 2/5, individual 5/5\n",
      "Generation time: 227.755s\n",
      "Generation best fitness: 3.9006\n",
      "Generation gdm: 0.530\n",
      "Generation best parameters [[1.37500000e+02 1.64140625e+02 1.34921875e+02 1.68125000e+02\n",
      "  3.76171875e-01 8.78906250e-02 3.23828125e+00]]\n",
      "pc 0.6\n",
      "#crossovers 3\n",
      "pm 0.006\n",
      "#mutations 1\n",
      "\n",
      "\n"
     ]
    },
    {
     "data": {
      "image/png": "[encoded data removed]",
      "text/plain": [
       "<Figure size 288x288 with 1 Axes>"
      ]
     },
     "metadata": {
      "needs_background": "light"
     },
     "output_type": "display_data"
    },
    {
     "name": "stdout",
     "output_type": "stream",
     "text": [
      "Gen 3/5, individual 1/5\n",
      "Gen 3/5, individual 2/5\n",
      "Gen 3/5, individual 3/5\n",
      "Gen 3/5, individual 4/5\n",
      "Gen 3/5, individual 5/5\n",
      "Generation time: 303.854s\n",
      "Generation best fitness: 3.9251\n",
      "Generation gdm: 0.415\n",
      "Generation best parameters [[1.37500000e+02 1.64140625e+02 1.34921875e+02 1.68125000e+02\n",
      "  3.76171875e-01 8.78906250e-02 3.23828125e+00]]\n",
      "pc 0.6\n",
      "#crossovers 2\n",
      "pm 0.006\n",
      "#mutations 0\n",
      "\n",
      "\n"
     ]
    },
    {
     "data": {
      "image/png": "[encoded data removed]",
      "text/plain": [
       "<Figure size 288x288 with 1 Axes>"
      ]
     },
     "metadata": {
      "needs_background": "light"
     },
     "output_type": "display_data"
    },
    {
     "name": "stdout",
     "output_type": "stream",
     "text": [
      "Gen 4/5, individual 1/5\n",
      "Gen 4/5, individual 2/5\n",
      "Gen 4/5, individual 3/5\n",
      "Gen 4/5, individual 4/5\n",
      "Gen 4/5, individual 5/5\n",
      "Generation time: 294.921s\n",
      "Generation best fitness: 3.8821\n",
      "Generation gdm: 0.369\n",
      "Generation best parameters [[1.37500000e+02 1.64140625e+02 1.34921875e+02 1.68125000e+02\n",
      "  3.76171875e-01 8.78906250e-02 3.23828125e+00]]\n",
      "pc 0.6\n",
      "#crossovers 1\n",
      "pm 0.006\n",
      "#mutations 0\n",
      "\n",
      "\n"
     ]
    },
    {
     "data": {
      "image/png": "[encoded data removed]",
      "text/plain": [
       "<Figure size 288x288 with 1 Axes>"
      ]
     },
     "metadata": {
      "needs_background": "light"
     },
     "output_type": "display_data"
    },
    {
     "name": "stdout",
     "output_type": "stream",
     "text": [
      "Gen 5/5, individual 1/5\n",
      "Gen 5/5, individual 2/5\n",
      "Gen 5/5, individual 3/5\n",
      "Gen 5/5, individual 4/5\n",
      "Gen 5/5, individual 5/5\n",
      "Generation time: 283.641s\n",
      "Generation best fitness: 3.8998\n",
      "Generation gdm: 0.371\n",
      "Generation best parameters [[1.37500000e+02 1.64140625e+02 1.34921875e+02 1.68125000e+02\n",
      "  3.76171875e-01 8.78906250e-02 3.23828125e+00]]\n",
      "pc 0.6\n",
      "#crossovers 3\n",
      "pm 0.006\n",
      "#mutations 2\n",
      "\n",
      "\n"
     ]
    },
    {
     "data": {
      "image/png": "[encoded data removed]",
      "text/plain": [
       "<Figure size 288x288 with 1 Axes>"
      ]
     },
     "metadata": {
      "needs_background": "light"
     },
     "output_type": "display_data"
    }
   ],
   "source": [
    "'''uncomment this to create a new directory'''\n",
    "#!mkdir test_output_1 \n",
    "\n",
    "m.solve(verbose=True,output_dir='./test_output_1/')"
   ]
  },
  {
   "cell_type": "markdown",
   "metadata": {},
   "source": [
    "If all of the cell blocks of code above have been run properly, then performing the GA on the small number of individuals and generations will produce the output dimensions and $I_{comp}$(q) that can be compared to the target dimensions of the structure that provided the input $I_{exp}$(q) as shown below.\n",
    "\n",
    "Data output from each generation has been saved to files under the directory specified by `output_dir`. Check out `results` for all the indiviuals at each generation, and `fitness_vs_gen` for how the fitness of the generation in general evolves. \n",
    "\n",
    "After you are done, check out the notebook under this directory named [workflow_simplified](./workflow_simplified.ipynb), to see how each step works once we have taken out these in-depth explanations, how the entire GA is actually set up and run with only several lines of codes.\n",
    "\n",
    "Good luck!\n",
    "\n",
    "<img src=\"short_run_output.png\" width=300 height=300 />"
   ]
  },
  {
   "cell_type": "markdown",
   "metadata": {},
   "source": [
    "### GA for Vesicles with Larger Population Size and Number of Generations\n",
    "\n",
    "If the above codes for the example vesicle system in this tutorial have been successfully run, then the user should be able to see the best individual's $I_{comp}$(q) plotted against the input $I_{exp}$(q). With the small population size (`popnumber = 5`) and number of generations (`generations = 5`) used in this tutorial example, the resulting $I_{comp}$(q) of the best individual structure is unlikely to be a good match to the input $I_{exp}$(q). As mentioned previously, using a small number of individuals and generations in this example is to purely to keep the calculations computationally feasible. To produce better matches to the input $I_{exp}$(q) one would need to use significantly higher number of individuals and generations on a more powerful computer.\n",
    "\n",
    "Shown below is an example of the kind of GA determined results that we can expect when we use the GA on the same input $I_{exp}$(q) but with a much larger population size and number of generations:\n",
    "\n",
    "`popnumber = 80`\n",
    "\n",
    "`generations = 100`\n",
    "\n",
    "<img src=\"crease_tutorial_fig_Icomp-vs-gen.png\" width=300 height=300 />\n",
    "\n",
    "**Figure 1**: *CREASE analysis on an example vesicle with the target dimensions of small core with thin B layer (shown schematically). $I_{comp}$(q) of the best individual (colored lines) from all generations in one example GA run (with dispersity) compared with the input in silico  $I_{exp}$(q) (open circles). Progression from the initial generation to the final generation is shown with increasingly warmer colors.*\n",
    "\n",
    "From the best individual's $I_{comp}$(q) over multiple generations, we can see that increasing the population size and number of generation gradually drives the GA determined vesicle structure towards that of the target structure (**Figure 1**). Because our input  $I_{exp}$(q) was generated in silico from known target dimensions, we can also make a direct comparison of the GA determined vesicle dimensions to the known target dimensions. For comparison we also provide the dimensions determined through the traditional fitting of the data with the core-multi-shell model in SASVIEW.\n",
    "\n",
    "<img src=\"crease_tutorial_fig_dim-ga-vs-sasview.png\" width=300 height=300 />\n",
    "\n",
    "**Figure 2**: *GA determined dimensions of relevant vesicle features at the end of 100 generations for the cases where dispersity in dimensions is not accounted for in the GA step (blue triangles) and when dispersity is incorporated into the GA (orange squares). The target dimensions of the in silico Iexp(q) are shown as open circles with 20% dispersity in the core radius (Rcore) dimensions. SASVIEW fitting results using the core-multi-shell model (grey stars) are offset to the right of the target dimensions.*\n",
    "\n",
    "As discussed during the tutorial, GA for vesicles can incorporate the effect of dispersity in the dimensions of the assembly into the calculation of the individual's $I_{comp}$(q) and this dispersity is determined as one of the GA results given as $\\sigma_{R}$ in this example systems where dispersity is incorporated in the core radius dimension. **Figure 2** shows how the GA with (i.e. GA searches and optimizes for $\\sigma_{R}$) and without (i.e. GA sets $\\sigma_{R} = 0$) dispersity performs in getting the vesicle structural dimensions of core radius ($R_{core}$), each layer thickness ($t_{A,in}$, $t_{B}$, $t_{A,out}$) and total vesicle diameter size ($D_{vesicle}$). We can see that with an appropriate population size and number of generations, the GA is able to accurately capture the target structure's dimensions. Additionally, while the analytical fitting to a core-multi-shell model using SASVIEW can also determine these structural dimensions, GA for vesicle is able to inform the user how the molecules are split between the inner and outer layers of the vesicle wall ($s_{Ain}$), a piece of molecular information not available if core-multi-shell model is used instead. The GA determined parameter $s_{Ain}$ gives the fraction of molecules in the vesicle assembly that occupies the inner layer of the vesicle walls. For this example system, the target structure has 20% of the molecules in the assembly occupying the inner layer of the vesicle wall and the GA is able to determine $s_{Ain}$ as 28%, well matching the target value.\n",
    "\n",
    "For more detailed discussions on CREASE for vesicles and its application to different vesicle sizes and high dispersity, the user can refer to reference [5]."
   ]
  }
 ],
 "metadata": {
  "kernelspec": {
   "display_name": "Python 3",
   "language": "python",
   "name": "python3"
  },
  "language_info": {
   "codemirror_mode": {
    "name": "ipython",
    "version": 3
   },
   "file_extension": ".py",
   "mimetype": "text/x-python",
   "name": "python",
   "nbconvert_exporter": "python",
   "pygments_lexer": "ipython3",
   "version": "3.8.5"
  }
 },
 "nbformat": 4,
 "nbformat_minor": 2
}

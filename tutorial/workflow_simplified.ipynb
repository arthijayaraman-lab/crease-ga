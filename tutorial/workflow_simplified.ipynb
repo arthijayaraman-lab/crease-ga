{
 "cells": [
  {
   "cell_type": "code",
   "execution_count": 1,
   "metadata": {},
   "outputs": [],
   "source": [
    "import crease_ga as cga"
   ]
  },
  {
   "cell_type": "markdown",
   "metadata": {},
   "source": [
    "basic steps to run a GA"
   ]
  },
  {
   "cell_type": "code",
   "execution_count": 2,
   "metadata": {},
   "outputs": [
    {
     "ename": "ModuleNotFoundError",
     "evalue": "No module named 'crease_ga.scatterer_generator'",
     "output_type": "error",
     "traceback": [
      "\u001b[1;31m---------------------------------------------------------------------------\u001b[0m",
      "\u001b[1;31mModuleNotFoundError\u001b[0m                       Traceback (most recent call last)",
      "\u001b[1;32m~\\AppData\\Local\\Temp/ipykernel_5124/2852782350.py\u001b[0m in \u001b[0;36m<module>\u001b[1;34m\u001b[0m\n\u001b[0;32m      3\u001b[0m               nloci = 7)\n\u001b[0;32m      4\u001b[0m \u001b[1;31m#detailed explanations are needed to describe what each value in chemistry params means\u001b[0m\u001b[1;33m\u001b[0m\u001b[1;33m\u001b[0m\u001b[1;33m\u001b[0m\u001b[0m\n\u001b[1;32m----> 5\u001b[1;33m m.load_chemistry(chemistry='vesicle',chemistry_params=[24,54,0.5,50.4,50.4,0.55,7],\n\u001b[0m\u001b[0;32m      6\u001b[0m                                      \u001b[0mminvalu\u001b[0m \u001b[1;33m=\u001b[0m \u001b[1;33m(\u001b[0m\u001b[1;36m50\u001b[0m\u001b[1;33m,\u001b[0m \u001b[1;36m30\u001b[0m\u001b[1;33m,\u001b[0m \u001b[1;36m30\u001b[0m\u001b[1;33m,\u001b[0m \u001b[1;36m30\u001b[0m\u001b[1;33m,\u001b[0m \u001b[1;36m0.1\u001b[0m\u001b[1;33m,\u001b[0m \u001b[1;36m0.0\u001b[0m\u001b[1;33m,\u001b[0m \u001b[1;36m0.1\u001b[0m\u001b[1;33m)\u001b[0m\u001b[1;33m,\u001b[0m\u001b[1;33m\u001b[0m\u001b[1;33m\u001b[0m\u001b[0m\n\u001b[0;32m      7\u001b[0m                                      maxvalu = (400, 200, 200, 200, 0.45, 0.45, 4))\n",
      "\u001b[1;32m~\\anaconda3\\envs\\crease_ga\\lib\\site-packages\\crease_ga\\model.py\u001b[0m in \u001b[0;36mload_chemistry\u001b[1;34m(self, chemistry, chemistry_params, minvalu, maxvalu)\u001b[0m\n\u001b[0;32m     35\u001b[0m         \u001b[0mbuiltin_chemistries\u001b[0m\u001b[1;33m=\u001b[0m\u001b[1;33m[\u001b[0m\u001b[1;34m\"vesicle\"\u001b[0m\u001b[1;33m]\u001b[0m\u001b[1;33m\u001b[0m\u001b[1;33m\u001b[0m\u001b[0m\n\u001b[0;32m     36\u001b[0m         \u001b[1;32mif\u001b[0m \u001b[0mchemistry\u001b[0m \u001b[1;32min\u001b[0m \u001b[0mbuiltin_chemistries\u001b[0m\u001b[1;33m:\u001b[0m\u001b[1;33m\u001b[0m\u001b[1;33m\u001b[0m\u001b[0m\n\u001b[1;32m---> 37\u001b[1;33m             \u001b[0msg\u001b[0m \u001b[1;33m=\u001b[0m \u001b[0mimport_module\u001b[0m\u001b[1;33m(\u001b[0m\u001b[1;34m'crease_ga.chemistries.'\u001b[0m\u001b[1;33m+\u001b[0m\u001b[0mchemistry\u001b[0m\u001b[1;33m+\u001b[0m\u001b[1;34m'.scatterer_generator'\u001b[0m\u001b[1;33m)\u001b[0m\u001b[1;33m\u001b[0m\u001b[1;33m\u001b[0m\u001b[0m\n\u001b[0m\u001b[0;32m     38\u001b[0m         \u001b[1;32melse\u001b[0m\u001b[1;33m:\u001b[0m\u001b[1;33m\u001b[0m\u001b[1;33m\u001b[0m\u001b[0m\n\u001b[0;32m     39\u001b[0m             \u001b[1;32mraise\u001b[0m \u001b[0mCgaError\u001b[0m\u001b[1;33m(\u001b[0m\u001b[1;34m'Currently unsupported shape {}'\u001b[0m\u001b[1;33m.\u001b[0m\u001b[0mformat\u001b[0m\u001b[1;33m(\u001b[0m\u001b[0mchemistry\u001b[0m\u001b[1;33m)\u001b[0m\u001b[1;33m)\u001b[0m\u001b[1;33m\u001b[0m\u001b[1;33m\u001b[0m\u001b[0m\n",
      "\u001b[1;32m~\\anaconda3\\envs\\crease_ga\\lib\\importlib\\__init__.py\u001b[0m in \u001b[0;36mimport_module\u001b[1;34m(name, package)\u001b[0m\n\u001b[0;32m    125\u001b[0m                 \u001b[1;32mbreak\u001b[0m\u001b[1;33m\u001b[0m\u001b[1;33m\u001b[0m\u001b[0m\n\u001b[0;32m    126\u001b[0m             \u001b[0mlevel\u001b[0m \u001b[1;33m+=\u001b[0m \u001b[1;36m1\u001b[0m\u001b[1;33m\u001b[0m\u001b[1;33m\u001b[0m\u001b[0m\n\u001b[1;32m--> 127\u001b[1;33m     \u001b[1;32mreturn\u001b[0m \u001b[0m_bootstrap\u001b[0m\u001b[1;33m.\u001b[0m\u001b[0m_gcd_import\u001b[0m\u001b[1;33m(\u001b[0m\u001b[0mname\u001b[0m\u001b[1;33m[\u001b[0m\u001b[0mlevel\u001b[0m\u001b[1;33m:\u001b[0m\u001b[1;33m]\u001b[0m\u001b[1;33m,\u001b[0m \u001b[0mpackage\u001b[0m\u001b[1;33m,\u001b[0m \u001b[0mlevel\u001b[0m\u001b[1;33m)\u001b[0m\u001b[1;33m\u001b[0m\u001b[1;33m\u001b[0m\u001b[0m\n\u001b[0m\u001b[0;32m    128\u001b[0m \u001b[1;33m\u001b[0m\u001b[0m\n\u001b[0;32m    129\u001b[0m \u001b[1;33m\u001b[0m\u001b[0m\n",
      "\u001b[1;32m~\\anaconda3\\envs\\crease_ga\\lib\\importlib\\_bootstrap.py\u001b[0m in \u001b[0;36m_gcd_import\u001b[1;34m(name, package, level)\u001b[0m\n",
      "\u001b[1;32m~\\anaconda3\\envs\\crease_ga\\lib\\importlib\\_bootstrap.py\u001b[0m in \u001b[0;36m_find_and_load\u001b[1;34m(name, import_)\u001b[0m\n",
      "\u001b[1;32m~\\anaconda3\\envs\\crease_ga\\lib\\importlib\\_bootstrap.py\u001b[0m in \u001b[0;36m_find_and_load_unlocked\u001b[1;34m(name, import_)\u001b[0m\n",
      "\u001b[1;32m~\\anaconda3\\envs\\crease_ga\\lib\\importlib\\_bootstrap.py\u001b[0m in \u001b[0;36m_call_with_frames_removed\u001b[1;34m(f, *args, **kwds)\u001b[0m\n",
      "\u001b[1;32m~\\anaconda3\\envs\\crease_ga\\lib\\importlib\\_bootstrap.py\u001b[0m in \u001b[0;36m_gcd_import\u001b[1;34m(name, package, level)\u001b[0m\n",
      "\u001b[1;32m~\\anaconda3\\envs\\crease_ga\\lib\\importlib\\_bootstrap.py\u001b[0m in \u001b[0;36m_find_and_load\u001b[1;34m(name, import_)\u001b[0m\n",
      "\u001b[1;32m~\\anaconda3\\envs\\crease_ga\\lib\\importlib\\_bootstrap.py\u001b[0m in \u001b[0;36m_find_and_load_unlocked\u001b[1;34m(name, import_)\u001b[0m\n",
      "\u001b[1;32m~\\anaconda3\\envs\\crease_ga\\lib\\importlib\\_bootstrap.py\u001b[0m in \u001b[0;36m_load_unlocked\u001b[1;34m(spec)\u001b[0m\n",
      "\u001b[1;32m~\\anaconda3\\envs\\crease_ga\\lib\\importlib\\_bootstrap_external.py\u001b[0m in \u001b[0;36mexec_module\u001b[1;34m(self, module)\u001b[0m\n",
      "\u001b[1;32m~\\anaconda3\\envs\\crease_ga\\lib\\importlib\\_bootstrap.py\u001b[0m in \u001b[0;36m_call_with_frames_removed\u001b[1;34m(f, *args, **kwds)\u001b[0m\n",
      "\u001b[1;32m~\\anaconda3\\envs\\crease_ga\\lib\\site-packages\\crease_ga\\chemistries\\vesicle\\__init__.py\u001b[0m in \u001b[0;36m<module>\u001b[1;34m\u001b[0m\n\u001b[1;32m----> 1\u001b[1;33m \u001b[1;32mfrom\u001b[0m \u001b[0mcrease_ga\u001b[0m\u001b[1;33m.\u001b[0m\u001b[0mscatterer_generator\u001b[0m\u001b[1;33m.\u001b[0m\u001b[0mconverttoIQ\u001b[0m \u001b[1;32mimport\u001b[0m \u001b[0mconverttoIQ\u001b[0m\u001b[1;33m\u001b[0m\u001b[1;33m\u001b[0m\u001b[0m\n\u001b[0m",
      "\u001b[1;31mModuleNotFoundError\u001b[0m: No module named 'crease_ga.scatterer_generator'"
     ]
    }
   ],
   "source": [
    "m = cga.Model(pop_number = 2,\n",
    "              generations = 10,\n",
    "              nloci = 7)\n",
    "#detailed explanations are needed to describe what each value in chemistry params means\n",
    "m.load_chemistry(chemistry='vesicle',chemistry_params=[24,54,0.5,50.4,50.4,0.55,7],\n",
    "                                     minvalu = (50, 30, 30, 30, 0.1, 0.0, 0.1),\n",
    "                                     maxvalu = (400, 200, 200, 200, 0.45, 0.45, 4))\n",
    "                                     \n",
    "m.load_iq('../IEXP_DATA/Itot_disper_10_Ain12_B6_Aout12_nLP7_dR0.2.txt')\n",
    "\n",
    "m.solve(backend='debye')"
   ]
  },
  {
   "cell_type": "markdown",
   "metadata": {},
   "source": [
    "Print all public attributes of an object:"
   ]
  },
  {
   "cell_type": "code",
   "execution_count": 3,
   "metadata": {},
   "outputs": [
    {
     "name": "stdout",
     "output_type": "stream",
     "text": [
      "gdmmax 0.85\n",
      "gdmmin 0.005\n",
      "kgdm 1.1\n",
      "pc 0.6\n",
      "pcmax 1\n",
      "pcmin 0.5\n",
      "pm 0.001\n",
      "pmmax 0.25\n",
      "pmmin 0.006\n",
      "update <bound method adaptation_params.update of <crease_ga.adaptation_params.adaptation_params object at 0x0000022EAA4FFD90>>\n"
     ]
    }
   ],
   "source": [
    "for d in dir(m.adaptation_params):\n",
    "    if not '__' in d:\n",
    "    \n",
    "        print(d,getattr(m.adaptation_params,d))"
   ]
  },
  {
   "cell_type": "markdown",
   "metadata": {},
   "source": [
    "Print source code of a method or class"
   ]
  },
  {
   "cell_type": "code",
   "execution_count": 4,
   "metadata": {},
   "outputs": [
    {
     "name": "stdout",
     "output_type": "stream",
     "text": [
      "def initial_pop(popnumber, nloci, numvars):\n",
      "    '''\n",
      "    Generate a generation of (binary) chromosomes.\n",
      "    \n",
      "    Parameters\n",
      "    ----------\n",
      "    popnumber: int\n",
      "        Number of individuals in a population.\n",
      "    nloci: int\n",
      "        Number of binary bits to represent each parameter in a chromosome.\n",
      "    numvars: int\n",
      "        Number of parameters in a chromosome.\n",
      "        \n",
      "    Return\n",
      "    ------\n",
      "    pop: np.array of size (`popnumber`,`nloci`*`numvars`)\n",
      "        A numpy array of binary bits representing the entire generation, \n",
      "        with each row representing a chromosome.\n",
      "    '''\n",
      "    pop=np.zeros((popnumber,nloci*numvars))\n",
      "    for i in range(popnumber):\n",
      "        for j in range(nloci*numvars):\n",
      "            randbinary=np.random.randint(2)\n",
      "            pop[i,j]=randbinary\n",
      "    return pop\n",
      "\n"
     ]
    }
   ],
   "source": [
    "from inspect import getsource\n",
    "print(getsource(cga.utils.initial_pop))"
   ]
  },
  {
   "cell_type": "markdown",
   "metadata": {},
   "source": [
    "Print docstring of a method or class"
   ]
  },
  {
   "cell_type": "code",
   "execution_count": 5,
   "metadata": {},
   "outputs": [
    {
     "name": "stdout",
     "output_type": "stream",
     "text": [
      "\n",
      "    Generate a generation of (binary) chromosomes.\n",
      "    \n",
      "    Parameters\n",
      "    ----------\n",
      "    popnumber: int\n",
      "        Number of individuals in a population.\n",
      "    nloci: int\n",
      "        Number of binary bits to represent each parameter in a chromosome.\n",
      "    numvars: int\n",
      "        Number of parameters in a chromosome.\n",
      "        \n",
      "    Return\n",
      "    ------\n",
      "    pop: np.array of size (`popnumber`,`nloci`*`numvars`)\n",
      "        A numpy array of binary bits representing the entire generation, \n",
      "        with each row representing a chromosome.\n",
      "    \n"
     ]
    }
   ],
   "source": [
    "print(cga.utils.initial_pop.__doc__)"
   ]
  },
  {
   "cell_type": "code",
   "execution_count": 6,
   "metadata": {},
   "outputs": [
    {
     "data": {
      "text/plain": [
       "1.1"
      ]
     },
     "execution_count": 6,
     "metadata": {},
     "output_type": "execute_result"
    }
   ],
   "source": [
    "getattr(m.adaptation_params,'kgdm')"
   ]
  },
  {
   "cell_type": "code",
   "execution_count": null,
   "metadata": {},
   "outputs": [],
   "source": []
  }
 ],
 "metadata": {
  "kernelspec": {
   "display_name": "Python 3 (ipykernel)",
   "language": "python",
   "name": "python3"
  },
  "language_info": {
   "codemirror_mode": {
    "name": "ipython",
    "version": 3
   },
   "file_extension": ".py",
   "mimetype": "text/x-python",
   "name": "python",
   "nbconvert_exporter": "python",
   "pygments_lexer": "ipython3",
   "version": "3.9.6"
  }
 },
 "nbformat": 4,
 "nbformat_minor": 4
}

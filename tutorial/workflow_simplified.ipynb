{
 "cells": [
  {
   "cell_type": "code",
   "execution_count": 1,
   "metadata": {},
   "outputs": [],
   "source": [
    "import crease_ga as cga"
   ]
  },
  {
   "cell_type": "markdown",
   "metadata": {},
   "source": [
    "basic steps to run a GA"
   ]
  },
  {
   "cell_type": "code",
   "execution_count": 2,
   "metadata": {},
   "outputs": [
    {
     "name": "stdout",
     "output_type": "stream",
     "text": [
      "Gen 1/10, individual 2/2Generation time: 0.047s\n",
      "Generation best fitness: 0.0000\n",
      "Generation best fitness: 0.000\n",
      "Generation best parameters [5.02343750e+01 3.01953125e+01 3.00859375e+01 3.00000000e+01\n",
      " 1.02343750e-01 6.56250000e-03 1.05625000e-01]\n",
      "pc 0.6\n",
      "#crossovers 0\n",
      "pm 0.001\n",
      "#mutations 0\n",
      "\n",
      "\n",
      "Gen 2/10, individual 2/2Generation time: 0.055s\n",
      "Generation best fitness: 0.0000\n",
      "Generation best fitness: 0.000\n",
      "Generation best parameters [5.01328125e+01 3.08750000e+01 3.05859375e+01 3.07343750e+01\n",
      " 1.03906250e-01 1.25000000e-03 1.07656250e-01]\n"
     ]
    },
    {
     "name": "stderr",
     "output_type": "stream",
     "text": [
      "/home/zijiewu/crease_ga/crease_ga/chemistries/vesicle/scatterer_generator.py:52: RuntimeWarning: invalid value encountered in true_divide\n",
      "  omegaarr=np.true_divide(2*omegaarr,Ntot)+1      # 1 accounts for the guarenteed overlap of same bead  # 2* accounts for double counting avoided to reduce computational expense by looping for all other pairs\n",
      "/home/zijiewu/crease_ga/crease_ga/model.py:158: RuntimeWarning: invalid value encountered in true_divide\n",
      "  ascale=np.true_divide(avgfit,dval)*(cs-1.0)     #linear scaling with cs as a scaleFactor\n",
      "/home/zijiewu/crease_ga/crease_ga/model.py:173: RuntimeWarning: invalid value encountered in true_divide\n",
      "  prob=np.true_divide(fitnfr,sumup)\n",
      "/home/zijiewu/crease_ga/crease_ga/chemistries/vesicle/scatterer_generator.py:52: RuntimeWarning: invalid value encountered in true_divide\n",
      "  omegaarr=np.true_divide(2*omegaarr,Ntot)+1      # 1 accounts for the guarenteed overlap of same bead  # 2* accounts for double counting avoided to reduce computational expense by looping for all other pairs\n",
      "/home/zijiewu/crease_ga/crease_ga/model.py:158: RuntimeWarning: invalid value encountered in true_divide\n",
      "  ascale=np.true_divide(avgfit,dval)*(cs-1.0)     #linear scaling with cs as a scaleFactor\n",
      "/home/zijiewu/crease_ga/crease_ga/model.py:173: RuntimeWarning: invalid value encountered in true_divide\n",
      "  prob=np.true_divide(fitnfr,sumup)\n"
     ]
    },
    {
     "name": "stdout",
     "output_type": "stream",
     "text": [
      "pc 0.66\n",
      "#crossovers 1\n",
      "pm 0.006\n",
      "#mutations 1\n",
      "\n",
      "\n",
      "Gen 3/10, individual 2/2Generation time: 0.059s\n",
      "Generation best fitness: 0.0000\n",
      "Generation best fitness: 0.000\n",
      "Generation best parameters [5.02343750e+01 3.01953125e+01 3.00859375e+01 3.00000000e+01\n",
      " 1.02343750e-01 6.56250000e-03 1.05625000e-01]\n",
      "pc 0.7260000000000001\n",
      "#crossovers 1\n",
      "pm 0.006\n",
      "#mutations 0\n",
      "\n",
      "\n"
     ]
    },
    {
     "name": "stderr",
     "output_type": "stream",
     "text": [
      "/home/zijiewu/crease_ga/crease_ga/chemistries/vesicle/scatterer_generator.py:52: RuntimeWarning: invalid value encountered in true_divide\n",
      "  omegaarr=np.true_divide(2*omegaarr,Ntot)+1      # 1 accounts for the guarenteed overlap of same bead  # 2* accounts for double counting avoided to reduce computational expense by looping for all other pairs\n",
      "/home/zijiewu/crease_ga/crease_ga/model.py:158: RuntimeWarning: invalid value encountered in true_divide\n",
      "  ascale=np.true_divide(avgfit,dval)*(cs-1.0)     #linear scaling with cs as a scaleFactor\n",
      "/home/zijiewu/crease_ga/crease_ga/model.py:173: RuntimeWarning: invalid value encountered in true_divide\n",
      "  prob=np.true_divide(fitnfr,sumup)\n"
     ]
    },
    {
     "name": "stdout",
     "output_type": "stream",
     "text": [
      "Gen 4/10, individual 2/2Generation time: 0.045s\n",
      "Generation best fitness: 0.0000\n",
      "Generation best fitness: 0.000\n",
      "Generation best parameters [5.01328125e+01 3.08750000e+01 3.05859375e+01 3.07343750e+01\n",
      " 1.03906250e-01 1.25000000e-03 1.07656250e-01]\n",
      "pc 0.7986000000000002\n",
      "#crossovers 0\n",
      "pm 0.006\n",
      "#mutations 0\n",
      "\n",
      "\n",
      "Gen 5/10, individual 2/2"
     ]
    },
    {
     "name": "stderr",
     "output_type": "stream",
     "text": [
      "/home/zijiewu/crease_ga/crease_ga/chemistries/vesicle/scatterer_generator.py:52: RuntimeWarning: invalid value encountered in true_divide\n",
      "  omegaarr=np.true_divide(2*omegaarr,Ntot)+1      # 1 accounts for the guarenteed overlap of same bead  # 2* accounts for double counting avoided to reduce computational expense by looping for all other pairs\n",
      "/home/zijiewu/crease_ga/crease_ga/model.py:158: RuntimeWarning: invalid value encountered in true_divide\n",
      "  ascale=np.true_divide(avgfit,dval)*(cs-1.0)     #linear scaling with cs as a scaleFactor\n",
      "/home/zijiewu/crease_ga/crease_ga/model.py:173: RuntimeWarning: invalid value encountered in true_divide\n",
      "  prob=np.true_divide(fitnfr,sumup)\n",
      "/home/zijiewu/crease_ga/crease_ga/chemistries/vesicle/scatterer_generator.py:52: RuntimeWarning: invalid value encountered in true_divide\n",
      "  omegaarr=np.true_divide(2*omegaarr,Ntot)+1      # 1 accounts for the guarenteed overlap of same bead  # 2* accounts for double counting avoided to reduce computational expense by looping for all other pairs\n"
     ]
    },
    {
     "name": "stdout",
     "output_type": "stream",
     "text": [
      "Generation time: 0.095s\n",
      "Generation best fitness: 0.0000\n",
      "Generation best fitness: 0.000\n",
      "Generation best parameters [5.02343750e+01 3.01953125e+01 3.00859375e+01 3.00000000e+01\n",
      " 1.02343750e-01 6.56250000e-03 1.05625000e-01]\n",
      "pc 0.8784600000000002\n",
      "#crossovers 1\n",
      "pm 0.006\n",
      "#mutations 1\n",
      "\n",
      "\n",
      "Gen 6/10, individual 1/2"
     ]
    },
    {
     "name": "stderr",
     "output_type": "stream",
     "text": [
      "/home/zijiewu/crease_ga/crease_ga/model.py:158: RuntimeWarning: invalid value encountered in true_divide\n",
      "  ascale=np.true_divide(avgfit,dval)*(cs-1.0)     #linear scaling with cs as a scaleFactor\n",
      "/home/zijiewu/crease_ga/crease_ga/model.py:173: RuntimeWarning: invalid value encountered in true_divide\n",
      "  prob=np.true_divide(fitnfr,sumup)\n",
      "/home/zijiewu/crease_ga/crease_ga/chemistries/vesicle/scatterer_generator.py:52: RuntimeWarning: invalid value encountered in true_divide\n",
      "  omegaarr=np.true_divide(2*omegaarr,Ntot)+1      # 1 accounts for the guarenteed overlap of same bead  # 2* accounts for double counting avoided to reduce computational expense by looping for all other pairs\n"
     ]
    },
    {
     "name": "stdout",
     "output_type": "stream",
     "text": [
      "Gen 6/10, individual 2/2Generation time: 0.122s\n",
      "Generation best fitness: 0.0000\n",
      "Generation best fitness: 0.000\n",
      "Generation best parameters [5.01328125e+01 3.08750000e+01 3.05859375e+01 3.09843750e+01\n",
      " 1.03906250e-01 1.25000000e-03 1.07656250e-01]\n",
      "pc 0.9663060000000003\n",
      "#crossovers 1\n",
      "pm 0.006\n",
      "#mutations 0\n",
      "\n",
      "\n",
      "Gen 7/10, individual 2/2Generation time: 0.026s\n",
      "Generation best fitness: 0.0000\n",
      "Generation best fitness: 0.000\n",
      "Generation best parameters [5.02343750e+01 3.01953125e+01 3.00859375e+01 3.00000000e+01\n",
      " 1.02343750e-01 6.56250000e-03 1.05625000e-01]\n",
      "pc 1\n",
      "#crossovers 1\n",
      "pm 0.006\n",
      "#mutations 1\n",
      "\n",
      "\n",
      "Gen 8/10, individual 2/2Generation time: 0.021s\n",
      "Generation best fitness: 0.0000\n",
      "Generation best fitness: 0.000\n",
      "Generation best parameters [5.01328125e+01 3.08750000e+01 3.05781250e+01 3.09843750e+01\n",
      " 1.03906250e-01 1.25000000e-03 1.07656250e-01]\n",
      "pc 1\n",
      "#crossovers 1\n",
      "pm 0.006\n",
      "#mutations 1\n",
      "\n",
      "\n",
      "Gen 9/10, individual 2/2"
     ]
    },
    {
     "name": "stderr",
     "output_type": "stream",
     "text": [
      "/home/zijiewu/crease_ga/crease_ga/model.py:158: RuntimeWarning: invalid value encountered in true_divide\n",
      "  ascale=np.true_divide(avgfit,dval)*(cs-1.0)     #linear scaling with cs as a scaleFactor\n",
      "/home/zijiewu/crease_ga/crease_ga/model.py:173: RuntimeWarning: invalid value encountered in true_divide\n",
      "  prob=np.true_divide(fitnfr,sumup)\n",
      "/home/zijiewu/crease_ga/crease_ga/chemistries/vesicle/scatterer_generator.py:52: RuntimeWarning: invalid value encountered in true_divide\n",
      "  omegaarr=np.true_divide(2*omegaarr,Ntot)+1      # 1 accounts for the guarenteed overlap of same bead  # 2* accounts for double counting avoided to reduce computational expense by looping for all other pairs\n",
      "/home/zijiewu/crease_ga/crease_ga/model.py:158: RuntimeWarning: invalid value encountered in true_divide\n",
      "  ascale=np.true_divide(avgfit,dval)*(cs-1.0)     #linear scaling with cs as a scaleFactor\n",
      "/home/zijiewu/crease_ga/crease_ga/model.py:173: RuntimeWarning: invalid value encountered in true_divide\n",
      "  prob=np.true_divide(fitnfr,sumup)\n",
      "/home/zijiewu/crease_ga/crease_ga/chemistries/vesicle/scatterer_generator.py:52: RuntimeWarning: invalid value encountered in true_divide\n",
      "  omegaarr=np.true_divide(2*omegaarr,Ntot)+1      # 1 accounts for the guarenteed overlap of same bead  # 2* accounts for double counting avoided to reduce computational expense by looping for all other pairs\n",
      "/home/zijiewu/crease_ga/crease_ga/model.py:158: RuntimeWarning: invalid value encountered in true_divide\n",
      "  ascale=np.true_divide(avgfit,dval)*(cs-1.0)     #linear scaling with cs as a scaleFactor\n",
      "/home/zijiewu/crease_ga/crease_ga/model.py:173: RuntimeWarning: invalid value encountered in true_divide\n",
      "  prob=np.true_divide(fitnfr,sumup)\n",
      "/home/zijiewu/crease_ga/crease_ga/chemistries/vesicle/scatterer_generator.py:52: RuntimeWarning: invalid value encountered in true_divide\n",
      "  omegaarr=np.true_divide(2*omegaarr,Ntot)+1      # 1 accounts for the guarenteed overlap of same bead  # 2* accounts for double counting avoided to reduce computational expense by looping for all other pairs\n",
      "/home/zijiewu/crease_ga/crease_ga/model.py:158: RuntimeWarning: invalid value encountered in true_divide\n",
      "  ascale=np.true_divide(avgfit,dval)*(cs-1.0)     #linear scaling with cs as a scaleFactor\n",
      "/home/zijiewu/crease_ga/crease_ga/model.py:173: RuntimeWarning: invalid value encountered in true_divide\n",
      "  prob=np.true_divide(fitnfr,sumup)\n"
     ]
    },
    {
     "name": "stdout",
     "output_type": "stream",
     "text": [
      "Generation time: 0.017s\n",
      "Generation best fitness: 0.0000\n",
      "Generation best fitness: 0.000\n",
      "Generation best parameters [5.02343750e+01 3.01953125e+01 3.00859375e+01 3.00000000e+01\n",
      " 1.02343750e-01 6.56250000e-03 1.05625000e-01]\n",
      "pc 1\n",
      "#crossovers 1\n",
      "pm 0.006\n",
      "#mutations 0\n",
      "\n",
      "\n",
      "Gen 10/10, individual 2/2Generation time: 0.057s\n",
      "Generation best fitness: 0.0000\n",
      "Generation best fitness: 0.000\n",
      "Generation best parameters [5.01328125e+01 3.08750000e+01 3.05781250e+01 3.09843750e+01\n",
      " 1.03906250e-01 1.25000000e-03 1.07656250e-01]\n",
      "pc 1\n",
      "#crossovers 1\n",
      "pm 0.006\n",
      "#mutations 0\n",
      "\n",
      "\n"
     ]
    },
    {
     "name": "stderr",
     "output_type": "stream",
     "text": [
      "/home/zijiewu/crease_ga/crease_ga/chemistries/vesicle/scatterer_generator.py:52: RuntimeWarning: invalid value encountered in true_divide\n",
      "  omegaarr=np.true_divide(2*omegaarr,Ntot)+1      # 1 accounts for the guarenteed overlap of same bead  # 2* accounts for double counting avoided to reduce computational expense by looping for all other pairs\n",
      "/home/zijiewu/crease_ga/crease_ga/model.py:158: RuntimeWarning: invalid value encountered in true_divide\n",
      "  ascale=np.true_divide(avgfit,dval)*(cs-1.0)     #linear scaling with cs as a scaleFactor\n",
      "/home/zijiewu/crease_ga/crease_ga/model.py:173: RuntimeWarning: invalid value encountered in true_divide\n",
      "  prob=np.true_divide(fitnfr,sumup)\n"
     ]
    }
   ],
   "source": [
    "m = cga.Model(pop_number = 2,\n",
    "              generations = 10,\n",
    "              nloci = 7)\n",
    "#detailed explanations are needed to describe what each value in chemistry params means\n",
    "m.load_chemistry(chemistry='vesicle',chemistry_params=[24,54,0.5,50.4,50.4,0.55,7],\n",
    "                                     minvalu = (50, 30, 30, 30, 0.1, 0.0, 0.1),\n",
    "                                     maxvalu = (400, 200, 200, 200, 0.45, 0.45, 4))\n",
    "                                     \n",
    "m.load_iq('../IEXP_DATA/Itot_disper_10_Ain12_B6_Aout12_nLP7_dR0.2.txt')\n",
    "\n",
    "m.solve(backend='debye')"
   ]
  },
  {
   "cell_type": "markdown",
   "metadata": {},
   "source": [
    "Print all public attributes of an object:"
   ]
  },
  {
   "cell_type": "code",
   "execution_count": 21,
   "metadata": {},
   "outputs": [
    {
     "name": "stdout",
     "output_type": "stream",
     "text": [
      "gdmmax 0.85\n",
      "gdmmin 0.005\n",
      "kgdm 1.1\n",
      "pc 0.6\n",
      "pcmax 1\n",
      "pcmin 0.5\n",
      "pm 0.001\n",
      "pmmax 0.25\n",
      "pmmin 0.006\n",
      "update <bound method adaptation_params.update of <crease_ga.adaptation_params.adaptation_params object at 0x7fc2ee58e640>>\n"
     ]
    }
   ],
   "source": [
    "for d in dir(m.adaptation_params):\n",
    "    if not '__' in d:\n",
    "    \n",
    "        print(d,getattr(m.adaptation_params,d))"
   ]
  },
  {
   "cell_type": "markdown",
   "metadata": {},
   "source": [
    "Print source code of a method or class"
   ]
  },
  {
   "cell_type": "code",
   "execution_count": 13,
   "metadata": {},
   "outputs": [
    {
     "name": "stdout",
     "output_type": "stream",
     "text": [
      "def initial_pop(popnumber, nloci, numvars):\n",
      "    '''\n",
      "    Generate a generation of (binary) chromosomes.\n",
      "    \n",
      "    Parameters\n",
      "    ----------\n",
      "    popnumber: int\n",
      "        Number of individuals in a population.\n",
      "    nloci: int\n",
      "        Number of binary bits to represent each parameter in a chromosome.\n",
      "    numvars: int\n",
      "        Number of parameters in a chromosome.\n",
      "        \n",
      "    Return\n",
      "    ------\n",
      "    pop: np.array of size (`popnumber`,`nloci`*`numvars`)\n",
      "        A numpy array of binary bits representing the entire generation, \n",
      "        with each row representing a chromosome.\n",
      "    '''\n",
      "    pop=np.zeros((popnumber,nloci*numvars))\n",
      "    for i in range(popnumber):\n",
      "        for j in range(nloci*numvars):\n",
      "            randbinary=np.random.randint(2)\n",
      "            pop[i,j]=randbinary\n",
      "    return pop\n",
      "\n"
     ]
    }
   ],
   "source": [
    "from inspect import getsource\n",
    "print(getsource(cga.utils.initial_pop))"
   ]
  },
  {
   "cell_type": "markdown",
   "metadata": {},
   "source": [
    "Print docstring of a method or class"
   ]
  },
  {
   "cell_type": "code",
   "execution_count": 12,
   "metadata": {},
   "outputs": [
    {
     "name": "stdout",
     "output_type": "stream",
     "text": [
      "\n",
      "    Generate a generation of (binary) chromosomes.\n",
      "    \n",
      "    Parameters\n",
      "    ----------\n",
      "    popnumber: int\n",
      "        Number of individuals in a population.\n",
      "    nloci: int\n",
      "        Number of binary bits to represent each parameter in a chromosome.\n",
      "    numvars: int\n",
      "        Number of parameters in a chromosome.\n",
      "        \n",
      "    Return\n",
      "    ------\n",
      "    pop: np.array of size (`popnumber`,`nloci`*`numvars`)\n",
      "        A numpy array of binary bits representing the entire generation, \n",
      "        with each row representing a chromosome.\n",
      "    \n"
     ]
    }
   ],
   "source": [
    "print(cga.utils.initial_pop.__doc__)"
   ]
  },
  {
   "cell_type": "code",
   "execution_count": 18,
   "metadata": {},
   "outputs": [
    {
     "data": {
      "text/plain": [
       "1.1"
      ]
     },
     "execution_count": 18,
     "metadata": {},
     "output_type": "execute_result"
    }
   ],
   "source": [
    "getattr(m.adaptation_params,'kgdm')"
   ]
  }
 ],
 "metadata": {
  "kernelspec": {
   "display_name": "Python 3 (ipykernel)",
   "language": "python",
   "name": "python3"
  },
  "language_info": {
   "codemirror_mode": {
    "name": "ipython",
    "version": 3
   },
   "file_extension": ".py",
   "mimetype": "text/x-python",
   "name": "python",
   "nbconvert_exporter": "python",
   "pygments_lexer": "ipython3",
   "version": "3.9.6"
  }
 },
 "nbformat": 4,
 "nbformat_minor": 4
}
